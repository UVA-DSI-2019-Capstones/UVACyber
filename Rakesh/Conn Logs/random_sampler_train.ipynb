{
 "cells": [
  {
   "cell_type": "code",
   "execution_count": 14,
   "metadata": {},
   "outputs": [],
   "source": [
    "dates= [\"2019-01-12\",\"2019-01-13\"]"
   ]
  },
  {
   "cell_type": "code",
   "execution_count": 15,
   "metadata": {},
   "outputs": [],
   "source": [
    "    import numpy as np\n",
    "    import math\n",
    "    from datetime import datetime, timedelta\n",
    "    from fastai.imports import *\n",
    "    from fastai.structured import *"
   ]
  },
  {
   "cell_type": "code",
   "execution_count": 16,
   "metadata": {},
   "outputs": [],
   "source": [
    "def preprocess(df):\n",
    "    import pandas as pd\n",
    "    df = pd.concat([df, df['history'].str.join('|').str.get_dummies()], axis = 1)\n",
    "    df = df.drop([\"history\",\"honeypot\",\"blacklist\",\"whitelist\"], axis=1)\n",
    "    df = pd.concat([df, pd.get_dummies(df.conn_state.apply(pd.Series), prefix=\"\", prefix_sep=\"\")], axis = 1)\n",
    "    df = df.drop([\"conn_state\"], axis=1)\n",
    "    df = df.replace('-', 0)\n",
    "    rf_sample = df.drop([\"src_ip_ext\",\"src_ip\",\"dest_ip\"], axis=1)\n",
    "    try:\n",
    "        rf_sample[\"duration\"] = rf_sample[\"duration\"].astype(float)\n",
    "        rf_sample[\"duration\"] = np.log((rf_sample[\"duration\"].astype('int'))+0.001)\n",
    "    except ValueError:\n",
    "        rf_sample.to_csv(\"error.csv\")\n",
    "    rf_sample[\"src_bytes\"] = rf_sample[\"src_bytes\"].astype(float)\n",
    "    rf_sample[\"src_bytes\"] = np.log((rf_sample[\"src_bytes\"].astype('int'))+0.001)\n",
    "    rf_sample[\"dest_bytes\"] = rf_sample[\"dest_bytes\"].astype(float)\n",
    "    rf_sample[\"dest_bytes\"] = np.log((rf_sample[\"dest_bytes\"].astype('int'))+0.001)\n",
    "    rf_sample[\"src_pkts\"] = np.log((rf_sample[\"src_pkts\"].astype('int'))+0.001)\n",
    "    rf_sample[\"dest_pkts\"] = np.log((rf_sample[\"dest_pkts\"].astype('int'))+0.001)\n",
    "    rf_sample['ts'] = pd.to_datetime(rf_sample['ts'],unit='s')\n",
    "    rf_sample[\"src_port\"] = rf_sample[\"src_port\"].astype('category')\n",
    "    rf_sample[\"dest_port\"] = rf_sample[\"dest_port\"].astype('category')\n",
    "    rf_sample[\"src_port\"] = rf_sample[\"src_port\"].cat.codes\n",
    "    rf_sample[\"dest_port\"] = rf_sample[\"dest_port\"].cat.codes\n",
    "    xhr, yhr = [], []\n",
    "    for i in df.ts:\n",
    "        temp = (datetime.datetime.fromtimestamp(i) - timedelta(hours=-5)).strftime('%Y-%m-%d %H:%M:%S')[11:13]\n",
    "        xhr.append(np.sin(2*math.pi*int(temp)/24))\n",
    "        yhr.append(np.cos(2*math.pi*int(temp)/24))\n",
    "    rf_sample['xhr'] = xhr\n",
    "    rf_sample['yhr'] = yhr\n",
    "    add_datepart(rf_sample, 'ts')\n",
    "    rf_sample = class_balancer(rf_sample)\n",
    "    return rf_sample"
   ]
  },
  {
   "cell_type": "code",
   "execution_count": 17,
   "metadata": {},
   "outputs": [],
   "source": [
    "def class_balancer(df):\n",
    "    if df.label.value_counts()[0] > df.label.value_counts()[1]:\n",
    "        mal = df.loc[df['label'] == 1]\n",
    "        ben = df.loc[df['label'] == 0].head(df.label.value_counts()[1])\n",
    "        mdf = pd.concat([mal,ben], axis = 0)\n",
    "        return mdf\n",
    "    if df.label.value_counts()[1] > df.label.value_counts()[0]:\n",
    "        mal = df.loc[df['label'] == 1].head(df.label.value_counts()[0])\n",
    "        ben = df.loc[df['label'] == 0]\n",
    "        mdf = pd.concat([mal,ben], axis = 0)\n",
    "        return mdf"
   ]
  },
  {
   "cell_type": "code",
   "execution_count": 18,
   "metadata": {},
   "outputs": [],
   "source": [
    "def sampler(dates):\n",
    "    import os\n",
    "    import random\n",
    "    import pandas as pd\n",
    "    for date in dates:\n",
    "        input_dir = \"/scratch/rk9cx/conn_log_labelled_runtime/labelled_\"+date+\"/\"\n",
    "        output_dir = \"/scratch/rk9cx/conn_log_labelled_runtime/random_samples_W1-W2/train/\"\n",
    "        os.chdir(input_dir)\n",
    "        #random sampling\n",
    "        filename = \"merged_\" + date + \".csv\"\n",
    "        print(\"shuffling rows\")\n",
    "        n = sum(1 for line in open(filename)) - 1 #number of records in file (excludes header)\n",
    "        s = 1000000 #desired sample size\n",
    "        skip = sorted(random.sample(range(1,n+1),n-s)) #the 0-indexed header will not be included in the skip list\n",
    "        #preprocessing data\n",
    "        print(\"file read\")\n",
    "        df = pd.read_csv(filename, skiprows=skip, low_memory=False)\n",
    "        df = preprocess(df)\n",
    "        df.to_csv(output_dir + \"rs\"+ date + \".csv\", index = False) \n",
    "        print(date + \"   done\")"
   ]
  },
  {
   "cell_type": "code",
   "execution_count": null,
   "metadata": {},
   "outputs": [
    {
     "name": "stdout",
     "output_type": "stream",
     "text": [
      "shuffling rows\n",
      "file read\n"
     ]
    }
   ],
   "source": [
    "sampler(dates)"
   ]
  }
 ],
 "metadata": {
  "kernelspec": {
   "display_name": "Python 3",
   "language": "python",
   "name": "python3"
  },
  "language_info": {
   "codemirror_mode": {
    "name": "ipython",
    "version": 3
   },
   "file_extension": ".py",
   "mimetype": "text/x-python",
   "name": "python",
   "nbconvert_exporter": "python",
   "pygments_lexer": "ipython3",
   "version": "3.6.6"
  }
 },
 "nbformat": 4,
 "nbformat_minor": 2
}
