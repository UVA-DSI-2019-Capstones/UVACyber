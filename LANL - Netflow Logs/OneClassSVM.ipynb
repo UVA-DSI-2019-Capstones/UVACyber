{
 "cells": [
  {
   "cell_type": "code",
   "execution_count": 1,
   "metadata": {},
   "outputs": [],
   "source": [
    "# One class Support Vector Machine"
   ]
  },
  {
   "cell_type": "code",
   "execution_count": 2,
   "metadata": {},
   "outputs": [],
   "source": [
    "import pandas as pd\n",
    "import time\n",
    "from sklearn.svm import OneClassSVM\n",
    "import numpy as np\n",
    "import matplotlib.pyplot as plt\n",
    "from sklearn.metrics import  pairwise \n",
    "import sklearn.model_selection"
   ]
  },
  {
   "cell_type": "code",
   "execution_count": 10,
   "metadata": {},
   "outputs": [
    {
     "name": "stdout",
     "output_type": "stream",
     "text": [
      "9.671661376953125\n"
     ]
    }
   ],
   "source": [
    "start = time.time()\n",
    "df = pd.read_csv('CleanedDay3_5mill_RepSamp.csv')\n",
    "end = time.time()\n",
    "print(end - start)"
   ]
  },
  {
   "cell_type": "code",
   "execution_count": 11,
   "metadata": {},
   "outputs": [],
   "source": [
    "df2 = df.sample(n=1000000)\n",
    "df2.to_csv('1mill_sample_anomaly.csv')"
   ]
  },
  {
   "cell_type": "code",
   "execution_count": 13,
   "metadata": {},
   "outputs": [],
   "source": [
    "# Need to clean the data by categorizing ports and then one hot encoding them. In\n",
    "# the meantime, just using numerical values"
   ]
  },
  {
   "cell_type": "code",
   "execution_count": 12,
   "metadata": {},
   "outputs": [
    {
     "data": {
      "text/html": [
       "<div>\n",
       "<style scoped>\n",
       "    .dataframe tbody tr th:only-of-type {\n",
       "        vertical-align: middle;\n",
       "    }\n",
       "\n",
       "    .dataframe tbody tr th {\n",
       "        vertical-align: top;\n",
       "    }\n",
       "\n",
       "    .dataframe thead th {\n",
       "        text-align: right;\n",
       "    }\n",
       "</style>\n",
       "<table border=\"1\" class=\"dataframe\">\n",
       "  <thead>\n",
       "    <tr style=\"text-align: right;\">\n",
       "      <th></th>\n",
       "      <th>Duration</th>\n",
       "      <th>SrcPackets</th>\n",
       "      <th>DstPackets</th>\n",
       "      <th>SrcBytes</th>\n",
       "      <th>DstBytes</th>\n",
       "    </tr>\n",
       "  </thead>\n",
       "  <tbody>\n",
       "    <tr>\n",
       "      <th>2615150</th>\n",
       "      <td>0</td>\n",
       "      <td>11</td>\n",
       "      <td>7</td>\n",
       "      <td>1577</td>\n",
       "      <td>3911</td>\n",
       "    </tr>\n",
       "    <tr>\n",
       "      <th>3424367</th>\n",
       "      <td>815</td>\n",
       "      <td>6</td>\n",
       "      <td>6</td>\n",
       "      <td>474</td>\n",
       "      <td>2205</td>\n",
       "    </tr>\n",
       "    <tr>\n",
       "      <th>871645</th>\n",
       "      <td>1</td>\n",
       "      <td>7</td>\n",
       "      <td>7</td>\n",
       "      <td>640</td>\n",
       "      <td>1365</td>\n",
       "    </tr>\n",
       "    <tr>\n",
       "      <th>4456841</th>\n",
       "      <td>1</td>\n",
       "      <td>4</td>\n",
       "      <td>3</td>\n",
       "      <td>216</td>\n",
       "      <td>160</td>\n",
       "    </tr>\n",
       "    <tr>\n",
       "      <th>3515765</th>\n",
       "      <td>1</td>\n",
       "      <td>9</td>\n",
       "      <td>7</td>\n",
       "      <td>6871</td>\n",
       "      <td>587</td>\n",
       "    </tr>\n",
       "  </tbody>\n",
       "</table>\n",
       "</div>"
      ],
      "text/plain": [
       "         Duration  SrcPackets  DstPackets  SrcBytes  DstBytes\n",
       "2615150         0          11           7      1577      3911\n",
       "3424367       815           6           6       474      2205\n",
       "871645          1           7           7       640      1365\n",
       "4456841         1           4           3       216       160\n",
       "3515765         1           9           7      6871       587"
      ]
     },
     "execution_count": 12,
     "metadata": {},
     "output_type": "execute_result"
    }
   ],
   "source": [
    "dfNum = df2[['Duration', 'SrcPackets', 'DstPackets', 'SrcBytes', 'DstBytes']]\n",
    "dfNum.head()"
   ]
  },
  {
   "cell_type": "code",
   "execution_count": 14,
   "metadata": {},
   "outputs": [
    {
     "name": "stdout",
     "output_type": "stream",
     "text": [
      "5300.297967195511\n"
     ]
    }
   ],
   "source": [
    "start = time.time()\n",
    "ocsvm = OneClassSVM(nu=0.01, kernel='poly') # 2 vs 3 doesn't make a difference for this sample\n",
    "ocsvm.fit(dfNum)\n",
    "labels = ocsvm.predict(dfNum)\n",
    "end = time.time()\n",
    "print(end - start)"
   ]
  },
  {
   "cell_type": "code",
   "execution_count": 15,
   "metadata": {},
   "outputs": [
    {
     "name": "stderr",
     "output_type": "stream",
     "text": [
      "/apps/software/standard/core/anaconda/5.2.0-py3.6/lib/python3.6/site-packages/ipykernel_launcher.py:3: SettingWithCopyWarning: \n",
      "A value is trying to be set on a copy of a slice from a DataFrame.\n",
      "Try using .loc[row_indexer,col_indexer] = value instead\n",
      "\n",
      "See the caveats in the documentation: http://pandas.pydata.org/pandas-docs/stable/indexing.html#indexing-view-versus-copy\n",
      "  This is separate from the ipykernel package so we can avoid doing imports until\n"
     ]
    },
    {
     "name": "stdout",
     "output_type": "stream",
     "text": [
      "0.9885603626511567\n",
      "88.19892978668213\n"
     ]
    }
   ],
   "source": [
    "# Intra cluster distance \n",
    "start = time.time()\n",
    "dfNum['Outlier'] = labels\n",
    "benign = dfNum[dfNum['Outlier'] == 1]\n",
    "anomalies = dfNum[dfNum['Outlier'] == -1]\n",
    "benign_centroid = benign.mean().values\n",
    "full_centroid = dfNum.mean().values\n",
    "\n",
    "full_spread = 0\n",
    "for index, row in dfNum.iterrows():\n",
    "    d = np.sum(np.square(full_centroid - row.values))\n",
    "    full_spread = full_spread + d\n",
    "    \n",
    "benign_spread = 0\n",
    "for index, row in benign.iterrows():\n",
    "    d = np.sum(np.square(benign_centroid - row.values))\n",
    "    benign_spread = benign_spread + d\n",
    "    \n",
    "ratio = (full_spread / dfNum.shape[0]) / (benign_spread / benign.shape[0])\n",
    "print(ratio)\n",
    "end = time.time()\n",
    "print(end - start)"
   ]
  },
  {
   "cell_type": "code",
   "execution_count": 16,
   "metadata": {},
   "outputs": [],
   "source": [
    "# Appending the labels as a column to the ensembling dataframe\n",
    "df = pd.read_csv('1mill_anomaly_ensemble_df.csv')\n",
    "df['OCSVM_0.01_Labels'] = labels\n",
    "df.head()"
   ]
  },
  {
   "cell_type": "code",
   "execution_count": 17,
   "metadata": {},
   "outputs": [],
   "source": [
    "df.to_csv('1mill_anomaly_ensemble_df.csv')"
   ]
  },
  {
   "cell_type": "code",
   "execution_count": 20,
   "metadata": {},
   "outputs": [
    {
     "name": "stderr",
     "output_type": "stream",
     "text": [
      "/apps/software/standard/core/anaconda/5.2.0-py3.6/lib/python3.6/site-packages/ipykernel_launcher.py:5: SettingWithCopyWarning: \n",
      "A value is trying to be set on a copy of a slice from a DataFrame\n",
      "\n",
      "See the caveats in the documentation: http://pandas.pydata.org/pandas-docs/stable/indexing.html#indexing-view-versus-copy\n",
      "  \"\"\"\n"
     ]
    }
   ],
   "source": [
    "# Removing 'Port' from the port names and grouping ports into 3 categories\n",
    "df2['DstPort'] = df2['DstPort'].str.replace('Port', '')\n",
    "df2['DstPort'] = df2['DstPort'].astype(int)\n",
    "df2['DstPortCategory'] = np.where(df2['DstPort']<=1023, 'System Ports', 'User Ports')\n",
    "df2['DstPortCategory'][df2['DstPort']>=49152] = 'Dynamic and/or Private Ports'"
   ]
  },
  {
   "cell_type": "code",
   "execution_count": 21,
   "metadata": {},
   "outputs": [
    {
     "name": "stdout",
     "output_type": "stream",
     "text": [
      "DstPortCategory  Dynamic and/or Private Ports  System Ports  User Ports\n",
      "Outlier                                                                \n",
      "-1                                       4313          2243        4884\n",
      " 1                                     194655        516231      277674\n"
     ]
    },
    {
     "data": {
      "text/plain": [
       "(5017.356227717326, 0.0, 2, array([[  2276.19392,   5931.34256,   3232.46352],\n",
       "        [196691.80608, 512542.65744, 279325.53648]]))"
      ]
     },
     "execution_count": 21,
     "metadata": {},
     "output_type": "execute_result"
    }
   ],
   "source": [
    "# Chi-Squared Test to Test Whether Anomalous and Benign Five-Tuples have significantly \n",
    "# differnt port dist\n",
    "df2['Outlier'] = labels\n",
    "cont_tab = pd.crosstab(index=df2['Outlier'], columns=df2['DstPortCategory'])\n",
    "print(cont_tab)\n",
    "from scipy import stats\n",
    "stats.chi2_contingency(cont_tab)"
   ]
  },
  {
   "cell_type": "code",
   "execution_count": 23,
   "metadata": {},
   "outputs": [
    {
     "data": {
      "image/png": "[encoded data removed]",
      "text/plain": [
       "<Figure size 432x288 with 1 Axes>"
      ]
     },
     "metadata": {},
     "output_type": "display_data"
    }
   ],
   "source": [
    "# Creating a plot of the ports for anomalous five tuples\n",
    "anomalies2 = df2[df2['Outlier']==-1]\n",
    "freq_series = pd.Series(anomalies2['DstPort'].value_counts().head(5).values)\n",
    "x_labels = pd.Series(anomalies2['DstPort'].value_counts().head(5).index)\n",
    "ax = freq_series.plot(kind='bar')\n",
    "ax.set_title('Anomalous Port Distribution (One Class SVM)')\n",
    "ax.set_xlabel('Port Number')\n",
    "ax.set_ylabel('Frequency')\n",
    "ax.set_xticklabels(x_labels)\n",
    "plt.xticks(rotation=360)\n",
    "rects = ax.patches\n",
    "\n",
    "# Make some labels.\n",
    "#labels = [\"label%d\" % i for i in range(len(rects))]\n",
    "percs = list(anomalies2['DstPort'].value_counts().head(6)*100/len(anomalies2))\n",
    "percs = [round(perc, 1) for perc in percs]\n",
    "labels = [str(perc)+'%' for perc in percs]\n",
    "\n",
    "for rect, label in zip(rects, labels):\n",
    "    height = rect.get_height()\n",
    "    ax.text(rect.get_x() + rect.get_width() / 2, height + 5, label,\n",
    "            ha='center', va='bottom')\n",
    "plt.savefig('1CSVM_anomalous_portDist_0.01contam.png')"
   ]
  },
  {
   "cell_type": "code",
   "execution_count": 24,
   "metadata": {},
   "outputs": [
    {
     "data": {
      "image/png": "[encoded data removed]",
      "text/plain": [
       "<Figure size 432x288 with 1 Axes>"
      ]
     },
     "metadata": {},
     "output_type": "display_data"
    }
   ],
   "source": [
    "# Creating a plot of the ports for non- anomalous five tuples\n",
    "anomalies2 = df2[df2['Outlier']==1]\n",
    "freq_series = pd.Series(anomalies2['DstPort'].value_counts().head(5).values)\n",
    "x_labels = pd.Series(anomalies2['DstPort'].value_counts().head(5).index)\n",
    "ax = freq_series.plot(kind='bar')\n",
    "ax.set_title('Non-Anomalous Port Distribution (One Class SVM)')\n",
    "ax.set_xlabel('Port Number')\n",
    "ax.set_ylabel('Frequency')\n",
    "ax.set_xticklabels(x_labels)\n",
    "plt.xticks(rotation=360)\n",
    "rects = ax.patches\n",
    "\n",
    "# Make some labels.\n",
    "#labels = [\"label%d\" % i for i in range(len(rects))]\n",
    "percs = list(anomalies2['DstPort'].value_counts().head(6)*100/len(anomalies2))\n",
    "percs = [round(perc, 1) for perc in percs]\n",
    "labels = [str(perc)+'%' for perc in percs]\n",
    "\n",
    "for rect, label in zip(rects, labels):\n",
    "    height = rect.get_height()\n",
    "    ax.text(rect.get_x() + rect.get_width() / 2, height + 5, label,\n",
    "            ha='center', va='bottom')\n",
    "plt.savefig('!SVM_nonanomalous_portDist_0.01contam.png')"
   ]
  },
  {
   "cell_type": "code",
   "execution_count": 25,
   "metadata": {},
   "outputs": [
    {
     "name": "stdout",
     "output_type": "stream",
     "text": [
      "Protocol      6      17\n",
      "Outlier                \n",
      "-1         11440      0\n",
      " 1        945138  43422\n"
     ]
    },
    {
     "data": {
      "text/plain": [
       "(524.2491189012161,\n",
       " 5.036130409311002e-116,\n",
       " 1,\n",
       " array([[1.09432523e+04, 4.96747680e+02],\n",
       "        [9.45634748e+05, 4.29252523e+04]]))"
      ]
     },
     "execution_count": 25,
     "metadata": {},
     "output_type": "execute_result"
    }
   ],
   "source": [
    "# Chi-Squared Test to Test Whether Anomalous and Benign Five-Tuples have significantly \n",
    "# differnt protocol dist\n",
    "cont_tab2 = pd.crosstab(index=df2['Outlier'], columns=df2['Protocol'])\n",
    "print(cont_tab2)\n",
    "from scipy import stats\n",
    "stats.chi2_contingency(cont_tab2)"
   ]
  },
  {
   "cell_type": "code",
   "execution_count": 26,
   "metadata": {},
   "outputs": [
    {
     "data": {
      "image/png": "[encoded data removed]",
      "text/plain": [
       "<Figure size 432x288 with 1 Axes>"
      ]
     },
     "metadata": {},
     "output_type": "display_data"
    }
   ],
   "source": [
    "# Creating a plot of the protocols for anomalous five tuples\n",
    "anomalies2 = df2[df2['Outlier']==-1]\n",
    "freq_series = pd.Series(anomalies2['Protocol'].value_counts().values)\n",
    "x_labels = pd.Series(anomalies2['Protocol'].value_counts().index)\n",
    "ax = freq_series.plot(kind='bar')\n",
    "ax.set_title('Anomalous Protocol Distribution (One Class SVM)')\n",
    "ax.set_xlabel('Protocol')\n",
    "ax.set_ylabel('Frequency')\n",
    "ax.set_xticklabels(x_labels)\n",
    "plt.xticks(rotation=360)\n",
    "rects = ax.patches\n",
    "\n",
    "# Make some labels.\n",
    "#labels = [\"label%d\" % i for i in range(len(rects))]\n",
    "percs = list(anomalies2['Protocol'].value_counts()*100/len(anomalies2))\n",
    "percs = [round(perc, 1) for perc in percs]\n",
    "labels = [str(perc)+'%' for perc in percs]\n",
    "\n",
    "for rect, label in zip(rects, labels):\n",
    "    height = rect.get_height()\n",
    "    ax.text(rect.get_x() + rect.get_width() / 2, height + 5, label,\n",
    "            ha='center', va='bottom')\n",
    "plt.savefig('1SVM_anomalous_protocolDist_0.01contam.png')"
   ]
  },
  {
   "cell_type": "code",
   "execution_count": 28,
   "metadata": {},
   "outputs": [
    {
     "data": {
      "image/png": "[encoded data removed]",
      "text/plain": [
       "<Figure size 432x288 with 1 Axes>"
      ]
     },
     "metadata": {},
     "output_type": "display_data"
    }
   ],
   "source": [
    "# Creating a plot of the protocols for non-anomalous five tuples\n",
    "benign2 = df2[df2['Outlier']==1]\n",
    "freq_series = pd.Series(benign2['Protocol'].value_counts().values)\n",
    "x_labels = pd.Series(benign2['Protocol'].value_counts().index)\n",
    "ax = freq_series.plot(kind='bar')\n",
    "ax.set_title('Non-Anomalous Protocol Distribution (One Class SVM)')\n",
    "ax.set_xlabel('Protocol')\n",
    "ax.set_ylabel('Frequency')\n",
    "ax.set_xticklabels(x_labels)\n",
    "plt.xticks(rotation=360)\n",
    "rects = ax.patches\n",
    "\n",
    "# Make some labels.\n",
    "#labels = [\"label%d\" % i for i in range(len(rects))]\n",
    "percs = list(benign2['Protocol'].value_counts()*100/len(benign2))\n",
    "percs = [round(perc, 1) for perc in percs]\n",
    "labels = [str(perc)+'%' for perc in percs]\n",
    "\n",
    "for rect, label in zip(rects, labels):\n",
    "    height = rect.get_height()\n",
    "    ax.text(rect.get_x() + rect.get_width() / 2, height + 5, label,\n",
    "            ha='center', va='bottom')\n",
    "plt.savefig('1SVM_benign_protocolDist_0.01contam.png')"
   ]
  },
  {
   "cell_type": "code",
   "execution_count": 17,
   "metadata": {},
   "outputs": [],
   "source": [
    "from sklearn import preprocessing\n",
    "from sklearn.decomposition import PCA"
   ]
  },
  {
   "cell_type": "code",
   "execution_count": 18,
   "metadata": {},
   "outputs": [
    {
     "name": "stdout",
     "output_type": "stream",
     "text": [
      "   Duration  SrcPackets  DstPackets  SrcBytes  DstBytes\n",
      "0  0.134151   -0.007914   -0.006129 -0.014218 -0.004909\n",
      "1 -0.080895   -0.007190   -0.005891 -0.013638 -0.004790\n",
      "2 -0.028818   -0.007045   -0.005812 -0.013482 -0.004729\n",
      "3 -0.080895   -0.007914   -0.006129 -0.014221 -0.004910\n",
      "4 -0.080895   -0.007624   -0.006050 -0.014136 -0.004885\n",
      "1.8696460723876953\n"
     ]
    }
   ],
   "source": [
    "# Plotting PCA to Visualize Anomalies\n",
    "# Scaling for PCA\n",
    "start = time.time()\n",
    "pre = preprocessing.scale(dfNum[[\"Duration\", \"SrcPackets\", \"DstPackets\", \"SrcBytes\", \"DstBytes\"]])\n",
    "pre = pd.DataFrame.from_records(pre, columns = [\"Duration\", \"SrcPackets\", \"DstPackets\", \"SrcBytes\", \"DstBytes\"])\n",
    "print(pre.head())\n",
    "end = time.time()\n",
    "print(end - start)"
   ]
  },
  {
   "cell_type": "code",
   "execution_count": 19,
   "metadata": {},
   "outputs": [
    {
     "data": {
      "image/png": "[encoded data removed]",
      "text/plain": [
       "<Figure size 432x288 with 2 Axes>"
      ]
     },
     "metadata": {},
     "output_type": "display_data"
    },
    {
     "name": "stdout",
     "output_type": "stream",
     "text": [
      "45.54799127578735\n"
     ]
    }
   ],
   "source": [
    "# PCA plot of protocol and numerical values-- color coded by Protocol\n",
    "start = time.time()\n",
    "pcaDF = pre[[\"Duration\", \"SrcPackets\", \"DstPackets\", \"SrcBytes\", \"DstBytes\"]]\n",
    "pca = PCA(n_components=2).fit_transform(pcaDF)\n",
    "pcdf = pd.DataFrame(data = pca, columns = ['PC1', 'PC2'])\n",
    "pcdf.plot(x=\"PC1\", y=\"PC2\", kind='scatter', title='PCA Plot', \n",
    "          c=dfNum['Outlier'] , legend=True, colormap = 'Accent', alpha = 0.75)\n",
    "plt.savefig('1mill_PCA_1SVM.png')\n",
    "plt.show()\n",
    "end = time.time()\n",
    "print(end - start)"
   ]
  }
 ],
 "metadata": {
  "kernelspec": {
   "display_name": "Python 3",
   "language": "python",
   "name": "python3"
  },
  "language_info": {
   "codemirror_mode": {
    "name": "ipython",
    "version": 3
   },
   "file_extension": ".py",
   "mimetype": "text/x-python",
   "name": "python",
   "nbconvert_exporter": "python",
   "pygments_lexer": "ipython3",
   "version": "3.6.6"
  }
 },
 "nbformat": 4,
 "nbformat_minor": 2
}
