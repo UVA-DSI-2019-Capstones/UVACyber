{
 "cells": [
  {
   "cell_type": "code",
   "execution_count": 13,
   "metadata": {},
   "outputs": [],
   "source": [
    "import glob\n",
    "import os\n",
    "import random\n",
    "import pandas as pd\n",
    "import numpy as np \n",
    "%matplotlib inline\n",
    "import matplotlib\n",
    "import matplotlib.pyplot as plt\n",
    "from sklearn.linear_model import LogisticRegressionCV\n",
    "from sklearn.metrics import confusion_matrix\n",
    "import itertools\n",
    "from sklearn.ensemble import RandomForestRegressor, RandomForestClassifier\n",
    "from sklearn.decomposition import PCA\n",
    "import matplotlib.pyplot as plt\n",
    "from sklearn.preprocessing import StandardScaler\n",
    "import matplotlib\n",
    "import matplotlib.pyplot as plt\n",
    "from sklearn.linear_model import LogisticRegressionCV\n",
    "from sklearn.metrics import confusion_matrix\n",
    "from keras.utils import to_categorical\n",
    "from keras.layers import Dropout\n",
    "from keras.layers import Dense\n",
    "from keras import models\n",
    "from sklearn.ensemble import IsolationForest\n",
    "from keras import optimizers\n",
    "import itertools\n",
    "from sklearn.ensemble import RandomForestRegressor, RandomForestClassifier\n",
    "os.chdir(\"/scratch/rk9cx/conn_log_labelled_runtime/labelled_2019-01-11//\")\n",
    "from datetime import datetime, timedelta\n",
    "import numpy as np\n",
    "import math"
   ]
  },
  {
   "cell_type": "code",
   "execution_count": null,
   "metadata": {},
   "outputs": [],
   "source": [
    "#preprocessing data\n",
    "df = pd.read_csv(filename, skiprows=skip)\n",
    "df = pd.concat([df, df['history'].str.join('|').str.get_dummies()], axis = 1)\n",
    "df = df.drop([\"history\",\"honeypot\",\"blacklist\",\"whitelist\"], axis=1)\n",
    "df = pd.concat([df, pd.get_dummies(df.conn_state.apply(pd.Series), prefix=\"\", prefix_sep=\"\")], axis = 1)\n",
    "df = df.drop([\"conn_state\"], axis=1)\n",
    "df = df.replace('-', 0)"
   ]
  },
  {
   "cell_type": "code",
   "execution_count": 6,
   "metadata": {},
   "outputs": [],
   "source": [
    "train = pd.read_csv(\"/scratch/rk9cx/conn_log_labelled_runtime/labelled_2019-01-10/sample.csv\", \n",
    "                    index_col= False)"
   ]
  },
  {
   "cell_type": "code",
   "execution_count": 3,
   "metadata": {},
   "outputs": [],
   "source": [
    "#random sampling\n",
    "filename = \"merged.csv\"\n",
    "n = sum(1 for line in open(filename)) - 1 #number of records in file (excludes header)\n",
    "s = 1000000 #desired sample size\n",
    "skip = sorted(random.sample(range(1,n+1),n-s)) #the 0-indexed header will not be included in the skip list\n",
    "df = pd.read_csv(filename, skiprows=skip)\n",
    "test = df"
   ]
  },
  {
   "cell_type": "code",
   "execution_count": 7,
   "metadata": {},
   "outputs": [],
   "source": [
    "from fastai.imports import *\n",
    "from fastai.structured import *"
   ]
  },
  {
   "cell_type": "code",
   "execution_count": 66,
   "metadata": {},
   "outputs": [],
   "source": [
    "def preprocess(df):\n",
    "    df = pd.concat([df, df['history'].str.join('|').str.get_dummies()], axis = 1)\n",
    "    df = df.drop([\"history\",\"honeypot\",\"blacklist\",\"whitelist\"], axis=1)\n",
    "    df = pd.concat([df, pd.get_dummies(df.conn_state.apply(pd.Series), prefix=\"\", prefix_sep=\"\")], axis = 1)\n",
    "    df = df.drop([\"conn_state\"], axis=1)\n",
    "    df = df.replace('-', 0)\n",
    "    rf_sample = df.drop([\"src_ip_ext\",\"src_ip\",\"dest_ip\"], axis=1)\n",
    "    rf_sample[\"duration\"] = rf_sample[\"duration\"].astype(float)\n",
    "    rf_sample[\"duration\"] = np.log((rf_sample[\"duration\"].astype('int'))+0.001)\n",
    "    rf_sample[\"src_bytes\"] = rf_sample[\"src_bytes\"].astype(float)\n",
    "    rf_sample[\"src_bytes\"] = np.log((rf_sample[\"src_bytes\"].astype('int'))+0.001)\n",
    "    rf_sample[\"dest_bytes\"] = rf_sample[\"dest_bytes\"].astype(float)\n",
    "    rf_sample[\"dest_bytes\"] = np.log((rf_sample[\"dest_bytes\"].astype('int'))+0.001)\n",
    "    rf_sample[\"src_pkts\"] = np.log((rf_sample[\"src_pkts\"].astype('int'))+0.001)\n",
    "    rf_sample[\"dest_pkts\"] = np.log((rf_sample[\"dest_pkts\"].astype('int'))+0.001)\n",
    "    rf_sample['ts'] = pd.to_datetime(rf_sample['ts'],unit='s')\n",
    "    rf_sample[\"src_port\"] = rf_sample[\"src_port\"].astype('category')\n",
    "    rf_sample[\"dest_port\"] = rf_sample[\"dest_port\"].astype('category')\n",
    "    rf_sample[\"src_port\"] = rf_sample[\"src_port\"].cat.codes\n",
    "    rf_sample[\"dest_port\"] = rf_sample[\"dest_port\"].cat.codes\n",
    "    xhr, yhr = [], []\n",
    "    for i in df.ts:\n",
    "        temp = (datetime.fromtimestamp(i) - timedelta(hours=-5)).strftime('%Y-%m-%d %H:%M:%S')[11:13]\n",
    "        xhr.append(np.sin(2*math.pi*int(temp)/24))\n",
    "        yhr.append(np.cos(2*math.pi*int(temp)/24))\n",
    "\n",
    "    rf_sample['xhr'] = xhr\n",
    "    rf_sample['yhr'] = yhr\n",
    "    add_datepart(rf_sample, 'ts')\n",
    "    rf_sample = class_balancer(rf_sample)\n",
    "    X = rf_sample.loc[:, rf_sample.columns != 'label']\n",
    "    Y = rf_sample.loc[:, rf_sample.columns == 'label']\n",
    "    return X,Y"
   ]
  },
  {
   "cell_type": "code",
   "execution_count": 8,
   "metadata": {},
   "outputs": [],
   "source": [
    "#function for plotting confusion Matrix\n",
    "def plot_confusion_matrix(cm, classes,\n",
    "                          normalize=False,\n",
    "                          title='Confusion matrix',\n",
    "                          cmap=plt.cm.Blues):\n",
    "    \"\"\"\n",
    "    This function prints and plots the confusion matrix.\n",
    "    Normalization can be applied by setting `normalize=True`.\n",
    "    \"\"\"\n",
    "    if normalize:\n",
    "        cm = cm.astype('float') / cm.sum(axis=1)[:, np.newaxis]\n",
    "        print(\"Normalized confusion matrix\")\n",
    "    else:\n",
    "        print('Confusion matrix, without normalization')\n",
    "\n",
    "    print(cm)\n",
    "\n",
    "    plt.imshow(cm, interpolation='nearest', cmap=cmap)\n",
    "    plt.title(title)\n",
    "    plt.colorbar()\n",
    "    tick_marks = np.arange(len(classes))\n",
    "    plt.xticks(tick_marks, classes, rotation=45)\n",
    "    plt.yticks(tick_marks, classes)\n",
    "\n",
    "    fmt = '.2f' if normalize else 'd'\n",
    "    thresh = cm.max() / 2.\n",
    "    for i, j in itertools.product(range(cm.shape[0]), range(cm.shape[1])):\n",
    "        plt.text(j, i, format(cm[i, j], fmt),\n",
    "                 horizontalalignment=\"center\",\n",
    "                 color=\"white\" if cm[i, j] > thresh else \"black\")\n",
    "\n",
    "    plt.ylabel('True label')\n",
    "    plt.xlabel('Predicted label')\n",
    "    plt.tight_layout()"
   ]
  },
  {
   "cell_type": "code",
   "execution_count": 76,
   "metadata": {},
   "outputs": [
    {
     "data": {
      "text/plain": [
       "1    782657\n",
       "0    217343\n",
       "Name: label, dtype: int64"
      ]
     },
     "execution_count": 76,
     "metadata": {},
     "output_type": "execute_result"
    }
   ],
   "source": [
    "df.label.value_counts()"
   ]
  },
  {
   "cell_type": "code",
   "execution_count": 64,
   "metadata": {},
   "outputs": [
    {
     "data": {
      "text/plain": [
       "1    217343\n",
       "0    217343\n",
       "Name: label, dtype: int64"
      ]
     },
     "execution_count": 64,
     "metadata": {},
     "output_type": "execute_result"
    }
   ],
   "source": [
    "        mal = df.loc[df['label'] == 1].head(df.label.value_counts()[0])\n",
    "        ben = df.loc[df['label'] == 0]\n",
    "        mdf = pd.concat([mal,ben], axis = 0)\n",
    "        mdf.label.value_counts()"
   ]
  },
  {
   "cell_type": "code",
   "execution_count": 65,
   "metadata": {},
   "outputs": [],
   "source": [
    "def class_balancer(df):\n",
    "    if df.label.value_counts()[0] > df.label.value_counts()[1]:\n",
    "        mal = df.loc[df['label'] == 1]\n",
    "        ben = df.loc[df['label'] == 0].head(df.label.value_counts()[1])\n",
    "        mdf = pd.concat([mal,ben], axis = 0)\n",
    "        return mdf\n",
    "    if df.label.value_counts()[1] > df.label.value_counts()[0]:\n",
    "        mal = df.loc[df['label'] == 1].head(df.label.value_counts()[0])\n",
    "        ben = df.loc[df['label'] == 0]\n",
    "        mdf = pd.concat([mal,ben], axis = 0)\n",
    "        return mdf"
   ]
  },
  {
   "cell_type": "code",
   "execution_count": 67,
   "metadata": {},
   "outputs": [],
   "source": [
    "X_train,y_train = preprocess(train)"
   ]
  },
  {
   "cell_type": "code",
   "execution_count": 68,
   "metadata": {},
   "outputs": [],
   "source": [
    "X_test,y_test = preprocess(test)"
   ]
  },
  {
   "cell_type": "code",
   "execution_count": 85,
   "metadata": {},
   "outputs": [
    {
     "data": {
      "text/plain": [
       "Index(['src_port', 'dest_port', 'duration', 'src_bytes', 'dest_bytes',\n",
       "       'src_pkts', 'dest_pkts', 'local', 'A', 'D', 'F', 'H', 'R', 'S', 'T',\n",
       "       '^', 'a', 'd', 'f', 'h', 'i', 'q', 'r', 's', 't', 'OTH', 'REJ', 'RSTO',\n",
       "       'RSTOS0', 'RSTR', 'RSTRH', 'S0', 'S1', 'S2', 'S3', 'SF', 'SH', 'SHR',\n",
       "       'xhr', 'yhr'],\n",
       "      dtype='object')"
      ]
     },
     "execution_count": 85,
     "metadata": {},
     "output_type": "execute_result"
    }
   ],
   "source": [
    "X_test.columns"
   ]
  },
  {
   "cell_type": "code",
   "execution_count": 81,
   "metadata": {},
   "outputs": [],
   "source": [
    "time_col = ['tsYear', 'tsMonth', 'tsWeek', 'tsDay', 'tsDayofweek',\n",
    "       'tsDayofyear', 'tsIs_month_end', 'tsIs_month_start', 'tsIs_quarter_end',\n",
    "       'tsIs_quarter_start', 'tsIs_year_end', 'tsIs_year_start', 'tsElapsed']"
   ]
  },
  {
   "cell_type": "code",
   "execution_count": 84,
   "metadata": {},
   "outputs": [],
   "source": [
    "X_test.drop(time_col, axis = 1, inplace=True)\n",
    "X_train.drop(time_col, axis = 1, inplace=True)"
   ]
  },
  {
   "cell_type": "code",
   "execution_count": 91,
   "metadata": {},
   "outputs": [
    {
     "name": "stderr",
     "output_type": "stream",
     "text": [
      "/apps/software/standard/core/anaconda/5.2.0-py3.6/lib/python3.6/site-packages/ipykernel_launcher.py:2: DataConversionWarning: A column-vector y was passed when a 1d array was expected. Please change the shape of y to (n_samples,), for example using ravel().\n",
      "  \n"
     ]
    },
    {
     "data": {
      "text/plain": [
       "RandomForestClassifier(bootstrap=True, class_weight=None, criterion='gini',\n",
       "            max_depth=None, max_features=0.5, max_leaf_nodes=None,\n",
       "            min_impurity_decrease=0.0, min_impurity_split=None,\n",
       "            min_samples_leaf=1, min_samples_split=2,\n",
       "            min_weight_fraction_leaf=0.0, n_estimators=500, n_jobs=-1,\n",
       "            oob_score=False, random_state=None, verbose=0,\n",
       "            warm_start=False)"
      ]
     },
     "execution_count": 91,
     "metadata": {},
     "output_type": "execute_result"
    }
   ],
   "source": [
    "m = RandomForestClassifier(n_estimators=500, max_features=0.5, n_jobs=-1)\n",
    "m.fit(X_train, y_train) "
   ]
  },
  {
   "cell_type": "code",
   "execution_count": 92,
   "metadata": {},
   "outputs": [
    {
     "name": "stdout",
     "output_type": "stream",
     "text": [
      "Confusion matrix, without normalization\n",
      "[[194589  22754]\n",
      " [ 23136 194207]]\n"
     ]
    },
    {
     "data": {
      "image/png": "[encoded data removed]",
      "text/plain": [
       "<Figure size 432x288 with 2 Axes>"
      ]
     },
     "metadata": {},
     "output_type": "display_data"
    }
   ],
   "source": [
    "pred_y = m.predict(X_test)\n",
    "cm= confusion_matrix(y_test, pred_y)\n",
    "plt.figure()\n",
    "plot_confusion_matrix(cm, classes=[0,1],title='Confusion matrix, without normalization')"
   ]
  },
  {
   "cell_type": "code",
   "execution_count": 93,
   "metadata": {},
   "outputs": [
    {
     "name": "stdout",
     "output_type": "stream",
     "text": [
      "0.8951240084623504 0.893550746975978 10.469166248740471 89.44295422442868\n"
     ]
    }
   ],
   "source": [
    "tn, fp, fn, tp = cm.ravel()\n",
    "precision=tp/(tp+fp)\n",
    "recall=tp/(tp+fn)\n",
    "fpr = fp/(fp+ tn)\n",
    "accuracy = (tp + tn)/(tn + tp + fn + fp)\n",
    "print(precision, recall, fpr*100, accuracy*100)"
   ]
  },
  {
   "cell_type": "code",
   "execution_count": 94,
   "metadata": {},
   "outputs": [
    {
     "data": {
      "text/plain": [
       "<matplotlib.legend.Legend at 0x7fd060fa40b8>"
      ]
     },
     "execution_count": 94,
     "metadata": {},
     "output_type": "execute_result"
    },
    {
     "data": {
      "image/png": "[encoded data removed]",
      "text/plain": [
       "<Figure size 432x288 with 1 Axes>"
      ]
     },
     "metadata": {},
     "output_type": "display_data"
    }
   ],
   "source": [
    "from sklearn.metrics import roc_curve\n",
    "from sklearn.metrics import auc\n",
    "\n",
    "# Compute fpr, tpr, thresholds and roc auc\n",
    "fpr, tpr, thresholds = roc_curve(y_test, pred_y)\n",
    "roc_auc = auc(fpr,tpr)\n",
    "\n",
    "# Plot ROC curve\n",
    "plt.plot(fpr, tpr, label='ROC curve (area = %0.3f)' % roc_auc)\n",
    "plt.plot([0, 1], [0, 1], 'k--')  # random predictions curve\n",
    "plt.xlim([0.0, 1.0])\n",
    "plt.ylim([0.0, 1.0])\n",
    "plt.xlabel('False Positive Rate or (1 - Specifity)')\n",
    "plt.ylabel('True Positive Rate or (Sensitivity)')\n",
    "plt.title('Receiver Operating Characteristic')\n",
    "plt.legend(loc=\"lower right\")"
   ]
  },
  {
   "cell_type": "code",
   "execution_count": 95,
   "metadata": {},
   "outputs": [
    {
     "data": {
      "text/plain": [
       "<matplotlib.axes._subplots.AxesSubplot at 0x7fd0a1648c88>"
      ]
     },
     "execution_count": 95,
     "metadata": {},
     "output_type": "execute_result"
    },
    {
     "data": {
      "image/png": "[encoded data removed]",
      "text/plain": [
       "<Figure size 432x288 with 1 Axes>"
      ]
     },
     "metadata": {},
     "output_type": "display_data"
    }
   ],
   "source": [
    "feat_importances = pd.Series(m.feature_importances_, index=X_train.columns)\n",
    "feat_importances.nlargest(10).plot(kind='barh')"
   ]
  },
  {
   "cell_type": "code",
   "execution_count": null,
   "metadata": {},
   "outputs": [],
   "source": []
  }
 ],
 "metadata": {
  "kernelspec": {
   "display_name": "Python 3",
   "language": "python",
   "name": "python3"
  },
  "language_info": {
   "codemirror_mode": {
    "name": "ipython",
    "version": 3
   },
   "file_extension": ".py",
   "mimetype": "text/x-python",
   "name": "python",
   "nbconvert_exporter": "python",
   "pygments_lexer": "ipython3",
   "version": "3.6.6"
  }
 },
 "nbformat": 4,
 "nbformat_minor": 2
}
