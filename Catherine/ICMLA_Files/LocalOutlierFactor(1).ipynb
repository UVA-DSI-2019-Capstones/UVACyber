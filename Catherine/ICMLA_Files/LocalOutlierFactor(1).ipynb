{
 "cells": [
  {
   "cell_type": "code",
   "execution_count": null,
   "metadata": {},
   "outputs": [],
   "source": [
    "# Local Outlier Factor"
   ]
  },
  {
   "cell_type": "code",
   "execution_count": null,
   "metadata": {},
   "outputs": [],
   "source": [
    "import pandas as pd\n",
    "import time\n",
    "from sklearn.neighbors import LocalOutlierFactor\n",
    "import numpy as np\n",
    "import matplotlib.pyplot as plt\n",
    "from sklearn.metrics import  pairwise \n",
    "import sklearn.model_selection"
   ]
  },
  {
   "cell_type": "code",
   "execution_count": 3,
   "metadata": {},
   "outputs": [
    {
     "name": "stdout",
     "output_type": "stream",
     "text": [
      "1.8854968547821045\n"
     ]
    }
   ],
   "source": [
    "start = time.time()\n",
    "df = pd.read_csv('1mill_sample_anomaly.csv')\n",
    "end = time.time()\n",
    "print(end - start)"
   ]
  },
  {
   "cell_type": "code",
   "execution_count": 4,
   "metadata": {},
   "outputs": [],
   "source": [
    "#df2 = df.sample(n=1000000)\n",
    "dfNum = df[['Duration', 'SrcPackets', 'DstPackets', 'SrcBytes', 'DstBytes']]"
   ]
  },
  {
   "cell_type": "code",
   "execution_count": 9,
   "metadata": {},
   "outputs": [
    {
     "name": "stdout",
     "output_type": "stream",
     "text": [
      "1062.5657420158386\n"
     ]
    }
   ],
   "source": [
    "# small n, high variance. N=length, then find most probable class\n",
    "# auto chooses best algorithm based on data passed into fit\n",
    "start = time.time()\n",
    "lof = LocalOutlierFactor(n_neighbors = 20, algorithm= 'auto', contamination= 0.05)\n",
    "labels = lof.fit_predict(dfNum)\n",
    "end = time.time()\n",
    "print(end - start)"
   ]
  },
  {
   "cell_type": "code",
   "execution_count": 10,
   "metadata": {},
   "outputs": [
    {
     "name": "stderr",
     "output_type": "stream",
     "text": [
      "/apps/software/standard/core/anaconda/5.2.0-py3.6/lib/python3.6/site-packages/ipykernel_launcher.py:3: SettingWithCopyWarning: \n",
      "A value is trying to be set on a copy of a slice from a DataFrame.\n",
      "Try using .loc[row_indexer,col_indexer] = value instead\n",
      "\n",
      "See the caveats in the documentation: http://pandas.pydata.org/pandas-docs/stable/indexing.html#indexing-view-versus-copy\n",
      "  This is separate from the ipykernel package so we can avoid doing imports until\n"
     ]
    },
    {
     "name": "stdout",
     "output_type": "stream",
     "text": [
      "3.9171913167474237\n",
      "149.37739300727844\n"
     ]
    }
   ],
   "source": [
    "# Intra cluster distance \n",
    "start = time.time()\n",
    "dfNum['Outlier'] = labels\n",
    "benign = dfNum[dfNum['Outlier'] == 1]\n",
    "anomalies = dfNum[dfNum['Outlier'] == -1]\n",
    "benign_centroid = benign.mean().values\n",
    "full_centroid = dfNum.mean().values\n",
    "\n",
    "full_spread = 0\n",
    "for index, row in dfNum.iterrows():\n",
    "    d = np.sum(np.square(full_centroid - row.values))\n",
    "    full_spread = full_spread + d\n",
    "    \n",
    "benign_spread = 0\n",
    "for index, row in benign.iterrows():\n",
    "    d = np.sum(np.square(benign_centroid - row.values))\n",
    "    benign_spread = benign_spread + d\n",
    "    \n",
    "ratio = (full_spread / dfNum.shape[0]) / (benign_spread / benign.shape[0])\n",
    "print(ratio)\n",
    "end = time.time()\n",
    "print(end - start)"
   ]
  },
  {
   "cell_type": "code",
   "execution_count": 11,
   "metadata": {},
   "outputs": [],
   "source": [
    "# Adding column to dataframe and resaving ensembling csv\n",
    "df['LOF_0.01_Labels'] = labels\n",
    "df.to_csv('1mill_anomaly_ensemble_df.csv')"
   ]
  },
  {
   "cell_type": "code",
   "execution_count": 38,
   "metadata": {},
   "outputs": [
    {
     "name": "stderr",
     "output_type": "stream",
     "text": [
      "/apps/software/standard/core/anaconda/5.2.0-py3.6/lib/python3.6/site-packages/ipykernel_launcher.py:5: SettingWithCopyWarning: \n",
      "A value is trying to be set on a copy of a slice from a DataFrame\n",
      "\n",
      "See the caveats in the documentation: http://pandas.pydata.org/pandas-docs/stable/indexing.html#indexing-view-versus-copy\n",
      "  \"\"\"\n"
     ]
    }
   ],
   "source": [
    "# Removing 'Port' from the port names and grouping ports into 3 categories\n",
    "df['DstPort'] = df['DstPort'].str.replace('Port', '')\n",
    "df['DstPort'] = df['DstPort'].astype(int)\n",
    "df['DstPortCategory'] = np.where(df['DstPort']<=1023, 'System Ports', 'User Ports')\n",
    "df['DstPortCategory'][df['DstPort']>=49152] = 'Dynamic and/or Private Ports'"
   ]
  },
  {
   "cell_type": "code",
   "execution_count": 41,
   "metadata": {},
   "outputs": [
    {
     "name": "stdout",
     "output_type": "stream",
     "text": [
      "DstPortCategory  Dynamic and/or Private Ports  System Ports  User Ports\n",
      "Outlier                                                                \n",
      "-1                                       1647          5772        2624\n",
      " 1                                     197321        512702      279934\n"
     ]
    },
    {
     "data": {
      "text/plain": [
       "(140.54577938210352,\n",
       " 3.0260199002442524e-31,\n",
       " 2,\n",
       " array([[  1998.235624,   5207.034382,   2837.729994],\n",
       "        [196969.764376, 513266.965618, 279720.270006]]))"
      ]
     },
     "execution_count": 41,
     "metadata": {},
     "output_type": "execute_result"
    }
   ],
   "source": [
    "# Chi-Squared Test to Test Whether Anomalous and Benign Five-Tuples have significantly \n",
    "# differnt port dist\n",
    "#df['Outlier'] = labels\n",
    "cont_tab = pd.crosstab(index=df['Outlier'], columns=df['DstPortCategory'])\n",
    "print(cont_tab)\n",
    "from scipy import stats\n",
    "stats.chi2_contingency(cont_tab)"
   ]
  },
  {
   "cell_type": "code",
   "execution_count": 33,
   "metadata": {},
   "outputs": [
    {
     "data": {
      "image/png": "[encoded data removed]",
      "text/plain": [
       "<Figure size 432x288 with 1 Axes>"
      ]
     },
     "metadata": {},
     "output_type": "display_data"
    }
   ],
   "source": [
    "# Creating a plot of the ports for anomalous five tuples\n",
    "anomalies2 = df[df['Outlier']==-1]\n",
    "freq_series = pd.Series(anomalies2['DstPort'].value_counts().head(5).values)\n",
    "x_labels = pd.Series(anomalies2['DstPort'].value_counts().head(5).index)\n",
    "ax = freq_series.plot(kind='bar')\n",
    "ax.set_title('Anomalous Port Distribution (Local Outlier Factor)')\n",
    "ax.set_xlabel('Port Number')\n",
    "ax.set_ylabel('Frequency')\n",
    "ax.set_xticklabels(x_labels)\n",
    "plt.xticks(rotation=360)\n",
    "rects = ax.patches\n",
    "\n",
    "# Make some labels.\n",
    "#labels = [\"label%d\" % i for i in range(len(rects))]\n",
    "percs = list(anomalies2['DstPort'].value_counts().head(6)*100/len(anomalies2))\n",
    "percs = [round(perc, 1) for perc in percs]\n",
    "labels = [str(perc)+'%' for perc in percs]\n",
    "\n",
    "for rect, label in zip(rects, labels):\n",
    "    height = rect.get_height()\n",
    "    ax.text(rect.get_x() + rect.get_width() / 2, height + 5, label,\n",
    "            ha='center', va='bottom')\n",
    "plt.savefig('LOF_anomalous_portDist_0.01contam.png')"
   ]
  },
  {
   "cell_type": "code",
   "execution_count": 37,
   "metadata": {},
   "outputs": [
    {
     "data": {
      "image/png": "[encoded data removed]",
      "text/plain": [
       "<Figure size 432x288 with 1 Axes>"
      ]
     },
     "metadata": {},
     "output_type": "display_data"
    }
   ],
   "source": [
    "# Creating a plot of the ports for anomalous five tuples\n",
    "anomalies2 = df[df['Outlier']==1]\n",
    "freq_series = pd.Series(anomalies2['DstPort'].value_counts().head(5).values)\n",
    "x_labels = pd.Series(anomalies2['DstPort'].value_counts().head(5).index)\n",
    "ax = freq_series.plot(kind='bar')\n",
    "ax.set_title('Non-Anomalous Port Distribution (Local Outlier Factor)')\n",
    "ax.set_xlabel('Port Number')\n",
    "ax.set_ylabel('Frequency')\n",
    "ax.set_xticklabels(x_labels)\n",
    "plt.xticks(rotation=360)\n",
    "rects = ax.patches\n",
    "\n",
    "# Make some labels.\n",
    "#labels = [\"label%d\" % i for i in range(len(rects))]\n",
    "percs = list(anomalies2['DstPort'].value_counts().head(6)*100/len(anomalies2))\n",
    "percs = [round(perc, 1) for perc in percs]\n",
    "labels = [str(perc)+'%' for perc in percs]\n",
    "\n",
    "for rect, label in zip(rects, labels):\n",
    "    height = rect.get_height()\n",
    "    ax.text(rect.get_x() + rect.get_width() / 2, height + 5, label,\n",
    "            ha='center', va='bottom')\n",
    "plt.savefig('LOF_nonanomalous_portDist_0.01contam.png')"
   ]
  },
  {
   "cell_type": "code",
   "execution_count": 15,
   "metadata": {},
   "outputs": [
    {
     "name": "stdout",
     "output_type": "stream",
     "text": [
      "Protocol      6      17\n",
      "Outlier                \n",
      "-1          9247    796\n",
      " 1        947331  42626\n"
     ]
    },
    {
     "data": {
      "text/plain": [
       "(312.80753444575055,\n",
       " 5.341103011335607e-70,\n",
       " 1,\n",
       " array([[9.60691285e+03, 4.36087146e+02],\n",
       "        [9.46971087e+05, 4.29859129e+04]]))"
      ]
     },
     "execution_count": 15,
     "metadata": {},
     "output_type": "execute_result"
    }
   ],
   "source": [
    "# Chi-Squared Test to Test Whether Anomalous and Benign Five-Tuples have significantly \n",
    "# differnt protocol dist\n",
    "df['Outlier'] = labels\n",
    "cont_tab2 = pd.crosstab(index=df['Outlier'], columns=df['Protocol'])\n",
    "print(cont_tab2)\n",
    "from scipy import stats\n",
    "stats.chi2_contingency(cont_tab2)"
   ]
  },
  {
   "cell_type": "code",
   "execution_count": 32,
   "metadata": {},
   "outputs": [
    {
     "data": {
      "image/png": "[encoded data removed]",
      "text/plain": [
       "<Figure size 432x288 with 1 Axes>"
      ]
     },
     "metadata": {},
     "output_type": "display_data"
    }
   ],
   "source": [
    "# Creating a plot of the protocols for anomalous five tuples\n",
    "anomalies2 = df[df['Outlier']==-1]\n",
    "freq_series = pd.Series(anomalies2['Protocol'].value_counts().values)\n",
    "x_labels = pd.Series(anomalies2['Protocol'].value_counts().index)\n",
    "ax = freq_series.plot(kind='bar')\n",
    "ax.set_title('Anomalous Protocol Distribution (Local Outlier Factor)')\n",
    "ax.set_xlabel('Protocol')\n",
    "ax.set_ylabel('Frequency')\n",
    "ax.set_xticklabels(x_labels)\n",
    "plt.xticks(rotation=360)\n",
    "rects = ax.patches\n",
    "\n",
    "# Make some labels.\n",
    "#labels = [\"label%d\" % i for i in range(len(rects))]\n",
    "percs = list(anomalies2['Protocol'].value_counts()*100/len(anomalies2))\n",
    "percs = [round(perc, 1) for perc in percs]\n",
    "labels = [str(perc)+'%' for perc in percs]\n",
    "\n",
    "for rect, label in zip(rects, labels):\n",
    "    height = rect.get_height()\n",
    "    ax.text(rect.get_x() + rect.get_width() / 2, height + 5, label,\n",
    "            ha='center', va='bottom')\n",
    "plt.savefig('LOF_anomalous_protocolDist_0.01contam.png')"
   ]
  },
  {
   "cell_type": "code",
   "execution_count": 31,
   "metadata": {},
   "outputs": [
    {
     "data": {
      "image/png": "[encoded data removed]",
      "text/plain": [
       "<Figure size 432x288 with 1 Axes>"
      ]
     },
     "metadata": {},
     "output_type": "display_data"
    }
   ],
   "source": [
    "# Creating a plot of the protocols for non-anomalous five tuples\n",
    "benign2 = df[df['Outlier']==1]\n",
    "freq_series = pd.Series(benign2['Protocol'].value_counts().values)\n",
    "x_labels = pd.Series(benign2['Protocol'].value_counts().index)\n",
    "ax = freq_series.plot(kind='bar')\n",
    "ax.set_title('Non-Anomalous Protocol Distribution (Local Outlier Factor)')\n",
    "ax.set_xlabel('Protocol')\n",
    "ax.set_ylabel('Frequency')\n",
    "ax.set_xticklabels(x_labels)\n",
    "plt.xticks(rotation=360)\n",
    "rects = ax.patches\n",
    "\n",
    "# Make some labels.\n",
    "#labels = [\"label%d\" % i for i in range(len(rects))]\n",
    "percs = list(benign2['Protocol'].value_counts()*100/len(benign2))\n",
    "percs = [round(perc, 1) for perc in percs]\n",
    "labels = [str(perc)+'%' for perc in percs]\n",
    "\n",
    "for rect, label in zip(rects, labels):\n",
    "    height = rect.get_height()\n",
    "    ax.text(rect.get_x() + rect.get_width() / 2, height + 5, label,\n",
    "            ha='center', va='bottom')\n",
    "plt.savefig('LOF_benign_protocolDist_0.01contam.png')"
   ]
  },
  {
   "cell_type": "code",
   "execution_count": 30,
   "metadata": {},
   "outputs": [],
   "source": [
    "from sklearn import preprocessing\n",
    "from sklearn.decomposition import PCA"
   ]
  },
  {
   "cell_type": "code",
   "execution_count": 18,
   "metadata": {},
   "outputs": [
    {
     "name": "stdout",
     "output_type": "stream",
     "text": [
      "   Duration  SrcPackets  DstPackets  SrcBytes  DstBytes\n",
      "0 -0.059926   -0.008064   -0.006648 -0.012190 -0.005534\n",
      "1 -0.060076   -0.007932   -0.006575 -0.012149 -0.005514\n",
      "2 -0.060076   -0.007203   -0.005955 -0.011607 -0.004824\n",
      "3 -0.059926   -0.008197   -0.006685 -0.012234 -0.005536\n",
      "4 -0.060076   -0.007601   -0.006466 -0.011705 -0.005417\n",
      "3.5990962982177734\n"
     ]
    }
   ],
   "source": [
    "# Plotting PCA to Visualize Anomalies\n",
    "# Scaling for PCA\n",
    "start = time.time()\n",
    "pre = preprocessing.scale(dfNum[[\"Duration\", \"SrcPackets\", \"DstPackets\", \"SrcBytes\", \"DstBytes\"]])\n",
    "pre = pd.DataFrame.from_records(pre, columns = [\"Duration\", \"SrcPackets\", \"DstPackets\", \"SrcBytes\", \"DstBytes\"])\n",
    "print(pre.head())\n",
    "end = time.time()\n",
    "print(end - start)"
   ]
  },
  {
   "cell_type": "code",
   "execution_count": 19,
   "metadata": {},
   "outputs": [
    {
     "name": "stderr",
     "output_type": "stream",
     "text": [
      "/apps/software/standard/core/anaconda/5.2.0-py3.6/lib/python3.6/site-packages/ipykernel_launcher.py:1: SettingWithCopyWarning: \n",
      "A value is trying to be set on a copy of a slice from a DataFrame.\n",
      "Try using .loc[row_indexer,col_indexer] = value instead\n",
      "\n",
      "See the caveats in the documentation: http://pandas.pydata.org/pandas-docs/stable/indexing.html#indexing-view-versus-copy\n",
      "  \"\"\"Entry point for launching an IPython kernel.\n"
     ]
    }
   ],
   "source": [
    "dfNum['Outlier'] = labels"
   ]
  },
  {
   "cell_type": "code",
   "execution_count": 20,
   "metadata": {},
   "outputs": [
    {
     "data": {
      "image/png": "[encoded data removed]",
      "text/plain": [
       "<Figure size 432x288 with 2 Axes>"
      ]
     },
     "metadata": {},
     "output_type": "display_data"
    },
    {
     "name": "stdout",
     "output_type": "stream",
     "text": [
      "131.7515320777893\n"
     ]
    }
   ],
   "source": [
    "# PCA plot of protocol and numerical values-- color coded by Protocol\n",
    "start = time.time()\n",
    "pcaDF = pre[[\"Duration\", \"SrcPackets\", \"DstPackets\", \"SrcBytes\", \"DstBytes\"]]\n",
    "pca = PCA(n_components=2).fit_transform(pcaDF)\n",
    "pcdf = pd.DataFrame(data = pca, columns = ['PC1', 'PC2'])\n",
    "pcdf.plot(x=\"PC1\", y=\"PC2\", kind='scatter', title='PCA Plot', \n",
    "          c=dfNum['Outlier'] , legend=True, colormap = 'Accent', alpha = 0.05)\n",
    "plt.savefig('1mill_PCA_LOF.pdf')\n",
    "plt.show()\n",
    "end = time.time()\n",
    "print(end - start)"
   ]
  }
 ],
 "metadata": {
  "kernelspec": {
   "display_name": "Python 3",
   "language": "python",
   "name": "python3"
  },
  "language_info": {
   "codemirror_mode": {
    "name": "ipython",
    "version": 3
   },
   "file_extension": ".py",
   "mimetype": "text/x-python",
   "name": "python",
   "nbconvert_exporter": "python",
   "pygments_lexer": "ipython3",
   "version": "3.6.6"
  }
 },
 "nbformat": 4,
 "nbformat_minor": 2
}
