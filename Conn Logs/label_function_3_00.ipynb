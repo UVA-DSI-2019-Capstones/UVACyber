{
 "cells": [
  {
   "cell_type": "markdown",
   "metadata": {},
   "source": [
    "@author: Boda Ye\n",
    "This python file used to label conn log file by using honeypot logfile.\n",
    "\n",
    "        def ip_list:        create honeypot ip_time dictionary\n",
    "                            like, { ip1: {time1,time2}, ip2:{time5, time 6, time7}}\n",
    "\n",
    "\n",
    "\n",
    "    class label: utilize the ip_time dicitonary to label the conn log file\n",
    "\n",
    "\n",
    "\n",
    "        def subset_conn:    This function is used to subset the conn log file, pick out rows with 'malicious ip'\n",
    "                            (ip caught in honeypot)\n",
    "\n",
    "\n",
    "\n",
    "        def preprocess_ip:  This function is used to convert the ip_time dicitonary to ip_start_end dictionary \n",
    "                            The unit for window is sec\n",
    "                            \n",
    "                            example:\n",
    "                            ip1: {10,15,100} window=100, ts_threshold=13\n",
    "                            => ip1:{10,100}\n",
    "                            => ip1:{10-110, 100-200} \n",
    "                            => ip1:{10-200}\n",
    "                           \n",
    "                            \n",
    "\n",
    "        def mal_uid:        return a list of malicious uid\n",
    "    "
   ]
  },
  {
   "cell_type": "code",
   "execution_count": 1,
   "metadata": {},
   "outputs": [],
   "source": [
    "import numpy as np\n",
    "import pandas as pd\n",
    "import re\n",
    "import time\n",
    "from datetime import datetime"
   ]
  },
  {
   "cell_type": "code",
   "execution_count": 2,
   "metadata": {},
   "outputs": [],
   "source": [
    "\n",
    "#create honeypot ip_time dictionary\n",
    "#like, { ip1: {time1,time2}, ip2:{time5, time 6, time7}}\n",
    "#input honeypotfile should be csv\n",
    "def ip_list(honeypot):\n",
    "    start_time = time.time()\n",
    "    \n",
    "    ip_time={}\n",
    "    f=open(honeypot,'r')\n",
    "    line=f.readline().strip()\n",
    "    \n",
    "    while line:\n",
    "        try:\n",
    "            temp=line.split(',')\n",
    "            ts=int(time.mktime(datetime.strptime(temp[0]+temp[1][:-7], '%Y-%m-%d%H:%M:%S').timetuple()))\n",
    "            sip=temp[5]\n",
    "            \n",
    "            if sip=='-':\n",
    "                line=f.readline().strip()\n",
    "                continue\n",
    "            \n",
    "            #print(str(ts)+' '+str(sip))\n",
    "            if sip not in ip_time.keys():\n",
    "                ip_time[sip]={ts}\n",
    "            else:\n",
    "                ip_time[sip].add(ts)\n",
    "                \n",
    "            \n",
    "        except:\n",
    "            pass\n",
    "        \n",
    "        line=f.readline().strip()\n",
    "        \n",
    "    \n",
    "    \n",
    "    f.close()\n",
    "    print(\"--- %s seconds ---\" % (time.time() - start_time))\n",
    "    #return a dictionary\n",
    "    return ip_time"
   ]
  },
  {
   "cell_type": "code",
   "execution_count": 3,
   "metadata": {},
   "outputs": [
    {
     "name": "stdout",
     "output_type": "stream",
     "text": [
      "--- 141.16733264923096 seconds ---\n"
     ]
    }
   ],
   "source": [
    "#create honeypot ip_time dictionary\n",
    "#like, { ip1: {time1,time2}, ip2:{time5, time 6, time7}}\n",
    "inputFile='/scratch/by8jj/merged_honeypot.csv'\n",
    "ip_time=ip_list(inputFile)"
   ]
  },
  {
   "cell_type": "code",
   "execution_count": 4,
   "metadata": {},
   "outputs": [
    {
     "data": {
      "text/plain": [
       "3288"
      ]
     },
     "execution_count": 4,
     "metadata": {},
     "output_type": "execute_result"
    }
   ],
   "source": [
    "len(ip_time)"
   ]
  },
  {
   "cell_type": "code",
   "execution_count": 5,
   "metadata": {},
   "outputs": [],
   "source": [
    "class label(object):\n",
    "    \n",
    "    \n",
    "    def __init__(self,conn):\n",
    "        self.conn=conn\n",
    "\n",
    "    \n",
    "    #a mini function to check whether there's overlap between 2 duration\n",
    "    def overlap(self,a,b):\n",
    "        if a[1]<b[0]:return True\n",
    "        return False\n",
    "    \n",
    "    \n",
    "    #This function is used to convert the ip_time dicitonary to ip_start_end dictionary \n",
    "    #The unit for window is sec\n",
    "    def preprocess_ip(self,ip_time,ts_threshold=13,window=43200):\n",
    "        \n",
    "        start_time=time.time()\n",
    "        #To simplify problem, I assume logs with same ip in 13 secs are from exactly the same malicious hacker\n",
    "        #choose 13 here is because of mean duration for connection attempts is 13 secs\n",
    "        \n",
    "        out={}\n",
    "        for key,value in ip_time.items():\n",
    "\n",
    "            #combine connection happened within 13 secs to reduce size of time_stamp file\n",
    "            ts=[int(x) for x in value]\n",
    "            temp=[ts[0]]\n",
    "            for j in range(len(ts)-1):\n",
    "                if ts[j+1]-ts[j]>ts_threshold: temp.append(ts[j+1])           \n",
    "\n",
    "\n",
    "            #create the start_end for each item in temp\n",
    "            temp=[(x,x+window) for x in temp]\n",
    "            #merge start_end\n",
    "            merged_start_end=[temp[0]]\n",
    "            for j in range(1,len(temp)):\n",
    "                current_start_end=merged_start_end.pop()\n",
    "                if self.overlap(current_start_end,temp[j]):\n",
    "                    merged_start_end.append((current_start_end[0],temp[j][1]))\n",
    "                else:\n",
    "                    merged_start_end.append(current_start_end)\n",
    "                    merged_start_end.append(temp[j])\n",
    "            out[key]=merged_start_end\n",
    "    \n",
    "        #return a dictionary \n",
    "        print('preprocess ip:--------%s seconds ----------'%(time.time()-start_time))\n",
    "        return out\n",
    "        \n",
    "        \n",
    "    #label the file\n",
    "    def label(self,ip_time,outfile='labeled.log',l_ts_threshold=13,l_window=43200):\n",
    "        \n",
    "        #intitialize some variable here\n",
    "        start_time=time.time()\n",
    "        mal_ips=[]\n",
    "        mal_count=0\n",
    "        \n",
    "        \n",
    "        #run preprocess function\n",
    "        preprocess_ip_time=self.preprocess_ip(ip_time,ts_threshold=l_ts_threshold,window=l_window)\n",
    "        \n",
    "        \n",
    "        #initialize the output file\n",
    "        out=open(outfile,'w')\n",
    "        \n",
    "        \n",
    "        #read in the file\n",
    "        f = open(self.conn, 'r')\n",
    "        \n",
    "        line=f.readline().strip()\n",
    "        \n",
    "        counter=1\n",
    "        \n",
    "        while line:\n",
    "            \n",
    "            if '#' in line:\n",
    "                line=f.readline().strip()\n",
    "                counter+=1\n",
    "                continue\n",
    "                \n",
    "            lsplit = line.split('\\t')     \n",
    "            ts, uid, ip = lsplit[0][:10],lsplit[1], lsplit[2]\n",
    "\n",
    "            #check if ip is caught in honeypot file\n",
    "            if ip not in preprocess_ip_time.keys():\n",
    "                out.write(line+'\\t'+'0'+'\\n')\n",
    "                line=f.readline().strip()\n",
    "                counter+=1\n",
    "                continue\n",
    "\n",
    "            #check if time is within the range on the preprocessed ip_time file\n",
    "            for j in preprocess_ip_time[ip]:\n",
    "                if int(ts)>=int(j[0]) and int(ts)<=int(j[1]):\n",
    "                    mal_count+=1\n",
    "                    mal_ips.append(ip)\n",
    "                    out.write(line+'\\t'+'1'+'\\n')\n",
    "                    line=f.readline().strip()\n",
    "                    break\n",
    "            else:\n",
    "                out.write(line+'\\t'+'0'+'\\n')\n",
    "                line=f.readline().strip()\n",
    "                \n",
    "\n",
    "            counter+=1\n",
    "        \n",
    "        f.close()\n",
    "        out.close()\n",
    "        print('size of original file is:%s, size of malicious ip in conn log file is:%s '%(counter, mal_count))\n",
    "        print('label:--------%s seconds -------'%(time.time()-start_time))\n",
    "        return mal_ips"
   ]
  },
  {
   "cell_type": "code",
   "execution_count": 6,
   "metadata": {},
   "outputs": [],
   "source": [
    "conn_orig=[\n",
    "      '/scratch/by8jj/august_conn_logs/2018-08-10/conn_08_10.log',\\\n",
    "      '/scratch/by8jj/august_conn_logs/2018-08-11/conn_08_11.log',\\\n",
    "      '/scratch/by8jj/august_conn_logs/2018-08-12/conn_08_12.log',\\\n",
    "      '/scratch/by8jj/august_conn_logs/2018-08-13/conn_08_13.log',\\\n",
    "      '/scratch/by8jj/august_conn_logs/2018-08-14/conn_08_14.log',\\\n",
    "      '/scratch/by8jj/august_conn_logs/2018-08-15/conn_08_15.log',\\\n",
    "      '/scratch/by8jj/august_conn_logs/2018-08-16/conn_08_16.log',\\\n",
    "      '/scratch/by8jj/august_conn_logs/2018-08-17/conn_08_17.log',\\\n",
    "      '/scratch/by8jj/august_conn_logs/2018-08-18/conn_08_18.log',\\\n",
    "      '/scratch/by8jj/august_conn_logs/2018-08-19/conn_08_19.log',\\\n",
    "      '/scratch/by8jj/august_conn_logs/2018-08-20/conn_08_20.log',\\\n",
    "      '/scratch/by8jj/august_conn_logs/2018-08-21/conn_08_21.log',\\\n",
    "      '/scratch/by8jj/august_conn_logs/2018-08-22/conn_08_22.log',\\\n",
    "      '/scratch/by8jj/august_conn_logs/2018-08-23/conn_08_23.log',\\\n",
    "      '/scratch/by8jj/august_conn_logs/2018-08-24/conn_08_24.log',\\\n",
    "     ]\n",
    "      "
   ]
  },
  {
   "cell_type": "code",
   "execution_count": 7,
   "metadata": {},
   "outputs": [],
   "source": [
    "conn_labelled=['labelled_08_10.log','labelled_08_11.log','labelled_08_12.log',\\\n",
    "               'labelled_08_13.log','labelled_08_14.log','labelled_08_15.log',\\\n",
    "               'labelled_08_16.log','labelled_08_17.log','labelled_08_18.log',\\\n",
    "               'labelled_08_19.log','labelled_08_20.log','labelled_08_21.log',\\\n",
    "               'labelled_08_22.log','labelled_08_23.log','labelled_08_24.log',\\\n",
    "              ]"
   ]
  },
  {
   "cell_type": "code",
   "execution_count": null,
   "metadata": {},
   "outputs": [
    {
     "name": "stdout",
     "output_type": "stream",
     "text": [
      "labelled_08_10.log\n",
      "preprocess ip:--------0.07497143745422363 seconds ----------\n",
      "size of original file is:250789993, size of malicious ip in conn log file is:1196439 \n",
      "label:--------497.7291190624237 seconds -------\n",
      "labelled_08_11.log\n",
      "preprocess ip:--------0.0668635368347168 seconds ----------\n"
     ]
    }
   ],
   "source": [
    "\n",
    "for i,j in zip(conn_orig,conn_labelled):\n",
    "    print(j)\n",
    "    try:\n",
    "        p=label(i)\n",
    "        temp=p.label(ip_time,outfile=j)\n",
    "        df=pd.DataFrame({'ip':temp})\n",
    "        df.to_csv('malicious_ip_'+j.split('.')[0]+'.csv',index=False)\n",
    "    except:\n",
    "        print('ERROR!!')\n",
    "    \n",
    "    "
   ]
  },
  {
   "cell_type": "code",
   "execution_count": null,
   "metadata": {},
   "outputs": [],
   "source": [
    "#implement sensitivity analysis to decide the best time window\n",
    "def mali_sensitivity(start=10800,end=21600,step=3600):\n",
    "    res=[]\n",
    "    for i in range(start,end,step):      \n",
    "        temp=p.label(ip_time,window=i)\n",
    "        res.append(temp)\n",
    "        print(temp)\n",
    "        print(\"--- %s seconds ---\" %(time.time() - start_time))\n",
    "    return res"
   ]
  },
  {
   "cell_type": "code",
   "execution_count": null,
   "metadata": {},
   "outputs": [],
   "source": [
    "#tiny function to view the log file\n",
    "def view(file,row=100):\n",
    "    f=open(file,'r')\n",
    "\n",
    "    for i in range(row):\n",
    "        line=f.readline().strip()\n",
    "        print(line)\n",
    "    "
   ]
  },
  {
   "cell_type": "code",
   "execution_count": null,
   "metadata": {},
   "outputs": [],
   "source": [
    "#test(conn)"
   ]
  }
 ],
 "metadata": {
  "kernelspec": {
   "display_name": "Python 3",
   "language": "python",
   "name": "python3"
  },
  "language_info": {
   "codemirror_mode": {
    "name": "ipython",
    "version": 3
   },
   "file_extension": ".py",
   "mimetype": "text/x-python",
   "name": "python",
   "nbconvert_exporter": "python",
   "pygments_lexer": "ipython3",
   "version": "3.6.6"
  }
 },
 "nbformat": 4,
 "nbformat_minor": 2
}
