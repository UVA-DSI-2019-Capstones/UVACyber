{
 "cells": [
  {
   "cell_type": "code",
   "execution_count": 1,
   "metadata": {},
   "outputs": [],
   "source": [
    "import numpy as np\n",
    "from sklearn.linear_model import LogisticRegressionCV"
   ]
  },
  {
   "cell_type": "code",
   "execution_count": 2,
   "metadata": {},
   "outputs": [],
   "source": [
    "file='/scratch/by8jj/window_function/labelled_08_10.log'"
   ]
  },
  {
   "cell_type": "code",
   "execution_count": 3,
   "metadata": {},
   "outputs": [],
   "source": [
    "def dataset(file):\n",
    "    f=open(file,'r')\n",
    "\n",
    "    line=f.readline().strip()\n",
    "    uid=[]\n",
    "    duration=[]\n",
    "    orig_bytes=[]\n",
    "    resp_bytes=[]\n",
    "    conn_state=[]\n",
    "    orig_pkts=[]\n",
    "    resp_pkts=[]\n",
    "    local=[]\n",
    "    label=[]\n",
    "\n",
    "    counter=0\n",
    "    flag=0\n",
    "\n",
    "    while counter<=100000:\n",
    "        temp=line.split('\\t')\n",
    "\n",
    "        if temp[6]==\"-\": \n",
    "            line=f.readline().strip()\n",
    "            continue\n",
    "\n",
    "        #uid.append(temp[1])\n",
    "        duration.append(temp[6])\n",
    "        orig_bytes.append(temp[7])\n",
    "        resp_bytes.append(temp[8])\n",
    "        #conn_state.append(temp[9])\n",
    "        orig_pkts.append(temp[11])\n",
    "        resp_pkts.append(temp[12])\n",
    "        local.append(temp[14])\n",
    "        label.append(temp[15])\n",
    "\n",
    "        counter+=1\n",
    "        line=f.readline().strip()\n",
    "    \n",
    "    n=int(len(duration)/8)\n",
    "    test_x=np.matrix([duration[:n], orig_bytes[:n], resp_bytes[:n], \\\n",
    "                       orig_pkts[:n], resp_pkts[:n], local[:n]])\n",
    "    test_y=label[:n]\n",
    "    \n",
    "    "
   ]
  },
  {
   "cell_type": "code",
   "execution_count": null,
   "metadata": {},
   "outputs": [],
   "source": [
    "test_x, test_y, train_x, train_y = dataset(file)"
   ]
  },
  {
   "cell_type": "code",
   "execution_count": 89,
   "metadata": {},
   "outputs": [],
   "source": [
    "X=np.matrix([duration,orig_bytes,resp_bytes, orig_pkts, resp_pkts, local]).T.astype(np.float)"
   ]
  },
  {
   "cell_type": "code",
   "execution_count": 95,
   "metadata": {},
   "outputs": [],
   "source": [
    "clf = LogisticRegressionCV(cv=5, random_state=0, multi_class='multinomial').fit(X, malicious)"
   ]
  },
  {
   "cell_type": "code",
   "execution_count": 96,
   "metadata": {},
   "outputs": [
    {
     "data": {
      "text/plain": [
       "0.8824117588241176"
      ]
     },
     "execution_count": 96,
     "metadata": {},
     "output_type": "execute_result"
    }
   ],
   "source": [
    "clf.score(X,label)"
   ]
  },
  {
   "cell_type": "code",
   "execution_count": null,
   "metadata": {},
   "outputs": [],
   "source": [
    "!conda create -n fastai python=3.6 anaconda"
   ]
  },
  {
   "cell_type": "code",
   "execution_count": null,
   "metadata": {},
   "outputs": [],
   "source": []
  }
 ],
 "metadata": {
  "kernelspec": {
   "display_name": "Python 3",
   "language": "python",
   "name": "python3"
  },
  "language_info": {
   "codemirror_mode": {
    "name": "ipython",
    "version": 3
   },
   "file_extension": ".py",
   "mimetype": "text/x-python",
   "name": "python",
   "nbconvert_exporter": "python",
   "pygments_lexer": "ipython3",
   "version": "3.6.6"
  }
 },
 "nbformat": 4,
 "nbformat_minor": 2
}
