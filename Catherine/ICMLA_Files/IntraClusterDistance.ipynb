{
 "cells": [
  {
   "cell_type": "code",
   "execution_count": 1,
   "metadata": {},
   "outputs": [],
   "source": [
    "# IntraCluster Similarity Measure: Using Ratios of Complete Diameter. Complete diameter is the maximum distance between points in a cluster.\n",
    "# We will use the ratio of complete diameter without anomalies to complete diameter with anomalies"
   ]
  },
  {
   "cell_type": "code",
   "execution_count": 2,
   "metadata": {},
   "outputs": [],
   "source": [
    "import pandas as pd\n",
    "import time\n",
    "from sklearn.svm import OneClassSVM\n",
    "import numpy as np\n",
    "import matplotlib.pyplot as plt\n",
    "from sklearn.metrics import  pairwise "
   ]
  },
  {
   "cell_type": "code",
   "execution_count": 3,
   "metadata": {},
   "outputs": [
    {
     "name": "stdout",
     "output_type": "stream",
     "text": [
      "17.874972343444824\n"
     ]
    }
   ],
   "source": [
    "start = time.time()\n",
    "df = pd.read_csv('CleanedDay3_5mill_RepSamp.csv')\n",
    "end = time.time()\n",
    "print(end - start)"
   ]
  },
  {
   "cell_type": "code",
   "execution_count": 8,
   "metadata": {},
   "outputs": [
    {
     "data": {
      "text/html": [
       "<div>\n",
       "<style scoped>\n",
       "    .dataframe tbody tr th:only-of-type {\n",
       "        vertical-align: middle;\n",
       "    }\n",
       "\n",
       "    .dataframe tbody tr th {\n",
       "        vertical-align: top;\n",
       "    }\n",
       "\n",
       "    .dataframe thead th {\n",
       "        text-align: right;\n",
       "    }\n",
       "</style>\n",
       "<table border=\"1\" class=\"dataframe\">\n",
       "  <thead>\n",
       "    <tr style=\"text-align: right;\">\n",
       "      <th></th>\n",
       "      <th>Unnamed: 0</th>\n",
       "      <th>Unnamed: 0.1</th>\n",
       "      <th>Time</th>\n",
       "      <th>Duration</th>\n",
       "      <th>SrcDevice</th>\n",
       "      <th>DstDevice</th>\n",
       "      <th>Protocol</th>\n",
       "      <th>SrcPort</th>\n",
       "      <th>DstPort</th>\n",
       "      <th>SrcPackets</th>\n",
       "      <th>DstPackets</th>\n",
       "      <th>SrcBytes</th>\n",
       "      <th>DstBytes</th>\n",
       "    </tr>\n",
       "  </thead>\n",
       "  <tbody>\n",
       "    <tr>\n",
       "      <th>1562241</th>\n",
       "      <td>6666529</td>\n",
       "      <td>6704176</td>\n",
       "      <td>175488</td>\n",
       "      <td>0</td>\n",
       "      <td>Comp866402</td>\n",
       "      <td>EnterpriseAppServer</td>\n",
       "      <td>6</td>\n",
       "      <td>Port16949</td>\n",
       "      <td>7004</td>\n",
       "      <td>4</td>\n",
       "      <td>3</td>\n",
       "      <td>216</td>\n",
       "      <td>164</td>\n",
       "    </tr>\n",
       "    <tr>\n",
       "      <th>1202580</th>\n",
       "      <td>47486076</td>\n",
       "      <td>47712638</td>\n",
       "      <td>193703</td>\n",
       "      <td>0</td>\n",
       "      <td>Comp866402</td>\n",
       "      <td>Comp977425</td>\n",
       "      <td>6</td>\n",
       "      <td>Port61759</td>\n",
       "      <td>8080</td>\n",
       "      <td>5</td>\n",
       "      <td>5</td>\n",
       "      <td>277</td>\n",
       "      <td>420</td>\n",
       "    </tr>\n",
       "    <tr>\n",
       "      <th>302414</th>\n",
       "      <td>98417047</td>\n",
       "      <td>99042938</td>\n",
       "      <td>213135</td>\n",
       "      <td>887</td>\n",
       "      <td>Comp137295</td>\n",
       "      <td>Comp852981</td>\n",
       "      <td>6</td>\n",
       "      <td>Port49038</td>\n",
       "      <td>80</td>\n",
       "      <td>5</td>\n",
       "      <td>5</td>\n",
       "      <td>295</td>\n",
       "      <td>409</td>\n",
       "    </tr>\n",
       "    <tr>\n",
       "      <th>3644446</th>\n",
       "      <td>148369031</td>\n",
       "      <td>149429827</td>\n",
       "      <td>232559</td>\n",
       "      <td>60</td>\n",
       "      <td>Comp107130</td>\n",
       "      <td>Comp872738</td>\n",
       "      <td>6</td>\n",
       "      <td>Port94899</td>\n",
       "      <td>443</td>\n",
       "      <td>18</td>\n",
       "      <td>8</td>\n",
       "      <td>10417</td>\n",
       "      <td>1231</td>\n",
       "    </tr>\n",
       "    <tr>\n",
       "      <th>4123189</th>\n",
       "      <td>177137645</td>\n",
       "      <td>178341381</td>\n",
       "      <td>248532</td>\n",
       "      <td>0</td>\n",
       "      <td>Comp257274</td>\n",
       "      <td>Comp261298</td>\n",
       "      <td>6</td>\n",
       "      <td>Port74655</td>\n",
       "      <td>Port79798</td>\n",
       "      <td>6</td>\n",
       "      <td>5</td>\n",
       "      <td>329</td>\n",
       "      <td>1503</td>\n",
       "    </tr>\n",
       "  </tbody>\n",
       "</table>\n",
       "</div>"
      ],
      "text/plain": [
       "         Unnamed: 0  Unnamed: 0.1    Time  Duration   SrcDevice  \\\n",
       "1562241     6666529       6704176  175488         0  Comp866402   \n",
       "1202580    47486076      47712638  193703         0  Comp866402   \n",
       "302414     98417047      99042938  213135       887  Comp137295   \n",
       "3644446   148369031     149429827  232559        60  Comp107130   \n",
       "4123189   177137645     178341381  248532         0  Comp257274   \n",
       "\n",
       "                   DstDevice  Protocol    SrcPort    DstPort  SrcPackets  \\\n",
       "1562241  EnterpriseAppServer         6  Port16949       7004           4   \n",
       "1202580           Comp977425         6  Port61759       8080           5   \n",
       "302414            Comp852981         6  Port49038         80           5   \n",
       "3644446           Comp872738         6  Port94899        443          18   \n",
       "4123189           Comp261298         6  Port74655  Port79798           6   \n",
       "\n",
       "         DstPackets  SrcBytes  DstBytes  \n",
       "1562241           3       216       164  \n",
       "1202580           5       277       420  \n",
       "302414            5       295       409  \n",
       "3644446           8     10417      1231  \n",
       "4123189           5       329      1503  "
      ]
     },
     "execution_count": 8,
     "metadata": {},
     "output_type": "execute_result"
    }
   ],
   "source": [
    "df2 = df.sample(n=1000)\n",
    "df2Num = [['Duration', 'SrcPackets', 'DstPackets', 'SrcBytes', 'DstBytes']]\n",
    "df2.head()"
   ]
  }
 ],
 "metadata": {
  "kernelspec": {
   "display_name": "Python 3",
   "language": "python",
   "name": "python3"
  },
  "language_info": {
   "codemirror_mode": {
    "name": "ipython",
    "version": 3
   },
   "file_extension": ".py",
   "mimetype": "text/x-python",
   "name": "python",
   "nbconvert_exporter": "python",
   "pygments_lexer": "ipython3",
   "version": "3.6.6"
  }
 },
 "nbformat": 4,
 "nbformat_minor": 2
}
