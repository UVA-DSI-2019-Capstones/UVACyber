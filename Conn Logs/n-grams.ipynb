{
 "cells": [
  {
   "cell_type": "code",
   "execution_count": 1,
   "metadata": {},
   "outputs": [],
   "source": [
    "import pandas as pd\n",
    "import numpy as np\n",
    "import re"
   ]
  },
  {
   "cell_type": "code",
   "execution_count": 2,
   "metadata": {},
   "outputs": [
    {
     "name": "stdout",
     "output_type": "stream",
     "text": [
      "/Users/davidroden/Desktop/Capstone\n"
     ]
    }
   ],
   "source": [
    "cd /Users/davidroden/Desktop/Capstone"
   ]
  },
  {
   "cell_type": "code",
   "execution_count": 3,
   "metadata": {},
   "outputs": [],
   "source": [
    "# get command lines from the log and split into timestamp, protocol_ip, and activity \n",
    "res1=[]\n",
    "res2=[]\n",
    "res3=[]\n",
    "ips = []\n",
    "with open('honeypot1.log') as f:\n",
    "    for line in f:\n",
    "        if line.startswith('2018'):\n",
    "            if 'CMD:' in line:\n",
    "                temp=line.split(' ', 2)\n",
    "                res1.append(temp[0])\n",
    "                res2.append(temp[1])\n",
    "                res3.append(temp[2])\n"
   ]
  },
  {
   "cell_type": "code",
   "execution_count": 4,
   "metadata": {},
   "outputs": [],
   "source": [
    "# combine these into dataframe \n",
    "df = pd.DataFrame(\n",
    "    {'timestamp': res1,\n",
    "     'protocol_ip': res2,\n",
    "     'activity': res3\n",
    "    })"
   ]
  },
  {
   "cell_type": "code",
   "execution_count": 5,
   "metadata": {},
   "outputs": [
    {
     "data": {
      "text/html": [
       "<div>\n",
       "<style scoped>\n",
       "    .dataframe tbody tr th:only-of-type {\n",
       "        vertical-align: middle;\n",
       "    }\n",
       "\n",
       "    .dataframe tbody tr th {\n",
       "        vertical-align: top;\n",
       "    }\n",
       "\n",
       "    .dataframe thead th {\n",
       "        text-align: right;\n",
       "    }\n",
       "</style>\n",
       "<table border=\"1\" class=\"dataframe\">\n",
       "  <thead>\n",
       "    <tr style=\"text-align: right;\">\n",
       "      <th></th>\n",
       "      <th>activity</th>\n",
       "      <th>protocol_ip</th>\n",
       "      <th>timestamp</th>\n",
       "    </tr>\n",
       "  </thead>\n",
       "  <tbody>\n",
       "    <tr>\n",
       "      <th>0</th>\n",
       "      <td>CMD: enable\\n</td>\n",
       "      <td>[CowrieTelnetTransport,1,178.128.1.49]</td>\n",
       "      <td>2018-08-03T17:51:13.241160+0000</td>\n",
       "    </tr>\n",
       "    <tr>\n",
       "      <th>1</th>\n",
       "      <td>CMD: system\\n</td>\n",
       "      <td>[CowrieTelnetTransport,1,178.128.1.49]</td>\n",
       "      <td>2018-08-03T17:51:13.450030+0000</td>\n",
       "    </tr>\n",
       "    <tr>\n",
       "      <th>2</th>\n",
       "      <td>CMD: shell\\n</td>\n",
       "      <td>[CowrieTelnetTransport,1,178.128.1.49]</td>\n",
       "      <td>2018-08-03T17:51:13.454167+0000</td>\n",
       "    </tr>\n",
       "    <tr>\n",
       "      <th>3</th>\n",
       "      <td>CMD: sh\\n</td>\n",
       "      <td>[CowrieTelnetTransport,1,178.128.1.49]</td>\n",
       "      <td>2018-08-03T17:51:13.626254+0000</td>\n",
       "    </tr>\n",
       "    <tr>\n",
       "      <th>4</th>\n",
       "      <td>CMD: /bin/busybox MIRAI\\n</td>\n",
       "      <td>[CowrieTelnetTransport,1,178.128.1.49]</td>\n",
       "      <td>2018-08-03T17:51:13.797646+0000</td>\n",
       "    </tr>\n",
       "  </tbody>\n",
       "</table>\n",
       "</div>"
      ],
      "text/plain": [
       "                    activity                             protocol_ip  \\\n",
       "0              CMD: enable\\n  [CowrieTelnetTransport,1,178.128.1.49]   \n",
       "1              CMD: system\\n  [CowrieTelnetTransport,1,178.128.1.49]   \n",
       "2               CMD: shell\\n  [CowrieTelnetTransport,1,178.128.1.49]   \n",
       "3                  CMD: sh\\n  [CowrieTelnetTransport,1,178.128.1.49]   \n",
       "4  CMD: /bin/busybox MIRAI\\n  [CowrieTelnetTransport,1,178.128.1.49]   \n",
       "\n",
       "                         timestamp  \n",
       "0  2018-08-03T17:51:13.241160+0000  \n",
       "1  2018-08-03T17:51:13.450030+0000  \n",
       "2  2018-08-03T17:51:13.454167+0000  \n",
       "3  2018-08-03T17:51:13.626254+0000  \n",
       "4  2018-08-03T17:51:13.797646+0000  "
      ]
     },
     "execution_count": 5,
     "metadata": {},
     "output_type": "execute_result"
    }
   ],
   "source": [
    "pd.set_option('display.max_rows', 500)\n",
    "df.head()"
   ]
  },
  {
   "cell_type": "code",
   "execution_count": 6,
   "metadata": {},
   "outputs": [
    {
     "data": {
      "text/html": [
       "<div>\n",
       "<style scoped>\n",
       "    .dataframe tbody tr th:only-of-type {\n",
       "        vertical-align: middle;\n",
       "    }\n",
       "\n",
       "    .dataframe tbody tr th {\n",
       "        vertical-align: top;\n",
       "    }\n",
       "\n",
       "    .dataframe thead th {\n",
       "        text-align: right;\n",
       "    }\n",
       "</style>\n",
       "<table border=\"1\" class=\"dataframe\">\n",
       "  <thead>\n",
       "    <tr style=\"text-align: right;\">\n",
       "      <th></th>\n",
       "      <th>activity</th>\n",
       "      <th>protocol_ip</th>\n",
       "      <th>timestamp</th>\n",
       "    </tr>\n",
       "  </thead>\n",
       "  <tbody>\n",
       "    <tr>\n",
       "      <th>0</th>\n",
       "      <td>CMD: enable\\n</td>\n",
       "      <td>[CowrieTelnetTransport,1,178.128.1.49]</td>\n",
       "      <td>2018-08-03T17:51:13.241160+0000</td>\n",
       "    </tr>\n",
       "    <tr>\n",
       "      <th>1</th>\n",
       "      <td>CMD: system\\n</td>\n",
       "      <td>[CowrieTelnetTransport,1,178.128.1.49]</td>\n",
       "      <td>2018-08-03T17:51:13.450030+0000</td>\n",
       "    </tr>\n",
       "    <tr>\n",
       "      <th>2</th>\n",
       "      <td>CMD: shell\\n</td>\n",
       "      <td>[CowrieTelnetTransport,1,178.128.1.49]</td>\n",
       "      <td>2018-08-03T17:51:13.454167+0000</td>\n",
       "    </tr>\n",
       "    <tr>\n",
       "      <th>3</th>\n",
       "      <td>CMD: sh\\n</td>\n",
       "      <td>[CowrieTelnetTransport,1,178.128.1.49]</td>\n",
       "      <td>2018-08-03T17:51:13.626254+0000</td>\n",
       "    </tr>\n",
       "    <tr>\n",
       "      <th>4</th>\n",
       "      <td>CMD: /bin/busybox MIRAI\\n</td>\n",
       "      <td>[CowrieTelnetTransport,1,178.128.1.49]</td>\n",
       "      <td>2018-08-03T17:51:13.797646+0000</td>\n",
       "    </tr>\n",
       "  </tbody>\n",
       "</table>\n",
       "</div>"
      ],
      "text/plain": [
       "                    activity                             protocol_ip  \\\n",
       "0              CMD: enable\\n  [CowrieTelnetTransport,1,178.128.1.49]   \n",
       "1              CMD: system\\n  [CowrieTelnetTransport,1,178.128.1.49]   \n",
       "2               CMD: shell\\n  [CowrieTelnetTransport,1,178.128.1.49]   \n",
       "3                  CMD: sh\\n  [CowrieTelnetTransport,1,178.128.1.49]   \n",
       "4  CMD: /bin/busybox MIRAI\\n  [CowrieTelnetTransport,1,178.128.1.49]   \n",
       "\n",
       "                         timestamp  \n",
       "0  2018-08-03T17:51:13.241160+0000  \n",
       "1  2018-08-03T17:51:13.450030+0000  \n",
       "2  2018-08-03T17:51:13.454167+0000  \n",
       "3  2018-08-03T17:51:13.626254+0000  \n",
       "4  2018-08-03T17:51:13.797646+0000  "
      ]
     },
     "execution_count": 6,
     "metadata": {},
     "output_type": "execute_result"
    }
   ],
   "source": [
    "# get rid of non command lines \n",
    "df2 = df[-~df['activity'].str.startswith('CMD')]\n",
    "df2.head()"
   ]
  },
  {
   "cell_type": "code",
   "execution_count": 88,
   "metadata": {},
   "outputs": [],
   "source": [
    "#def regex(input1):\n",
    " #   try:\n",
    "#        ips = [re.search('[0-9]+\\.[0-9]+\\.[0-9]+\\.[0-9]+',input1).group(0) ]\n",
    "#    except:\n",
    "#        ips = \"didn't match\"\n",
    "#    return(ips)\n",
    "#ips = [regex(x) for x in df['protocol_ip']]"
   ]
  },
  {
   "cell_type": "code",
   "execution_count": 7,
   "metadata": {},
   "outputs": [],
   "source": [
    "# get the IPs isolated \n",
    "ips = []\n",
    "ips = [re.search('[0-9]+\\.[0-9]+\\.[0-9]+\\.[0-9]+',x).group(0) for x in df2['protocol_ip'] ]"
   ]
  },
  {
   "cell_type": "code",
   "execution_count": 8,
   "metadata": {},
   "outputs": [
    {
     "name": "stderr",
     "output_type": "stream",
     "text": [
      "/Users/davidroden/anaconda3/lib/python3.6/site-packages/ipykernel_launcher.py:2: SettingWithCopyWarning: \n",
      "A value is trying to be set on a copy of a slice from a DataFrame.\n",
      "Try using .loc[row_indexer,col_indexer] = value instead\n",
      "\n",
      "See the caveats in the documentation: http://pandas.pydata.org/pandas-docs/stable/indexing.html#indexing-view-versus-copy\n",
      "  \n"
     ]
    },
    {
     "data": {
      "text/html": [
       "<div>\n",
       "<style scoped>\n",
       "    .dataframe tbody tr th:only-of-type {\n",
       "        vertical-align: middle;\n",
       "    }\n",
       "\n",
       "    .dataframe tbody tr th {\n",
       "        vertical-align: top;\n",
       "    }\n",
       "\n",
       "    .dataframe thead th {\n",
       "        text-align: right;\n",
       "    }\n",
       "</style>\n",
       "<table border=\"1\" class=\"dataframe\">\n",
       "  <thead>\n",
       "    <tr style=\"text-align: right;\">\n",
       "      <th></th>\n",
       "      <th>activity</th>\n",
       "      <th>protocol_ip</th>\n",
       "      <th>timestamp</th>\n",
       "      <th>ip</th>\n",
       "    </tr>\n",
       "  </thead>\n",
       "  <tbody>\n",
       "    <tr>\n",
       "      <th>0</th>\n",
       "      <td>CMD: enable\\n</td>\n",
       "      <td>[CowrieTelnetTransport,1,178.128.1.49]</td>\n",
       "      <td>2018-08-03T17:51:13.241160+0000</td>\n",
       "      <td>178.128.1.49</td>\n",
       "    </tr>\n",
       "    <tr>\n",
       "      <th>1</th>\n",
       "      <td>CMD: system\\n</td>\n",
       "      <td>[CowrieTelnetTransport,1,178.128.1.49]</td>\n",
       "      <td>2018-08-03T17:51:13.450030+0000</td>\n",
       "      <td>178.128.1.49</td>\n",
       "    </tr>\n",
       "    <tr>\n",
       "      <th>2</th>\n",
       "      <td>CMD: shell\\n</td>\n",
       "      <td>[CowrieTelnetTransport,1,178.128.1.49]</td>\n",
       "      <td>2018-08-03T17:51:13.454167+0000</td>\n",
       "      <td>178.128.1.49</td>\n",
       "    </tr>\n",
       "    <tr>\n",
       "      <th>3</th>\n",
       "      <td>CMD: sh\\n</td>\n",
       "      <td>[CowrieTelnetTransport,1,178.128.1.49]</td>\n",
       "      <td>2018-08-03T17:51:13.626254+0000</td>\n",
       "      <td>178.128.1.49</td>\n",
       "    </tr>\n",
       "    <tr>\n",
       "      <th>4</th>\n",
       "      <td>CMD: /bin/busybox MIRAI\\n</td>\n",
       "      <td>[CowrieTelnetTransport,1,178.128.1.49]</td>\n",
       "      <td>2018-08-03T17:51:13.797646+0000</td>\n",
       "      <td>178.128.1.49</td>\n",
       "    </tr>\n",
       "  </tbody>\n",
       "</table>\n",
       "</div>"
      ],
      "text/plain": [
       "                    activity                             protocol_ip  \\\n",
       "0              CMD: enable\\n  [CowrieTelnetTransport,1,178.128.1.49]   \n",
       "1              CMD: system\\n  [CowrieTelnetTransport,1,178.128.1.49]   \n",
       "2               CMD: shell\\n  [CowrieTelnetTransport,1,178.128.1.49]   \n",
       "3                  CMD: sh\\n  [CowrieTelnetTransport,1,178.128.1.49]   \n",
       "4  CMD: /bin/busybox MIRAI\\n  [CowrieTelnetTransport,1,178.128.1.49]   \n",
       "\n",
       "                         timestamp            ip  \n",
       "0  2018-08-03T17:51:13.241160+0000  178.128.1.49  \n",
       "1  2018-08-03T17:51:13.450030+0000  178.128.1.49  \n",
       "2  2018-08-03T17:51:13.454167+0000  178.128.1.49  \n",
       "3  2018-08-03T17:51:13.626254+0000  178.128.1.49  \n",
       "4  2018-08-03T17:51:13.797646+0000  178.128.1.49  "
      ]
     },
     "execution_count": 8,
     "metadata": {},
     "output_type": "execute_result"
    }
   ],
   "source": [
    "# append the IPs to the dataframe\n",
    "df2['ip'] = ips\n",
    "df2.head()"
   ]
  },
  {
   "cell_type": "code",
   "execution_count": 14,
   "metadata": {},
   "outputs": [
    {
     "data": {
      "text/html": [
       "<div>\n",
       "<style scoped>\n",
       "    .dataframe tbody tr th:only-of-type {\n",
       "        vertical-align: middle;\n",
       "    }\n",
       "\n",
       "    .dataframe tbody tr th {\n",
       "        vertical-align: top;\n",
       "    }\n",
       "\n",
       "    .dataframe thead th {\n",
       "        text-align: right;\n",
       "    }\n",
       "</style>\n",
       "<table border=\"1\" class=\"dataframe\">\n",
       "  <thead>\n",
       "    <tr style=\"text-align: right;\">\n",
       "      <th></th>\n",
       "      <th>activity</th>\n",
       "    </tr>\n",
       "    <tr>\n",
       "      <th>ip</th>\n",
       "      <th></th>\n",
       "    </tr>\n",
       "  </thead>\n",
       "  <tbody>\n",
       "    <tr>\n",
       "      <th>1.1.155.114</th>\n",
       "      <td>CMD: enable\\n,CMD: system\\n,CMD: shell\\n,CMD: sh\\n,CMD: cat /proc/mounts; /bin/busybox DXQIH\\n,CMD: cd /dev/shm; cat .s || cp /bin/echo .s; /bin/busybox DXQIH\\n,CMD: tftp; wget; /bin/busybox DXQIH\\n,CMD: dd bs=52 count=1 if=.s || cat .s || while read i; do echo $i; done &lt; .s\\n,CMD: /bin/busybox DXQIH\\n,CMD: rm .s; exit\\n</td>\n",
       "    </tr>\n",
       "    <tr>\n",
       "      <th>1.11.244.80</th>\n",
       "      <td>CMD: enable\\n,CMD: system\\n,CMD: shell\\n,CMD: sh\\n,CMD: /bin/busybox JOSHO\\n</td>\n",
       "    </tr>\n",
       "    <tr>\n",
       "      <th>1.190.166.165</th>\n",
       "      <td>CMD: enable\\n,CMD: system\\n,CMD: shell\\n,CMD: sh\\n,CMD: /bin/busybox 6cErVFJd \\n,CMD: /bin/busybox cat /proc/mounts; /bin/busybox 6cErVFJd \\n,CMD: /bin/busybox echo -e '\\x50\\x6f\\x72\\x74/' &gt; //.none; /bin/busybox cat //.none; /bin/busybox rm //.none\\n,CMD: /bin/busybox echo -e '\\x50\\x6f\\x72\\x74/sys' &gt; /sys/.none; /bin/busybox cat /sys/.none; /bin/busybox rm /sys/.none\\n,CMD: /bin/busybox echo -e '\\x50\\x6f\\x72\\x74/proc' &gt; /proc/.none; /bin/busybox cat /proc/.none; /bin/busybox rm /proc/.none\\n,CMD: /bin/busybox echo -e '\\x50\\x6f\\x72\\x74/dev' &gt; /dev/.none; /bin/busybox cat /dev/.none; /bin/busybox rm /dev/.none\\n,CMD: /bin/busybox echo -e '\\x50\\x6f\\x72\\x74/dev/pts' &gt; /dev/pts/.none; /bin/busybox cat /dev/pts/.none; /bin/busybox rm /dev/pts/.none\\n,CMD: /bin/busybox echo -e '\\x50\\x6f\\x72\\x74/run' &gt; /run/.none; /bin/busybox cat /run/.none; /bin/busybox rm /run/.none\\n,CMD: /bin/busybox echo -e '\\x50\\x6f\\x72\\x74/' &gt; //.none; /bin/busybox cat //.none; /bin/busybox rm //.none\\n,CMD: /bin/busybox echo -e '\\x50\\x6f\\x72\\x74/dev/shm' &gt; /dev/shm/.none; /bin/busybox cat /dev/shm/.none; /bin/busybox rm /dev/shm/.none\\n,CMD: /bin/busybox echo -e '\\x50\\x6f\\x72\\x74/run/lock' &gt; /run/lock/.none; /bin/busybox cat /run/lock/.none; /bin/busybox rm /run/lock/.none\\n,CMD: /bin/busybox echo -e '\\x50\\x6f\\x72\\x74/proc/sys/fs/binfmt_misc' &gt; /proc/sys/fs/binfmt_misc/.none; /bin/busybox cat /proc/sys/fs/binfmt_misc/.none; /bin/busybox rm /proc/sys/fs/binfmt_misc/.none\\n,CMD: /bin/busybox echo -e '\\x50\\x6f\\x72\\x74/sys/fs/fuse/connections' &gt; /sys/fs/fuse/connections/.none; /bin/busybox cat /sys/fs/fuse/connections/.none; /bin/busybox rm /sys/fs/fuse/connections/.none\\n,CMD: /bin/busybox echo -e '\\x50\\x6f\\x72\\x74/boot' &gt; /boot/.none; /bin/busybox cat /boot/.none; /bin/busybox rm /boot/.none\\n,CMD: /bin/busybox echo -e '\\x50\\x6f\\x72\\x74/home' &gt; /home/.none; /bin/busybox cat /home/.none; /bin/busybox rm /home/.none\\n,CMD: /bin/busybox echo -e '\\x50\\x6f\\x72\\x74/proc/sys/fs/binfmt_misc' &gt; /proc/sys/fs/binfmt_misc/.none; /bin/busybox cat /proc/sys/fs/binfmt_misc/.none; /bin/busybox rm /proc/sys/fs/binfmt_misc/.none\\n,CMD: /bin/busybox echo -e '\\x50\\x6f\\x72\\x74/tmp' &gt; /tmp/.none; /bin/busybox cat /tmp/.none; /bin/busybox rm /tmp/.none\\n,CMD: /bin/busybox echo -e '\\x50\\x6f\\x72\\x74/dev' &gt; /dev/.none; /bin/busybox cat /dev/.none; /bin/busybox rm /dev/.none\\n,CMD: /bin/busybox 6cErVFJd \\n,CMD: rm //.t; rm //.sh; rm //.human\\n,CMD: rm /sys/.t; rm /sys/.sh; rm /sys/.human\\n,CMD: rm /run/.t; rm /run/.sh; rm /run/.human\\n,CMD: rm /run/lock/.t; rm /run/lock/.sh; rm /run/lock/.human\\n,CMD: rm /proc/sys/fs/binfmt_misc/.t; rm /proc/sys/fs/binfmt_misc/.sh; rm /proc/sys/fs/binfmt_misc/.human\\n,CMD: rm /boot/.t; rm /boot/.sh; rm /boot/.human\\n,CMD: rm /proc/sys/fs/binfmt_misc/.t; rm /proc/sys/fs/binfmt_misc/.sh; rm /proc/sys/fs/binfmt_misc/.human\\n,CMD: rm /proc/sys/fs/binfmt_misc/.t; rm /proc/sys/fs/binfmt_misc/.sh; rm /proc/sys/fs/binfmt_misc/.human\\n,CMD: rm /dev/.t; rm /dev/.sh; rm /dev/.human\\n,CMD: cd /dev/\\n,CMD: /bin/busybox cp /bin/echo yf ; &gt;yf; /bin/busybox chmod 777 yf; /bin/busybox 6cErVFJd \\n,CMD: /bin/busybox cat /bin/echo\\n,CMD: /bin/busybox 6cErVFJd \\n,CMD: /bin/busybox echo b1d4Q21CSAo=|base64 -d;/bin/busybox echo UHRGSnpYcAo=|openssl base64 -d;/bin/busybox echo -ne '\\xdd\\x00\\x09\\x0a';echo -ne '\\x55\\x0d\\xaa';uudecode&lt;&lt;~\\n,CMD: begin 644 -\\n,CMD: ':\"&lt;];#=!&gt;```\\n,CMD: `\\n,CMD: end\\n,CMD: ~\\n,CMD: /bin/busybox 6cErVFJd \\n</td>\n",
       "    </tr>\n",
       "    <tr>\n",
       "      <th>1.190.31.127</th>\n",
       "      <td>CMD: enable\\n,CMD: system\\n,CMD: shell\\n,CMD: sh\\n,CMD: /bin/busybox Cult\\n,CMD: enable\\n,CMD: system\\n,CMD: shell\\n,CMD: sh\\n,CMD: /bin/busybox Cult\\n</td>\n",
       "    </tr>\n",
       "    <tr>\n",
       "      <th>1.205.231.187</th>\n",
       "      <td>CMD: enable\\n,CMD: system\\n,CMD: shell\\n,CMD: sh\\n,CMD: /bin/busybox Kazen\\n</td>\n",
       "    </tr>\n",
       "  </tbody>\n",
       "</table>\n",
       "</div>"
      ],
      "text/plain": [
       "                                                                                                                                                                                                                                                                                                                                                                                                                                                                                                                                                                                                                                                                                                                                                                                                                                                                                                                                                                                                                                                                                                                                                                                                                                                                                                                                                                                                                                                                                                                                                                                                                                                                                                                                                                                                                                                                                                                                                                                                                                                                                                                                                                                                                                                                                                                                                                                                                                                                                                                                                                                                                                                                                                                                                                                                                                                                                                                                                                                                                                                                                                                                                                                                                                                                                                                                                                                                                                                                                                                                                                                            activity\n",
       "ip                                                                                                                                                                                                                                                                                                                                                                                                                                                                                                                                                                                                                                                                                                                                                                                                                                                                                                                                                                                                                                                                                                                                                                                                                                                                                                                                                                                                                                                                                                                                                                                                                                                                                                                                                                                                                                                                                                                                                                                                                                                                                                                                                                                                                                                                                                                                                                                                                                                                                                                                                                                                                                                                                                                                                                                                                                                                                                                                                                                                                                                                                                                                                                                                                                                                                                                                                                                                                                                                                                                                                                                                  \n",
       "1.1.155.114    CMD: enable\\n,CMD: system\\n,CMD: shell\\n,CMD: sh\\n,CMD: cat /proc/mounts; /bin/busybox DXQIH\\n,CMD: cd /dev/shm; cat .s || cp /bin/echo .s; /bin/busybox DXQIH\\n,CMD: tftp; wget; /bin/busybox DXQIH\\n,CMD: dd bs=52 count=1 if=.s || cat .s || while read i; do echo $i; done < .s\\n,CMD: /bin/busybox DXQIH\\n,CMD: rm .s; exit\\n                                                                                                                                                                                                                                                                                                                                                                                                                                                                                                                                                                                                                                                                                                                                                                                                                                                                                                                                                                                                                                                                                                                                                                                                                                                                                                                                                                                                                                                                                                                                                                                                                                                                                                                                                                                                                                                                                                                                                                                                                                                                                                                                                                                                                                                                                                                                                                                                                                                                                                                                                                                                                                                                                                                                                                                                                                                                                                                                                                                                                                                                                                                                                                                                                                                   \n",
       "1.11.244.80    CMD: enable\\n,CMD: system\\n,CMD: shell\\n,CMD: sh\\n,CMD: /bin/busybox JOSHO\\n                                                                                                                                                                                                                                                                                                                                                                                                                                                                                                                                                                                                                                                                                                                                                                                                                                                                                                                                                                                                                                                                                                                                                                                                                                                                                                                                                                                                                                                                                                                                                                                                                                                                                                                                                                                                                                                                                                                                                                                                                                                                                                                                                                                                                                                                                                                                                                                                                                                                                                                                                                                                                                                                                                                                                                                                                                                                                                                                                                                                                                                                                                                                                                                                                                                                                                                                                                                                                                                                                                         \n",
       "1.190.166.165  CMD: enable\\n,CMD: system\\n,CMD: shell\\n,CMD: sh\\n,CMD: /bin/busybox 6cErVFJd \\n,CMD: /bin/busybox cat /proc/mounts; /bin/busybox 6cErVFJd \\n,CMD: /bin/busybox echo -e '\\x50\\x6f\\x72\\x74/' > //.none; /bin/busybox cat //.none; /bin/busybox rm //.none\\n,CMD: /bin/busybox echo -e '\\x50\\x6f\\x72\\x74/sys' > /sys/.none; /bin/busybox cat /sys/.none; /bin/busybox rm /sys/.none\\n,CMD: /bin/busybox echo -e '\\x50\\x6f\\x72\\x74/proc' > /proc/.none; /bin/busybox cat /proc/.none; /bin/busybox rm /proc/.none\\n,CMD: /bin/busybox echo -e '\\x50\\x6f\\x72\\x74/dev' > /dev/.none; /bin/busybox cat /dev/.none; /bin/busybox rm /dev/.none\\n,CMD: /bin/busybox echo -e '\\x50\\x6f\\x72\\x74/dev/pts' > /dev/pts/.none; /bin/busybox cat /dev/pts/.none; /bin/busybox rm /dev/pts/.none\\n,CMD: /bin/busybox echo -e '\\x50\\x6f\\x72\\x74/run' > /run/.none; /bin/busybox cat /run/.none; /bin/busybox rm /run/.none\\n,CMD: /bin/busybox echo -e '\\x50\\x6f\\x72\\x74/' > //.none; /bin/busybox cat //.none; /bin/busybox rm //.none\\n,CMD: /bin/busybox echo -e '\\x50\\x6f\\x72\\x74/dev/shm' > /dev/shm/.none; /bin/busybox cat /dev/shm/.none; /bin/busybox rm /dev/shm/.none\\n,CMD: /bin/busybox echo -e '\\x50\\x6f\\x72\\x74/run/lock' > /run/lock/.none; /bin/busybox cat /run/lock/.none; /bin/busybox rm /run/lock/.none\\n,CMD: /bin/busybox echo -e '\\x50\\x6f\\x72\\x74/proc/sys/fs/binfmt_misc' > /proc/sys/fs/binfmt_misc/.none; /bin/busybox cat /proc/sys/fs/binfmt_misc/.none; /bin/busybox rm /proc/sys/fs/binfmt_misc/.none\\n,CMD: /bin/busybox echo -e '\\x50\\x6f\\x72\\x74/sys/fs/fuse/connections' > /sys/fs/fuse/connections/.none; /bin/busybox cat /sys/fs/fuse/connections/.none; /bin/busybox rm /sys/fs/fuse/connections/.none\\n,CMD: /bin/busybox echo -e '\\x50\\x6f\\x72\\x74/boot' > /boot/.none; /bin/busybox cat /boot/.none; /bin/busybox rm /boot/.none\\n,CMD: /bin/busybox echo -e '\\x50\\x6f\\x72\\x74/home' > /home/.none; /bin/busybox cat /home/.none; /bin/busybox rm /home/.none\\n,CMD: /bin/busybox echo -e '\\x50\\x6f\\x72\\x74/proc/sys/fs/binfmt_misc' > /proc/sys/fs/binfmt_misc/.none; /bin/busybox cat /proc/sys/fs/binfmt_misc/.none; /bin/busybox rm /proc/sys/fs/binfmt_misc/.none\\n,CMD: /bin/busybox echo -e '\\x50\\x6f\\x72\\x74/tmp' > /tmp/.none; /bin/busybox cat /tmp/.none; /bin/busybox rm /tmp/.none\\n,CMD: /bin/busybox echo -e '\\x50\\x6f\\x72\\x74/dev' > /dev/.none; /bin/busybox cat /dev/.none; /bin/busybox rm /dev/.none\\n,CMD: /bin/busybox 6cErVFJd \\n,CMD: rm //.t; rm //.sh; rm //.human\\n,CMD: rm /sys/.t; rm /sys/.sh; rm /sys/.human\\n,CMD: rm /run/.t; rm /run/.sh; rm /run/.human\\n,CMD: rm /run/lock/.t; rm /run/lock/.sh; rm /run/lock/.human\\n,CMD: rm /proc/sys/fs/binfmt_misc/.t; rm /proc/sys/fs/binfmt_misc/.sh; rm /proc/sys/fs/binfmt_misc/.human\\n,CMD: rm /boot/.t; rm /boot/.sh; rm /boot/.human\\n,CMD: rm /proc/sys/fs/binfmt_misc/.t; rm /proc/sys/fs/binfmt_misc/.sh; rm /proc/sys/fs/binfmt_misc/.human\\n,CMD: rm /proc/sys/fs/binfmt_misc/.t; rm /proc/sys/fs/binfmt_misc/.sh; rm /proc/sys/fs/binfmt_misc/.human\\n,CMD: rm /dev/.t; rm /dev/.sh; rm /dev/.human\\n,CMD: cd /dev/\\n,CMD: /bin/busybox cp /bin/echo yf ; >yf; /bin/busybox chmod 777 yf; /bin/busybox 6cErVFJd \\n,CMD: /bin/busybox cat /bin/echo\\n,CMD: /bin/busybox 6cErVFJd \\n,CMD: /bin/busybox echo b1d4Q21CSAo=|base64 -d;/bin/busybox echo UHRGSnpYcAo=|openssl base64 -d;/bin/busybox echo -ne '\\xdd\\x00\\x09\\x0a';echo -ne '\\x55\\x0d\\xaa';uudecode<<~\\n,CMD: begin 644 -\\n,CMD: ':\"<];#=!>```\\n,CMD: `\\n,CMD: end\\n,CMD: ~\\n,CMD: /bin/busybox 6cErVFJd \\n\n",
       "1.190.31.127   CMD: enable\\n,CMD: system\\n,CMD: shell\\n,CMD: sh\\n,CMD: /bin/busybox Cult\\n,CMD: enable\\n,CMD: system\\n,CMD: shell\\n,CMD: sh\\n,CMD: /bin/busybox Cult\\n                                                                                                                                                                                                                                                                                                                                                                                                                                                                                                                                                                                                                                                                                                                                                                                                                                                                                                                                                                                                                                                                                                                                                                                                                                                                                                                                                                                                                                                                                                                                                                                                                                                                                                                                                                                                                                                                                                                                                                                                                                                                                                                                                                                                                                                                                                                                                                                                                                                                                                                                                                                                                                                                                                                                                                                                                                                                                                                                                                                                                                                                                                                                                                                                                                                                                                                                                                                                                              \n",
       "1.205.231.187  CMD: enable\\n,CMD: system\\n,CMD: shell\\n,CMD: sh\\n,CMD: /bin/busybox Kazen\\n                                                                                                                                                                                                                                                                                                                                                                                                                                                                                                                                                                                                                                                                                                                                                                                                                                                                                                                                                                                                                                                                                                                                                                                                                                                                                                                                                                                                                                                                                                                                                                                                                                                                                                                                                                                                                                                                                                                                                                                                                                                                                                                                                                                                                                                                                                                                                                                                                                                                                                                                                                                                                                                                                                                                                                                                                                                                                                                                                                                                                                                                                                                                                                                                                                                                                                                                                                                                                                                                                                         "
      ]
     },
     "execution_count": 14,
     "metadata": {},
     "output_type": "execute_result"
    }
   ],
   "source": [
    "pd.set_option('display.max_colwidth', -1)\n",
    "#df3 = pd.DataFrame(df2.groupby('ip')['activity'].apply(','.join))\n",
    "df3.head()"
   ]
  },
  {
   "cell_type": "code",
   "execution_count": null,
   "metadata": {},
   "outputs": [],
   "source": []
  }
 ],
 "metadata": {
  "kernelspec": {
   "display_name": "Python 3",
   "language": "python",
   "name": "python3"
  },
  "language_info": {
   "codemirror_mode": {
    "name": "ipython",
    "version": 3
   },
   "file_extension": ".py",
   "mimetype": "text/x-python",
   "name": "python",
   "nbconvert_exporter": "python",
   "pygments_lexer": "ipython3",
   "version": "3.6.4"
  }
 },
 "nbformat": 4,
 "nbformat_minor": 2
}
