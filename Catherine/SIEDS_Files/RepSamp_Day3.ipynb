{
 "cells": [
  {
   "cell_type": "code",
   "execution_count": 1,
   "metadata": {},
   "outputs": [],
   "source": [
    "# Creating a Representative Random Sample of Netflow Day 3"
   ]
  },
  {
   "cell_type": "code",
   "execution_count": 2,
   "metadata": {},
   "outputs": [],
   "source": [
    "import pandas as pd\n",
    "import time\n",
    "import numpy as np"
   ]
  },
  {
   "cell_type": "code",
   "execution_count": 3,
   "metadata": {},
   "outputs": [
    {
     "name": "stdout",
     "output_type": "stream",
     "text": [
      "585.5403037071228\n"
     ]
    }
   ],
   "source": [
    "# Reading in the entire day 3\n",
    "start = time.time()\n",
    "df = pd.read_csv('Netflow_Day3.csv')\n",
    "end = time.time()\n",
    "print(end - start)"
   ]
  },
  {
   "cell_type": "code",
   "execution_count": 4,
   "metadata": {},
   "outputs": [],
   "source": [
    "# Finding the medians and standard deviations of every numerical column\n",
    "medians = df[[\"Duration\", \"SrcPackets\", \"DstPackets\", \"SrcBytes\", \"DstBytes\"]].median().values.tolist()\n",
    "stds = df[[\"Duration\", \"SrcPackets\", \"DstPackets\", \"SrcBytes\", \"DstBytes\"]].std().values.tolist()"
   ]
  },
  {
   "cell_type": "code",
   "execution_count": 7,
   "metadata": {},
   "outputs": [
    {
     "name": "stdout",
     "output_type": "stream",
     "text": [
      "[1.0, 1.0, 1.0, 127.0, 46.0]\n",
      "[4942.002763597163, 214051.9454100448, 90071.60008318308, 18690471.338024955, 30772756.722738374]\n"
     ]
    }
   ],
   "source": [
    "print(medians)\n",
    "print(stds)"
   ]
  },
  {
   "cell_type": "code",
   "execution_count": 8,
   "metadata": {},
   "outputs": [
    {
     "name": "stdout",
     "output_type": "stream",
     "text": [
      "34.20503497123718\n"
     ]
    }
   ],
   "source": [
    "# Looping until the random sample is representative\n",
    "start = time.time()\n",
    "df2 = df.sample(n=20000000, replace=False, random_state=941996)\n",
    "medians2 = df2[[\"Duration\", \"SrcPackets\", \"DstPackets\", \"SrcBytes\", \"DstBytes\"]].median().values.tolist()\n",
    "error = np.absolute(np.subtract(medians2, medians))\n",
    "end = time.time()\n",
    "print(end - start)"
   ]
  },
  {
   "cell_type": "code",
   "execution_count": 11,
   "metadata": {},
   "outputs": [
    {
     "name": "stdout",
     "output_type": "stream",
     "text": [
      "6.0785088539123535\n"
     ]
    }
   ],
   "source": [
    "start = time.time()\n",
    "means = df[[\"Duration\", \"SrcPackets\", \"DstPackets\", \"SrcBytes\", \"DstBytes\"]].mean().values.tolist()\n",
    "means2 = df2[[\"Duration\", \"SrcPackets\", \"DstPackets\", \"SrcBytes\", \"DstBytes\"]].mean().values.tolist()\n",
    "end = time.time()\n",
    "print(end - start)"
   ]
  },
  {
   "cell_type": "code",
   "execution_count": 15,
   "metadata": {},
   "outputs": [
    {
     "name": "stdout",
     "output_type": "stream",
     "text": [
      "[1.0, 1.0, 1.0, 127.0, 46.0]\n",
      "[1.0, 1.0, 1.0, 127.0, 46.0]\n",
      "[207.61747631152298, 149.08400119757664, 127.96313501695411, 35781.67880876201, 98713.26190450841]\n",
      "[207.0470817, 190.3422545, 177.0898606, 38412.73646705, 106923.42237135]\n"
     ]
    }
   ],
   "source": [
    "print(medians)\n",
    "print(medians2)\n",
    "print(means)\n",
    "print(means2)"
   ]
  },
  {
   "cell_type": "code",
   "execution_count": 17,
   "metadata": {},
   "outputs": [
    {
     "name": "stdout",
     "output_type": "stream",
     "text": [
      "213.615793466568\n"
     ]
    }
   ],
   "source": [
    "# The sample is representative. Saving it to a csv.\n",
    "start = time.time()\n",
    "df2.to_csv(\"RepresentativeSample_20million.csv\")\n",
    "end = time.time()\n",
    "print(end - start)"
   ]
  },
  {
   "cell_type": "code",
   "execution_count": 18,
   "metadata": {},
   "outputs": [
    {
     "name": "stdout",
     "output_type": "stream",
     "text": [
      "27.84826636314392\n"
     ]
    }
   ],
   "source": [
    "# Taking a representative sample of 10 million in case 20 is too large to run\n",
    "start = time.time()\n",
    "df3 = df.sample(n=10000000, replace=False, random_state=941996)\n",
    "medians3 = df3[[\"Duration\", \"SrcPackets\", \"DstPackets\", \"SrcBytes\", \"DstBytes\"]].median().values.tolist()\n",
    "error = np.absolute(np.subtract(medians3, medians))\n",
    "end = time.time()\n",
    "print(end - start)"
   ]
  },
  {
   "cell_type": "code",
   "execution_count": 19,
   "metadata": {},
   "outputs": [],
   "source": [
    "means3 = df3[[\"Duration\", \"SrcPackets\", \"DstPackets\", \"SrcBytes\", \"DstBytes\"]].mean().values.tolist()"
   ]
  },
  {
   "cell_type": "code",
   "execution_count": 20,
   "metadata": {},
   "outputs": [
    {
     "name": "stdout",
     "output_type": "stream",
     "text": [
      "[1.0, 1.0, 1.0, 127.0, 46.0]\n",
      "[1.0, 1.0, 1.0, 127.0, 46.0]\n",
      "[207.61747631152298, 149.08400119757664, 127.96313501695411, 35781.67880876201, 98713.26190450841]\n",
      "[207.1418571, 293.0908662, 222.2598664, 45388.4963973, 117747.7346244]\n"
     ]
    }
   ],
   "source": [
    "print(medians)\n",
    "print(medians3)\n",
    "print(means)\n",
    "print(means3)"
   ]
  },
  {
   "cell_type": "code",
   "execution_count": 21,
   "metadata": {},
   "outputs": [
    {
     "name": "stdout",
     "output_type": "stream",
     "text": [
      "111.25284361839294\n"
     ]
    }
   ],
   "source": [
    "# This sample is also representative. Saving it to a csv.\n",
    "start = time.time()\n",
    "df3.to_csv(\"RepresentativeSample_10million.csv\")\n",
    "end = time.time()\n",
    "print(end - start)"
   ]
  }
 ],
 "metadata": {
  "kernelspec": {
   "display_name": "Python 3",
   "language": "python",
   "name": "python3"
  },
  "language_info": {
   "codemirror_mode": {
    "name": "ipython",
    "version": 3
   },
   "file_extension": ".py",
   "mimetype": "text/x-python",
   "name": "python",
   "nbconvert_exporter": "python",
   "pygments_lexer": "ipython3",
   "version": "3.6.6"
  }
 },
 "nbformat": 4,
 "nbformat_minor": 2
}
