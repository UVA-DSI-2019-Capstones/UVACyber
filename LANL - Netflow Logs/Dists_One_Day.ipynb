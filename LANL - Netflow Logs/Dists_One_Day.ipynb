{
 "cells": [
  {
   "cell_type": "code",
   "execution_count": 1,
   "metadata": {},
   "outputs": [],
   "source": [
    "# Finding the distances over one day"
   ]
  },
  {
   "cell_type": "code",
   "execution_count": 2,
   "metadata": {},
   "outputs": [],
   "source": [
    "import pandas as pd    \n",
    "import math\n",
    "import numpy as np\n",
    "from copy import deepcopy\n",
    "import random\n",
    "import time\n",
    "import multiprocessing \n",
    "import gc\n",
    "from multiprocessing import Pool\n",
    "import matplotlib.pyplot as plt\n",
    "import os\n",
    "import psutil"
   ]
  },
  {
   "cell_type": "code",
   "execution_count": 3,
   "metadata": {},
   "outputs": [
    {
     "name": "stdout",
     "output_type": "stream",
     "text": [
      "61.535584688186646\n"
     ]
    }
   ],
   "source": [
    "# Reading in the data\n",
    "start = time.time()\n",
    "df = pd.read_csv('Netflow_Day2_with_Clusters_NoDeviceOrPort.csv') \n",
    "# above csv is for one day of data inclusing cluster assignment except I deleted four columns I don't need for time/ memory reasons\n",
    "end = time.time()\n",
    "print(end - start)"
   ]
  },
  {
   "cell_type": "code",
   "execution_count": 4,
   "metadata": {},
   "outputs": [
    {
     "data": {
      "text/html": [
       "<div>\n",
       "<style scoped>\n",
       "    .dataframe tbody tr th:only-of-type {\n",
       "        vertical-align: middle;\n",
       "    }\n",
       "\n",
       "    .dataframe tbody tr th {\n",
       "        vertical-align: top;\n",
       "    }\n",
       "\n",
       "    .dataframe thead th {\n",
       "        text-align: right;\n",
       "    }\n",
       "</style>\n",
       "<table border=\"1\" class=\"dataframe\">\n",
       "  <thead>\n",
       "    <tr style=\"text-align: right;\">\n",
       "      <th></th>\n",
       "      <th>Unnamed: 0</th>\n",
       "      <th>Time</th>\n",
       "      <th>Duration</th>\n",
       "      <th>Protocol</th>\n",
       "      <th>SrcPackets</th>\n",
       "      <th>DstPackets</th>\n",
       "      <th>SrcBytes</th>\n",
       "      <th>DstBytes</th>\n",
       "      <th>ClusterAssign</th>\n",
       "    </tr>\n",
       "  </thead>\n",
       "  <tbody>\n",
       "    <tr>\n",
       "      <th>0</th>\n",
       "      <td>0</td>\n",
       "      <td>118781</td>\n",
       "      <td>5580</td>\n",
       "      <td>17</td>\n",
       "      <td>0</td>\n",
       "      <td>755065</td>\n",
       "      <td>0</td>\n",
       "      <td>1042329018</td>\n",
       "      <td>2</td>\n",
       "    </tr>\n",
       "    <tr>\n",
       "      <th>1</th>\n",
       "      <td>1</td>\n",
       "      <td>118783</td>\n",
       "      <td>6976</td>\n",
       "      <td>6</td>\n",
       "      <td>1665</td>\n",
       "      <td>1108</td>\n",
       "      <td>300810</td>\n",
       "      <td>250408</td>\n",
       "      <td>1</td>\n",
       "    </tr>\n",
       "    <tr>\n",
       "      <th>2</th>\n",
       "      <td>2</td>\n",
       "      <td>118785</td>\n",
       "      <td>262319</td>\n",
       "      <td>17</td>\n",
       "      <td>28257</td>\n",
       "      <td>0</td>\n",
       "      <td>23149303</td>\n",
       "      <td>0</td>\n",
       "      <td>0</td>\n",
       "    </tr>\n",
       "    <tr>\n",
       "      <th>3</th>\n",
       "      <td>3</td>\n",
       "      <td>118841</td>\n",
       "      <td>5071</td>\n",
       "      <td>17</td>\n",
       "      <td>0</td>\n",
       "      <td>387956</td>\n",
       "      <td>0</td>\n",
       "      <td>528637071</td>\n",
       "      <td>2</td>\n",
       "    </tr>\n",
       "    <tr>\n",
       "      <th>4</th>\n",
       "      <td>4</td>\n",
       "      <td>118843</td>\n",
       "      <td>86909</td>\n",
       "      <td>17</td>\n",
       "      <td>17015</td>\n",
       "      <td>21155</td>\n",
       "      <td>1429260</td>\n",
       "      <td>1946260</td>\n",
       "      <td>1</td>\n",
       "    </tr>\n",
       "  </tbody>\n",
       "</table>\n",
       "</div>"
      ],
      "text/plain": [
       "   Unnamed: 0    Time  Duration  Protocol  SrcPackets  DstPackets  SrcBytes  \\\n",
       "0           0  118781      5580        17           0      755065         0   \n",
       "1           1  118783      6976         6        1665        1108    300810   \n",
       "2           2  118785    262319        17       28257           0  23149303   \n",
       "3           3  118841      5071        17           0      387956         0   \n",
       "4           4  118843     86909        17       17015       21155   1429260   \n",
       "\n",
       "     DstBytes  ClusterAssign  \n",
       "0  1042329018              2  \n",
       "1      250408              1  \n",
       "2           0              0  \n",
       "3   528637071              2  \n",
       "4     1946260              1  "
      ]
     },
     "execution_count": 4,
     "metadata": {},
     "output_type": "execute_result"
    }
   ],
   "source": [
    "df.head()"
   ]
  },
  {
   "cell_type": "code",
   "execution_count": 5,
   "metadata": {},
   "outputs": [],
   "source": [
    "# Casting Protocol as an int (rather than a category) so that adding the slope cluster assignment and the protocol number\n",
    "# gives distinct values for the final cluster assignments, without doing a lot of computation\n",
    "df[\"Protocol\"] = df[\"Protocol\"].astype(int)"
   ]
  },
  {
   "cell_type": "code",
   "execution_count": 6,
   "metadata": {},
   "outputs": [],
   "source": [
    "# Finding the final cluster assignments and saving the final cluster assignments as a column in the dataframe\n",
    "finalCluster = df[\"Protocol\"] + df[\"ClusterAssign\"]\n",
    "df[\"FinalCluster\"] = finalCluster"
   ]
  },
  {
   "cell_type": "code",
   "execution_count": 7,
   "metadata": {},
   "outputs": [
    {
     "data": {
      "text/plain": [
       "{1, 6, 7, 8, 17, 18, 19}"
      ]
     },
     "execution_count": 7,
     "metadata": {},
     "output_type": "execute_result"
    }
   ],
   "source": [
    "set(df[\"FinalCluster\"])"
   ]
  },
  {
   "cell_type": "code",
   "execution_count": 8,
   "metadata": {},
   "outputs": [],
   "source": [
    "# Log Transforming all Numerical Variables\n",
    "df['Duration'] = np.log(df['Duration'].loc[df['Duration'] != 0])\n",
    "df['SrcPackets'] = np.log(df['SrcPackets'].loc[df['SrcPackets'] != 0])\n",
    "df['DstPackets'] = np.log(df['DstPackets'].loc[df['DstPackets'] != 0])\n",
    "df['SrcBytes'] = np.log(df['SrcBytes'].loc[df['SrcBytes'] != 0])\n",
    "df['DstBytes'] = np.log(df['DstBytes'].loc[df['DstBytes'] != 0])"
   ]
  },
  {
   "cell_type": "code",
   "execution_count": 9,
   "metadata": {},
   "outputs": [],
   "source": [
    "df['Duration'] = np.nan_to_num(df['Duration'])\n",
    "df['SrcPackets'] = np.nan_to_num(df['SrcPackets'])\n",
    "df['DstPackets'] = np.nan_to_num(df['DstPackets'])\n",
    "df['SrcBytes'] = np.nan_to_num(df['SrcPackets'])\n",
    "df['DstBytes'] = np.nan_to_num(df['DstBytes'])"
   ]
  },
  {
   "cell_type": "code",
   "execution_count": 10,
   "metadata": {},
   "outputs": [],
   "source": [
    "# Function to Find Distance to Centroid\n",
    "def find_distances(df): # entered df is subsetted to be only df rows with same final cluster assignment\n",
    "    # Keeping only numerical columns\n",
    "    dfNum = df[[\"Duration\", \"SrcPackets\", \"DstPackets\", \"SrcBytes\", \"DstBytes\"]]\n",
    "    # Calculating center of mass\n",
    "    centroid = dfNum.mean().values.tolist()\n",
    "    # Calculating distance of every point in the subset to the center of mass\n",
    "    dists = []\n",
    "    for i in range(0, dfNum.shape[0]):\n",
    "        row = dfNum.iloc[i,:].values.tolist()\n",
    "        dists.append(distance.euclidean(row, centroid))\n",
    "    return dists"
   ]
  },
  {
   "cell_type": "code",
   "execution_count": 11,
   "metadata": {},
   "outputs": [],
   "source": [
    "# Creating the list of dfs-- one df for each cluster. Formatted this way so I can use this list in Pool to parallelize\n",
    "dfs = []\n",
    "for cluster in set(finalCluster):\n",
    "    dfs.append(df.loc[df['FinalCluster']==cluster])"
   ]
  },
  {
   "cell_type": "code",
   "execution_count": 12,
   "metadata": {},
   "outputs": [
    {
     "data": {
      "text/plain": [
       "42"
      ]
     },
     "execution_count": 12,
     "metadata": {},
     "output_type": "execute_result"
    }
   ],
   "source": [
    "# Deleting the entire dataframe since I dont need it again and I keep getting \"[Errno 12] Cannot allocate memory\" in the next part\n",
    "del df\n",
    "gc.collect()"
   ]
  },
  {
   "cell_type": "code",
   "execution_count": null,
   "metadata": {},
   "outputs": [],
   "source": [
    "if __name__ == '__main__':\n",
    "    start = time.time()\n",
    "    p = Pool(7) # one for each cluster    \n",
    "    results = p.map(find_distances, dfs)    \n",
    "    end1 = time.time()\n",
    "    print(\"Processing Data Time: \", end1 - start)\n",
    "    \n",
    "    numBins = []\n",
    "    for i in range(len(results)):\n",
    "        numBins.append(int(1+3.322*np.log(len(results[i]))))\n",
    "    for j in range(len(results)):\n",
    "        print(\"Cluster \", j)\n",
    "        plt.hist(results[j], bins=numBins[j])\n",
    "        plt.show()\n",
    "    end2 = time.time()\n",
    "    print(\"Plotting Data Time: \", end2 - end1)\n",
    "    print(\"Total Time: \", end2 - start)\n",
    "    "
   ]
  }
 ],
 "metadata": {
  "kernelspec": {
   "display_name": "Python 3",
   "language": "python",
   "name": "python3"
  },
  "language_info": {
   "codemirror_mode": {
    "name": "ipython",
    "version": 3
   },
   "file_extension": ".py",
   "mimetype": "text/x-python",
   "name": "python",
   "nbconvert_exporter": "python",
   "pygments_lexer": "ipython3",
   "version": "3.6.6"
  }
 },
 "nbformat": 4,
 "nbformat_minor": 2
}
