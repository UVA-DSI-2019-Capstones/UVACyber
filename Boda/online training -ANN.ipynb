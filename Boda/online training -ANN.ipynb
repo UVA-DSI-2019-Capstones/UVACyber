{
 "cells": [
  {
   "cell_type": "code",
   "execution_count": 1,
   "metadata": {},
   "outputs": [
    {
     "name": "stderr",
     "output_type": "stream",
     "text": [
      "/opt/conda/lib/python3.6/site-packages/h5py/__init__.py:34: FutureWarning: Conversion of the second argument of issubdtype from `float` to `np.floating` is deprecated. In future, it will be treated as `np.float64 == np.dtype(float).type`.\n",
      "  from ._conv import register_converters as _register_converters\n",
      "Using TensorFlow backend.\n"
     ]
    }
   ],
   "source": [
    "from keras.utils import to_categorical\n",
    "from keras.layers import Dropout\n",
    "from keras.layers import Dense\n",
    "from keras import models\n",
    "from keras import optimizers\n",
    "from keras import backend as K\n",
    "import pandas as pd\n",
    "import numpy as np\n",
    "import sklearn\n",
    "from sklearn.preprocessing import StandardScaler"
   ]
  },
  {
   "cell_type": "markdown",
   "metadata": {},
   "source": [
    "# Prepare Dataset"
   ]
  },
  {
   "cell_type": "code",
   "execution_count": 2,
   "metadata": {},
   "outputs": [],
   "source": [
    "def prepare(file):\n",
    "    df = pd.read_csv(file).sample(frac = 1)\n",
    "    y = df.label.tolist()\n",
    "    X = np.matrix(df.drop(labels = ['label'], axis = 1)).astype(np.float)\n",
    "    print(X.shape)\n",
    "    \n",
    "    scaler = StandardScaler()\n",
    "    scaler.fit(X)\n",
    "    X = scaler.transform(X)\n",
    "    \n",
    "    return X, y"
   ]
  },
  {
   "cell_type": "markdown",
   "metadata": {},
   "source": [
    "# Logistic As Benchmark"
   ]
  },
  {
   "cell_type": "code",
   "execution_count": 3,
   "metadata": {},
   "outputs": [],
   "source": [
    "from sklearn.model_selection import train_test_split\n",
    "from sklearn.linear_model import LogisticRegression\n",
    "from sklearn.metrics import confusion_matrix"
   ]
  },
  {
   "cell_type": "code",
   "execution_count": 4,
   "metadata": {},
   "outputs": [],
   "source": [
    "def myMetrics(tn, fp, fn, tp):\n",
    "    print('accuracy is: %s'%  float((tp+tn)/(tp+fp+fn+tn)))\n",
    "    print('precition is: %s'% (tp/(tp+fp)))\n",
    "    print('recall is: %s' % (tp/(tp+fn)))\n",
    "    print('false positive ratio is: %s' % (fp/(fp+tn)))\n",
    "    print('\\n')"
   ]
  },
  {
   "cell_type": "code",
   "execution_count": 5,
   "metadata": {},
   "outputs": [],
   "source": [
    "def log(X,y):\n",
    "    clf = LogisticRegression().fit(X, y)\n",
    "    y_pred = clf.predict(X_test)\n",
    "    tn, fp, fn, tp = confusion_matrix(y_test, y_pred, labels=[1, 0]).ravel()\n",
    "    myMetrics(tp, tn, fp, fn)"
   ]
  },
  {
   "cell_type": "markdown",
   "metadata": {},
   "source": [
    "# XGB"
   ]
  },
  {
   "cell_type": "code",
   "execution_count": 6,
   "metadata": {},
   "outputs": [],
   "source": [
    "import xgboost as xgb\n",
    "from sklearn.model_selection import train_test_split\n",
    "\n",
    "def myXgb(X, y, X_test):\n",
    "    \n",
    "    X_A, X_B, Y_A, Y_B  = train_test_split(X, y, test_size=0.33)\n",
    "    dtrain = xgb.DMatrix(X_A, label=Y_A)\n",
    "    param = {'max_depth': 10}\n",
    "    dtest = xgb.DMatrix(X_B, label = Y_B)\n",
    "    evallist = [(dtest, 'eval'), (dtrain, 'train')]\n",
    "    num_round = 5\n",
    "    bst = xgb.train(param, dtrain, num_round, evallist)\n",
    "    dtest = xgb.DMatrix(X_test)\n",
    "    y_pred = bst.predict(dtest)\n",
    "    \n",
    "    return y_pred"
   ]
  },
  {
   "cell_type": "markdown",
   "metadata": {},
   "source": [
    "# ANN"
   ]
  },
  {
   "cell_type": "code",
   "execution_count": 13,
   "metadata": {},
   "outputs": [],
   "source": [
    "def recall(y_true, y_pred):\n",
    "   \n",
    "    true_positives = K.sum(K.round(K.clip(y_true * y_pred, 0, 1)))\n",
    "    possible_positives = K.sum(K.round(K.clip(y_true, 0, 1)))\n",
    "    recall = true_positives / (possible_positives + K.epsilon())\n",
    "    return recall\n",
    "    \n",
    "def precision(y_true, y_pred):\n",
    "    \n",
    "    true_positives = K.sum(K.round(K.clip(y_true * y_pred, 0, 1)))\n",
    "    predicted_positives = K.sum(K.round(K.clip(y_pred, 0, 1)))\n",
    "    precision = true_positives / (predicted_positives + K.epsilon())\n",
    "    return precision\n",
    "\n",
    "def f1(y_true, y_pred):\n",
    "    \n",
    "    myPrecision = precision(y_true, y_pred)\n",
    "    myRecall = recall(y_true, y_pred)\n",
    "    return 2*((myPrecision*myRecall)/(myPrecision+myRecall+K.epsilon()))"
   ]
  },
  {
   "cell_type": "code",
   "execution_count": 47,
   "metadata": {},
   "outputs": [],
   "source": [
    "model = models.Sequential()\n",
    "model.add(Dense(15, input_dim=29, kernel_initializer='uniform', activation='relu'))\n",
    "model.add(Dropout(0.2))\n",
    "model.add(Dense(1, kernel_initializer='uniform', activation='relu'))\n",
    "sgd = optimizers.sgd(lr=0.0005, momentum=0.5, decay=0.000002, nesterov=False)\n",
    "model.compile(loss='binary_crossentropy', optimizer=sgd, metrics=['accuracy',f1,recall,precision])"
   ]
  },
  {
   "cell_type": "code",
   "execution_count": 61,
   "metadata": {},
   "outputs": [
    {
     "name": "stdout",
     "output_type": "stream",
     "text": [
      "round 0\n",
      "(3475694, 29)\n",
      "(2602119, 29)\n",
      "[0]\teval-rmse:0.400948\ttrain-rmse:0.400178\n",
      "[1]\teval-rmse:0.341347\ttrain-rmse:0.342036\n",
      "[2]\teval-rmse:0.307854\ttrain-rmse:0.307526\n",
      "[3]\teval-rmse:0.289664\ttrain-rmse:0.289245\n",
      "[4]\teval-rmse:0.28057\ttrain-rmse:0.278745\n",
      "accuracy is: 0.9466934448424534\n",
      "precition is: 0.9952039237177432\n",
      "recall is: 0.8094686085140382\n",
      "false positive ratio is: 0.0014734932697413948\n",
      "\n",
      "\n",
      "accuracy is: 0.9459571218687539\n",
      "precition is: 0.9960079252642043\n",
      "recall is: 0.8061128944085448\n",
      "false positive ratio is: 0.0012204103437850934\n",
      "\n",
      "\n",
      "accuracy is: 0.9448395711341411\n",
      "precition is: 0.9968231273538848\n",
      "recall is: 0.8013596669516828\n",
      "false positive ratio is: 0.0009646801068878266\n",
      "\n",
      "\n",
      "round 1\n",
      "(3474812, 29)\n",
      "(2603637, 29)\n",
      "[0]\teval-rmse:0.401072\ttrain-rmse:0.400182\n",
      "[1]\teval-rmse:0.341615\ttrain-rmse:0.340197\n",
      "[2]\teval-rmse:0.308283\ttrain-rmse:0.307538\n",
      "[3]\teval-rmse:0.290105\ttrain-rmse:0.289271\n",
      "[4]\teval-rmse:0.281141\ttrain-rmse:0.278896\n",
      "accuracy is: 0.9494814369284198\n",
      "precition is: 0.9888046790226729\n",
      "recall is: 0.8250035036578187\n",
      "false positive ratio is: 0.0035262740483689462\n",
      "\n",
      "\n",
      "accuracy is: 0.9432482331446358\n",
      "precition is: 0.9864581130089815\n",
      "recall is: 0.8039549289458194\n",
      "false positive ratio is: 0.004166452832844028\n",
      "\n",
      "\n",
      "accuracy is: 0.9474922963531398\n",
      "precition is: 0.9931384702191142\n",
      "recall is: 0.8140286459063262\n",
      "false positive ratio is: 0.002123171456279757\n",
      "\n",
      "\n",
      "round 2\n",
      "(3473964, 29)\n",
      "(2604346, 29)\n",
      "[0]\teval-rmse:0.401421\ttrain-rmse:0.400538\n",
      "[1]\teval-rmse:0.341515\ttrain-rmse:0.341936\n",
      "[2]\teval-rmse:0.308416\ttrain-rmse:0.308728\n",
      "[3]\teval-rmse:0.290053\ttrain-rmse:0.290267\n",
      "[4]\teval-rmse:0.280714\ttrain-rmse:0.278252\n",
      "accuracy is: 0.9489269090973319\n",
      "precition is: 0.9916067876425932\n",
      "recall is: 0.8207285658285266\n",
      "false positive ratio is: 0.002625305148074194\n",
      "\n",
      "\n",
      "accuracy is: 0.9391263680017939\n",
      "precition is: 0.9566312696581576\n",
      "recall is: 0.8149955199641598\n",
      "false positive ratio is: 0.013963004466510694\n",
      "\n",
      "\n",
      "accuracy is: 0.9476728514567573\n",
      "precition is: 0.9938111494995266\n",
      "recall is: 0.814280114240914\n",
      "false positive ratio is: 0.0019163351967603247\n",
      "\n",
      "\n",
      "round 3\n",
      "(3475564, 29)\n",
      "(2601813, 29)\n",
      "[0]\teval-rmse:0.401012\ttrain-rmse:0.400251\n",
      "[1]\teval-rmse:0.341454\ttrain-rmse:0.341033\n",
      "[2]\teval-rmse:0.308138\ttrain-rmse:0.307666\n",
      "[3]\teval-rmse:0.289929\ttrain-rmse:0.289466\n",
      "[4]\teval-rmse:0.280885\ttrain-rmse:0.278876\n",
      "accuracy is: 0.949161219503477\n",
      "precition is: 0.9940444311872496\n",
      "recall is: 0.8199882284025439\n",
      "false positive ratio is: 0.00186267712395019\n",
      "\n",
      "\n",
      "accuracy is: 0.9427333939833493\n",
      "precition is: 0.9755172645438667\n",
      "recall is: 0.8120752543406018\n",
      "false positive ratio is: 0.007727406691219656\n",
      "\n",
      "\n",
      "accuracy is: 0.9470915088824601\n",
      "precition is: 0.9956376017449593\n",
      "recall is: 0.8111008121283804\n",
      "false positive ratio is: 0.0013474460014460397\n",
      "\n",
      "\n",
      "round 4\n",
      "(3473174, 29)\n",
      "(2602200, 29)\n",
      "[0]\teval-rmse:0.400921\ttrain-rmse:0.400162\n",
      "[1]\teval-rmse:0.341143\ttrain-rmse:0.341893\n",
      "[2]\teval-rmse:0.307981\ttrain-rmse:0.307683\n",
      "[3]\teval-rmse:0.289871\ttrain-rmse:0.289591\n",
      "[4]\teval-rmse:0.280273\ttrain-rmse:0.278369\n",
      "accuracy is: 0.9491787718084698\n",
      "precition is: 0.9916468688440044\n",
      "recall is: 0.8216394260271631\n",
      "false positive ratio is: 0.0026159185527933667\n",
      "\n",
      "\n",
      "accuracy is: 0.9419967719621859\n",
      "precition is: 0.9735344499749278\n",
      "recall is: 0.8105699098579078\n",
      "false positive ratio is: 0.008328576315452241\n",
      "\n",
      "\n",
      "accuracy is: 0.94781953731458\n",
      "precition is: 0.9966573174671919\n",
      "recall is: 0.812487916140114\n",
      "false positive ratio is: 0.0010299517378913154\n",
      "\n",
      "\n",
      "round 5\n",
      "(3470060, 29)\n",
      "(2602736, 29)\n",
      "[0]\teval-rmse:0.400981\ttrain-rmse:0.400436\n",
      "[1]\teval-rmse:0.341158\ttrain-rmse:0.342176\n",
      "[2]\teval-rmse:0.308325\ttrain-rmse:0.308404\n",
      "[3]\teval-rmse:0.289733\ttrain-rmse:0.290459\n",
      "[4]\teval-rmse:0.280225\ttrain-rmse:0.278917\n",
      "accuracy is: 0.9484580841084151\n",
      "precition is: 0.9835341928251121\n",
      "recall is: 0.8258978978305881\n",
      "false positive ratio is: 0.00522525784821023\n",
      "\n",
      "\n",
      "accuracy is: 0.945082021380578\n",
      "precition is: 0.9958707619720977\n",
      "recall is: 0.8030914750488208\n",
      "false positive ratio is: 0.0012584030299083806\n",
      "\n",
      "\n",
      "accuracy is: 0.9442064043375894\n",
      "precition is: 0.9887284866570861\n",
      "recall is: 0.8057545591832275\n",
      "false positive ratio is: 0.0034713288460703627\n",
      "\n",
      "\n",
      "round 6\n",
      "(3471874, 29)\n",
      "(2601768, 29)\n",
      "[0]\teval-rmse:0.401285\ttrain-rmse:0.400396\n",
      "[1]\teval-rmse:0.341116\ttrain-rmse:0.341922\n",
      "[2]\teval-rmse:0.308107\ttrain-rmse:0.307966\n",
      "[3]\teval-rmse:0.289541\ttrain-rmse:0.289272\n",
      "[4]\teval-rmse:0.28074\ttrain-rmse:0.279039\n",
      "accuracy is: 0.948984306056497\n",
      "precition is: 0.991601121882812\n",
      "recall is: 0.8208591950356747\n",
      "false positive ratio is: 0.0026258671477491094\n",
      "\n",
      "\n",
      "accuracy is: 0.9471305665993278\n",
      "precition is: 0.9893343397201496\n",
      "recall is: 0.81594085655921\n",
      "false positive ratio is: 0.003322179972772315\n",
      "\n",
      "\n",
      "accuracy is: 0.9486429996832922\n",
      "precition is: 0.9965136200102792\n",
      "recall is: 0.8155146379455142\n",
      "false positive ratio is: 0.0010775639535530223\n",
      "\n",
      "\n"
     ]
    }
   ],
   "source": [
    "#get the training dataset\n",
    "\n",
    "files = [('/scratch/by8jj/online training/train0.csv', '/scratch/by8jj/online training/test0.csv'),\n",
    "         ('/scratch/by8jj/online training/train1.csv', '/scratch/by8jj/online training/test1.csv'),\n",
    "         ('/scratch/by8jj/online training/train2.csv', '/scratch/by8jj/online training/test2.csv'),\n",
    "         ('/scratch/by8jj/online training/train3.csv', '/scratch/by8jj/online training/test3.csv'),\n",
    "         ('/scratch/by8jj/online training/train4.csv', '/scratch/by8jj/online training/test4.csv'),\n",
    "         ('/scratch/by8jj/online training/train5.csv', '/scratch/by8jj/online training/test5.csv'),\n",
    "         ('/scratch/by8jj/online training/train6.csv', '/scratch/by8jj/online training/test6.csv'),\n",
    "        ]\n",
    "\n",
    "for i in range(len(files)):\n",
    "    \n",
    "    print('round %s'%i)\n",
    "    \n",
    "    X, y = prepare(files[i][0])\n",
    "    X_test, y_test = prepare(files[i][1])\n",
    "    \n",
    "    xgb_pred = myXgb(X, y, X_test)\n",
    "    #log(X, y)\n",
    "    \n",
    "    if i<2:\n",
    "        result = model.fit(X, y, epochs=10, batch_size=256, verbose=0, validation_split=0.3) \n",
    "        \n",
    "    nn_pred = model.predict(X_test).tolist()\n",
    "    \n",
    "    tn, fp, fn, tp = confusion_matrix(y_test, [1 if x[0] > 0.0 else 0 for x in nn_pred], labels=[1, 0]).ravel()\n",
    "    myMetrics(tn, fp, fn, tp)\n",
    "    \n",
    "    \n",
    "    tn, fp, fn, tp = confusion_matrix(y_test, [1 if x > 0.1 else 0 for x in xgb_pred], labels=[1, 0]).ravel()\n",
    "    myMetrics(tn, fp, fn, tp)\n",
    "    \n",
    "    tn, fp, fn, tp = confusion_matrix(y_test, [1 if (x[0] + y) > 0.15 else 0 for x, y  in zip(nn_pred, xgb_pred)], labels=[1, 0]).ravel()\n",
    "    myMetrics(tn, fp, fn, tp)\n",
    "    "
   ]
  },
  {
   "cell_type": "code",
   "execution_count": 58,
   "metadata": {},
   "outputs": [],
   "source": [
    "temp = [x[0]+y for x,y in zip(nn_pred, xgb_pred)]"
   ]
  },
  {
   "cell_type": "code",
   "execution_count": 59,
   "metadata": {},
   "outputs": [],
   "source": [
    "temp1 = [1 if x > 0.1 else 0 for x in temp]"
   ]
  },
  {
   "cell_type": "code",
   "execution_count": 60,
   "metadata": {},
   "outputs": [
    {
     "name": "stdout",
     "output_type": "stream",
     "text": [
      "accuracy is: 0.9461112270422682\n",
      "precition is: 0.9966089007258719\n",
      "recall is: 0.80618718548941\n",
      "false positive ratio is: 0.0010361575022938949\n",
      "\n",
      "\n"
     ]
    }
   ],
   "source": [
    "tn, fp, fn, tp = confusion_matrix(y_test, temp1, labels=[1, 0]).ravel()\n",
    "myMetrics(tn, fp, fn, tp)"
   ]
  }
 ],
 "metadata": {
  "kernelspec": {
   "display_name": "Tensorflow 1.6, PyTorch 0.4, Keras",
   "language": "python",
   "name": "tensorflow"
  },
  "language_info": {
   "codemirror_mode": {
    "name": "ipython",
    "version": 3
   },
   "file_extension": ".py",
   "mimetype": "text/x-python",
   "name": "python",
   "nbconvert_exporter": "python",
   "pygments_lexer": "ipython3",
   "version": "3.6.8"
  }
 },
 "nbformat": 4,
 "nbformat_minor": 2
}
