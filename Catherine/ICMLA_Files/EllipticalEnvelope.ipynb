{
 "cells": [
  {
   "cell_type": "code",
   "execution_count": 1,
   "metadata": {},
   "outputs": [],
   "source": [
    "# Elliptical Envelope"
   ]
  },
  {
   "cell_type": "code",
   "execution_count": 2,
   "metadata": {},
   "outputs": [],
   "source": [
    "import pandas as pd\n",
    "import time\n",
    "from sklearn.covariance import EllipticEnvelope\n",
    "import numpy as np\n",
    "import matplotlib.pyplot as plt\n",
    "from sklearn.metrics import  pairwise \n",
    "import sklearn.model_selection\n",
    "from sklearn import preprocessing\n",
    "from sklearn.decomposition import PCA"
   ]
  },
  {
   "cell_type": "code",
   "execution_count": 3,
   "metadata": {},
   "outputs": [
    {
     "name": "stdout",
     "output_type": "stream",
     "text": [
      "2.3543481826782227\n"
     ]
    }
   ],
   "source": [
    "start = time.time()\n",
    "df = pd.read_csv('1mill_sample_anomaly.csv')\n",
    "end = time.time()\n",
    "print(end - start)"
   ]
  },
  {
   "cell_type": "code",
   "execution_count": 4,
   "metadata": {},
   "outputs": [],
   "source": [
    "#df2 = df.sample(n=1000000)\n",
    "dfNum = df[['Duration', 'SrcPackets', 'DstPackets', 'SrcBytes', 'DstBytes']]"
   ]
  },
  {
   "cell_type": "code",
   "execution_count": 5,
   "metadata": {},
   "outputs": [],
   "source": [
    "# Looking at the distribution of the columns to see whether individually the data are normally distributed.\n",
    "# This algorithm assumes that the data are Gaussian"
   ]
  },
  {
   "cell_type": "code",
   "execution_count": 6,
   "metadata": {},
   "outputs": [
    {
     "name": "stdout",
     "output_type": "stream",
     "text": [
      "Time:  239.64980483055115\n"
     ]
    }
   ],
   "source": [
    "start = time.time()\n",
    "ee = EllipticEnvelope(contamination=0.01)\n",
    "ee.fit(dfNum)\n",
    "labels = ee.predict(dfNum)\n",
    "end = time.time()\n",
    "print(\"Time: \", end - start)"
   ]
  },
  {
   "cell_type": "code",
   "execution_count": 9,
   "metadata": {},
   "outputs": [
    {
     "name": "stderr",
     "output_type": "stream",
     "text": [
      "/apps/software/standard/core/anaconda/5.2.0-py3.6/lib/python3.6/site-packages/ipykernel_launcher.py:3: SettingWithCopyWarning: \n",
      "A value is trying to be set on a copy of a slice from a DataFrame.\n",
      "Try using .loc[row_indexer,col_indexer] = value instead\n",
      "\n",
      "See the caveats in the documentation: http://pandas.pydata.org/pandas-docs/stable/indexing.html#indexing-view-versus-copy\n",
      "  This is separate from the ipykernel package so we can avoid doing imports until\n"
     ]
    },
    {
     "name": "stdout",
     "output_type": "stream",
     "text": [
      "101990.32387908472\n",
      "Time:  174.22297048568726\n"
     ]
    }
   ],
   "source": [
    "# Intra cluster distance \n",
    "start = time.time()\n",
    "dfNum['Outlier'] = labels\n",
    "benign = dfNum[dfNum['Outlier'] == 1]\n",
    "anomalies = dfNum[dfNum['Outlier'] == -1]\n",
    "benign_centroid = benign.mean().values\n",
    "full_centroid = dfNum.mean().values\n",
    "\n",
    "full_spread = 0\n",
    "for index, row in dfNum.iterrows():\n",
    "    d = np.sum(np.square(full_centroid - row.values))\n",
    "    full_spread = full_spread + d\n",
    "    \n",
    "benign_spread = 0\n",
    "for index, row in benign.iterrows():\n",
    "    d = np.sum(np.square(benign_centroid - row.values))\n",
    "    benign_spread = benign_spread + d\n",
    "    \n",
    "ratio = (full_spread / dfNum.shape[0]) / (benign_spread / benign.shape[0])\n",
    "print(ratio)\n",
    "end = time.time()\n",
    "print(\"Time: \", end - start)"
   ]
  },
  {
   "cell_type": "code",
   "execution_count": 10,
   "metadata": {},
   "outputs": [],
   "source": [
    "# Adding the labels as a column to the ensembling df\n",
    "ensemble = pd.read_csv('1mill_anomaly_ensemble_df.csv')"
   ]
  },
  {
   "cell_type": "code",
   "execution_count": 11,
   "metadata": {},
   "outputs": [
    {
     "data": {
      "text/html": [
       "<div>\n",
       "<style scoped>\n",
       "    .dataframe tbody tr th:only-of-type {\n",
       "        vertical-align: middle;\n",
       "    }\n",
       "\n",
       "    .dataframe tbody tr th {\n",
       "        vertical-align: top;\n",
       "    }\n",
       "\n",
       "    .dataframe thead th {\n",
       "        text-align: right;\n",
       "    }\n",
       "</style>\n",
       "<table border=\"1\" class=\"dataframe\">\n",
       "  <thead>\n",
       "    <tr style=\"text-align: right;\">\n",
       "      <th></th>\n",
       "      <th>Unnamed: 0</th>\n",
       "      <th>Unnamed: 0.1</th>\n",
       "      <th>Unnamed: 0.1.1</th>\n",
       "      <th>Unnamed: 0.1.1.1</th>\n",
       "      <th>Time</th>\n",
       "      <th>Duration</th>\n",
       "      <th>SrcDevice</th>\n",
       "      <th>DstDevice</th>\n",
       "      <th>Protocol</th>\n",
       "      <th>SrcPort</th>\n",
       "      <th>DstPort</th>\n",
       "      <th>SrcPackets</th>\n",
       "      <th>DstPackets</th>\n",
       "      <th>SrcBytes</th>\n",
       "      <th>DstBytes</th>\n",
       "      <th>LOF_0.01_Labels</th>\n",
       "      <th>EE_0.01_Lables</th>\n",
       "    </tr>\n",
       "  </thead>\n",
       "  <tbody>\n",
       "    <tr>\n",
       "      <th>0</th>\n",
       "      <td>0</td>\n",
       "      <td>2615150</td>\n",
       "      <td>7081118</td>\n",
       "      <td>7120234</td>\n",
       "      <td>175674</td>\n",
       "      <td>0</td>\n",
       "      <td>Comp965575</td>\n",
       "      <td>Comp584379</td>\n",
       "      <td>6</td>\n",
       "      <td>Port00067</td>\n",
       "      <td>443</td>\n",
       "      <td>11</td>\n",
       "      <td>7</td>\n",
       "      <td>1577</td>\n",
       "      <td>3911</td>\n",
       "      <td>1</td>\n",
       "      <td>1</td>\n",
       "    </tr>\n",
       "    <tr>\n",
       "      <th>1</th>\n",
       "      <td>1</td>\n",
       "      <td>3424367</td>\n",
       "      <td>80091742</td>\n",
       "      <td>80597928</td>\n",
       "      <td>206274</td>\n",
       "      <td>815</td>\n",
       "      <td>Comp393882</td>\n",
       "      <td>Comp591308</td>\n",
       "      <td>6</td>\n",
       "      <td>Port11291</td>\n",
       "      <td>80</td>\n",
       "      <td>6</td>\n",
       "      <td>6</td>\n",
       "      <td>474</td>\n",
       "      <td>2205</td>\n",
       "      <td>1</td>\n",
       "      <td>1</td>\n",
       "    </tr>\n",
       "    <tr>\n",
       "      <th>2</th>\n",
       "      <td>2</td>\n",
       "      <td>871645</td>\n",
       "      <td>33512751</td>\n",
       "      <td>33683446</td>\n",
       "      <td>187662</td>\n",
       "      <td>1</td>\n",
       "      <td>Comp279702</td>\n",
       "      <td>Comp362299</td>\n",
       "      <td>17</td>\n",
       "      <td>Port77194</td>\n",
       "      <td>161</td>\n",
       "      <td>7</td>\n",
       "      <td>7</td>\n",
       "      <td>640</td>\n",
       "      <td>1365</td>\n",
       "      <td>1</td>\n",
       "      <td>1</td>\n",
       "    </tr>\n",
       "    <tr>\n",
       "      <th>3</th>\n",
       "      <td>3</td>\n",
       "      <td>4456841</td>\n",
       "      <td>79100858</td>\n",
       "      <td>79602043</td>\n",
       "      <td>205992</td>\n",
       "      <td>1</td>\n",
       "      <td>Comp030334</td>\n",
       "      <td>Comp348022</td>\n",
       "      <td>6</td>\n",
       "      <td>Port51000</td>\n",
       "      <td>Port21834</td>\n",
       "      <td>4</td>\n",
       "      <td>3</td>\n",
       "      <td>216</td>\n",
       "      <td>160</td>\n",
       "      <td>1</td>\n",
       "      <td>1</td>\n",
       "    </tr>\n",
       "    <tr>\n",
       "      <th>4</th>\n",
       "      <td>4</td>\n",
       "      <td>3515765</td>\n",
       "      <td>15023239</td>\n",
       "      <td>15078975</td>\n",
       "      <td>179497</td>\n",
       "      <td>1</td>\n",
       "      <td>Comp581624</td>\n",
       "      <td>ActiveDirectory</td>\n",
       "      <td>6</td>\n",
       "      <td>Port67196</td>\n",
       "      <td>389</td>\n",
       "      <td>9</td>\n",
       "      <td>7</td>\n",
       "      <td>6871</td>\n",
       "      <td>587</td>\n",
       "      <td>1</td>\n",
       "      <td>1</td>\n",
       "    </tr>\n",
       "  </tbody>\n",
       "</table>\n",
       "</div>"
      ],
      "text/plain": [
       "   Unnamed: 0  Unnamed: 0.1  Unnamed: 0.1.1  Unnamed: 0.1.1.1    Time  \\\n",
       "0           0       2615150         7081118           7120234  175674   \n",
       "1           1       3424367        80091742          80597928  206274   \n",
       "2           2        871645        33512751          33683446  187662   \n",
       "3           3       4456841        79100858          79602043  205992   \n",
       "4           4       3515765        15023239          15078975  179497   \n",
       "\n",
       "   Duration   SrcDevice        DstDevice  Protocol    SrcPort    DstPort  \\\n",
       "0         0  Comp965575       Comp584379         6  Port00067        443   \n",
       "1       815  Comp393882       Comp591308         6  Port11291         80   \n",
       "2         1  Comp279702       Comp362299        17  Port77194        161   \n",
       "3         1  Comp030334       Comp348022         6  Port51000  Port21834   \n",
       "4         1  Comp581624  ActiveDirectory         6  Port67196        389   \n",
       "\n",
       "   SrcPackets  DstPackets  SrcBytes  DstBytes  LOF_0.01_Labels  EE_0.01_Lables  \n",
       "0          11           7      1577      3911                1               1  \n",
       "1           6           6       474      2205                1               1  \n",
       "2           7           7       640      1365                1               1  \n",
       "3           4           3       216       160                1               1  \n",
       "4           9           7      6871       587                1               1  "
      ]
     },
     "execution_count": 11,
     "metadata": {},
     "output_type": "execute_result"
    }
   ],
   "source": [
    "ensemble['EE_0.01_Lables'] = labels\n",
    "ensemble.head()"
   ]
  },
  {
   "cell_type": "code",
   "execution_count": 13,
   "metadata": {},
   "outputs": [],
   "source": [
    "ensemble.to_csv('1mill_anomaly_ensemble_df.csv')"
   ]
  },
  {
   "cell_type": "code",
   "execution_count": 7,
   "metadata": {},
   "outputs": [],
   "source": [
    "# Chi Squared Test to see whether anomalies and normal traffic have different DstPort Distribution"
   ]
  },
  {
   "cell_type": "code",
   "execution_count": 8,
   "metadata": {},
   "outputs": [
    {
     "name": "stderr",
     "output_type": "stream",
     "text": [
      "/apps/software/standard/core/anaconda/5.2.0-py3.6/lib/python3.6/site-packages/ipykernel_launcher.py:5: SettingWithCopyWarning: \n",
      "A value is trying to be set on a copy of a slice from a DataFrame\n",
      "\n",
      "See the caveats in the documentation: http://pandas.pydata.org/pandas-docs/stable/indexing.html#indexing-view-versus-copy\n",
      "  \"\"\"\n"
     ]
    }
   ],
   "source": [
    "# Removing 'Port' from the port names and grouping ports into 3 categories\n",
    "df['DstPort'] = df['DstPort'].str.replace('Port', '')\n",
    "df['DstPort'] = df['DstPort'].astype(int)\n",
    "df['DstPortCategory'] = np.where(df['DstPort']<=1023, 'System Ports', 'User Ports')\n",
    "df['DstPortCategory'][df['DstPort']>=49152] = 'Dynamic and/or Private Ports'"
   ]
  },
  {
   "cell_type": "code",
   "execution_count": 9,
   "metadata": {},
   "outputs": [
    {
     "name": "stdout",
     "output_type": "stream",
     "text": [
      "DstPortCategory  Dynamic and/or Private Ports  System Ports  User Ports\n",
      "Outlier                                                                \n",
      "-1                                        927          8295         778\n",
      " 1                                     198041        510179      281780\n"
     ]
    },
    {
     "data": {
      "text/plain": [
       "(3956.7419963878056, 0.0, 2, array([[  1989.68,   5184.74,   2825.58],\n",
       "        [196978.32, 513289.26, 279732.42]]))"
      ]
     },
     "execution_count": 9,
     "metadata": {},
     "output_type": "execute_result"
    }
   ],
   "source": [
    "# Chi-Squared Test to Test Whether Anomalous and Benign Five-Tuples have significantly \n",
    "# differnt port dist\n",
    "df['Outlier'] = labels\n",
    "cont_tab = pd.crosstab(index=df['Outlier'], columns=df['DstPortCategory'])\n",
    "print(cont_tab)\n",
    "from scipy import stats\n",
    "stats.chi2_contingency(cont_tab)"
   ]
  },
  {
   "cell_type": "code",
   "execution_count": 11,
   "metadata": {},
   "outputs": [
    {
     "data": {
      "image/png": "[encoded data removed]",
      "text/plain": [
       "<Figure size 432x288 with 1 Axes>"
      ]
     },
     "metadata": {},
     "output_type": "display_data"
    }
   ],
   "source": [
    "# Creating a plot of the ports for anomalous five tuples\n",
    "anomalies2 = df[df['Outlier']==-1]\n",
    "freq_series = pd.Series(anomalies2['DstPort'].value_counts().head(5).values)\n",
    "x_labels = pd.Series(anomalies2['DstPort'].value_counts().head(5).index)\n",
    "ax = freq_series.plot(kind='bar')\n",
    "ax.set_title('Anomalous Port Distribution (Elliptic Envelope)')\n",
    "ax.set_xlabel('Port Number')\n",
    "ax.set_ylabel('Frequency')\n",
    "ax.set_xticklabels(x_labels)\n",
    "plt.xticks(rotation=360)\n",
    "rects = ax.patches\n",
    "\n",
    "# Make some labels.\n",
    "#labels = [\"label%d\" % i for i in range(len(rects))]\n",
    "percs = list(anomalies2['DstPort'].value_counts().head(6)*100/len(anomalies2))\n",
    "percs = [round(perc, 1) for perc in percs]\n",
    "labels = [str(perc)+'%' for perc in percs]\n",
    "\n",
    "for rect, label in zip(rects, labels):\n",
    "    height = rect.get_height()\n",
    "    ax.text(rect.get_x() + rect.get_width() / 2, height + 5, label,\n",
    "            ha='center', va='bottom')\n",
    "plt.savefig('EE_anomalous_portDist_0.01contam.png')"
   ]
  },
  {
   "cell_type": "code",
   "execution_count": 12,
   "metadata": {},
   "outputs": [
    {
     "data": {
      "image/png": "[encoded data removed]",
      "text/plain": [
       "<Figure size 432x288 with 1 Axes>"
      ]
     },
     "metadata": {},
     "output_type": "display_data"
    }
   ],
   "source": [
    "# Creating a plot of the ports for non-anomalous five tuples\n",
    "anomalies2 = df[df['Outlier']==1]\n",
    "freq_series = pd.Series(anomalies2['DstPort'].value_counts().head(5).values)\n",
    "x_labels = pd.Series(anomalies2['DstPort'].value_counts().head(5).index)\n",
    "ax = freq_series.plot(kind='bar')\n",
    "ax.set_title('Non-Anomalous Port Distribution (Elliptic Envelope)')\n",
    "ax.set_xlabel('Port Number')\n",
    "ax.set_ylabel('Frequency')\n",
    "ax.set_xticklabels(x_labels)\n",
    "plt.xticks(rotation=360)\n",
    "rects = ax.patches\n",
    "\n",
    "# Make some labels.\n",
    "#labels = [\"label%d\" % i for i in range(len(rects))]\n",
    "percs = list(anomalies2['DstPort'].value_counts().head(6)*100/len(anomalies2))\n",
    "percs = [round(perc, 1) for perc in percs]\n",
    "labels = [str(perc)+'%' for perc in percs]\n",
    "\n",
    "for rect, label in zip(rects, labels):\n",
    "    height = rect.get_height()\n",
    "    ax.text(rect.get_x() + rect.get_width() / 2, height + 5, label,\n",
    "            ha='center', va='bottom')\n",
    "plt.savefig('EE_nonanomalous_portDist_0.01contam.png')"
   ]
  },
  {
   "cell_type": "code",
   "execution_count": 14,
   "metadata": {},
   "outputs": [
    {
     "name": "stdout",
     "output_type": "stream",
     "text": [
      "Protocol      6      17\n",
      "Outlier                \n",
      "-1          9804    196\n",
      " 1        946774  43226\n"
     ]
    },
    {
     "data": {
      "text/plain": [
       "(137.42509222819436,\n",
       " 9.734703494645553e-32,\n",
       " 1,\n",
       " array([[9.5657800e+03, 4.3422000e+02],\n",
       "        [9.4701222e+05, 4.2987780e+04]]))"
      ]
     },
     "execution_count": 14,
     "metadata": {},
     "output_type": "execute_result"
    }
   ],
   "source": [
    "# Chi-Squared Test to Test Whether Anomalous and Benign Five-Tuples have significantly \n",
    "# differnt protocol dist\n",
    "cont_tab2 = pd.crosstab(index=df['Outlier'], columns=df['Protocol'])\n",
    "print(cont_tab2)\n",
    "from scipy import stats\n",
    "stats.chi2_contingency(cont_tab2)"
   ]
  },
  {
   "cell_type": "code",
   "execution_count": 15,
   "metadata": {},
   "outputs": [
    {
     "data": {
      "image/png": "[encoded data removed]",
      "text/plain": [
       "<Figure size 432x288 with 1 Axes>"
      ]
     },
     "metadata": {},
     "output_type": "display_data"
    }
   ],
   "source": [
    "# Creating a plot of the protocols for anomalous five tuples\n",
    "anomalies2 = df[df['Outlier']==-1]\n",
    "freq_series = pd.Series(anomalies2['Protocol'].value_counts().values)\n",
    "x_labels = pd.Series(anomalies2['Protocol'].value_counts().index)\n",
    "ax = freq_series.plot(kind='bar')\n",
    "ax.set_title('Anomalous Protocol Distribution (Elliptic Envelope)')\n",
    "ax.set_xlabel('Protocol')\n",
    "ax.set_ylabel('Frequency')\n",
    "ax.set_xticklabels(x_labels)\n",
    "plt.xticks(rotation=360)\n",
    "rects = ax.patches\n",
    "\n",
    "# Make some labels.\n",
    "#labels = [\"label%d\" % i for i in range(len(rects))]\n",
    "percs = list(anomalies2['Protocol'].value_counts()*100/len(anomalies2))\n",
    "percs = [round(perc, 1) for perc in percs]\n",
    "labels = [str(perc)+'%' for perc in percs]\n",
    "\n",
    "for rect, label in zip(rects, labels):\n",
    "    height = rect.get_height()\n",
    "    ax.text(rect.get_x() + rect.get_width() / 2, height + 5, label,\n",
    "            ha='center', va='bottom')\n",
    "plt.savefig('EE_anomalous_protocolDist_0.01contam.png')"
   ]
  },
  {
   "cell_type": "code",
   "execution_count": 16,
   "metadata": {},
   "outputs": [
    {
     "data": {
      "image/png": "[encoded data removed]",
      "text/plain": [
       "<Figure size 432x288 with 1 Axes>"
      ]
     },
     "metadata": {},
     "output_type": "display_data"
    }
   ],
   "source": [
    "# Creating a plot of the protocols for non-anomalous five tuples\n",
    "benign2 = df[df['Outlier']==1]\n",
    "freq_series = pd.Series(benign2['Protocol'].value_counts().values)\n",
    "x_labels = pd.Series(benign2['Protocol'].value_counts().index)\n",
    "ax = freq_series.plot(kind='bar')\n",
    "ax.set_title('Non-Anomalous Protocol Distribution (Elliptic Envelope)')\n",
    "ax.set_xlabel('Protocol')\n",
    "ax.set_ylabel('Frequency')\n",
    "ax.set_xticklabels(x_labels)\n",
    "plt.xticks(rotation=360)\n",
    "rects = ax.patches\n",
    "\n",
    "# Make some labels.\n",
    "#labels = [\"label%d\" % i for i in range(len(rects))]\n",
    "percs = list(benign2['Protocol'].value_counts()*100/len(benign2))\n",
    "percs = [round(perc, 1) for perc in percs]\n",
    "labels = [str(perc)+'%' for perc in percs]\n",
    "\n",
    "for rect, label in zip(rects, labels):\n",
    "    height = rect.get_height()\n",
    "    ax.text(rect.get_x() + rect.get_width() / 2, height + 5, label,\n",
    "            ha='center', va='bottom')\n",
    "plt.savefig('EE_benign_protocolDist_0.01contam.png')"
   ]
  },
  {
   "cell_type": "code",
   "execution_count": 10,
   "metadata": {},
   "outputs": [
    {
     "name": "stdout",
     "output_type": "stream",
     "text": [
      "   Duration  SrcPackets  DstPackets  SrcBytes  DstBytes\n",
      "0 -0.057348   -0.007769   -0.007146 -0.007357 -0.006343\n",
      "1 -0.059889   -0.009194   -0.008372 -0.009493 -0.006900\n",
      "2 -0.059740   -0.008440   -0.008022 -0.009135 -0.006695\n",
      "3 -0.059740   -0.009194   -0.008372 -0.009493 -0.006900\n",
      "4 -0.059889   -0.008859   -0.007963 -0.009451 -0.006278\n",
      "1.6984870433807373\n"
     ]
    }
   ],
   "source": [
    "# Plotting PCA to Visualize Anomalies\n",
    "# Scaling for PCA\n",
    "start = time.time()\n",
    "pre = preprocessing.scale(dfNum[[\"Duration\", \"SrcPackets\", \"DstPackets\", \"SrcBytes\", \"DstBytes\"]])\n",
    "pre = pd.DataFrame.from_records(pre, columns = [\"Duration\", \"SrcPackets\", \"DstPackets\", \"SrcBytes\", \"DstBytes\"])\n",
    "print(pre.head())\n",
    "end = time.time()\n",
    "print(end - start)"
   ]
  },
  {
   "cell_type": "code",
   "execution_count": 11,
   "metadata": {},
   "outputs": [
    {
     "data": {
      "image/png": "[encoded data removed]",
      "text/plain": [
       "<Figure size 432x288 with 2 Axes>"
      ]
     },
     "metadata": {},
     "output_type": "display_data"
    },
    {
     "name": "stdout",
     "output_type": "stream",
     "text": [
      "39.73135447502136\n"
     ]
    }
   ],
   "source": [
    "# PCA plot of protocol and numerical values-- color coded by Protocol\n",
    "start = time.time()\n",
    "pcaDF = pre[[\"Duration\", \"SrcPackets\", \"DstPackets\", \"SrcBytes\", \"DstBytes\"]]\n",
    "pca = PCA(n_components=2).fit_transform(pcaDF)\n",
    "pcdf = pd.DataFrame(data = pca, columns = ['PC1', 'PC2'])\n",
    "pcdf.plot(x=\"PC1\", y=\"PC2\", kind='scatter', title='PCA Plot Color Coded by Protocol', \n",
    "          c=dfNum['Outlier'] , legend=True, colormap = 'Accent_r', alpha = 0.75)\n",
    "plt.savefig('1mill_PCA_EE.png')\n",
    "plt.show()\n",
    "end = time.time()\n",
    "print(end - start)"
   ]
  },
  {
   "cell_type": "code",
   "execution_count": 17,
   "metadata": {},
   "outputs": [
    {
     "data": {
      "text/plain": [
       "1    120312\n",
       "Name: Outlier, dtype: int64"
      ]
     },
     "execution_count": 17,
     "metadata": {},
     "output_type": "execute_result"
    }
   ],
   "source": []
  },
  {
   "cell_type": "code",
   "execution_count": 13,
   "metadata": {},
   "outputs": [],
   "source": [
    "# The data are dense around the origin, and it seems that the ellipse fits around the dense part of the data and \n",
    "# calls all the data with large values anomalies. This could be a good method for detecting anomalies, since SIEDS paper\n",
    "# showed that abnormal activity has higher values for packets and bytes."
   ]
  },
  {
   "cell_type": "code",
   "execution_count": 38,
   "metadata": {},
   "outputs": [
    {
     "name": "stdout",
     "output_type": "stream",
     "text": [
      "0.04362201690673828\n"
     ]
    },
    {
     "name": "stderr",
     "output_type": "stream",
     "text": [
      "/apps/software/standard/core/anaconda/5.2.0-py3.6/lib/python3.6/site-packages/ipykernel_launcher.py:4: SettingWithCopyWarning: \n",
      "A value is trying to be set on a copy of a slice from a DataFrame.\n",
      "Try using .loc[row_indexer,col_indexer] = value instead\n",
      "\n",
      "See the caveats in the documentation: http://pandas.pydata.org/pandas-docs/stable/indexing.html#indexing-view-versus-copy\n",
      "  after removing the cwd from sys.path.\n"
     ]
    }
   ],
   "source": [
    "# Finding distance of every point to centroid\n",
    "start = time.time()\n",
    "centroid_all = dfNum.mean().values.tolist()\n",
    "dfNum['Distance0'] = dfNum['Duration'] - 353.4736\n",
    "#print(dfNum['Distance0'])\n",
    "end = time.time()\n",
    "print(end - start)"
   ]
  },
  {
   "cell_type": "code",
   "execution_count": 39,
   "metadata": {},
   "outputs": [],
   "source": [
    "# Show that anomalies and normal are statistically different?\n",
    "anomalous = dfNum[dfNum['Outlier']==-1]"
   ]
  }
 ],
 "metadata": {
  "kernelspec": {
   "display_name": "Python 3",
   "language": "python",
   "name": "python3"
  },
  "language_info": {
   "codemirror_mode": {
    "name": "ipython",
    "version": 3
   },
   "file_extension": ".py",
   "mimetype": "text/x-python",
   "name": "python",
   "nbconvert_exporter": "python",
   "pygments_lexer": "ipython3",
   "version": "3.6.6"
  }
 },
 "nbformat": 4,
 "nbformat_minor": 2
}
