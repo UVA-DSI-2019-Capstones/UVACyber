{
 "cells": [
  {
   "cell_type": "markdown",
   "metadata": {},
   "source": [
    "# 1. Reading Libraries"
   ]
  },
  {
   "cell_type": "code",
   "execution_count": 87,
   "metadata": {},
   "outputs": [
    {
     "name": "stderr",
     "output_type": "stream",
     "text": [
      "/apps/software/standard/core/anaconda/5.2.0-py3.6/lib/python3.6/site-packages/h5py/__init__.py:36: FutureWarning: Conversion of the second argument of issubdtype from `float` to `np.floating` is deprecated. In future, it will be treated as `np.float64 == np.dtype(float).type`.\n",
      "  from ._conv import register_converters as _register_converters\n",
      "Using TensorFlow backend.\n"
     ]
    }
   ],
   "source": [
    "import pandas as pd\n",
    "import os\n",
    "import glob\n",
    "import glob\n",
    "import os\n",
    "import random\n",
    "import pandas as pd\n",
    "import numpy as np \n",
    "%matplotlib inline\n",
    "import matplotlib\n",
    "import matplotlib.pyplot as plt\n",
    "from sklearn.linear_model import LogisticRegressionCV\n",
    "from sklearn.metrics import confusion_matrix\n",
    "import itertools\n",
    "from sklearn.ensemble import RandomForestRegressor, RandomForestClassifier\n",
    "from sklearn.decomposition import PCA\n",
    "import matplotlib.pyplot as plt\n",
    "from sklearn.preprocessing import StandardScaler\n",
    "import matplotlib\n",
    "import matplotlib.pyplot as plt\n",
    "from sklearn.linear_model import LogisticRegressionCV\n",
    "from sklearn.metrics import confusion_matrix\n",
    "from keras.utils import to_categorical\n",
    "from keras.layers import Dropout\n",
    "from keras.layers import Dense\n",
    "from keras import models\n",
    "from sklearn.ensemble import IsolationForest\n",
    "from keras import optimizers\n",
    "import itertools\n",
    "from sklearn.ensemble import RandomForestRegressor, RandomForestClassifier\n",
    "from sklearn.ensemble import GradientBoostingClassifier\n",
    "train_path = \"/scratch/rk9cx/conn_log_labelled_runtime/random_samples_W1-W2/train/\"\n",
    "test_path = \"/scratch/rk9cx/conn_log_labelled_runtime/random_samples_W1-W2/test/\""
   ]
  },
  {
   "cell_type": "markdown",
   "metadata": {},
   "source": [
    "# 2. Preprocessing"
   ]
  },
  {
   "cell_type": "code",
   "execution_count": 13,
   "metadata": {},
   "outputs": [],
   "source": [
    "#input train & test file list\n",
    "train_list = []\n",
    "for file in glob.glob(os.path.join(train_path, '*.csv')):\n",
    "            train_list.append(file.split(\"/train/\")[1])\n",
    "test_list = []\n",
    "for file in glob.glob(os.path.join(test_path, '*.csv')):\n",
    "            test_list.append(file.split(\"/test/\")[1])"
   ]
  },
  {
   "cell_type": "code",
   "execution_count": null,
   "metadata": {},
   "outputs": [],
   "source": [
    "train = pd.DataFrame()\n",
    "for file in train_list:\n",
    "    os.chdir(train_path)\n",
    "    df = pd.read_csv(file)\n",
    "    k = list(set(['A', 'D', 'F', 'H','I','Q', 'R', 'S', 'T', '^','-',\n",
    "       'a', 'd', 'f', 'h', 'i', 'q', 'r', 's', 't', 'OTH', 'REJ', 'RSTO',\n",
    "       'RSTOS0', 'RSTR', 'RSTRH', 'S0', 'S1', 'S2', 'S3', 'SF', 'SH', 'SHR']) - set(df.columns))\n",
    "    for i in k:\n",
    "        df[i] = 0\n",
    "    if \"Unnamed: 0\" in df:\n",
    "        df.drop(df.columns[0],axis =1, inplace=True)\n",
    "    "
   ]
  },
  {
   "cell_type": "code",
   "execution_count": null,
   "metadata": {},
   "outputs": [],
   "source": [
    "test = pd.DataFrame()\n",
    "for file in test_list:\n",
    "    os.chdir(test_path)\n",
    "    df = pd.read_csv(file)\n",
    "    k = list(set(['A', 'D', 'F', 'H','I','Q', 'R', 'S', 'T', '^','-',\n",
    "       'a', 'd', 'f', 'h', 'i', 'q', 'r', 's', 't', 'OTH', 'REJ', 'RSTO',\n",
    "       'RSTOS0', 'RSTR', 'RSTRH', 'S0', 'S1', 'S2', 'S3', 'SF', 'SH', 'SHR']) - set(df.columns))\n",
    "    for i in k:\n",
    "        df[i] = 0\n",
    "    if \"Unnamed: 0\" in df:\n",
    "        df.drop(df.columns[0],axis =1, inplace=True)\n",
    "    test = test.append(df)"
   ]
  },
  {
   "cell_type": "code",
   "execution_count": 79,
   "metadata": {},
   "outputs": [],
   "source": [
    "cols_to_drop = [\"tsWeek\",\"tsDay\",\"tsElapsed\"]"
   ]
  },
  {
   "cell_type": "code",
   "execution_count": 83,
   "metadata": {},
   "outputs": [],
   "source": [
    "train.drop(cols_to_drop, axis = 1, inplace=True)\n",
    "test.drop(cols_to_drop, axis = 1, inplace=True)"
   ]
  },
  {
   "cell_type": "code",
   "execution_count": 84,
   "metadata": {},
   "outputs": [
    {
     "data": {
      "text/plain": [
       "set()"
      ]
     },
     "execution_count": 84,
     "metadata": {},
     "output_type": "execute_result"
    }
   ],
   "source": [
    "set(train.columns) - set(test.columns)"
   ]
  },
  {
   "cell_type": "code",
   "execution_count": 85,
   "metadata": {},
   "outputs": [],
   "source": [
    "X_train = train.loc[:, train.columns != 'label']\n",
    "y_train = train.loc[:, train.columns == 'label']\n",
    "X_test = test.loc[:, test.columns != 'label']\n",
    "y_test = test.loc[:, test.columns == 'label']"
   ]
  },
  {
   "cell_type": "markdown",
   "metadata": {},
   "source": [
    "# 3. Modelling"
   ]
  },
  {
   "cell_type": "code",
   "execution_count": 88,
   "metadata": {},
   "outputs": [],
   "source": [
    "#function for plotting confusion Matrix\n",
    "def plot_confusion_matrix(cm, classes,\n",
    "                          normalize=False,\n",
    "                          title='Confusion matrix',\n",
    "                          cmap=plt.cm.Blues):\n",
    "    \"\"\"\n",
    "    This function prints and plots the confusion matrix.\n",
    "    Normalization can be applied by setting `normalize=True`.\n",
    "    \"\"\"\n",
    "    if normalize:\n",
    "        cm = cm.astype('float') / cm.sum(axis=1)[:, np.newaxis]\n",
    "        print(\"Normalized confusion matrix\")\n",
    "    else:\n",
    "        print('Confusion matrix, without normalization')\n",
    "\n",
    "    print(cm)\n",
    "\n",
    "    plt.imshow(cm, interpolation='nearest', cmap=cmap)\n",
    "    plt.title(title)\n",
    "    plt.colorbar()\n",
    "    tick_marks = np.arange(len(classes))\n",
    "    plt.xticks(tick_marks, classes, rotation=45)\n",
    "    plt.yticks(tick_marks, classes)\n",
    "\n",
    "    fmt = '.2f' if normalize else 'd'\n",
    "    thresh = cm.max() / 2.\n",
    "    for i, j in itertools.product(range(cm.shape[0]), range(cm.shape[1])):\n",
    "        plt.text(j, i, format(cm[i, j], fmt),\n",
    "                 horizontalalignment=\"center\",\n",
    "                 color=\"white\" if cm[i, j] > thresh else \"black\")\n",
    "\n",
    "    plt.ylabel('True label')\n",
    "    plt.xlabel('Predicted label')\n",
    "    plt.tight_layout()"
   ]
  },
  {
   "cell_type": "markdown",
   "metadata": {},
   "source": [
    "## 3.1 Random Forest"
   ]
  },
  {
   "cell_type": "code",
   "execution_count": 94,
   "metadata": {},
   "outputs": [
    {
     "name": "stderr",
     "output_type": "stream",
     "text": [
      "/apps/software/standard/core/anaconda/5.2.0-py3.6/lib/python3.6/site-packages/ipykernel_launcher.py:2: DataConversionWarning: A column-vector y was passed when a 1d array was expected. Please change the shape of y to (n_samples,), for example using ravel().\n",
      "  \n"
     ]
    },
    {
     "name": "stdout",
     "output_type": "stream",
     "text": [
      "Confusion matrix, without normalization\n",
      "[[1703706   84980]\n",
      " [ 173827 1614859]]\n"
     ]
    },
    {
     "data": {
      "image/png": "[encoded data removed]",
      "text/plain": [
       "<Figure size 432x288 with 2 Axes>"
      ]
     },
     "metadata": {},
     "output_type": "display_data"
    }
   ],
   "source": [
    "m = RandomForestClassifier(n_estimators=1000, min_samples_leaf=100, max_features=0.5, n_jobs=-1)\n",
    "m.fit(X_train, y_train) \n",
    "pred_y = m.predict(X_test)\n",
    "cm= confusion_matrix(y_test, pred_y)\n",
    "plt.figure()\n",
    "plot_confusion_matrix(cm, classes=[0,1],title='Confusion matrix, without normalization')"
   ]
  },
  {
   "cell_type": "code",
   "execution_count": 95,
   "metadata": {},
   "outputs": [
    {
     "name": "stdout",
     "output_type": "stream",
     "text": [
      "0.9500070300775544 0.9028186053896547 4.7509736197409715 92.76544345961226 0.9258119119111944\n"
     ]
    }
   ],
   "source": [
    "tn, fp, fn, tp = cm.ravel()\n",
    "precision=tp/(tp+fp)\n",
    "recall=tp/(tp+fn)\n",
    "fpr = fp/(fp+ tn)\n",
    "accuracy = (tp + tn)/(tn + tp + fn + fp)\n",
    "F1 = 2 * (precision * recall) / (precision + recall)\n",
    "print(precision, recall, fpr*100, accuracy*100, F1)"
   ]
  },
  {
   "cell_type": "code",
   "execution_count": 96,
   "metadata": {},
   "outputs": [
    {
     "data": {
      "text/plain": [
       "<matplotlib.legend.Legend at 0x7fcf68ea8f98>"
      ]
     },
     "execution_count": 96,
     "metadata": {},
     "output_type": "execute_result"
    },
    {
     "data": {
      "image/png": "[encoded data removed]",
      "text/plain": [
       "<Figure size 432x288 with 1 Axes>"
      ]
     },
     "metadata": {},
     "output_type": "display_data"
    }
   ],
   "source": [
    "from sklearn.metrics import roc_curve\n",
    "from sklearn.metrics import auc\n",
    "\n",
    "# Compute fpr, tpr, thresholds and roc auc\n",
    "fpr, tpr, thresholds = roc_curve(y_test, pred_y)\n",
    "roc_auc = auc(fpr,tpr)\n",
    "\n",
    "# Plot ROC curve\n",
    "plt.plot(fpr, tpr, label='ROC curve (area = %0.3f)' % roc_auc)\n",
    "plt.plot([0, 1], [0, 1], 'k--')  # random predictions curve\n",
    "plt.xlim([0.0, 1.0])\n",
    "plt.ylim([0.0, 1.0])\n",
    "plt.xlabel('False Positive Rate or (1 - Specifity)')\n",
    "plt.ylabel('True Positive Rate or (Sensitivity)')\n",
    "plt.title('Receiver Operating Characteristic')\n",
    "plt.legend(loc=\"lower right\")"
   ]
  },
  {
   "cell_type": "markdown",
   "metadata": {},
   "source": [
    "# 3.2 Gradient Boosting Classifier"
   ]
  },
  {
   "cell_type": "code",
   "execution_count": null,
   "metadata": {},
   "outputs": [
    {
     "name": "stderr",
     "output_type": "stream",
     "text": [
      "/home/rk9cx/.local/lib/python3.6/site-packages/sklearn/utils/validation.py:761: DataConversionWarning: A column-vector y was passed when a 1d array was expected. Please change the shape of y to (n_samples, ), for example using ravel().\n",
      "  y = column_or_1d(y, warn=True)\n"
     ]
    }
   ],
   "source": [
    "g = GradientBoostingClassifier(n_estimators=500, min_samples_leaf=100, max_features=0.5, subsample = 0.9, random_state = 2, max_depth = 3)\n",
    "g.fit(X_train, y_train) \n",
    "pred_y = g.predict(X_test)\n",
    "cm= confusion_matrix(y_test, pred_y)\n",
    "plt.figure()\n",
    "plot_confusion_matrix(cm, classes=[0,1],title='Confusion matrix, without normalization')"
   ]
  },
  {
   "cell_type": "code",
   "execution_count": 114,
   "metadata": {},
   "outputs": [
    {
     "data": {
      "text/plain": [
       "<matplotlib.legend.Legend at 0x7fcf68ce0358>"
      ]
     },
     "execution_count": 114,
     "metadata": {},
     "output_type": "execute_result"
    },
    {
     "data": {
      "image/png": "[encoded data removed]",
      "text/plain": [
       "<Figure size 432x288 with 1 Axes>"
      ]
     },
     "metadata": {},
     "output_type": "display_data"
    }
   ],
   "source": [
    "from sklearn.metrics import roc_curve\n",
    "from sklearn.metrics import auc\n",
    "\n",
    "# Compute fpr, tpr, thresholds and roc auc\n",
    "fpr, tpr, thresholds = roc_curve(y_test, pred_y)\n",
    "roc_auc = auc(fpr,tpr)\n",
    "\n",
    "# Plot ROC curve\n",
    "plt.plot(fpr, tpr, label='ROC curve (area = %0.3f)' % roc_auc)\n",
    "plt.plot([0, 1], [0, 1], 'k--')  # random predictions curve\n",
    "plt.xlim([0.0, 1.0])\n",
    "plt.ylim([0.0, 1.0])\n",
    "plt.xlabel('False Positive Rate or (1 - Specifity)')\n",
    "plt.ylabel('True Positive Rate or (Sensitivity)')\n",
    "plt.title('Receiver Operating Characteristic')\n",
    "plt.legend(loc=\"lower right\")"
   ]
  },
  {
   "cell_type": "code",
   "execution_count": 113,
   "metadata": {},
   "outputs": [
    {
     "name": "stdout",
     "output_type": "stream",
     "text": [
      "0.9468979077978095 0.941484978358415 5.27985347903433 94.43432217840359 0.9441836851691282\n"
     ]
    }
   ],
   "source": [
    "tn, fp, fn, tp = cm.ravel()\n",
    "precision=tp/(tp+fp)\n",
    "recall=tp/(tp+fn)\n",
    "fpr = fp/(fp+ tn)\n",
    "accuracy = (tp + tn)/(tn + tp + fn + fp)\n",
    "F1 = 2 * (precision * recall) / (precision + recall)\n",
    "print(precision, recall, fpr*100, accuracy*100, F1)"
   ]
  },
  {
   "cell_type": "markdown",
   "metadata": {},
   "source": [
    "## 3.3 Artificial Neural Network"
   ]
  },
  {
   "cell_type": "code",
   "execution_count": 115,
   "metadata": {},
   "outputs": [],
   "source": [
    "def f1(y_true, y_pred):\n",
    "    def recall(y_true, y_pred):\n",
    "        \n",
    "        true_positives = K.sum(K.round(K.clip(y_true * y_pred, 0, 1)))\n",
    "        possible_positives = K.sum(K.round(K.clip(y_true, 0, 1)))\n",
    "        recall = true_positives / (possible_positives + K.epsilon())\n",
    "        return recall\n",
    "\n",
    "    def precision(y_true, y_pred):\n",
    "       \n",
    "        true_positives = K.sum(K.round(K.clip(y_true * y_pred, 0, 1)))\n",
    "        predicted_positives = K.sum(K.round(K.clip(y_pred, 0, 1)))\n",
    "        precision = true_positives / (predicted_positives + K.epsilon())\n",
    "        return precision\n",
    "    precision = precision(y_true, y_pred)\n",
    "    recall = recall(y_true, y_pred)\n",
    "    return 2*((precision*recall)/(precision+recall+K.epsilon()))\n",
    "\n",
    "def recall(y_true, y_pred):\n",
    "   \n",
    "    true_positives = K.sum(K.round(K.clip(y_true * y_pred, 0, 1)))\n",
    "    possible_positives = K.sum(K.round(K.clip(y_true, 0, 1)))\n",
    "    recall = true_positives / (possible_positives + K.epsilon())\n",
    "    return recall\n",
    "    \n",
    "\n",
    "def precision(y_true, y_pred):\n",
    "    \n",
    "    true_positives = K.sum(K.round(K.clip(y_true * y_pred, 0, 1)))\n",
    "    predicted_positives = K.sum(K.round(K.clip(y_pred, 0, 1)))\n",
    "    precision = true_positives / (predicted_positives + K.epsilon())\n",
    "    return precision"
   ]
  },
  {
   "cell_type": "code",
   "execution_count": 124,
   "metadata": {},
   "outputs": [],
   "source": [
    "model = models.Sequential()\n",
    "model.add(Dense(25, input_dim=53, kernel_initializer='uniform', activation='relu'))\n",
    "model.add(Dropout(0.2))\n",
    "model.add(Dense(1, kernel_initializer='uniform', activation='relu'))\n",
    "sgd=optimizers.SGD(lr=0.001, momentum=0.5, decay=0.00002, nesterov=False)\n",
    "model.compile(loss='binary_crossentropy', optimizer=sgd, metrics=['accuracy'])"
   ]
  },
  {
   "cell_type": "code",
   "execution_count": 126,
   "metadata": {},
   "outputs": [
    {
     "name": "stdout",
     "output_type": "stream",
     "text": [
      "Train on 2370368 samples, validate on 1015872 samples\n",
      "Epoch 1/30\n",
      "2370368/2370368 [==============================] - 32s 14us/step - loss: 7.5679 - acc: 6.8344e-05 - val_loss: 8.9116 - val_acc: 0.0000e+00\n",
      "Epoch 2/30\n",
      "2370368/2370368 [==============================] - 33s 14us/step - loss: 7.5825 - acc: 0.0069 - val_loss: 8.9116 - val_acc: 0.0000e+00\n",
      "Epoch 3/30\n",
      "2370368/2370368 [==============================] - 33s 14us/step - loss: 7.5694 - acc: 7.4630e-04 - val_loss: 8.9116 - val_acc: 0.0000e+00\n",
      "Epoch 4/30\n",
      "2370368/2370368 [==============================] - 33s 14us/step - loss: 7.5693 - acc: 7.5220e-04 - val_loss: 8.9116 - val_acc: 0.0000e+00\n",
      "Epoch 5/30\n",
      "2370368/2370368 [==============================] - 32s 14us/step - loss: 7.5697 - acc: 7.3280e-04 - val_loss: 8.9116 - val_acc: 0.0000e+00\n",
      "Epoch 6/30\n",
      "2370368/2370368 [==============================] - 33s 14us/step - loss: 7.5691 - acc: 6.3408e-04 - val_loss: 8.9116 - val_acc: 0.0000e+00\n",
      "Epoch 7/30\n",
      "2370368/2370368 [==============================] - 33s 14us/step - loss: 7.5697 - acc: 6.4505e-04 - val_loss: 8.9116 - val_acc: 0.0000e+00\n",
      "Epoch 8/30\n",
      "2370368/2370368 [==============================] - 33s 14us/step - loss: 7.5691 - acc: 6.3028e-04 - val_loss: 8.9116 - val_acc: 0.0000e+00\n",
      "Epoch 9/30\n",
      "2370368/2370368 [==============================] - 32s 14us/step - loss: 7.5690 - acc: 6.3239e-04 - val_loss: 8.9116 - val_acc: 0.0000e+00\n",
      "Epoch 10/30\n",
      "2370368/2370368 [==============================] - 33s 14us/step - loss: 7.5689 - acc: 6.5517e-04 - val_loss: 8.9116 - val_acc: 0.0000e+00\n",
      "Epoch 11/30\n",
      "2370368/2370368 [==============================] - 32s 14us/step - loss: 7.5693 - acc: 6.4927e-04 - val_loss: 8.9116 - val_acc: 0.0000e+00\n",
      "Epoch 12/30\n",
      "2370368/2370368 [==============================] - 33s 14us/step - loss: 7.5694 - acc: 6.4674e-04 - val_loss: 8.9116 - val_acc: 0.0000e+00\n",
      "Epoch 13/30\n",
      "2370368/2370368 [==============================] - 31s 13us/step - loss: 7.5696 - acc: 6.1636e-04 - val_loss: 8.9116 - val_acc: 0.0000e+00\n",
      "Epoch 14/30\n",
      "2370368/2370368 [==============================] - 29s 12us/step - loss: 7.5687 - acc: 6.5770e-04 - val_loss: 8.9116 - val_acc: 0.0000e+00\n",
      "Epoch 15/30\n",
      "2370368/2370368 [==============================] - 31s 13us/step - loss: 7.5697 - acc: 6.0623e-04 - val_loss: 8.9116 - val_acc: 0.0000e+00\n",
      "Epoch 16/30\n",
      "2370368/2370368 [==============================] - 31s 13us/step - loss: 7.5697 - acc: 6.2480e-04 - val_loss: 8.9116 - val_acc: 0.0000e+00\n",
      "Epoch 17/30\n",
      "2370368/2370368 [==============================] - 29s 12us/step - loss: 7.5696 - acc: 6.3450e-04 - val_loss: 8.9116 - val_acc: 0.0000e+00\n",
      "Epoch 18/30\n",
      "2370368/2370368 [==============================] - 31s 13us/step - loss: 7.5694 - acc: 6.4505e-04 - val_loss: 8.9116 - val_acc: 0.0000e+00\n",
      "Epoch 19/30\n",
      "2370368/2370368 [==============================] - 32s 14us/step - loss: 7.5697 - acc: 6.3703e-04 - val_loss: 8.9116 - val_acc: 0.0000e+00\n",
      "Epoch 20/30\n",
      "2370368/2370368 [==============================] - 33s 14us/step - loss: 7.5691 - acc: 6.5433e-04 - val_loss: 8.9116 - val_acc: 0.0000e+00\n",
      "Epoch 21/30\n",
      "2370368/2370368 [==============================] - 33s 14us/step - loss: 7.5694 - acc: 6.3534e-04 - val_loss: 8.9116 - val_acc: 0.0000e+00\n",
      "Epoch 22/30\n",
      "2370368/2370368 [==============================] - 33s 14us/step - loss: 7.5698 - acc: 6.3450e-04 - val_loss: 8.9116 - val_acc: 0.0000e+00\n",
      "Epoch 23/30\n",
      "2370368/2370368 [==============================] - 33s 14us/step - loss: 7.5695 - acc: 6.5686e-04 - val_loss: 8.9116 - val_acc: 0.0000e+00\n",
      "Epoch 24/30\n",
      "2370368/2370368 [==============================] - 33s 14us/step - loss: 7.5697 - acc: 6.2438e-04 - val_loss: 8.9116 - val_acc: 0.0000e+00\n",
      "Epoch 25/30\n",
      "2370368/2370368 [==============================] - 32s 14us/step - loss: 7.5686 - acc: 6.5602e-04 - val_loss: 8.9116 - val_acc: 0.0000e+00\n",
      "Epoch 26/30\n",
      "2370368/2370368 [==============================] - 32s 14us/step - loss: 7.5693 - acc: 6.1720e-04 - val_loss: 8.9116 - val_acc: 0.0000e+00\n",
      "Epoch 27/30\n",
      "2370368/2370368 [==============================] - 33s 14us/step - loss: 7.5694 - acc: 6.4716e-04 - val_loss: 8.9116 - val_acc: 0.0000e+00\n",
      "Epoch 28/30\n",
      "2370368/2370368 [==============================] - 33s 14us/step - loss: 7.5690 - acc: 6.2606e-04 - val_loss: 8.9116 - val_acc: 0.0000e+00\n",
      "Epoch 29/30\n",
      "2370368/2370368 [==============================] - 32s 14us/step - loss: 7.5690 - acc: 6.4420e-04 - val_loss: 8.9116 - val_acc: 0.0000e+00\n",
      "Epoch 30/30\n",
      "2370368/2370368 [==============================] - 33s 14us/step - loss: 7.5695 - acc: 6.2986e-04 - val_loss: 8.9116 - val_acc: 0.0000e+00\n"
     ]
    }
   ],
   "source": [
    "result = model.fit(X_train, y_train, epochs=30, batch_size=256, verbose=1, validation_split=0.3) "
   ]
  },
  {
   "cell_type": "code",
   "execution_count": 127,
   "metadata": {},
   "outputs": [],
   "source": [
    "preds = model.predict_classes(X_test)"
   ]
  },
  {
   "cell_type": "code",
   "execution_count": 128,
   "metadata": {},
   "outputs": [
    {
     "name": "stdout",
     "output_type": "stream",
     "text": [
      "Confusion matrix, without normalization\n",
      "[[      0       0]\n",
      " [1798911 1778461]]\n"
     ]
    },
    {
     "data": {
      "image/png": "[encoded data removed]",
      "text/plain": [
       "<Figure size 432x288 with 2 Axes>"
      ]
     },
     "metadata": {},
     "output_type": "display_data"
    }
   ],
   "source": [
    "cm= confusion_matrix(preds, pred_y)\n",
    "plt.figure()\n",
    "plot_confusion_matrix(cm, classes=[0,1],title='Confusion matrix, without normalization')"
   ]
  },
  {
   "cell_type": "code",
   "execution_count": 129,
   "metadata": {},
   "outputs": [
    {
     "name": "stdout",
     "output_type": "stream",
     "text": [
      "1.0 0.4971417565743792 nan 49.71417565743792 0.664121155383299\n"
     ]
    },
    {
     "name": "stderr",
     "output_type": "stream",
     "text": [
      "/apps/software/standard/core/anaconda/5.2.0-py3.6/lib/python3.6/site-packages/ipykernel_launcher.py:4: RuntimeWarning: invalid value encountered in long_scalars\n",
      "  after removing the cwd from sys.path.\n"
     ]
    }
   ],
   "source": [
    "tn, fp, fn, tp = cm.ravel()\n",
    "precision=tp/(tp+fp)\n",
    "recall=tp/(tp+fn)\n",
    "fpr = fp/(fp+ tn)\n",
    "accuracy = (tp + tn)/(tn + tp + fn + fp)\n",
    "F1 = 2 * (precision * recall) / (precision + recall)\n",
    "print(precision, recall, fpr*100, accuracy*100, F1)"
   ]
  },
  {
   "cell_type": "code",
   "execution_count": null,
   "metadata": {},
   "outputs": [
    {
     "name": "stderr",
     "output_type": "stream",
     "text": [
      "/home/rk9cx/.local/lib/python3.6/site-packages/sklearn/ensemble/iforest.py:223: FutureWarning: behaviour=\"old\" is deprecated and will be removed in version 0.22. Please use behaviour=\"new\", which makes the decision_function change to match other anomaly detection algorithm API.\n",
      "  FutureWarning)\n",
      "/home/rk9cx/.local/lib/python3.6/site-packages/sklearn/ensemble/iforest.py:417: DeprecationWarning: threshold_ attribute is deprecated in 0.20 and will be removed in 0.22.\n",
      "  \" be removed in 0.22.\", DeprecationWarning)\n",
      "/home/rk9cx/.local/lib/python3.6/site-packages/sklearn/ensemble/iforest.py:223: FutureWarning: behaviour=\"old\" is deprecated and will be removed in version 0.22. Please use behaviour=\"new\", which makes the decision_function change to match other anomaly detection algorithm API.\n",
      "  FutureWarning)\n",
      "/home/rk9cx/.local/lib/python3.6/site-packages/sklearn/ensemble/iforest.py:417: DeprecationWarning: threshold_ attribute is deprecated in 0.20 and will be removed in 0.22.\n",
      "  \" be removed in 0.22.\", DeprecationWarning)\n",
      "/home/rk9cx/.local/lib/python3.6/site-packages/sklearn/ensemble/iforest.py:223: FutureWarning: behaviour=\"old\" is deprecated and will be removed in version 0.22. Please use behaviour=\"new\", which makes the decision_function change to match other anomaly detection algorithm API.\n",
      "  FutureWarning)\n"
     ]
    }
   ],
   "source": [
    "import random\n",
    "outliers_fraction = [0.5,0.4,0.3,0.20,.25,0.2,0.15,0.1,0.05,0.01,0.001]\n",
    "n_estimators=[100,200,300]\n",
    "max_features = [0.1,0.2,0.3,0.4,0.5,0.6,0.7,0.8,0.9,1]\n",
    "\n",
    "for i in range(10):\n",
    "    a = random.choice(n_estimators)\n",
    "    b = random.choice(max_features)\n",
    "    c = random.choice(outliers_fraction)\n",
    "    I = IsolationForest(n_estimators=a, max_features=b, contamination=c, n_jobs=-1)\n",
    "    I.fit(X_train)\n",
    "    X_train[\"Iscores\"+ str(i)] = I.predict(X_train)\n",
    "    X_train[\"Iscores\"+ str(i)] = [1 if x == -1 else 0 for x in X_train[\"Iscores\"+ str(i)]]\n",
    "    I.fit(X_test)\n",
    "    X_test[\"Iscores\"+ str(i)] = I.predict(X_test)\n",
    "    X_test[\"Iscores\"+ str(i)] = [1 if x == -1 else 0 for x in X_test[\"Iscores\"+ str(i)]]"
   ]
  },
  {
   "cell_type": "code",
   "execution_count": null,
   "metadata": {},
   "outputs": [],
   "source": [
    "X_train_sep = X_train.T.tail(10).T\n",
    "X_test_sep = X_test.T.tail(10).T"
   ]
  },
  {
   "cell_type": "code",
   "execution_count": null,
   "metadata": {},
   "outputs": [],
   "source": [
    "RF = RandomForestClassifier(n_estimators=500, min_samples_leaf=2, max_features=0.6).fit(X_train_sep, y_train)\n",
    "pred_y=RF.predict(X_test_sep)\n",
    "cm= confusion_matrix(y_test,pred_y)\n",
    "plt.figure()\n",
    "plot_confusion_matrix(cm, classes=[0,1],title='Confusion matrix, without normalization')"
   ]
  },
  {
   "cell_type": "code",
   "execution_count": null,
   "metadata": {},
   "outputs": [],
   "source": [
    "tn, fp, fn, tp = cm.ravel()\n",
    "precision=tp/(tp+fp)\n",
    "recall=tp/(tp+fn)\n",
    "fpr = fp/(fp+ tn)\n",
    "accuracy = (tp + tn)/(tn + tp + fn + fp)\n",
    "print(precision, recall, fpr*100, accuracy*100)"
   ]
  },
  {
   "cell_type": "code",
   "execution_count": null,
   "metadata": {},
   "outputs": [],
   "source": []
  }
 ],
 "metadata": {
  "kernelspec": {
   "display_name": "Python 3",
   "language": "python",
   "name": "python3"
  },
  "language_info": {
   "codemirror_mode": {
    "name": "ipython",
    "version": 3
   },
   "file_extension": ".py",
   "mimetype": "text/x-python",
   "name": "python",
   "nbconvert_exporter": "python",
   "pygments_lexer": "ipython3",
   "version": "3.6.6"
  }
 },
 "nbformat": 4,
 "nbformat_minor": 2
}
