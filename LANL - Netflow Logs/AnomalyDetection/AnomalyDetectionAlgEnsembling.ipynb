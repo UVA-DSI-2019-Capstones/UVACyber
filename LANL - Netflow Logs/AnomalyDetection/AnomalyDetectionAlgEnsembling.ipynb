{
 "cells": [
  {
   "cell_type": "code",
   "execution_count": 1,
   "metadata": {},
   "outputs": [],
   "source": [
    "# Evaluating the models' aggreement"
   ]
  },
  {
   "cell_type": "code",
   "execution_count": 38,
   "metadata": {},
   "outputs": [],
   "source": [
    "import pandas as pd\n",
    "import time \n",
    "import numpy as np"
   ]
  },
  {
   "cell_type": "code",
   "execution_count": 10,
   "metadata": {},
   "outputs": [
    {
     "name": "stdout",
     "output_type": "stream",
     "text": [
      "1.8446147441864014\n"
     ]
    }
   ],
   "source": [
    "# Reading in the labels\n",
    "start = time.time()\n",
    "labels = pd.read_csv('anomaly_detection_alg_labels.csv')\n",
    "if_labels = pd.read_csv('IF_predictions.csv', header=None)\n",
    "end = time.time()\n",
    "print(end - start)"
   ]
  },
  {
   "cell_type": "code",
   "execution_count": 12,
   "metadata": {},
   "outputs": [
    {
     "data": {
      "text/plain": [
       "(1000000, 1)"
      ]
     },
     "execution_count": 12,
     "metadata": {},
     "output_type": "execute_result"
    }
   ],
   "source": [
    "labels = labels[['LOF_0.01_Labels', 'EE_0.01_Lables', 'OCSVM_0.01_Labels']]\n",
    "if_labels.shape"
   ]
  },
  {
   "cell_type": "code",
   "execution_count": 44,
   "metadata": {},
   "outputs": [
    {
     "name": "stdout",
     "output_type": "stream",
     "text": [
      "0.96475\n",
      "0.0\n",
      "0.96475\n",
      "6233\n"
     ]
    }
   ],
   "source": [
    "# Checking overall agreement\n",
    "labels[\"IF_0.01_Labels\"] = if_labels\n",
    "labels[\"Sum\"] = labels['LOF_0.01_Labels']+ labels['EE_0.01_Lables'] + labels['OCSVM_0.01_Labels'] + labels['IF_0.01_Labels']\n",
    "print(len(labels[\"Sum\"][(labels[\"Sum\"]==4) | (labels[\"Sum\"]==-4)])/len(labels)) # Overall agreement\n",
    "print(len(labels[\"Sum\"][labels[\"Sum\"]==-4])/len(labels)) # This is when they all say anomalous\n",
    "print(len(labels[\"Sum\"][labels[\"Sum\"]==4])/len(labels)) # This is when they all say non-anomalous\n",
    "print(len(labels[\"Sum\"][labels[\"Sum\"]==0])) # This is when there's a tie"
   ]
  },
  {
   "cell_type": "code",
   "execution_count": 58,
   "metadata": {},
   "outputs": [],
   "source": [
    "# Making a new column for the majority vote\n",
    "labels['Ensemble'] = np.where(labels[\"Sum\"]>0, 1, -1)"
   ]
  },
  {
   "cell_type": "code",
   "execution_count": 47,
   "metadata": {},
   "outputs": [
    {
     "name": "stdout",
     "output_type": "stream",
     "text": [
      "0.9839\n",
      "0.996057\n",
      "0.982503\n",
      "0.996057\n"
     ]
    }
   ],
   "source": [
    "# Finding pairwise agreement with majority vote\n",
    "print(sum(labels['Ensemble']==labels['LOF_0.01_Labels'])/len(labels))\n",
    "print(sum(labels['Ensemble']==labels['EE_0.01_Lables'])/len(labels))\n",
    "print(sum(labels['Ensemble']==labels['OCSVM_0.01_Labels'])/len(labels))\n",
    "print(sum(labels['Ensemble']==labels['IF_0.01_Labels'])/len(labels))"
   ]
  },
  {
   "cell_type": "code",
   "execution_count": 62,
   "metadata": {},
   "outputs": [
    {
     "name": "stdout",
     "output_type": "stream",
     "text": [
      "0.983812\n",
      "0.989912\n",
      "0.982415\n",
      "0.989912\n"
     ]
    }
   ],
   "source": [
    "# Non-anomalous\n",
    "print(len(labels[(labels['Ensemble']==1) & (labels['LOF_0.01_Labels']==1)])/len(labels))\n",
    "print(len(labels[(labels['Ensemble']==1) & (labels['EE_0.01_Lables']==1)])/len(labels))\n",
    "print(len(labels[(labels['Ensemble']==1) & (labels['OCSVM_0.01_Labels']==1)])/len(labels))\n",
    "print(len(labels[(labels['Ensemble']==1) & (labels['IF_0.01_Labels']==1)])/len(labels))"
   ]
  },
  {
   "cell_type": "code",
   "execution_count": 63,
   "metadata": {},
   "outputs": [
    {
     "name": "stdout",
     "output_type": "stream",
     "text": [
      "8.8e-05\n",
      "0.006145\n",
      "8.8e-05\n",
      "0.006145\n"
     ]
    }
   ],
   "source": [
    "# Anomalous\n",
    "print(len(labels[(labels['Ensemble']==-1) & (labels['LOF_0.01_Labels']==-1)])/len(labels))\n",
    "print(len(labels[(labels['Ensemble']==-1) & (labels['EE_0.01_Lables']==-1)])/len(labels))\n",
    "print(len(labels[(labels['Ensemble']==-1) & (labels['OCSVM_0.01_Labels']==-1)])/len(labels))\n",
    "print(len(labels[(labels['Ensemble']==-1) & (labels['IF_0.01_Labels']==-1)])/len(labels))"
   ]
  },
  {
   "cell_type": "code",
   "execution_count": 52,
   "metadata": {},
   "outputs": [
    {
     "name": "stdout",
     "output_type": "stream",
     "text": [
      "IF\n",
      "0.979957\n",
      "0.99229\n",
      "0.97856\n",
      "LOF\n",
      "0.979957\n",
      "0.978693\n",
      "EE\n",
      "0.97856\n"
     ]
    }
   ],
   "source": [
    "# Pairwise agreement\n",
    "print('IF')\n",
    "print(sum(labels['IF_0.01_Labels']==labels['LOF_0.01_Labels'])/len(labels))\n",
    "print(sum(labels['IF_0.01_Labels']==labels['EE_0.01_Lables'])/len(labels))\n",
    "print(sum(labels['IF_0.01_Labels']==labels['OCSVM_0.01_Labels'])/len(labels))\n",
    "\n",
    "print('LOF')\n",
    "print(sum(labels['LOF_0.01_Labels']==labels['EE_0.01_Lables'])/len(labels))\n",
    "print(sum(labels['LOF_0.01_Labels']==labels['OCSVM_0.01_Labels'])/len(labels))\n",
    "\n",
    "print('EE')\n",
    "print(sum(labels['EE_0.01_Lables']==labels['OCSVM_0.01_Labels'])/len(labels))"
   ]
  }
 ],
 "metadata": {
  "kernelspec": {
   "display_name": "Python 3",
   "language": "python",
   "name": "python3"
  },
  "language_info": {
   "codemirror_mode": {
    "name": "ipython",
    "version": 3
   },
   "file_extension": ".py",
   "mimetype": "text/x-python",
   "name": "python",
   "nbconvert_exporter": "python",
   "pygments_lexer": "ipython3",
   "version": "3.7.1"
  }
 },
 "nbformat": 4,
 "nbformat_minor": 2
}
