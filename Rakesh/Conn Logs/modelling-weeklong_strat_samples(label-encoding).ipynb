{
 "cells": [
  {
   "cell_type": "markdown",
   "metadata": {},
   "source": [
    "# 1. Reading Libraries"
   ]
  },
  {
   "cell_type": "code",
   "execution_count": 2,
   "metadata": {},
   "outputs": [
    {
     "name": "stderr",
     "output_type": "stream",
     "text": [
      "/apps/software/standard/core/anaconda/5.2.0-py3.6/lib/python3.6/site-packages/h5py/__init__.py:36: FutureWarning: Conversion of the second argument of issubdtype from `float` to `np.floating` is deprecated. In future, it will be treated as `np.float64 == np.dtype(float).type`.\n",
      "  from ._conv import register_converters as _register_converters\n",
      "Using TensorFlow backend.\n"
     ]
    }
   ],
   "source": [
    "import pandas as pd\n",
    "import os\n",
    "import glob\n",
    "import os\n",
    "import random\n",
    "import pandas as pd\n",
    "import numpy as np \n",
    "%matplotlib inline\n",
    "import matplotlib\n",
    "from fastai.imports import *\n",
    "from fastai.structured import *\n",
    "import matplotlib.pyplot as plt\n",
    "from sklearn.linear_model import LogisticRegressionCV\n",
    "from sklearn.metrics import confusion_matrix\n",
    "import itertools\n",
    "from sklearn.ensemble import RandomForestRegressor, RandomForestClassifier\n",
    "from sklearn.decomposition import PCA\n",
    "import matplotlib.pyplot as plt\n",
    "from sklearn.preprocessing import StandardScaler\n",
    "import matplotlib\n",
    "import matplotlib.pyplot as plt\n",
    "from sklearn.linear_model import LogisticRegressionCV\n",
    "from sklearn.metrics import confusion_matrix\n",
    "from keras.utils import to_categorical\n",
    "from keras.layers import Dropout\n",
    "from keras.layers import Dense\n",
    "from keras import models\n",
    "from sklearn.ensemble import IsolationForest\n",
    "from keras import optimizers\n",
    "import itertools\n",
    "from sklearn.ensemble import RandomForestRegressor, RandomForestClassifier\n",
    "from sklearn.ensemble import GradientBoostingClassifier\n",
    "import numpy as np\n",
    "import math\n",
    "from datetime import datetime, timedelta\n",
    "from fastai.imports import *\n",
    "from fastai.structured import *\n",
    "train_path = \"/scratch/rk9cx/conn_log_labelled_runtime/stratified_samples_W1-W2/train/\"\n",
    "test_path = \"/scratch/rk9cx/conn_log_labelled_runtime/stratified_samples_W1-W2/test/\""
   ]
  },
  {
   "cell_type": "markdown",
   "metadata": {},
   "source": [
    "# 2. Preprocessing"
   ]
  },
  {
   "cell_type": "code",
   "execution_count": 2,
   "metadata": {},
   "outputs": [],
   "source": [
    "#input train & test file list\n",
    "def list_of_files(train_path, test_path):\n",
    "    train_list = []\n",
    "    for file in glob(os.path.join(train_path, 'ss*.csv.csv')):\n",
    "                train_list.append(file.split(\"/train/\")[1])\n",
    "    test_list = []\n",
    "    for file in glob(os.path.join(test_path, 'ss*.csv.csv')):\n",
    "                test_list.append(file.split(\"/test/\")[1])\n",
    "    return train_list, test_list"
   ]
  },
  {
   "cell_type": "code",
   "execution_count": 3,
   "metadata": {},
   "outputs": [],
   "source": [
    "def class_balancer(df):\n",
    "    if df.label.value_counts()[0] > df.label.value_counts()[1]:\n",
    "        mal = df.loc[df['label'] == 1]\n",
    "        ben = df.loc[df['label'] == 0].sample(df.label.value_counts()[1])\n",
    "        mdf = pd.concat([mal,ben], axis = 0)\n",
    "        return mdf\n",
    "    if df.label.value_counts()[1] > df.label.value_counts()[0]:\n",
    "        mal = df.loc[df['label'] == 1].sample(df.label.value_counts()[0])\n",
    "        ben = df.loc[df['label'] == 0]\n",
    "        mdf = pd.concat([mal,ben], axis = 0)\n",
    "        return mdf"
   ]
  },
  {
   "cell_type": "code",
   "execution_count": 8,
   "metadata": {},
   "outputs": [],
   "source": [
    "def preprocess(df):\n",
    "    import pandas as pd\n",
    "    df = pd.concat([df, df['history'].str.join('|').str.get_dummies()], axis = 1)\n",
    "    df = df.drop([\"honeypot\",\"blacklist\",\"whitelist\"], axis=1)\n",
    "    df = pd.concat([df, pd.get_dummies(df.conn_state.apply(pd.Series), prefix=\"\", prefix_sep=\"\")], axis = 1)\n",
    "    df = df.drop([\"conn_state\"], axis=1)\n",
    "    df[\"duration\"] = df[\"duration\"].replace('-', 0)\n",
    "    df[\"src_bytes\"] = df[\"src_bytes\"].replace('-', 0)\n",
    "    df[\"dest_bytes\"] = df[\"dest_bytes\"].replace('-', 0)\n",
    "    rf_sample = df.drop([\"src_ip_ext\",\"src_ip\",\"dest_ip\"], axis=1)\n",
    "    try:\n",
    "        rf_sample[\"duration\"] = rf_sample[\"duration\"].astype(float)\n",
    "        rf_sample[\"duration\"] = np.log((rf_sample[\"duration\"].astype('int'))+0.001)\n",
    "    except ValueError:\n",
    "        rf_sample.to_csv(\"error.csv\")\n",
    "    rf_sample[\"src_bytes\"] = rf_sample[\"src_bytes\"].astype(float)\n",
    "    rf_sample[\"src_bytes\"] = np.log((rf_sample[\"src_bytes\"].astype('int'))+0.001)\n",
    "    rf_sample[\"dest_bytes\"] = rf_sample[\"dest_bytes\"].astype(float)\n",
    "    rf_sample[\"dest_bytes\"] = np.log((rf_sample[\"dest_bytes\"].astype('int'))+0.001)\n",
    "    rf_sample[\"src_pkts\"] = np.log((rf_sample[\"src_pkts\"].astype('int'))+0.001)\n",
    "    rf_sample[\"dest_pkts\"] = np.log((rf_sample[\"dest_pkts\"].astype('int'))+0.001)\n",
    "    rf_sample['ts'] = pd.to_datetime(rf_sample['ts'],unit='s')\n",
    "    rf_sample[\"src_port\"] = rf_sample[\"src_port\"].astype('category')\n",
    "    rf_sample[\"dest_port\"] = rf_sample[\"dest_port\"].astype('category')\n",
    "    rf_sample[\"history\"] = rf_sample[\"history\"].astype('category')\n",
    "    add_datepart(rf_sample, 'ts')\n",
    "    return rf_sample"
   ]
  },
  {
   "cell_type": "code",
   "execution_count": 13,
   "metadata": {},
   "outputs": [],
   "source": [
    "def read_data(train_list, test_list):\n",
    "    train = pd.DataFrame()\n",
    "    file_count = 0\n",
    "    for file in train_list:\n",
    "        os.chdir(train_path)\n",
    "        df1 = pd.read_csv(file)\n",
    "        k = list(set(['A', 'D', 'F', 'H','I','Q', 'R', 'S', 'T', '^','-',\n",
    "           'a', 'd', 'f', 'h', 'i', 'q', 'r', 's', 't', 'OTH', 'REJ', 'RSTO',\n",
    "           'RSTOS0', 'RSTR', 'RSTRH', 'S0', 'S1', 'S2', 'S3', 'SF', 'SH', 'SHR']) - set(df1.columns))\n",
    "        for i in k:\n",
    "            df1[i] = 0\n",
    "        if \"Unnamed: 0\" in df1:\n",
    "            df1.drop(df1.columns[0],axis =1, inplace=True)\n",
    "        file_count = file_count + 1\n",
    "        print((file_count *100/len(train_list)))\n",
    "        df1[\"dataset\"] = \"train\"\n",
    "        train = train.append(df1)\n",
    "    now = time.time()\n",
    "    train.to_csv(\"train_hist\" + str(now) +\".csv\", index = False)\n",
    "    test = pd.DataFrame()\n",
    "    for file in test_list:\n",
    "        os.chdir(test_path)\n",
    "        df2 = pd.read_csv(str(file).strip(\" \"))\n",
    "        k = list(set(['A', 'D', 'F', 'H','I','Q', 'R', 'S', 'T', '^','-',\n",
    "           'a', 'd', 'f', 'h', 'i', 'q', 'r', 's', 't', 'OTH', 'REJ', 'RSTO',\n",
    "           'RSTOS0', 'RSTR', 'RSTRH', 'S0', 'S1', 'S2', 'S3', 'SF', 'SH', 'SHR']) - set(df2.columns))\n",
    "        for i in k:\n",
    "            df2[i] = 0\n",
    "        if \"Unnamed: 0\" in df2:\n",
    "            df2.drop(df.columns[0],axis =1, inplace=True)\n",
    "        print(file)\n",
    "        df2[\"dataset\"] = \"test\"\n",
    "        test = test.append(df2)\n",
    "    test.to_csv(\"test_hist\" + str(now) +\".csv\", index = False)\n",
    "    alldata = pd.concat([train,test], axis = 0)\n",
    "    finaldf = preprocess(alldata)\n",
    "    train_df = finaldf[finaldf[\"dataset\"] == 'train']\n",
    "    train_df = class_balancer(train_df)\n",
    "    test_df = finaldf[finaldf[\"dataset\"] == 'test']\n",
    "    test_df = class_balancer(test_df)\n",
    "    X_train = train_df.loc[:, train_df.columns != 'label']\n",
    "    y_train = train_df.loc[:, train_df.columns == 'label']\n",
    "    X_test = test_df.loc[:, test_df.columns != 'label']\n",
    "    y_test = test_df.loc[:, test_df.columns == 'label']\n",
    "    return X_train, y_train, X_test, y_test"
   ]
  },
  {
   "cell_type": "code",
   "execution_count": null,
   "metadata": {},
   "outputs": [],
   "source": [
    "train_list, test_list = list_of_files(train_path, test_path) \n",
    "X_train, y_train, X_test, y_test = read_data(train_list, test_list)"
   ]
  },
  {
   "cell_type": "markdown",
   "metadata": {},
   "source": [
    "## 2.1 Training Set"
   ]
  },
  {
   "cell_type": "code",
   "execution_count": null,
   "metadata": {},
   "outputs": [],
   "source": [
    "train = pd.read_csv(\"/scratch/rk9cx/conn_log_labelled_runtime/stratified_samples_W1-W2/train/train_hist1550510984.2260587.csv\", index_col = False)\n",
    "train.head().T.head(52)"
   ]
  },
  {
   "cell_type": "code",
   "execution_count": null,
   "metadata": {},
   "outputs": [],
   "source": [
    "train.drop(['A', 'D', 'F', 'H','I','Q', 'R', 'S', 'T', '^','-',\n",
    "           'a', 'd', 'f', 'h', 'i', 'q', 'r', 's', 't', 'OTH', 'REJ', 'RSTO',\n",
    "           'RSTOS0', 'RSTR', 'RSTRH', 'S0', 'S1', 'S2', 'S3', 'SF', 'SH', 'SHR'], axis = 1, inplace = True)"
   ]
  },
  {
   "cell_type": "code",
   "execution_count": null,
   "metadata": {},
   "outputs": [],
   "source": [
    "train.drop([\"honeypot\",\"blacklist\",\"whitelist\"], axis = 1, inplace = True)"
   ]
  },
  {
   "cell_type": "code",
   "execution_count": 7,
   "metadata": {},
   "outputs": [],
   "source": [
    "train[\"src_port\"] = train[\"src_port\"].astype('category')\n",
    "train[\"dest_port\"] = train[\"dest_port\"].astype('category')\n",
    "train[\"history\"] = train[\"history\"].astype('category')\n",
    "train[\"conn_state\"] = train[\"conn_state\"].astype('category')"
   ]
  },
  {
   "cell_type": "code",
   "execution_count": 8,
   "metadata": {},
   "outputs": [],
   "source": [
    "    train[\"duration\"] = train[\"duration\"].replace('-', 0)\n",
    "    train[\"src_bytes\"] = train[\"src_bytes\"].replace('-', 0)\n",
    "    train[\"dest_bytes\"] = train[\"dest_bytes\"].replace('-', 0)"
   ]
  },
  {
   "cell_type": "code",
   "execution_count": 10,
   "metadata": {},
   "outputs": [],
   "source": [
    "    train[\"duration\"] = train[\"duration\"].astype(float)\n",
    "    train[\"duration\"] = np.log((train[\"duration\"].astype('int'))+0.001)\n",
    "    train[\"src_bytes\"] = train[\"src_bytes\"].astype(float)\n",
    "    train[\"src_bytes\"] = np.log((train[\"src_bytes\"].astype('int'))+0.001)\n",
    "    train[\"dest_bytes\"] = train[\"dest_bytes\"].astype(float)\n",
    "    train[\"dest_bytes\"] = np.log((train[\"dest_bytes\"].astype('int'))+0.001)\n",
    "    train[\"src_pkts\"] = np.log((train[\"src_pkts\"].astype('int'))+0.001)\n",
    "    train[\"dest_pkts\"] = np.log((train[\"dest_pkts\"].astype('int'))+0.001)"
   ]
  },
  {
   "cell_type": "code",
   "execution_count": null,
   "metadata": {},
   "outputs": [],
   "source": [
    "train['ts'] = pd.to_datetime(train['ts'],unit='s')"
   ]
  },
  {
   "cell_type": "code",
   "execution_count": 20,
   "metadata": {},
   "outputs": [],
   "source": [
    "train.drop([\"src_ip\",\"dest_ip\",\"src_ip_ext\"], axis = 1, inplace = True)"
   ]
  },
  {
   "cell_type": "code",
   "execution_count": 24,
   "metadata": {},
   "outputs": [],
   "source": [
    "train.drop([\"dataset\"], axis = 1, inplace = True)"
   ]
  },
  {
   "cell_type": "code",
   "execution_count": null,
   "metadata": {},
   "outputs": [],
   "source": [
    "add_datepart(train, 'ts')"
   ]
  },
  {
   "cell_type": "code",
   "execution_count": 16,
   "metadata": {},
   "outputs": [],
   "source": [
    "    xhr, yhr = [], []\n",
    "    for i in train.tsElapsed:\n",
    "        temp = (datetime.datetime.fromtimestamp(i) - timedelta(hours=-5)).strftime('%Y-%m-%d %H:%M:%S')[11:13]\n",
    "        xhr.append(np.sin(2*math.pi*int(temp)/24))\n",
    "        yhr.append(np.cos(2*math.pi*int(temp)/24))\n",
    "    train['xhr'] = xhr\n",
    "    train['yhr'] = yhr"
   ]
  },
  {
   "cell_type": "code",
   "execution_count": null,
   "metadata": {},
   "outputs": [],
   "source": [
    "from sklearn import preprocessing\n",
    "le = preprocessing.LabelEncoder()\n",
    "le.fit([1, 2, 2, 6])"
   ]
  },
  {
   "cell_type": "code",
   "execution_count": 32,
   "metadata": {},
   "outputs": [],
   "source": [
    "encoder_src = preprocessing.LabelEncoder()\n",
    "encoder_src.fit(train[\"src_port\"])\n",
    "np.save('src_ports.npy', encoder_src.classes_)"
   ]
  },
  {
   "cell_type": "code",
   "execution_count": 33,
   "metadata": {},
   "outputs": [],
   "source": [
    "encoder_dest = preprocessing.LabelEncoder()\n",
    "encoder_dest.fit(train[\"dest_port\"])\n",
    "np.save('dest_ports.npy', encoder_dest.classes_)\n",
    "encoder_hist = preprocessing.LabelEncoder()\n",
    "encoder_hist.fit(train[\"history\"])\n",
    "np.save('history_ports.npy', encoder_hist.classes_)\n",
    "encoder_conn = preprocessing.LabelEncoder()\n",
    "encoder_conn.fit(train[\"conn_state\"])\n",
    "np.save('connstate_ports.npy', encoder_conn.classes_)"
   ]
  },
  {
   "cell_type": "code",
   "execution_count": 38,
   "metadata": {},
   "outputs": [],
   "source": [
    "train[\"src_port\"] = train[\"src_port\"].cat.codes\n",
    "train[\"dest_port\"] = train[\"dest_port\"].cat.codes\n",
    "train[\"history\"] = train[\"history\"].cat.codes\n",
    "train[\"conn_state\"] = train[\"conn_state\"].cat.codes"
   ]
  },
  {
   "cell_type": "code",
   "execution_count": null,
   "metadata": {},
   "outputs": [],
   "source": [
    "train.head().T.head(52)"
   ]
  },
  {
   "cell_type": "code",
   "execution_count": null,
   "metadata": {},
   "outputs": [],
   "source": [
    "encoder = LabelEncoder()\n",
    "encoder.classes_ = numpy.load('classes.npy')"
   ]
  },
  {
   "cell_type": "code",
   "execution_count": 28,
   "metadata": {},
   "outputs": [],
   "source": [
    "cols_to_drop = [\"tsWeek\",\"tsDay\",\"tsElapsed\",\"tsDayofyear\"]\n",
    "train.drop(cols_to_drop, axis = 1, inplace=True)"
   ]
  },
  {
   "cell_type": "code",
   "execution_count": 42,
   "metadata": {},
   "outputs": [],
   "source": [
    "X_train = train.loc[:, train.columns != 'label']\n",
    "y_train = train.loc[:, train.columns == 'label']"
   ]
  },
  {
   "cell_type": "markdown",
   "metadata": {},
   "source": [
    "# 3. Fitting Initial Model and Saving Model"
   ]
  },
  {
   "cell_type": "code",
   "execution_count": 39,
   "metadata": {},
   "outputs": [],
   "source": [
    "import pickle"
   ]
  },
  {
   "cell_type": "code",
   "execution_count": 43,
   "metadata": {},
   "outputs": [
    {
     "name": "stderr",
     "output_type": "stream",
     "text": [
      "/apps/software/standard/core/anaconda/5.2.0-py3.6/lib/python3.6/site-packages/ipykernel_launcher.py:2: DataConversionWarning: A column-vector y was passed when a 1d array was expected. Please change the shape of y to (n_samples,), for example using ravel().\n",
      "  \n"
     ]
    },
    {
     "data": {
      "text/plain": [
       "RandomForestClassifier(bootstrap=True, class_weight=None, criterion='gini',\n",
       "            max_depth=None, max_features=0.5, max_leaf_nodes=None,\n",
       "            min_impurity_decrease=0.0, min_impurity_split=None,\n",
       "            min_samples_leaf=100, min_samples_split=2,\n",
       "            min_weight_fraction_leaf=0.0, n_estimators=200, n_jobs=-1,\n",
       "            oob_score=False, random_state=None, verbose=0,\n",
       "            warm_start=False)"
      ]
     },
     "execution_count": 43,
     "metadata": {},
     "output_type": "execute_result"
    }
   ],
   "source": [
    "m = RandomForestClassifier(n_estimators=200, min_samples_leaf=100, max_features=0.5, n_jobs=-1)\n",
    "m.fit(X_train, y_train) "
   ]
  },
  {
   "cell_type": "code",
   "execution_count": 44,
   "metadata": {},
   "outputs": [],
   "source": [
    "# Dump the trained decision tree classifier with Pickle\n",
    "rf_pkl_filename = 'rf_classifier_20190219.pkl'\n",
    "# Open the file to save as pkl file\n",
    "rf_model_pkl = open(rf_pkl_filename, 'wb')\n",
    "pickle.dump(m, rf_model_pkl)\n",
    "# Close the pickle instances\n",
    "rf_model_pkl.close()"
   ]
  },
  {
   "cell_type": "markdown",
   "metadata": {},
   "source": [
    "## 2.2 Test Data Preprocessing"
   ]
  },
  {
   "cell_type": "code",
   "execution_count": null,
   "metadata": {},
   "outputs": [],
   "source": [
    "train.to_csv(\"final_train_clean.csv\", index = False)\n",
    "test = pd.read_csv(\"/scratch/rk9cx/conn_log_labelled_runtime/stratified_samples_W1-W2/test/test_hist1550510984.2260587.csv\", index_col = False)"
   ]
  },
  {
   "cell_type": "code",
   "execution_count": 47,
   "metadata": {},
   "outputs": [],
   "source": [
    "test.drop(['A', 'D', 'F', 'H','I','Q', 'R', 'S', 'T', '^','-',\n",
    "           'a', 'd', 'f', 'h', 'i', 'q', 'r', 's', 't', 'OTH', 'REJ', 'RSTO',\n",
    "           'RSTOS0', 'RSTR', 'RSTRH', 'S0', 'S1', 'S2', 'S3', 'SF', 'SH', 'SHR'], axis = 1, inplace = True)"
   ]
  },
  {
   "cell_type": "code",
   "execution_count": 48,
   "metadata": {},
   "outputs": [],
   "source": [
    "test.drop([\"honeypot\",\"blacklist\",\"whitelist\"], axis = 1, inplace = True)"
   ]
  },
  {
   "cell_type": "code",
   "execution_count": 49,
   "metadata": {},
   "outputs": [],
   "source": [
    "test[\"src_port\"] = test[\"src_port\"].astype('category')\n",
    "test[\"dest_port\"] = test[\"dest_port\"].astype('category')\n",
    "test[\"history\"] = test[\"history\"].astype('category')\n",
    "test[\"conn_state\"] = test[\"conn_state\"].astype('category')"
   ]
  },
  {
   "cell_type": "code",
   "execution_count": 50,
   "metadata": {},
   "outputs": [],
   "source": [
    "    test[\"duration\"] = test[\"duration\"].replace('-', 0)\n",
    "    test[\"src_bytes\"] = test[\"src_bytes\"].replace('-', 0)\n",
    "    test[\"dest_bytes\"] = test[\"dest_bytes\"].replace('-', 0)"
   ]
  },
  {
   "cell_type": "code",
   "execution_count": 51,
   "metadata": {},
   "outputs": [],
   "source": [
    "    test[\"duration\"] = test[\"duration\"].astype(float)\n",
    "    test[\"duration\"] = np.log((test[\"duration\"].astype('int'))+0.001)\n",
    "    test[\"src_bytes\"] = test[\"src_bytes\"].astype(float)\n",
    "    test[\"src_bytes\"] = np.log((test[\"src_bytes\"].astype('int'))+0.001)\n",
    "    test[\"dest_bytes\"] = test[\"dest_bytes\"].astype(float)\n",
    "    test[\"dest_bytes\"] = np.log((test[\"dest_bytes\"].astype('int'))+0.001)\n",
    "    test[\"src_pkts\"] = np.log((test[\"src_pkts\"].astype('int'))+0.001)\n",
    "    test[\"dest_pkts\"] = np.log((test[\"dest_pkts\"].astype('int'))+0.001)"
   ]
  },
  {
   "cell_type": "code",
   "execution_count": 52,
   "metadata": {},
   "outputs": [],
   "source": [
    "test['ts'] = pd.to_datetime(test['ts'],unit='s')"
   ]
  },
  {
   "cell_type": "code",
   "execution_count": 53,
   "metadata": {},
   "outputs": [],
   "source": [
    "test.drop([\"src_ip\",\"dest_ip\",\"src_ip_ext\"], axis = 1, inplace = True)"
   ]
  },
  {
   "cell_type": "code",
   "execution_count": 54,
   "metadata": {},
   "outputs": [],
   "source": [
    "test.drop([\"dataset\"], axis = 1, inplace = True)"
   ]
  },
  {
   "cell_type": "code",
   "execution_count": 57,
   "metadata": {},
   "outputs": [],
   "source": [
    "add_datepart(test, 'ts')"
   ]
  },
  {
   "cell_type": "code",
   "execution_count": null,
   "metadata": {},
   "outputs": [],
   "source": [
    "test.head().T.head(52)"
   ]
  },
  {
   "cell_type": "code",
   "execution_count": 59,
   "metadata": {},
   "outputs": [],
   "source": [
    "    xhr, yhr = [], []\n",
    "    for i in test.tsElapsed:\n",
    "        temp = (datetime.datetime.fromtimestamp(i) - timedelta(hours=-5)).strftime('%Y-%m-%d %H:%M:%S')[11:13]\n",
    "        xhr.append(np.sin(2*math.pi*int(temp)/24))\n",
    "        yhr.append(np.cos(2*math.pi*int(temp)/24))\n",
    "    test['xhr'] = xhr\n",
    "    test['yhr'] = yhr"
   ]
  },
  {
   "cell_type": "code",
   "execution_count": 61,
   "metadata": {},
   "outputs": [
    {
     "data": {
      "text/plain": [
       "LabelEncoder()"
      ]
     },
     "execution_count": 61,
     "metadata": {},
     "output_type": "execute_result"
    }
   ],
   "source": [
    "encoder_src = preprocessing.LabelEncoder()\n",
    "encoder_src.classes_ = np.load('src_ports.npy')\n",
    "encoder_src.fit(test[\"src_port\"])"
   ]
  },
  {
   "cell_type": "code",
   "execution_count": 64,
   "metadata": {},
   "outputs": [
    {
     "data": {
      "text/plain": [
       "LabelEncoder()"
      ]
     },
     "execution_count": 64,
     "metadata": {},
     "output_type": "execute_result"
    }
   ],
   "source": [
    "encoder_dest = preprocessing.LabelEncoder()\n",
    "encoder_dest.classes_ = np.load('dest_ports.npy')\n",
    "encoder_dest.fit(test[\"dest_port\"])\n",
    "\n",
    "encoder_hist = preprocessing.LabelEncoder()\n",
    "encoder_hist.classes_ = np.load('history_ports.npy')\n",
    "encoder_hist.fit(test[\"history\"])\n",
    "\n",
    "encoder_conn = preprocessing.LabelEncoder()\n",
    "encoder_conn.classes_ = np.load('connstate_ports.npy')\n",
    "encoder_conn.fit(test[\"conn_state\"])\n"
   ]
  },
  {
   "cell_type": "code",
   "execution_count": 65,
   "metadata": {},
   "outputs": [],
   "source": [
    "test[\"src_port\"] = test[\"src_port\"].cat.codes\n",
    "test[\"dest_port\"] = test[\"dest_port\"].cat.codes\n",
    "test[\"history\"] = test[\"history\"].cat.codes\n",
    "test[\"conn_state\"] = test[\"conn_state\"].cat.codes"
   ]
  },
  {
   "cell_type": "code",
   "execution_count": null,
   "metadata": {},
   "outputs": [],
   "source": [
    "test.head().T.head(52)"
   ]
  },
  {
   "cell_type": "code",
   "execution_count": 67,
   "metadata": {},
   "outputs": [],
   "source": [
    "cols_to_drop = [\"tsWeek\",\"tsDay\",\"tsElapsed\",\"tsDayofyear\"]\n",
    "test.drop(cols_to_drop, axis = 1, inplace=True)"
   ]
  },
  {
   "cell_type": "code",
   "execution_count": 68,
   "metadata": {},
   "outputs": [],
   "source": [
    "X_test = test.loc[:, test.columns != 'label']\n",
    "y_test = test.loc[:, test.columns == 'label']"
   ]
  },
  {
   "cell_type": "code",
   "execution_count": 82,
   "metadata": {},
   "outputs": [],
   "source": [
    "test.to_csv(\"final_test_clean.csv\", index = False)"
   ]
  },
  {
   "cell_type": "code",
   "execution_count": null,
   "metadata": {},
   "outputs": [],
   "source": [
    "test[\"\"]"
   ]
  },
  {
   "cell_type": "markdown",
   "metadata": {},
   "source": [
    "# 4. Model Evaluation"
   ]
  },
  {
   "cell_type": "code",
   "execution_count": 69,
   "metadata": {},
   "outputs": [],
   "source": [
    "#function for plotting confusion Matrix\n",
    "def plot_confusion_matrix(cm, classes,\n",
    "                          normalize=False,\n",
    "                          title='Confusion matrix',\n",
    "                          cmap=plt.cm.Blues):\n",
    "    \"\"\"\n",
    "    This function prints and plots the confusion matrix.\n",
    "    Normalization can be applied by setting `normalize=True`.\n",
    "    \"\"\"\n",
    "    if normalize:\n",
    "        cm = cm.astype('float') / cm.sum(axis=1)[:, np.newaxis]\n",
    "        print(\"Normalized confusion matrix\")\n",
    "    else:\n",
    "        print('Confusion matrix, without normalization')\n",
    "\n",
    "    print(cm)\n",
    "\n",
    "    plt.imshow(cm, interpolation='nearest', cmap=cmap)\n",
    "    plt.title(title)\n",
    "    plt.colorbar()\n",
    "    tick_marks = np.arange(len(classes))\n",
    "    plt.xticks(tick_marks, classes, rotation=45)\n",
    "    plt.yticks(tick_marks, classes)\n",
    "\n",
    "    fmt = '.2f' if normalize else 'd'\n",
    "    thresh = cm.max() / 2.\n",
    "    for i, j in itertools.product(range(cm.shape[0]), range(cm.shape[1])):\n",
    "        plt.text(j, i, format(cm[i, j], fmt),\n",
    "                 horizontalalignment=\"center\",\n",
    "                 color=\"white\" if cm[i, j] > thresh else \"black\")\n",
    "\n",
    "    plt.ylabel('True label')\n",
    "    plt.xlabel('Predicted label')\n",
    "    plt.tight_layout()"
   ]
  },
  {
   "cell_type": "code",
   "execution_count": 70,
   "metadata": {},
   "outputs": [
    {
     "name": "stdout",
     "output_type": "stream",
     "text": [
      "Confusion matrix, without normalization\n",
      "[[ 3611007   558110]\n",
      " [  121102 12509781]]\n"
     ]
    },
    {
     "data": {
      "image/png": "[encoded data removed]",
      "text/plain": [
       "<Figure size 432x288 with 2 Axes>"
      ]
     },
     "metadata": {},
     "output_type": "display_data"
    }
   ],
   "source": [
    "#fitting model\n",
    "pred_y = m.predict(X_test)\n",
    "    \n",
    "#confusion matrix\n",
    "cm= confusion_matrix(y_test, pred_y)\n",
    "plt.figure()\n",
    "plot_confusion_matrix(cm, classes=[0,1],title='Confusion matrix, without normalization')"
   ]
  },
  {
   "cell_type": "code",
   "execution_count": 73,
   "metadata": {},
   "outputs": [
    {
     "name": "stdout",
     "output_type": "stream",
     "text": [
      "precision: 95.72915017427066\n",
      "recall: 99.04122300871602\n",
      "false positive rate: 13.386767509762858\n",
      "accuracy 95.95707142857142\n",
      "F1-score 0.9735702566978488\n"
     ]
    }
   ],
   "source": [
    "#key Performance Metrics\n",
    "tn, fp, fn, tp = cm.ravel()\n",
    "precision=tp/(tp+fp)\n",
    "recall=tp/(tp+fn)\n",
    "fpr = fp/(fp+ tn)\n",
    "accuracy = (tp + tn)/(tn + tp + fn + fp)\n",
    "F1 = 2 * (precision * recall) / (precision + recall)\n",
    "print(\"precision:\", precision*100)\n",
    "print(\"recall:\", recall*100)\n",
    "print(\"false positive rate:\", fpr*100)\n",
    "print(\"accuracy\",  accuracy*100)\n",
    "print(\"F1-score\", F1)"
   ]
  },
  {
   "cell_type": "code",
   "execution_count": 74,
   "metadata": {},
   "outputs": [
    {
     "data": {
      "text/plain": [
       "<matplotlib.legend.Legend at 0x7f4ecf769d30>"
      ]
     },
     "execution_count": 74,
     "metadata": {},
     "output_type": "execute_result"
    },
    {
     "data": {
      "image/png": "[encoded data removed]",
      "text/plain": [
       "<Figure size 432x288 with 1 Axes>"
      ]
     },
     "metadata": {},
     "output_type": "display_data"
    }
   ],
   "source": [
    "from sklearn.metrics import roc_curve\n",
    "from sklearn.metrics import auc\n",
    "\n",
    "# Compute fpr, tpr, thresholds and roc auc\n",
    "fpr, tpr, thresholds = roc_curve(y_test, pred_y)\n",
    "roc_auc = auc(fpr,tpr)\n",
    "\n",
    "# Plot ROC curve\n",
    "plt.plot(fpr, tpr, label='ROC curve (area = %0.3f)' % roc_auc)\n",
    "plt.plot([0, 1], [0, 1], 'k--')  # random predictions curve\n",
    "plt.xlim([0.0, 1.0])\n",
    "plt.ylim([0.0, 1.0])\n",
    "plt.xlabel('False Positive Rate or (1 - Specifity)')\n",
    "plt.ylabel('True Positive Rate or (Sensitivity)')\n",
    "plt.title('Receiver Operating Characteristic')\n",
    "plt.legend(loc=\"lower right\")"
   ]
  },
  {
   "cell_type": "markdown",
   "metadata": {},
   "source": [
    "# 4.2 Gradient Boosting Classifier"
   ]
  },
  {
   "cell_type": "code",
   "execution_count": null,
   "metadata": {},
   "outputs": [
    {
     "name": "stderr",
     "output_type": "stream",
     "text": [
      "/home/rk9cx/.local/lib/python3.6/site-packages/sklearn/utils/validation.py:761: DataConversionWarning: A column-vector y was passed when a 1d array was expected. Please change the shape of y to (n_samples, ), for example using ravel().\n",
      "  y = column_or_1d(y, warn=True)\n"
     ]
    }
   ],
   "source": [
    "g = GradientBoostingClassifier(n_estimators=500, min_samples_leaf=100, max_features=0.5, subsample = 0.9, random_state = 2, max_depth = 3)\n",
    "g.fit(X_train, y_train) \n",
    "pred_y = g.predict(X_test)\n",
    "cm= confusion_matrix(y_test, pred_y)\n",
    "plt.figure()\n",
    "plot_confusion_matrix(cm, classes=[0,1],title='Confusion matrix, without normalization')"
   ]
  },
  {
   "cell_type": "code",
   "execution_count": 81,
   "metadata": {},
   "outputs": [
    {
     "name": "stdout",
     "output_type": "stream",
     "text": [
      "Confusion matrix, without normalization\n",
      "[[ 3542590   626527]\n",
      " [  127408 12503475]]\n"
     ]
    },
    {
     "data": {
      "image/png": "[encoded data removed]",
      "text/plain": [
       "<Figure size 432x288 with 2 Axes>"
      ]
     },
     "metadata": {},
     "output_type": "display_data"
    }
   ],
   "source": [
    "cm= confusion_matrix(y_test, pred_y)\n",
    "plt.figure()\n",
    "plot_confusion_matrix(cm, classes=[0,1],title='Confusion matrix, without normalization')"
   ]
  },
  {
   "cell_type": "code",
   "execution_count": 79,
   "metadata": {},
   "outputs": [
    {
     "name": "stdout",
     "output_type": "stream",
     "text": [
      "precision: 95.22827947779444\n",
      "recall: 98.99129775804273\n",
      "false positive rate: 15.027810445233367\n",
      "accuracy 95.51229166666667\n",
      "F1-score 0.9707333424298117\n"
     ]
    }
   ],
   "source": [
    "tn, fp, fn, tp = cm.ravel()\n",
    "precision=tp/(tp+fp)\n",
    "recall=tp/(tp+fn)\n",
    "fpr = fp/(fp+ tn)\n",
    "accuracy = (tp + tn)/(tn + tp + fn + fp)\n",
    "F1 = 2 * (precision * recall) / (precision + recall)\n",
    "F1 = 2 * (precision * recall) / (precision + recall)\n",
    "print(\"precision:\", precision*100)\n",
    "print(\"recall:\", recall*100)\n",
    "print(\"false positive rate:\", fpr*100)\n",
    "print(\"accuracy\",  accuracy*100)\n",
    "print(\"F1-score\", F1)"
   ]
  },
  {
   "cell_type": "code",
   "execution_count": 80,
   "metadata": {},
   "outputs": [
    {
     "data": {
      "text/plain": [
       "<matplotlib.legend.Legend at 0x7f4ed6244b70>"
      ]
     },
     "execution_count": 80,
     "metadata": {},
     "output_type": "execute_result"
    },
    {
     "data": {
      "image/png": "[encoded data removed]",
      "text/plain": [
       "<Figure size 432x288 with 1 Axes>"
      ]
     },
     "metadata": {},
     "output_type": "display_data"
    }
   ],
   "source": [
    "from sklearn.metrics import roc_curve\n",
    "from sklearn.metrics import auc\n",
    "\n",
    "# Compute fpr, tpr, thresholds and roc auc\n",
    "fpr, tpr, thresholds = roc_curve(y_test, pred_y)\n",
    "roc_auc = auc(fpr,tpr)\n",
    "\n",
    "# Plot ROC curve\n",
    "plt.plot(fpr, tpr, label='ROC curve (area = %0.3f)' % roc_auc)\n",
    "plt.plot([0, 1], [0, 1], 'k--')  # random predictions curve\n",
    "plt.xlim([0.0, 1.0])\n",
    "plt.ylim([0.0, 1.0])\n",
    "plt.xlabel('False Positive Rate or (1 - Specifity)')\n",
    "plt.ylabel('True Positive Rate or (Sensitivity)')\n",
    "plt.title('Receiver Operating Characteristic')\n",
    "plt.legend(loc=\"lower right\")"
   ]
  },
  {
   "cell_type": "markdown",
   "metadata": {},
   "source": [
    "## 3.1 Random Forest"
   ]
  },
  {
   "cell_type": "code",
   "execution_count": null,
   "metadata": {},
   "outputs": [],
   "source": [
    "def default_random_forest(X_train, y_train, X_test, y_test):\n",
    "    \n",
    "    #classifier\n",
    "    m = RandomForestClassifier(n_estimators=200, min_samples_leaf=100, max_features=0.5, n_jobs=-1)\n",
    "    m.fit(X_train, y_train) \n",
    "    pred_y = m.predict(X_test)\n",
    "    \n",
    "    #confusion matrix\n",
    "    cm= confusion_matrix(y_test, pred_y)\n",
    "    plt.figure()\n",
    "    plot_confusion_matrix(cm, classes=[0,1],title='Confusion matrix, without normalization')\n",
    "    \n",
    "    #performance metrics calculation\n",
    "    tn, fp, fn, tp = cm.ravel()\n",
    "    precision=tp/(tp+fp)\n",
    "    recall=tp/(tp+fn)\n",
    "    fpr = fp/(fp+ tn)\n",
    "    accuracy = (tp + tn)/(tn + tp + fn + fp)\n",
    "    F1 = 2 * (precision * recall) / (precision + recall)\n",
    "    print(\"precision:\" + precision*100))\n",
    "    print(\"recall:\", recall*100)\n",
    "    print(\"false positive rate:\", fpr*100)\n",
    "    print(\"accuracy\",  accuracy*100)\n",
    "    print(\"F1-score\", F1)\n",
    "    \n",
    "    #ROC Curve\n",
    "    from sklearn.metrics import roc_curve\n",
    "    from sklearn.metrics import auc\n",
    "\n",
    "    # Compute fpr, tpr, thresholds and roc auc\n",
    "    fpr, tpr, thresholds = roc_curve(y_test, pred_y)\n",
    "    roc_auc = auc(fpr,tpr)\n",
    "\n",
    "    # Plot ROC curve\n",
    "    plt.plot(fpr, tpr, label='ROC curve (area = %0.3f)' % roc_auc)\n",
    "    plt.plot([0, 1], [0, 1], 'k--')  # random predictions curve\n",
    "    plt.xlim([0.0, 1.0])\n",
    "    plt.ylim([0.0, 1.0])\n",
    "    plt.xlabel('False Positive Rate or (1 - Specifity)')\n",
    "    plt.ylabel('True Positive Rate or (Sensitivity)')\n",
    "    plt.title('Receiver Operating Characteristic')\n",
    "    plt.legend(loc=\"lower right\")\n",
    "    return pred_y"
   ]
  },
  {
   "cell_type": "markdown",
   "metadata": {},
   "source": [
    "## 3.3 Artificial Neural Network"
   ]
  },
  {
   "cell_type": "code",
   "execution_count": 115,
   "metadata": {},
   "outputs": [],
   "source": [
    "def f1(y_true, y_pred):\n",
    "    def recall(y_true, y_pred):\n",
    "        \n",
    "        true_positives = K.sum(K.round(K.clip(y_true * y_pred, 0, 1)))\n",
    "        possible_positives = K.sum(K.round(K.clip(y_true, 0, 1)))\n",
    "        recall = true_positives / (possible_positives + K.epsilon())\n",
    "        return recall\n",
    "\n",
    "    def precision(y_true, y_pred):\n",
    "       \n",
    "        true_positives = K.sum(K.round(K.clip(y_true * y_pred, 0, 1)))\n",
    "        predicted_positives = K.sum(K.round(K.clip(y_pred, 0, 1)))\n",
    "        precision = true_positives / (predicted_positives + K.epsilon())\n",
    "        return precision\n",
    "    precision = precision(y_true, y_pred)\n",
    "    recall = recall(y_true, y_pred)\n",
    "    return 2*((precision*recall)/(precision+recall+K.epsilon()))\n",
    "\n",
    "def recall(y_true, y_pred):\n",
    "   \n",
    "    true_positives = K.sum(K.round(K.clip(y_true * y_pred, 0, 1)))\n",
    "    possible_positives = K.sum(K.round(K.clip(y_true, 0, 1)))\n",
    "    recall = true_positives / (possible_positives + K.epsilon())\n",
    "    return recall\n",
    "    \n",
    "\n",
    "def precision(y_true, y_pred):\n",
    "    \n",
    "    true_positives = K.sum(K.round(K.clip(y_true * y_pred, 0, 1)))\n",
    "    predicted_positives = K.sum(K.round(K.clip(y_pred, 0, 1)))\n",
    "    precision = true_positives / (predicted_positives + K.epsilon())\n",
    "    return precision"
   ]
  },
  {
   "cell_type": "code",
   "execution_count": 124,
   "metadata": {},
   "outputs": [],
   "source": [
    "model = models.Sequential()\n",
    "model.add(Dense(25, input_dim=53, kernel_initializer='uniform', activation='relu'))\n",
    "model.add(Dropout(0.2))\n",
    "model.add(Dense(1, kernel_initializer='uniform', activation='relu'))\n",
    "sgd=optimizers.SGD(lr=0.001, momentum=0.5, decay=0.00002, nesterov=False)\n",
    "model.compile(loss='binary_crossentropy', optimizer=sgd, metrics=['accuracy'])"
   ]
  },
  {
   "cell_type": "code",
   "execution_count": 126,
   "metadata": {},
   "outputs": [
    {
     "name": "stdout",
     "output_type": "stream",
     "text": [
      "Train on 2370368 samples, validate on 1015872 samples\n",
      "Epoch 1/30\n",
      "2370368/2370368 [==============================] - 32s 14us/step - loss: 7.5679 - acc: 6.8344e-05 - val_loss: 8.9116 - val_acc: 0.0000e+00\n",
      "Epoch 2/30\n",
      "2370368/2370368 [==============================] - 33s 14us/step - loss: 7.5825 - acc: 0.0069 - val_loss: 8.9116 - val_acc: 0.0000e+00\n",
      "Epoch 3/30\n",
      "2370368/2370368 [==============================] - 33s 14us/step - loss: 7.5694 - acc: 7.4630e-04 - val_loss: 8.9116 - val_acc: 0.0000e+00\n",
      "Epoch 4/30\n",
      "2370368/2370368 [==============================] - 33s 14us/step - loss: 7.5693 - acc: 7.5220e-04 - val_loss: 8.9116 - val_acc: 0.0000e+00\n",
      "Epoch 5/30\n",
      "2370368/2370368 [==============================] - 32s 14us/step - loss: 7.5697 - acc: 7.3280e-04 - val_loss: 8.9116 - val_acc: 0.0000e+00\n",
      "Epoch 6/30\n",
      "2370368/2370368 [==============================] - 33s 14us/step - loss: 7.5691 - acc: 6.3408e-04 - val_loss: 8.9116 - val_acc: 0.0000e+00\n",
      "Epoch 7/30\n",
      "2370368/2370368 [==============================] - 33s 14us/step - loss: 7.5697 - acc: 6.4505e-04 - val_loss: 8.9116 - val_acc: 0.0000e+00\n",
      "Epoch 8/30\n",
      "2370368/2370368 [==============================] - 33s 14us/step - loss: 7.5691 - acc: 6.3028e-04 - val_loss: 8.9116 - val_acc: 0.0000e+00\n",
      "Epoch 9/30\n",
      "2370368/2370368 [==============================] - 32s 14us/step - loss: 7.5690 - acc: 6.3239e-04 - val_loss: 8.9116 - val_acc: 0.0000e+00\n",
      "Epoch 10/30\n",
      "2370368/2370368 [==============================] - 33s 14us/step - loss: 7.5689 - acc: 6.5517e-04 - val_loss: 8.9116 - val_acc: 0.0000e+00\n",
      "Epoch 11/30\n",
      "2370368/2370368 [==============================] - 32s 14us/step - loss: 7.5693 - acc: 6.4927e-04 - val_loss: 8.9116 - val_acc: 0.0000e+00\n",
      "Epoch 12/30\n",
      "2370368/2370368 [==============================] - 33s 14us/step - loss: 7.5694 - acc: 6.4674e-04 - val_loss: 8.9116 - val_acc: 0.0000e+00\n",
      "Epoch 13/30\n",
      "2370368/2370368 [==============================] - 31s 13us/step - loss: 7.5696 - acc: 6.1636e-04 - val_loss: 8.9116 - val_acc: 0.0000e+00\n",
      "Epoch 14/30\n",
      "2370368/2370368 [==============================] - 29s 12us/step - loss: 7.5687 - acc: 6.5770e-04 - val_loss: 8.9116 - val_acc: 0.0000e+00\n",
      "Epoch 15/30\n",
      "2370368/2370368 [==============================] - 31s 13us/step - loss: 7.5697 - acc: 6.0623e-04 - val_loss: 8.9116 - val_acc: 0.0000e+00\n",
      "Epoch 16/30\n",
      "2370368/2370368 [==============================] - 31s 13us/step - loss: 7.5697 - acc: 6.2480e-04 - val_loss: 8.9116 - val_acc: 0.0000e+00\n",
      "Epoch 17/30\n",
      "2370368/2370368 [==============================] - 29s 12us/step - loss: 7.5696 - acc: 6.3450e-04 - val_loss: 8.9116 - val_acc: 0.0000e+00\n",
      "Epoch 18/30\n",
      "2370368/2370368 [==============================] - 31s 13us/step - loss: 7.5694 - acc: 6.4505e-04 - val_loss: 8.9116 - val_acc: 0.0000e+00\n",
      "Epoch 19/30\n",
      "2370368/2370368 [==============================] - 32s 14us/step - loss: 7.5697 - acc: 6.3703e-04 - val_loss: 8.9116 - val_acc: 0.0000e+00\n",
      "Epoch 20/30\n",
      "2370368/2370368 [==============================] - 33s 14us/step - loss: 7.5691 - acc: 6.5433e-04 - val_loss: 8.9116 - val_acc: 0.0000e+00\n",
      "Epoch 21/30\n",
      "2370368/2370368 [==============================] - 33s 14us/step - loss: 7.5694 - acc: 6.3534e-04 - val_loss: 8.9116 - val_acc: 0.0000e+00\n",
      "Epoch 22/30\n",
      "2370368/2370368 [==============================] - 33s 14us/step - loss: 7.5698 - acc: 6.3450e-04 - val_loss: 8.9116 - val_acc: 0.0000e+00\n",
      "Epoch 23/30\n",
      "2370368/2370368 [==============================] - 33s 14us/step - loss: 7.5695 - acc: 6.5686e-04 - val_loss: 8.9116 - val_acc: 0.0000e+00\n",
      "Epoch 24/30\n",
      "2370368/2370368 [==============================] - 33s 14us/step - loss: 7.5697 - acc: 6.2438e-04 - val_loss: 8.9116 - val_acc: 0.0000e+00\n",
      "Epoch 25/30\n",
      "2370368/2370368 [==============================] - 32s 14us/step - loss: 7.5686 - acc: 6.5602e-04 - val_loss: 8.9116 - val_acc: 0.0000e+00\n",
      "Epoch 26/30\n",
      "2370368/2370368 [==============================] - 32s 14us/step - loss: 7.5693 - acc: 6.1720e-04 - val_loss: 8.9116 - val_acc: 0.0000e+00\n",
      "Epoch 27/30\n",
      "2370368/2370368 [==============================] - 33s 14us/step - loss: 7.5694 - acc: 6.4716e-04 - val_loss: 8.9116 - val_acc: 0.0000e+00\n",
      "Epoch 28/30\n",
      "2370368/2370368 [==============================] - 33s 14us/step - loss: 7.5690 - acc: 6.2606e-04 - val_loss: 8.9116 - val_acc: 0.0000e+00\n",
      "Epoch 29/30\n",
      "2370368/2370368 [==============================] - 32s 14us/step - loss: 7.5690 - acc: 6.4420e-04 - val_loss: 8.9116 - val_acc: 0.0000e+00\n",
      "Epoch 30/30\n",
      "2370368/2370368 [==============================] - 33s 14us/step - loss: 7.5695 - acc: 6.2986e-04 - val_loss: 8.9116 - val_acc: 0.0000e+00\n"
     ]
    }
   ],
   "source": [
    "result = model.fit(X_train, y_train, epochs=30, batch_size=256, verbose=1, validation_split=0.3) "
   ]
  },
  {
   "cell_type": "code",
   "execution_count": 127,
   "metadata": {},
   "outputs": [],
   "source": [
    "preds = model.predict_classes(X_test)"
   ]
  },
  {
   "cell_type": "code",
   "execution_count": 128,
   "metadata": {},
   "outputs": [
    {
     "name": "stdout",
     "output_type": "stream",
     "text": [
      "Confusion matrix, without normalization\n",
      "[[      0       0]\n",
      " [1798911 1778461]]\n"
     ]
    },
    {
     "data": {
      "image/png": "[encoded data removed]",
      "text/plain": [
       "<Figure size 432x288 with 2 Axes>"
      ]
     },
     "metadata": {},
     "output_type": "display_data"
    }
   ],
   "source": [
    "cm= confusion_matrix(preds, pred_y)\n",
    "plt.figure()\n",
    "plot_confusion_matrix(cm, classes=[0,1],title='Confusion matrix, without normalization')"
   ]
  },
  {
   "cell_type": "code",
   "execution_count": 129,
   "metadata": {},
   "outputs": [
    {
     "name": "stdout",
     "output_type": "stream",
     "text": [
      "1.0 0.4971417565743792 nan 49.71417565743792 0.664121155383299\n"
     ]
    },
    {
     "name": "stderr",
     "output_type": "stream",
     "text": [
      "/apps/software/standard/core/anaconda/5.2.0-py3.6/lib/python3.6/site-packages/ipykernel_launcher.py:4: RuntimeWarning: invalid value encountered in long_scalars\n",
      "  after removing the cwd from sys.path.\n"
     ]
    }
   ],
   "source": [
    "tn, fp, fn, tp = cm.ravel()\n",
    "precision=tp/(tp+fp)\n",
    "recall=tp/(tp+fn)\n",
    "fpr = fp/(fp+ tn)\n",
    "accuracy = (tp + tn)/(tn + tp + fn + fp)\n",
    "F1 = 2 * (precision * recall) / (precision + recall)\n",
    "print(precision, recall, fpr*100, accuracy*100, F1)"
   ]
  },
  {
   "cell_type": "code",
   "execution_count": null,
   "metadata": {},
   "outputs": [
    {
     "name": "stderr",
     "output_type": "stream",
     "text": [
      "/home/rk9cx/.local/lib/python3.6/site-packages/sklearn/ensemble/iforest.py:223: FutureWarning: behaviour=\"old\" is deprecated and will be removed in version 0.22. Please use behaviour=\"new\", which makes the decision_function change to match other anomaly detection algorithm API.\n",
      "  FutureWarning)\n",
      "/home/rk9cx/.local/lib/python3.6/site-packages/sklearn/ensemble/iforest.py:417: DeprecationWarning: threshold_ attribute is deprecated in 0.20 and will be removed in 0.22.\n",
      "  \" be removed in 0.22.\", DeprecationWarning)\n",
      "/home/rk9cx/.local/lib/python3.6/site-packages/sklearn/ensemble/iforest.py:223: FutureWarning: behaviour=\"old\" is deprecated and will be removed in version 0.22. Please use behaviour=\"new\", which makes the decision_function change to match other anomaly detection algorithm API.\n",
      "  FutureWarning)\n",
      "/home/rk9cx/.local/lib/python3.6/site-packages/sklearn/ensemble/iforest.py:417: DeprecationWarning: threshold_ attribute is deprecated in 0.20 and will be removed in 0.22.\n",
      "  \" be removed in 0.22.\", DeprecationWarning)\n",
      "/home/rk9cx/.local/lib/python3.6/site-packages/sklearn/ensemble/iforest.py:223: FutureWarning: behaviour=\"old\" is deprecated and will be removed in version 0.22. Please use behaviour=\"new\", which makes the decision_function change to match other anomaly detection algorithm API.\n",
      "  FutureWarning)\n"
     ]
    }
   ],
   "source": [
    "import random\n",
    "outliers_fraction = [0.5,0.4,0.3,0.20,.25,0.2,0.15,0.1,0.05,0.01,0.001]\n",
    "n_estimators=[100,200,300]\n",
    "max_features = [0.1,0.2,0.3,0.4,0.5,0.6,0.7,0.8,0.9,1]\n",
    "\n",
    "for i in range(10):\n",
    "    a = random.choice(n_estimators)\n",
    "    b = random.choice(max_features)\n",
    "    c = random.choice(outliers_fraction)\n",
    "    I = IsolationForest(n_estimators=a, max_features=b, contamination=c, n_jobs=-1)\n",
    "    I.fit(X_train)\n",
    "    X_train[\"Iscores\"+ str(i)] = I.predict(X_train)\n",
    "    X_train[\"Iscores\"+ str(i)] = [1 if x == -1 else 0 for x in X_train[\"Iscores\"+ str(i)]]\n",
    "    I.fit(X_test)\n",
    "    X_test[\"Iscores\"+ str(i)] = I.predict(X_test)\n",
    "    X_test[\"Iscores\"+ str(i)] = [1 if x == -1 else 0 for x in X_test[\"Iscores\"+ str(i)]]"
   ]
  },
  {
   "cell_type": "code",
   "execution_count": null,
   "metadata": {},
   "outputs": [],
   "source": [
    "X_train_sep = X_train.T.tail(10).T\n",
    "X_test_sep = X_test.T.tail(10).T"
   ]
  },
  {
   "cell_type": "code",
   "execution_count": null,
   "metadata": {},
   "outputs": [],
   "source": [
    "RF = RandomForestClassifier(n_estimators=500, min_samples_leaf=2, max_features=0.6).fit(X_train_sep, y_train)\n",
    "pred_y=RF.predict(X_test_sep)\n",
    "cm= confusion_matrix(y_test,pred_y)\n",
    "plt.figure()\n",
    "plot_confusion_matrix(cm, classes=[0,1],title='Confusion matrix, without normalization')"
   ]
  },
  {
   "cell_type": "code",
   "execution_count": null,
   "metadata": {},
   "outputs": [],
   "source": [
    "tn, fp, fn, tp = cm.ravel()\n",
    "precision=tp/(tp+fp)\n",
    "recall=tp/(tp+fn)\n",
    "fpr = fp/(fp+ tn)\n",
    "accuracy = (tp + tn)/(tn + tp + fn + fp)\n",
    "print(precision, recall, fpr*100, accuracy*100)"
   ]
  },
  {
   "cell_type": "code",
   "execution_count": null,
   "metadata": {},
   "outputs": [],
   "source": []
  }
 ],
 "metadata": {
  "kernelspec": {
   "display_name": "Python 3",
   "language": "python",
   "name": "python3"
  },
  "language_info": {
   "codemirror_mode": {
    "name": "ipython",
    "version": 3
   },
   "file_extension": ".py",
   "mimetype": "text/x-python",
   "name": "python",
   "nbconvert_exporter": "python",
   "pygments_lexer": "ipython3",
   "version": "3.6.6"
  }
 },
 "nbformat": 4,
 "nbformat_minor": 2
}
