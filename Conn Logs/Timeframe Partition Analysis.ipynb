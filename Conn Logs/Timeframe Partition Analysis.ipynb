{
 "cells": [
  {
   "cell_type": "code",
   "execution_count": 1,
   "metadata": {},
   "outputs": [],
   "source": [
    "#changing directory\n",
    "import os \n",
    "os.chdir(\"/Users/rakeshravi/Downloads\")"
   ]
  },
  {
   "cell_type": "code",
   "execution_count": 3,
   "metadata": {},
   "outputs": [],
   "source": [
    "#importing dataset\n",
    "import pandas as pd\n",
    "df = pd.read_csv('honeypot1_removed_collisions.csv')"
   ]
  },
  {
   "cell_type": "code",
   "execution_count": 26,
   "metadata": {},
   "outputs": [],
   "source": [
    "#noticed that timestamp is not a date-time object\n",
    "#converting timestamp to a date-time object\n",
    "# from dateutil.parser import parse\n",
    "# for index, row in df.iterrows():\n",
    "df['timestamp'] = df['timestamp'].astype(str)\n",
    "df['timestamp_new'] = df['timestamp'].apply(parse)\n"
   ]
  },
  {
   "cell_type": "code",
   "execution_count": null,
   "metadata": {},
   "outputs": [],
   "source": [
    "#dropping unnecessary columns and taking a look at the dataset\n",
    "df.drop('Unnamed: 0', axis=1, inplace=True)\n",
    "df.head()"
   ]
  },
  {
   "cell_type": "code",
   "execution_count": 29,
   "metadata": {},
   "outputs": [],
   "source": [
    "#converting datetime object into seconds from the start of day\n",
    "import time\n",
    "from datetime import datetime\n",
    "df[\"seconds\"] = df[\"timestamp_new\"].dt.hour*3600 + df[\"timestamp_new\"].dt.minute*60 + df[\"timestamp_new\"].dt.second"
   ]
  },
  {
   "cell_type": "code",
   "execution_count": 32,
   "metadata": {},
   "outputs": [
    {
     "data": {
      "text/plain": [
       "0     9391\n",
       "1     9394\n",
       "2    34113\n",
       "3    34117\n",
       "4    80152\n",
       "Name: seconds, dtype: int64"
      ]
     },
     "execution_count": 32,
     "metadata": {},
     "output_type": "execute_result"
    }
   ],
   "source": [
    "df[\"seconds\"].head()"
   ]
  },
  {
   "cell_type": "code",
   "execution_count": 34,
   "metadata": {},
   "outputs": [
    {
     "data": {
      "text/plain": [
       "6679"
      ]
     },
     "execution_count": 34,
     "metadata": {},
     "output_type": "execute_result"
    }
   ],
   "source": [
    "80152//12"
   ]
  },
  {
   "cell_type": "code",
   "execution_count": 147,
   "metadata": {},
   "outputs": [],
   "source": [
    "#initializing time windows\n",
    "import math\n",
    "\n",
    "windows = [1,2,3,4,5,6,7,8,9,10, 12, 13, 14, 15, 16, 17, 18, 19, 20, 21, 22, 23, 24, 25, 30, 50, 120, 240]\n",
    "error_root_square = []\n",
    "error_difference = []\n",
    "for i in windows:\n",
    "    df[\"bucket\"] = df[\"seconds\"]//i\n",
    "    error_root_square.append(math.sqrt(abs((df[[\"src_ip\", \"bucket\"]].groupby([\"bucket\"]).agg([\"nunique\"]).sum().tolist()[0]**2 - 24500**2))))\n",
    "    error_difference.append(abs(df[[\"src_ip\", \"bucket\"]].groupby([\"bucket\"]).agg([\"nunique\"]).sum().tolist()[0]- 24500))"
   ]
  },
  {
   "cell_type": "code",
   "execution_count": 148,
   "metadata": {},
   "outputs": [
    {
     "data": {
      "text/plain": [
       "[19669,\n",
       " 17500,\n",
       " 15328,\n",
       " 13569,\n",
       " 12042,\n",
       " 10319,\n",
       " 8881,\n",
       " 7373,\n",
       " 6133,\n",
       " 5009,\n",
       " 3104,\n",
       " 2473,\n",
       " 1755,\n",
       " 1092,\n",
       " 652,\n",
       " 42,\n",
       " 476,\n",
       " 822,\n",
       " 1386,\n",
       " 1684,\n",
       " 1923,\n",
       " 2280,\n",
       " 2627,\n",
       " 2846,\n",
       " 4192,\n",
       " 7548,\n",
       " 12203,\n",
       " 14475]"
      ]
     },
     "execution_count": 148,
     "metadata": {},
     "output_type": "execute_result"
    }
   ],
   "source": [
    "error_difference"
   ]
  },
  {
   "cell_type": "code",
   "execution_count": 149,
   "metadata": {},
   "outputs": [
    {
     "data": {
      "text/plain": [
       "0     39\n",
       "1     39\n",
       "2    142\n",
       "3    142\n",
       "4    333\n",
       "Name: bucket, dtype: int64"
      ]
     },
     "execution_count": 149,
     "metadata": {},
     "output_type": "execute_result"
    }
   ],
   "source": [
    "df[\"bucket\"].head()"
   ]
  },
  {
   "cell_type": "code",
   "execution_count": 144,
   "metadata": {},
   "outputs": [
    {
     "data": {
      "text/plain": [
       "0     9391\n",
       "1     9394\n",
       "2    34113\n",
       "3    34117\n",
       "4    80152\n",
       "Name: seconds, dtype: int64"
      ]
     },
     "execution_count": 144,
     "metadata": {},
     "output_type": "execute_result"
    }
   ],
   "source": [
    "df[\"seconds\"].head()"
   ]
  },
  {
   "cell_type": "code",
   "execution_count": 145,
   "metadata": {},
   "outputs": [],
   "source": [
    "l = df[[\"src_ip\", \"bucket\"]].groupby([\"bucket\"]).agg([\"nunique\"]).sum().tolist()"
   ]
  },
  {
   "cell_type": "code",
   "execution_count": 124,
   "metadata": {},
   "outputs": [
    {
     "data": {
      "text/html": [
       "<div>\n",
       "<style scoped>\n",
       "    .dataframe tbody tr th:only-of-type {\n",
       "        vertical-align: middle;\n",
       "    }\n",
       "\n",
       "    .dataframe tbody tr th {\n",
       "        vertical-align: top;\n",
       "    }\n",
       "\n",
       "    .dataframe thead th {\n",
       "        text-align: right;\n",
       "    }\n",
       "</style>\n",
       "<table border=\"1\" class=\"dataframe\">\n",
       "  <thead>\n",
       "    <tr style=\"text-align: right;\">\n",
       "      <th></th>\n",
       "      <th>dest_ip</th>\n",
       "      <th>dest_port</th>\n",
       "      <th>details</th>\n",
       "      <th>session_id</th>\n",
       "      <th>software</th>\n",
       "      <th>src_ip</th>\n",
       "      <th>src_port</th>\n",
       "      <th>timestamp</th>\n",
       "      <th>flag</th>\n",
       "      <th>timestamp_new</th>\n",
       "      <th>seconds</th>\n",
       "      <th>bucket</th>\n",
       "    </tr>\n",
       "  </thead>\n",
       "  <tbody>\n",
       "    <tr>\n",
       "      <th>0</th>\n",
       "      <td>128.143.31.40</td>\n",
       "      <td>23</td>\n",
       "      <td>New connection: 101.109.176.44:50343 (128.143...</td>\n",
       "      <td>57010c7fe8f7</td>\n",
       "      <td>cowrie.telnet.transport.HoneyPotTelnetFactory</td>\n",
       "      <td>10110917644</td>\n",
       "      <td>50343</td>\n",
       "      <td>2018-08-11 02:36:31.605442+00:00</td>\n",
       "      <td>1</td>\n",
       "      <td>2018-08-11 02:36:31.605442+00:00</td>\n",
       "      <td>9391</td>\n",
       "      <td>0</td>\n",
       "    </tr>\n",
       "    <tr>\n",
       "      <th>1</th>\n",
       "      <td>128.143.31.40</td>\n",
       "      <td>0</td>\n",
       "      <td>Connection lost after 3 seconds</td>\n",
       "      <td>0</td>\n",
       "      <td>CowrieTelnetTransport</td>\n",
       "      <td>10110917644</td>\n",
       "      <td>4410</td>\n",
       "      <td>2018-08-11 02:36:34.641459+00:00</td>\n",
       "      <td>2</td>\n",
       "      <td>2018-08-11 02:36:34.641459+00:00</td>\n",
       "      <td>9394</td>\n",
       "      <td>0</td>\n",
       "    </tr>\n",
       "    <tr>\n",
       "      <th>2</th>\n",
       "      <td>128.143.31.40</td>\n",
       "      <td>23</td>\n",
       "      <td>New connection: 101.128.76.252:60892 (128.143...</td>\n",
       "      <td>eee0b4a90ab9</td>\n",
       "      <td>cowrie.telnet.transport.HoneyPotTelnetFactory</td>\n",
       "      <td>10112876252</td>\n",
       "      <td>60892</td>\n",
       "      <td>2018-08-17 09:28:33.585204+00:00</td>\n",
       "      <td>1</td>\n",
       "      <td>2018-08-17 09:28:33.585204+00:00</td>\n",
       "      <td>34113</td>\n",
       "      <td>0</td>\n",
       "    </tr>\n",
       "    <tr>\n",
       "      <th>3</th>\n",
       "      <td>128.143.31.40</td>\n",
       "      <td>0</td>\n",
       "      <td>Connection lost after 3 seconds</td>\n",
       "      <td>0</td>\n",
       "      <td>CowrieTelnetTransport</td>\n",
       "      <td>10112876252</td>\n",
       "      <td>3696</td>\n",
       "      <td>2018-08-17 09:28:37.131087+00:00</td>\n",
       "      <td>2</td>\n",
       "      <td>2018-08-17 09:28:37.131087+00:00</td>\n",
       "      <td>34117</td>\n",
       "      <td>0</td>\n",
       "    </tr>\n",
       "    <tr>\n",
       "      <th>4</th>\n",
       "      <td>128.143.31.40</td>\n",
       "      <td>23</td>\n",
       "      <td>New connection: 101.128.76.252:49311 (128.143...</td>\n",
       "      <td>9de5613c279c</td>\n",
       "      <td>cowrie.telnet.transport.HoneyPotTelnetFactory</td>\n",
       "      <td>10112876252</td>\n",
       "      <td>49311</td>\n",
       "      <td>2018-08-17 22:15:52.981185+00:00</td>\n",
       "      <td>1</td>\n",
       "      <td>2018-08-17 22:15:52.981185+00:00</td>\n",
       "      <td>80152</td>\n",
       "      <td>1</td>\n",
       "    </tr>\n",
       "  </tbody>\n",
       "</table>\n",
       "</div>"
      ],
      "text/plain": [
       "         dest_ip  dest_port  \\\n",
       "0  128.143.31.40         23   \n",
       "1  128.143.31.40          0   \n",
       "2  128.143.31.40         23   \n",
       "3  128.143.31.40          0   \n",
       "4  128.143.31.40         23   \n",
       "\n",
       "                                             details     session_id  \\\n",
       "0   New connection: 101.109.176.44:50343 (128.143...   57010c7fe8f7   \n",
       "1                    Connection lost after 3 seconds              0   \n",
       "2   New connection: 101.128.76.252:60892 (128.143...   eee0b4a90ab9   \n",
       "3                    Connection lost after 3 seconds              0   \n",
       "4   New connection: 101.128.76.252:49311 (128.143...   9de5613c279c   \n",
       "\n",
       "                                        software       src_ip  src_port  \\\n",
       "0  cowrie.telnet.transport.HoneyPotTelnetFactory  10110917644     50343   \n",
       "1                          CowrieTelnetTransport  10110917644      4410   \n",
       "2  cowrie.telnet.transport.HoneyPotTelnetFactory  10112876252     60892   \n",
       "3                          CowrieTelnetTransport  10112876252      3696   \n",
       "4  cowrie.telnet.transport.HoneyPotTelnetFactory  10112876252     49311   \n",
       "\n",
       "                          timestamp  flag                    timestamp_new  \\\n",
       "0  2018-08-11 02:36:31.605442+00:00     1 2018-08-11 02:36:31.605442+00:00   \n",
       "1  2018-08-11 02:36:34.641459+00:00     2 2018-08-11 02:36:34.641459+00:00   \n",
       "2  2018-08-17 09:28:33.585204+00:00     1 2018-08-17 09:28:33.585204+00:00   \n",
       "3  2018-08-17 09:28:37.131087+00:00     2 2018-08-17 09:28:37.131087+00:00   \n",
       "4  2018-08-17 22:15:52.981185+00:00     1 2018-08-17 22:15:52.981185+00:00   \n",
       "\n",
       "   seconds  bucket  \n",
       "0     9391       0  \n",
       "1     9394       0  \n",
       "2    34113       0  \n",
       "3    34117       0  \n",
       "4    80152       1  "
      ]
     },
     "execution_count": 124,
     "metadata": {},
     "output_type": "execute_result"
    }
   ],
   "source": [
    "df.head()"
   ]
  },
  {
   "cell_type": "code",
   "execution_count": 138,
   "metadata": {},
   "outputs": [],
   "source": [
    "#importing libraries\n",
    "%matplotlib inline\n",
    "import matplotlib.pyplot as plt\n",
    "plt.style.use('seaborn-whitegrid')\n",
    "import numpy as np"
   ]
  },
  {
   "cell_type": "code",
   "execution_count": 153,
   "metadata": {},
   "outputs": [
    {
     "data": {
      "text/plain": [
       "Text(0.5,1,'Error vs Bucket Size')"
      ]
     },
     "execution_count": 153,
     "metadata": {},
     "output_type": "execute_result"
    },
    {
     "data": {
      "image/png": "[encoded data removed]",
      "text/plain": [
       "<Figure size 432x288 with 1 Axes>"
      ]
     },
     "metadata": {
      "needs_background": "light"
     },
     "output_type": "display_data"
    }
   ],
   "source": [
    "#error vs bucket size chart\n",
    "fig = plt.figure()\n",
    "ax = plt.axes()\n",
    "plt.plot(windows, error_root_square);\n",
    "plt.xlabel('Bucket Size')\n",
    "plt.ylabel('Error - Root Square')\n",
    "plt.title('Error vs Bucket Size')"
   ]
  },
  {
   "cell_type": "code",
   "execution_count": 157,
   "metadata": {},
   "outputs": [
    {
     "data": {
      "text/plain": [
       "Text(0.5,1,'Error vs Bucket Size')"
      ]
     },
     "execution_count": 157,
     "metadata": {},
     "output_type": "execute_result"
    },
    {
     "data": {
      "image/png": "[encoded data removed]",
      "text/plain": [
       "<Figure size 432x288 with 1 Axes>"
      ]
     },
     "metadata": {
      "needs_background": "light"
     },
     "output_type": "display_data"
    }
   ],
   "source": [
    "#error vs bucket size chart (Zoomed in)\n",
    "fig = plt.figure()\n",
    "ax = plt.axes()\n",
    "plt.plot(windows[0:20], error_root_square[0:20]);\n",
    "plt.xlabel('Bucket Size')\n",
    "plt.ylabel('Error - Root Square')\n",
    "plt.title('Error vs Bucket Size')"
   ]
  },
  {
   "cell_type": "code",
   "execution_count": 152,
   "metadata": {},
   "outputs": [
    {
     "data": {
      "text/plain": [
       "Text(0.5,1,'Error vs Bucket Size')"
      ]
     },
     "execution_count": 152,
     "metadata": {},
     "output_type": "execute_result"
    },
    {
     "data": {
      "image/png": "[encoded data removed]",
      "text/plain": [
       "<Figure size 432x288 with 1 Axes>"
      ]
     },
     "metadata": {
      "needs_background": "light"
     },
     "output_type": "display_data"
    }
   ],
   "source": [
    "#error (error_difference) vs bucker size\n",
    "fig = plt.figure()\n",
    "ax = plt.axes()\n",
    "plt.plot(windows, error_difference);\n",
    "plt.xlabel('Bucket Size')\n",
    "plt.ylabel('Error - Difference')\n",
    "plt.title('Error vs Bucket Size')"
   ]
  },
  {
   "cell_type": "code",
   "execution_count": 154,
   "metadata": {},
   "outputs": [],
   "source": [
    "#overlap analysis between\n",
    "test = [1000, 10000, 50000, 100000, 1000000]\n",
    "overlap  =[35.23523523523524,\n",
    "19.55195519551955,\n",
    "24.390487809756195,\n",
    "42.19142191421914,\n",
    "67.16816716816717]"
   ]
  },
  {
   "cell_type": "code",
   "execution_count": 155,
   "metadata": {},
   "outputs": [
    {
     "data": {
      "text/plain": [
       "Text(0.5,1,'Overlap Analysis')"
      ]
     },
     "execution_count": 155,
     "metadata": {},
     "output_type": "execute_result"
    },
    {
     "data": {
      "image/png": "[encoded data removed]",
      "text/plain": [
       "<Figure size 432x288 with 1 Axes>"
      ]
     },
     "metadata": {
      "needs_background": "light"
     },
     "output_type": "display_data"
    }
   ],
   "source": [
    "fig = plt.figure()\n",
    "ax = plt.axes()\n",
    "plt.plot(test, overlap);\n",
    "plt.xlabel('Sample Size')\n",
    "plt.ylabel('Overlap')\n",
    "plt.title('Overlap Analysis')"
   ]
  },
  {
   "cell_type": "code",
   "execution_count": null,
   "metadata": {},
   "outputs": [],
   "source": []
  }
 ],
 "metadata": {
  "kernelspec": {
   "display_name": "Python 3",
   "language": "python",
   "name": "python3"
  },
  "language_info": {
   "codemirror_mode": {
    "name": "ipython",
    "version": 3
   },
   "file_extension": ".py",
   "mimetype": "text/x-python",
   "name": "python",
   "nbconvert_exporter": "python",
   "pygments_lexer": "ipython3",
   "version": "3.7.0"
  }
 },
 "nbformat": 4,
 "nbformat_minor": 2
}
