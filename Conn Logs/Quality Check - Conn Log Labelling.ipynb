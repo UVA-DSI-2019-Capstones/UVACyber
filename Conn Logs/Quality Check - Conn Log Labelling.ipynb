{
 "cells": [
  {
   "cell_type": "markdown",
   "metadata": {},
   "source": [
    "# Reading Conn Logs and Honeypot Logs"
   ]
  },
  {
   "cell_type": "code",
   "execution_count": 16,
   "metadata": {},
   "outputs": [],
   "source": [
    "import pandas as pd\n",
    "file = \"/scratch/rk9cx/labeled_08_10.log\"\n",
    "chunksize = 100000\n",
    "header = [\"timestamp\", \"uid\", \"src_ip\", \"src_port\", \"resp_ip\", \"resp_port\", \"duration\", \"orig_bytes\", \"resp_bytes\", \n",
    "          \"conn_state\", \"history\", \"orig_pkts\", \"resp_pkts\", \"tunnel_parents\", \"local\",\"label\"]\n",
    "df_reader = pd.read_csv(file, chunksize = chunksize, header = None, sep='\\t')\n",
    "hp_logs = pd.read_csv(\"/home/rk9cx/HP/honeypot_parsed_final.csv\")\n",
    "one_day = hp_logs.loc[(hp_logs.timestamp.str.startswith('2018-08-10'))]"
   ]
  },
  {
   "cell_type": "markdown",
   "metadata": {},
   "source": [
    "# Pulling out Malicious IPs from Labelled Conn Logs"
   ]
  },
  {
   "cell_type": "code",
   "execution_count": 29,
   "metadata": {
    "scrolled": false
   },
   "outputs": [],
   "source": [
    "for cidx, df in enumerate(df_reader):\n",
    "    df.columns = header\n",
    "    labelled_ips = df.loc[df['label'] == 1][\"src_ip\"]\n",
    "    labelled_ips = labelled_ips.drop_duplicates(keep=False, inplace=False)\n",
    "    labelled_ips.to_csv('labelled_ips.csv', mode='a', header=False, index = False)"
   ]
  },
  {
   "cell_type": "markdown",
   "metadata": {},
   "source": [
    "# Checking if all Malicious IPs have a record in Honeypot Logs"
   ]
  },
  {
   "cell_type": "code",
   "execution_count": 49,
   "metadata": {},
   "outputs": [
    {
     "name": "stdout",
     "output_type": "stream",
     "text": [
      "Quality Check Passed\n"
     ]
    }
   ],
   "source": [
    "labelled_ips = pd.read_csv(\"/home/rk9cx/HP/labelled_ips.csv\", header = None)\n",
    "labelled_ips.drop_duplicates(inplace=True)\n",
    "data_3 = labelled_ips[~labelled_ips.isin(one_day[\"src_ip\"])]\n",
    "if data_3.shape[0] == labelled_ips.shape[0]:\n",
    "    print(\"Quality Check Passed\")"
   ]
  }
 ],
 "metadata": {
  "kernelspec": {
   "display_name": "Python 3",
   "language": "python",
   "name": "python3"
  },
  "language_info": {
   "codemirror_mode": {
    "name": "ipython",
    "version": 3
   },
   "file_extension": ".py",
   "mimetype": "text/x-python",
   "name": "python",
   "nbconvert_exporter": "python",
   "pygments_lexer": "ipython3",
   "version": "3.6.5"
  }
 },
 "nbformat": 4,
 "nbformat_minor": 2
}
