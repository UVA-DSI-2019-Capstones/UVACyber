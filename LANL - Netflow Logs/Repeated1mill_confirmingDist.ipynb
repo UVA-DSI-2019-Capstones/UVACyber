{
 "cells": [
  {
   "cell_type": "code",
   "execution_count": 1,
   "metadata": {},
   "outputs": [],
   "source": [
    "# Running Dist function with multiple 1 million samples and getting centroids, then clustering the centroids to \n",
    "# get cluster centroids for the entire day. \n",
    "\n",
    "# Issues with this file-- memory allocation, so I seem to only be able to have 5 samples of 1 million and I have to delete\n",
    "# the original dataframe so ease up space. Ideally, this would be done with many samples of 10 million, not few with 1 mill."
   ]
  },
  {
   "cell_type": "code",
   "execution_count": 2,
   "metadata": {},
   "outputs": [],
   "source": [
    "import pandas as pd    \n",
    "import math\n",
    "import numpy as np\n",
    "from copy import deepcopy\n",
    "import random\n",
    "import time\n",
    "import multiprocessing \n",
    "import gc\n",
    "from multiprocessing import Pool\n",
    "import matplotlib.pyplot as plt"
   ]
  },
  {
   "cell_type": "code",
   "execution_count": 3,
   "metadata": {},
   "outputs": [
    {
     "name": "stdout",
     "output_type": "stream",
     "text": [
      "178.28196477890015\n"
     ]
    }
   ],
   "source": [
    "# Reading in the data\n",
    "start = time.time()\n",
    "df = pd.read_csv('Netflow_Day2.csv')\n",
    "end = time.time()\n",
    "print(end - start)"
   ]
  },
  {
   "cell_type": "code",
   "execution_count": 4,
   "metadata": {},
   "outputs": [
    {
     "name": "stdout",
     "output_type": "stream",
     "text": [
      "47.62558841705322\n"
     ]
    }
   ],
   "source": [
    "# Splitting the data into samples-- 5, 1 million\n",
    "start = time.time()\n",
    "dfs = []\n",
    "for i in range(5):\n",
    "    df_samp = df.sample(n=1000000, replace=False, axis=0)\n",
    "    df_samp = df_samp[[\"Time\", \"Duration\", \"SrcDevice\", \"DstDevice\", \"Protocol\", \"SrcPort\", \"DstPort\", \"SrcPackets\",\n",
    "              \"DstPackets\", \"SrcBytes\", \"DstBytes\"]]\n",
    "    dfs.append(df_samp)\n",
    "end = time.time()\n",
    "print(end - start)"
   ]
  },
  {
   "cell_type": "code",
   "execution_count": 5,
   "metadata": {},
   "outputs": [
    {
     "name": "stdout",
     "output_type": "stream",
     "text": [
      "2.5650713443756104\n"
     ]
    }
   ],
   "source": [
    "start = time.time()\n",
    "del df\n",
    "gc.collect()\n",
    "end = time.time()\n",
    "print(end - start)"
   ]
  },
  {
   "cell_type": "code",
   "execution_count": 6,
   "metadata": {},
   "outputs": [],
   "source": [
    "# Cosine Similarity (used in clustering algorithm)\n",
    "def cosine_similarity(slope1, slope2):\n",
    "    a = np.array([1,slope1])\n",
    "    b = np.array([1,slope2])\n",
    "    return np.dot(a, b)/(np.linalg.norm(a)*np.linalg.norm(b))"
   ]
  },
  {
   "cell_type": "code",
   "execution_count": 7,
   "metadata": {},
   "outputs": [],
   "source": [
    "# Modified kmeans so that the function takes in a dataframe and returns the centroids for it\n",
    "def slope_classifier(df):\n",
    "    \n",
    "    #dfC = deepcopy(df)\n",
    "    \n",
    "    # Initializing the previous parameters because now the function takes in a dataframe and I know I want to use k=3\n",
    "    k = 3\n",
    "    x_coords = df[\"SrcPackets\"]\n",
    "    y_coords = df[\"DstPackets\"]\n",
    "    \n",
    "    # Randomly assigning initial clusters\n",
    "    slopeClusters = []\n",
    "    for i in range(k):\n",
    "        slopeClusters.append((random.uniform(0,math.pi/2)))\n",
    "    \n",
    "    # Finding the ratio of y to x (slope for each (x,y) coordinate)\n",
    "    # Making x values of 0 very small to avoid divide by zero error\n",
    "    xCopy = x_coords\n",
    "    xCopy[xCopy==0] = 0.0000000000000000000001\n",
    "    y = np.array(y_coords, dtype = 'float')\n",
    "    x = np.array(xCopy, dtype = 'float')\n",
    "    slopes = np.divide(y,x)\n",
    "    \n",
    "    \n",
    "    # Instantiating and empty array of 0 as a place holder for the old slope clusters\n",
    "    # will use this to calculate error as slope clusters change each iteration. Once the error\n",
    "    # is 0, the clusters have stabilized\n",
    "    old_slopeClusters = np.zeros(len(slopeClusters))\n",
    "    error = np.divide(np.subtract(slopeClusters, old_slopeClusters), old_slopeClusters)\n",
    "  \n",
    "    # Running a loop until centroids stabilize (percent change from old cluster values to new is 0)\n",
    "    while error.any() != 0:\n",
    "        \n",
    "        # Instantiating an empty array of 0s that will be populated with cluster assignments for each slope  \n",
    "        clusters = np.zeros(len(slopes))\n",
    "        \n",
    "        # For each slope, find the cosine distance to each cluster. Cosine always return [0,1], with values\n",
    "        # closer to 1 signifying that the two vectors are close; 0 that they are far apart. Finding the max\n",
    "        # cosine value and the corresponding cluster will be assigned to that slope. \n",
    "        for i in range(len(slopes)):               \n",
    "            distances = []\n",
    "            for j in range(len(slopeClusters)):\n",
    "                distances.append(cosine_similarity(slopes[i],slopeClusters[j]))\n",
    "            cluster = np.argmax(distances)\n",
    "            clusters[i] = cluster\n",
    "        \n",
    "               \n",
    "        # Making a deep copy of the old centroids to use later for clacluating error\n",
    "        old_slopeClusters = deepcopy(slopeClusters)\n",
    "        \n",
    "        \n",
    "        # Finding new centroids by taking average of the values assigned to each cluster and\n",
    "        # replacing the old cluster values with the new averages\n",
    "        for m in range(k):\n",
    "            points = [slopes[j] for j in range(len(slopes)) if clusters[j] == m]              \n",
    "            slopeClusters[m] = sum(points)/len(points)\n",
    "        \n",
    "        # Finding the percent change from the old cluster assignments to the new cluster assignments\n",
    "        error = np.divide(np.subtract(slopeClusters, old_slopeClusters), old_slopeClusters)\n",
    "    \n",
    "    # Returning Centroids:\n",
    "    df['ClusterAssignments'] = clusters\n",
    "    dfC0 = df[[\"SrcPackets\", \"DstPackets\"]].loc[df['ClusterAssignments']==0]\n",
    "    dfC1 = df[[\"SrcPackets\", \"DstPackets\"]].loc[df['ClusterAssignments']==1]\n",
    "    dfC2 = df[[\"SrcPackets\", \"DstPackets\"]].loc[df['ClusterAssignments']==2]\n",
    "    \n",
    "    centroid0 = dfC0.mean().values.tolist()\n",
    "    centroid1 = dfC1.mean().values.tolist()\n",
    "    centroid2 = dfC2.mean().values.tolist()\n",
    "    \n",
    "    centroids = [centroid0, centroid1, centroid2]\n",
    "        \n",
    "    return centroids"
   ]
  },
  {
   "cell_type": "code",
   "execution_count": 21,
   "metadata": {},
   "outputs": [
    {
     "name": "stderr",
     "output_type": "stream",
     "text": [
      "/apps/software/standard/core/anaconda/5.2.0-py3.6/lib/python3.6/site-packages/ipykernel_launcher.py:19: SettingWithCopyWarning: \n",
      "A value is trying to be set on a copy of a slice from a DataFrame\n",
      "\n",
      "See the caveats in the documentation: http://pandas.pydata.org/pandas-docs/stable/indexing.html#indexing-view-versus-copy\n",
      "/apps/software/standard/core/anaconda/5.2.0-py3.6/lib/python3.6/site-packages/ipykernel_launcher.py:29: RuntimeWarning: divide by zero encountered in true_divide\n",
      "/apps/software/standard/core/anaconda/5.2.0-py3.6/lib/python3.6/site-packages/ipykernel_launcher.py:19: SettingWithCopyWarning: \n",
      "A value is trying to be set on a copy of a slice from a DataFrame\n",
      "\n",
      "See the caveats in the documentation: http://pandas.pydata.org/pandas-docs/stable/indexing.html#indexing-view-versus-copy\n",
      "/apps/software/standard/core/anaconda/5.2.0-py3.6/lib/python3.6/site-packages/ipykernel_launcher.py:29: RuntimeWarning: divide by zero encountered in true_divide\n",
      "/apps/software/standard/core/anaconda/5.2.0-py3.6/lib/python3.6/site-packages/ipykernel_launcher.py:19: SettingWithCopyWarning: \n",
      "A value is trying to be set on a copy of a slice from a DataFrame\n",
      "\n",
      "See the caveats in the documentation: http://pandas.pydata.org/pandas-docs/stable/indexing.html#indexing-view-versus-copy\n",
      "/apps/software/standard/core/anaconda/5.2.0-py3.6/lib/python3.6/site-packages/ipykernel_launcher.py:29: RuntimeWarning: divide by zero encountered in true_divide\n",
      "/apps/software/standard/core/anaconda/5.2.0-py3.6/lib/python3.6/site-packages/ipykernel_launcher.py:19: SettingWithCopyWarning: \n",
      "A value is trying to be set on a copy of a slice from a DataFrame\n",
      "\n",
      "See the caveats in the documentation: http://pandas.pydata.org/pandas-docs/stable/indexing.html#indexing-view-versus-copy\n",
      "/apps/software/standard/core/anaconda/5.2.0-py3.6/lib/python3.6/site-packages/ipykernel_launcher.py:29: RuntimeWarning: divide by zero encountered in true_divide\n",
      "/apps/software/standard/core/anaconda/5.2.0-py3.6/lib/python3.6/site-packages/ipykernel_launcher.py:19: SettingWithCopyWarning: \n",
      "A value is trying to be set on a copy of a slice from a DataFrame\n",
      "\n",
      "See the caveats in the documentation: http://pandas.pydata.org/pandas-docs/stable/indexing.html#indexing-view-versus-copy\n",
      "/apps/software/standard/core/anaconda/5.2.0-py3.6/lib/python3.6/site-packages/ipykernel_launcher.py:29: RuntimeWarning: divide by zero encountered in true_divide\n"
     ]
    },
    {
     "name": "stdout",
     "output_type": "stream",
     "text": [
      "272.854939699173\n"
     ]
    }
   ],
   "source": [
    "if __name__ == '__main__':\n",
    "    start = time.time()\n",
    "    p = Pool(5)\n",
    "    allCentroids = p.map(slope_classifier, dfs)\n",
    "    p.close()\n",
    "    p.join()\n",
    "    end = time.time()\n",
    "    print(end - start)"
   ]
  },
  {
   "cell_type": "code",
   "execution_count": 24,
   "metadata": {},
   "outputs": [
    {
     "data": {
      "text/html": [
       "<div>\n",
       "<style scoped>\n",
       "    .dataframe tbody tr th:only-of-type {\n",
       "        vertical-align: middle;\n",
       "    }\n",
       "\n",
       "    .dataframe tbody tr th {\n",
       "        vertical-align: top;\n",
       "    }\n",
       "\n",
       "    .dataframe thead th {\n",
       "        text-align: right;\n",
       "    }\n",
       "</style>\n",
       "<table border=\"1\" class=\"dataframe\">\n",
       "  <thead>\n",
       "    <tr style=\"text-align: right;\">\n",
       "      <th></th>\n",
       "      <th>0</th>\n",
       "      <th>1</th>\n",
       "      <th>2</th>\n",
       "    </tr>\n",
       "  </thead>\n",
       "  <tbody>\n",
       "    <tr>\n",
       "      <th>0</th>\n",
       "      <td>[80.56386540304985, 1.834124633343802]</td>\n",
       "      <td>[142.13044170702375, 189.5961387200572]</td>\n",
       "      <td>[25.51930960191463, 314.5056566434487]</td>\n",
       "    </tr>\n",
       "    <tr>\n",
       "      <th>1</th>\n",
       "      <td>[19.688416733826653, 543.4055828265807]</td>\n",
       "      <td>[264.50224103181586, 375.711405083134]</td>\n",
       "      <td>[230.48691568065558, 0.8988910967508847]</td>\n",
       "    </tr>\n",
       "    <tr>\n",
       "      <th>2</th>\n",
       "      <td>[13.9176179241827, 538.5555441583753]</td>\n",
       "      <td>[93.23821785428507, 0.787211473358091]</td>\n",
       "      <td>[130.9044858240684, 165.1797187874536]</td>\n",
       "    </tr>\n",
       "    <tr>\n",
       "      <th>3</th>\n",
       "      <td>[305.92047237795157, 0.6093281722124101]</td>\n",
       "      <td>[143.14678372062832, 206.08449954563156]</td>\n",
       "      <td>[4.192940911692899, 244.6732211616085]</td>\n",
       "    </tr>\n",
       "    <tr>\n",
       "      <th>4</th>\n",
       "      <td>[3.413707547032123, 281.30504351718065]</td>\n",
       "      <td>[117.65432215061587, 138.75896523049738]</td>\n",
       "      <td>[277.01861514653933, 7.771942876284698]</td>\n",
       "    </tr>\n",
       "  </tbody>\n",
       "</table>\n",
       "</div>"
      ],
      "text/plain": [
       "                                          0  \\\n",
       "0    [80.56386540304985, 1.834124633343802]   \n",
       "1   [19.688416733826653, 543.4055828265807]   \n",
       "2     [13.9176179241827, 538.5555441583753]   \n",
       "3  [305.92047237795157, 0.6093281722124101]   \n",
       "4   [3.413707547032123, 281.30504351718065]   \n",
       "\n",
       "                                          1  \\\n",
       "0   [142.13044170702375, 189.5961387200572]   \n",
       "1    [264.50224103181586, 375.711405083134]   \n",
       "2    [93.23821785428507, 0.787211473358091]   \n",
       "3  [143.14678372062832, 206.08449954563156]   \n",
       "4  [117.65432215061587, 138.75896523049738]   \n",
       "\n",
       "                                          2  \n",
       "0    [25.51930960191463, 314.5056566434487]  \n",
       "1  [230.48691568065558, 0.8988910967508847]  \n",
       "2    [130.9044858240684, 165.1797187874536]  \n",
       "3    [4.192940911692899, 244.6732211616085]  \n",
       "4   [277.01861514653933, 7.771942876284698]  "
      ]
     },
     "execution_count": 24,
     "metadata": {},
     "output_type": "execute_result"
    }
   ],
   "source": [
    "df = pd.DataFrame(allCentroids)\n",
    "df"
   ]
  },
  {
   "cell_type": "code",
   "execution_count": 34,
   "metadata": {},
   "outputs": [
    {
     "data": {
      "text/plain": [
       "[[80.56386540304985, 1.834124633343802],\n",
       " [19.688416733826653, 543.4055828265807],\n",
       " [13.9176179241827, 538.5555441583753],\n",
       " [305.92047237795157, 0.6093281722124101],\n",
       " [3.413707547032123, 281.30504351718065],\n",
       " [142.13044170702375, 189.5961387200572],\n",
       " [264.50224103181586, 375.711405083134],\n",
       " [93.23821785428507, 0.787211473358091],\n",
       " [143.14678372062832, 206.08449954563156],\n",
       " [117.65432215061587, 138.75896523049738],\n",
       " [25.51930960191463, 314.5056566434487],\n",
       " [230.48691568065558, 0.8988910967508847],\n",
       " [130.9044858240684, 165.1797187874536],\n",
       " [4.192940911692899, 244.6732211616085],\n",
       " [277.01861514653933, 7.771942876284698]]"
      ]
     },
     "execution_count": 34,
     "metadata": {},
     "output_type": "execute_result"
    }
   ],
   "source": [
    "centers = list(df.loc[:,0])\n",
    "centers.extend(list(df.loc[:,1]))\n",
    "centers.extend(list(df.loc[:,2]))\n",
    "centers"
   ]
  },
  {
   "cell_type": "code",
   "execution_count": 35,
   "metadata": {},
   "outputs": [],
   "source": [
    "x = [c[0] for c in centers]\n",
    "y = [c[1] for c in centers]"
   ]
  },
  {
   "cell_type": "code",
   "execution_count": 36,
   "metadata": {},
   "outputs": [
    {
     "data": {
      "image/png": "[encoded data removed]",
      "text/plain": [
       "<Figure size 432x288 with 1 Axes>"
      ]
     },
     "metadata": {},
     "output_type": "display_data"
    }
   ],
   "source": [
    "plt.scatter(x,y)\n",
    "plt.show()"
   ]
  },
  {
   "cell_type": "code",
   "execution_count": 39,
   "metadata": {},
   "outputs": [
    {
     "name": "stdout",
     "output_type": "stream",
     "text": [
      "58.50288915634155\n"
     ]
    }
   ],
   "source": [
    "# saving the dfs sample to csvs for later use (just in case)\n",
    "start = time.time()\n",
    "for i in range(len(dfs)):\n",
    "    filename = \"OneMillRandomSample\" + str(i+1) + \".csv\"\n",
    "    dfs[i].to_csv(filename)\n",
    "end = time.time()\n",
    "print(end - start)"
   ]
  },
  {
   "cell_type": "code",
   "execution_count": 40,
   "metadata": {},
   "outputs": [],
   "source": [
    "# Cluster Packet Scatterplot\n",
    "def slope_classifier1(k, x_coords, y_coords):    \n",
    "    # Randomly assigning initial clusters\n",
    "    slopeClusters = []\n",
    "    for i in range(k):\n",
    "        slopeClusters.append((random.uniform(0,math.pi/2)))\n",
    "    \n",
    "    # Finding the ratio of y to x (slope for each (x,y) coordinate)\n",
    "    # Making x values of 0 very small to avoid divide by zero error\n",
    "    xCopy = x_coords\n",
    "    xCopy[xCopy==0] = 0.0000000000000000000001\n",
    "    y = np.array(y_coords, dtype = 'float')\n",
    "    x = np.array(xCopy, dtype = 'float')\n",
    "    slopes = np.divide(y,x)\n",
    "    \n",
    "    \n",
    "    # Instantiating and empty array of 0 as a place holder for the old slope clusters\n",
    "    # will use this to calculate error as slope clusters change each iteration. Once the error\n",
    "    # is 0, the clusters have stabilized\n",
    "    old_slopeClusters = np.zeros(len(slopeClusters))\n",
    "    error = np.divide(np.subtract(slopeClusters, old_slopeClusters), old_slopeClusters)\n",
    "  \n",
    "    # Running a loop until centroids stabilize (percent change from old cluster values to new is 0)\n",
    "    while error.any() != 0:\n",
    "        \n",
    "        # Instantiating an empty array of 0s that will be populated with cluster assignments for each slope  \n",
    "        clusters = np.zeros(len(slopes))\n",
    "        \n",
    "        # For each slope, find the cosine distance to each cluster. Cosine always return [0,1], with values\n",
    "        # closer to 1 signifying that the two vectors are close; 0 that they are far apart. Finding the max\n",
    "        # cosine value and the corresponding cluster will be assigned to that slope. \n",
    "        for i in range(len(slopes)):               \n",
    "            distances = []\n",
    "            for j in range(len(slopeClusters)):\n",
    "                distances.append(cosine_similarity(slopes[i],slopeClusters[j]))\n",
    "            cluster = np.argmax(distances)\n",
    "            clusters[i] = cluster\n",
    "        \n",
    "               \n",
    "        # Making a deep copy of the old centroids to use later for clacluating error\n",
    "        old_slopeClusters = deepcopy(slopeClusters)\n",
    "        \n",
    "        \n",
    "        # Finding new centroids by taking average of the values assigned to each cluster and\n",
    "        # replacing the old cluster values with the new averages\n",
    "        for m in range(k):\n",
    "            points = [slopes[j] for j in range(len(slopes)) if clusters[j] == m]              \n",
    "            slopeClusters[m] = sum(points)/len(points)\n",
    "        \n",
    "        # Finding the percent change from the old cluster assignments to the new cluster assignments\n",
    "        error = np.divide(np.subtract(slopeClusters, old_slopeClusters), old_slopeClusters)\n",
    "        \n",
    "    return clusters"
   ]
  },
  {
   "cell_type": "code",
   "execution_count": 48,
   "metadata": {},
   "outputs": [
    {
     "name": "stderr",
     "output_type": "stream",
     "text": [
      "/apps/software/standard/core/anaconda/5.2.0-py3.6/lib/python3.6/site-packages/ipykernel_launcher.py:21: RuntimeWarning: divide by zero encountered in true_divide\n"
     ]
    },
    {
     "data": {
      "text/html": [
       "<div>\n",
       "<style scoped>\n",
       "    .dataframe tbody tr th:only-of-type {\n",
       "        vertical-align: middle;\n",
       "    }\n",
       "\n",
       "    .dataframe tbody tr th {\n",
       "        vertical-align: top;\n",
       "    }\n",
       "\n",
       "    .dataframe thead th {\n",
       "        text-align: right;\n",
       "    }\n",
       "</style>\n",
       "<table border=\"1\" class=\"dataframe\">\n",
       "  <thead>\n",
       "    <tr style=\"text-align: right;\">\n",
       "      <th></th>\n",
       "      <th>0</th>\n",
       "      <th>1</th>\n",
       "      <th>ClusterAssigns</th>\n",
       "    </tr>\n",
       "  </thead>\n",
       "  <tbody>\n",
       "    <tr>\n",
       "      <th>0</th>\n",
       "      <td>80.563865</td>\n",
       "      <td>1.834125</td>\n",
       "      <td>1.0</td>\n",
       "    </tr>\n",
       "    <tr>\n",
       "      <th>1</th>\n",
       "      <td>19.688417</td>\n",
       "      <td>543.405583</td>\n",
       "      <td>1.0</td>\n",
       "    </tr>\n",
       "    <tr>\n",
       "      <th>2</th>\n",
       "      <td>13.917618</td>\n",
       "      <td>538.555544</td>\n",
       "      <td>1.0</td>\n",
       "    </tr>\n",
       "    <tr>\n",
       "      <th>3</th>\n",
       "      <td>305.920472</td>\n",
       "      <td>0.609328</td>\n",
       "      <td>2.0</td>\n",
       "    </tr>\n",
       "    <tr>\n",
       "      <th>4</th>\n",
       "      <td>3.413708</td>\n",
       "      <td>281.305044</td>\n",
       "      <td>1.0</td>\n",
       "    </tr>\n",
       "  </tbody>\n",
       "</table>\n",
       "</div>"
      ],
      "text/plain": [
       "            0           1  ClusterAssigns\n",
       "0   80.563865    1.834125             1.0\n",
       "1   19.688417  543.405583             1.0\n",
       "2   13.917618  538.555544             1.0\n",
       "3  305.920472    0.609328             2.0\n",
       "4    3.413708  281.305044             1.0"
      ]
     },
     "execution_count": 48,
     "metadata": {},
     "output_type": "execute_result"
    }
   ],
   "source": [
    "# Clustering the clusters\n",
    "finalClusters = slope_classifier1(3, x, y)\n",
    "dfCentroids = pd.DataFrame(centers)\n",
    "dfCentroids['ClusterAssigns'] = finalClusters\n",
    "dfCentroids.head()"
   ]
  },
  {
   "cell_type": "code",
   "execution_count": 49,
   "metadata": {},
   "outputs": [
    {
     "data": {
      "image/png": "[encoded data removed]",
      "text/plain": [
       "<Figure size 432x288 with 1 Axes>"
      ]
     },
     "metadata": {},
     "output_type": "display_data"
    }
   ],
   "source": [
    "# Double Chekcing results are what's expected\n",
    "plt.scatter(x,y, c=finalClusters)\n",
    "plt.show()"
   ]
  },
  {
   "cell_type": "code",
   "execution_count": 50,
   "metadata": {},
   "outputs": [],
   "source": [
    "# Finding ultimate centroids\n",
    "cen0 = dfCentroids[dfCentroids['ClusterAssigns']==0].mean().values.tolist()[0:2]\n",
    "cen1 = dfCentroids[dfCentroids['ClusterAssigns']==1].mean().values.tolist()[0:2]\n",
    "cen2 = dfCentroids[dfCentroids['ClusterAssigns']==2].mean().values.tolist()[0:2]"
   ]
  },
  {
   "cell_type": "code",
   "execution_count": 54,
   "metadata": {},
   "outputs": [
    {
     "name": "stdout",
     "output_type": "stream",
     "text": [
      "[159.66765488683043, 215.06614547335477]\n",
      "[24.549309686949808, 320.7131954900896]\n",
      "[226.66605526485787, 2.516843404651521]\n"
     ]
    }
   ],
   "source": [
    "print(cen0)\n",
    "print(cen1)\n",
    "print(cen2)"
   ]
  },
  {
   "cell_type": "code",
   "execution_count": 55,
   "metadata": {},
   "outputs": [
    {
     "data": {
      "text/html": [
       "<div>\n",
       "<style scoped>\n",
       "    .dataframe tbody tr th:only-of-type {\n",
       "        vertical-align: middle;\n",
       "    }\n",
       "\n",
       "    .dataframe tbody tr th {\n",
       "        vertical-align: top;\n",
       "    }\n",
       "\n",
       "    .dataframe thead th {\n",
       "        text-align: right;\n",
       "    }\n",
       "</style>\n",
       "<table border=\"1\" class=\"dataframe\">\n",
       "  <thead>\n",
       "    <tr style=\"text-align: right;\">\n",
       "      <th></th>\n",
       "      <th>0</th>\n",
       "      <th>1</th>\n",
       "    </tr>\n",
       "  </thead>\n",
       "  <tbody>\n",
       "    <tr>\n",
       "      <th>0</th>\n",
       "      <td>159.667655</td>\n",
       "      <td>215.066145</td>\n",
       "    </tr>\n",
       "    <tr>\n",
       "      <th>1</th>\n",
       "      <td>24.549310</td>\n",
       "      <td>320.713195</td>\n",
       "    </tr>\n",
       "    <tr>\n",
       "      <th>2</th>\n",
       "      <td>226.666055</td>\n",
       "      <td>2.516843</td>\n",
       "    </tr>\n",
       "  </tbody>\n",
       "</table>\n",
       "</div>"
      ],
      "text/plain": [
       "            0           1\n",
       "0  159.667655  215.066145\n",
       "1   24.549310  320.713195\n",
       "2  226.666055    2.516843"
      ]
     },
     "execution_count": 55,
     "metadata": {},
     "output_type": "execute_result"
    }
   ],
   "source": [
    "ultimateCentroids = pd.DataFrame([cen0, cen1, cen2])\n",
    "ultimateCentroids"
   ]
  },
  {
   "cell_type": "code",
   "execution_count": 56,
   "metadata": {},
   "outputs": [],
   "source": [
    "# Saving centroids to csv \n",
    "ultimateCentroids.to_csv(\"UltimateCentroids_From_5_1mill_samples\")"
   ]
  }
 ],
 "metadata": {
  "kernelspec": {
   "display_name": "Python 3",
   "language": "python",
   "name": "python3"
  },
  "language_info": {
   "codemirror_mode": {
    "name": "ipython",
    "version": 3
   },
   "file_extension": ".py",
   "mimetype": "text/x-python",
   "name": "python",
   "nbconvert_exporter": "python",
   "pygments_lexer": "ipython3",
   "version": "3.6.6"
  }
 },
 "nbformat": 4,
 "nbformat_minor": 2
}
