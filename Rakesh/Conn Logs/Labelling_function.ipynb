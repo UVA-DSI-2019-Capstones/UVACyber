{
 "cells": [
  {
   "cell_type": "code",
   "execution_count": 38,
   "metadata": {},
   "outputs": [],
   "source": [
    "dates = [\"2019-01-19\",\"2019-01-20\",\"2019-01-21\",\"2019-01-22\",\"2019-01-23\"]"
   ]
  },
  {
   "cell_type": "code",
   "execution_count": null,
   "metadata": {},
   "outputs": [],
   "source": [
    "def f(row):\n",
    "    if (row['honeypot'] == 1 or row['blacklist'] == 1) and row['whitelist'] != 1 :\n",
    "        val = 1\n",
    "    elif row['whitelist'] == 1 and (row['honeypot'] != 1 and row['blacklist'] != 1):\n",
    "        val = 0\n",
    "    else:\n",
    "        val = -1\n",
    "    return val\n",
    "\n",
    "#dir is not keyword\n",
    "def makemydir(whatever):\n",
    "  try:\n",
    "    os.makedirs(whatever)\n",
    "  except OSError:\n",
    "    pass\n",
    "  # let exception propagate if we just can't\n",
    "  # cd into the specified directory\n",
    "  os.chdir(whatever)"
   ]
  },
  {
   "cell_type": "code",
   "execution_count": 39,
   "metadata": {},
   "outputs": [],
   "source": [
    "def labeller(dates):\n",
    "    import pandas as pd\n",
    "    import os\n",
    "    import glob\n",
    "    import time\n",
    "    for date in dates:\n",
    "        file_list = []\n",
    "        file_list_lab = []\n",
    "        print(date)\n",
    "        input_dir = \"/scratch/rk9cx/conn_log_labelled_runtime/\"+date+\"/\"\n",
    "        for file in glob.glob(os.path.join(input_dir, 'anon.conn_tcp.*.log')):\n",
    "            file_list.append(file.split(date+\"/\")[1])\n",
    "        for file in glob.glob(os.path.join(input_dir, 'anon.conn_tcp.*.csv')):\n",
    "            file_list_lab.append(file.split(date+\"/\")[1])\n",
    "        makemydir(\"/scratch/rk9cx/conn_log_labelled_runtime/labelled_\" + date)\n",
    "        output_dir = \"/scratch/rk9cx/conn_log_labelled_runtime/labelled_\"+date+\"/\"\n",
    "        for file in file_list:\n",
    "            print(\"partition\")\n",
    "            start = time.time()\n",
    "            labelled_logs = pd.read_csv(input_dir+file.strip(\".log\")+\"_LABELS.csv\",\n",
    "                                        usecols=[2,3,4,5])\n",
    "            labelled_logs.columns = [\"src_ip_ext\",\"blacklist\",\"honeypot\",\"whitelist\"]\n",
    "            logs = pd.read_csv(input_dir+file, skiprows=8, \n",
    "                               usecols=[0,2,3,4,5,6,7,8,9,10,11,12,14],\n",
    "                               header = None, delimiter =\"\\t\")\n",
    "            logs = logs.rename({0:'ts', 2:\"src_ip\", 3: \"src_port\", 4:'dest_ip',\n",
    "                           5:'dest_port', 6:'duration', 7:'src_bytes',\n",
    "                           8:'dest_bytes', 9:'conn_state',10:'history',\n",
    "                           11:'src_pkts', 12:'dest_pkts',\n",
    "                           14:'local'}, axis = 'columns')\n",
    "            print(logs.shape, labelled_logs.shape)\n",
    "            merged_logs = pd.concat([logs, labelled_logs],axis=1, sort=False)\n",
    "            del logs\n",
    "            del labelled_logs\n",
    "            merged_logs[\"label\"] = merged_logs.apply(f, axis=1)\n",
    "            merged_logs = merged_logs[merged_logs.label != -1]\n",
    "            merged_logs.to_csv(output_dir + file + \"finale.csv\", index = False)   \n",
    "            stop = time.time()\n",
    "            print(\"Complete. Time elapsed: \"+ str(stop - start))\n",
    "            del merged_logs"
   ]
  },
  {
   "cell_type": "code",
   "execution_count": null,
   "metadata": {},
   "outputs": [],
   "source": [
    "labeller(dates)"
   ]
  }
 ],
 "metadata": {
  "kernelspec": {
   "display_name": "Python 3",
   "language": "python",
   "name": "python3"
  },
  "language_info": {
   "codemirror_mode": {
    "name": "ipython",
    "version": 3
   },
   "file_extension": ".py",
   "mimetype": "text/x-python",
   "name": "python",
   "nbconvert_exporter": "python",
   "pygments_lexer": "ipython3",
   "version": "3.6.6"
  }
 },
 "nbformat": 4,
 "nbformat_minor": 2
}
