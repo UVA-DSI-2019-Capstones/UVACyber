{
 "cells": [
  {
   "cell_type": "code",
   "execution_count": 9,
   "metadata": {},
   "outputs": [],
   "source": [
    "import pandas as pd\n",
    "import random\n",
    "import numpy as np\n",
    "from datetime import datetime, timedelta\n",
    "import math\n",
    "import gensim\n",
    "from gensim.models import Word2Vec \n",
    "import time"
   ]
  },
  {
   "cell_type": "code",
   "execution_count": 10,
   "metadata": {},
   "outputs": [],
   "source": [
    "def sample(mode):\n",
    "    \n",
    "    files = []\n",
    "    \n",
    "    if mode =='train':\n",
    "        files = [\n",
    "            '/scratch/by8jj/labels/merged_2019-01-10.csv',\n",
    "             '/scratch/by8jj/labels/merged_2019-01-11.csv',\n",
    "            '/scratch/by8jj/labels/merged_2019-01-12.csv',\n",
    "             '/scratch/by8jj/labels/merged_2019-01-13.csv',\n",
    "             '/scratch/by8jj/labels/merged_2019-01-14.csv',\n",
    "             '/scratch/by8jj/labels/merged_2019-01-15.csv',\n",
    "             '/scratch/by8jj/labels/merged_2019-01-16.csv',\n",
    "             '/scratch/by8jj/labels/merged_2019-01-17.csv',\n",
    "             '/scratch/by8jj/labels/merged_2019-01-18.csv',\n",
    "             '/scratch/by8jj/labels/merged_2019-01-19.csv',\n",
    "            ]\n",
    "    else:\n",
    "        \n",
    "        files = [      \n",
    "            '/scratch/by8jj/labels/merged_2019-01-20.csv',\n",
    "            '/scratch/by8jj/labels/merged_2019-01-21.csv',\n",
    "            '/scratch/by8jj/labels/merged_2019-01-22.csv',\n",
    "            '/scratch/by8jj/labels/merged_2019-01-23.csv'\n",
    "            ]\n",
    "    \n",
    "    #sample\n",
    "    p = 0.01  # 1% of the lines\n",
    "    df = pd.concat([pd.read_csv(x, header=0, skiprows=lambda i: i>0 and random.random() > p) for x in files], sort = False)\n",
    "    \n",
    "    #drop some columns\n",
    "    drop_columns = ['src_ip', 'dest_ip', 'blacklist', 'honeypot', 'whitelist', 'src_ip_ext']\n",
    "    df = df.drop(drop_columns, axis = 1)\n",
    "    \n",
    "    #remove non-numeric number in ts column\n",
    "    df = df[pd.to_numeric(df['ts'], errors='coerce').notnull()] \n",
    "    df = df[pd.to_numeric(df['label'], errors='coerce').notnull()] \n",
    "    \n",
    "    #convert label to numeric type\n",
    "    df['label'] = [int(x) for x in df.label]\n",
    "    \n",
    "    \n",
    "    #balance\n",
    "    if mode == \"train\":\n",
    "        df_benign = df.loc[df.label == 0]\n",
    "        df_mal = df.loc[df.label == 1].sample(frac = 1)[:len(df_benign)]\n",
    "        df_balanced = pd.concat([df_mal, df_benign])\n",
    "        df = df_balanced\n",
    "    \n",
    "    #shuffle dataset\n",
    "    df = df.sample(frac = 1)\n",
    "    \n",
    "    return df.reset_index(drop = True)\n",
    "    "
   ]
  },
  {
   "cell_type": "code",
   "execution_count": 11,
   "metadata": {},
   "outputs": [],
   "source": [
    "def transfer(df):\n",
    "    \n",
    "    \n",
    "    #get dummy conn state\n",
    "    df = pd.get_dummies(df, columns=['conn_state'], drop_first=True)\n",
    "    \n",
    "    #assumption 1: replace missing value by 0\n",
    "    df = df.replace('-', 0)\n",
    "    \n",
    "    #assumption 2: convert ts into hour\n",
    "    xhr, yhr = [], []\n",
    "\n",
    "    for i in df.ts:\n",
    "        try:\n",
    "            temp = (datetime.fromtimestamp(int(float(i))) - timedelta(hours=-5)).strftime('%Y-%m-%d %H:%M:%S')[11:13]\n",
    "            xhr.append(np.sin(2*math.pi*int(temp)/24))\n",
    "            yhr.append(np.cos(2*math.pi*int(temp)/24))\n",
    "        except:\n",
    "            print(i)\n",
    "            df = df.loc[df['ts'] != i]\n",
    "            \n",
    "    df['xhr'] = xhr\n",
    "    df['yhr'] = yhr\n",
    "    \n",
    "    \n",
    "    #assumption 3: convert port number into 3 categories\n",
    "    df['dest_port'] = [0 if x in range(1024) else 1 if x in range(1024,4915) else 2 for x in df['dest_port']]\n",
    "    df = pd.get_dummies(df, columns = ['dest_port'], drop_first = True)\n",
    "    \n",
    "    df['src_port'] = [0 if x in range(1024) else 1 if x in range(1024,4915) else 2 for x in df['src_port']]\n",
    "    df = pd.get_dummies(df, columns = ['src_port'], drop_first = True)\n",
    "    \n",
    "    #assumption 4: log transformation\n",
    "    df['duration'] = pd.to_numeric(df['duration'])\n",
    "    df['src_bytes'] = pd.to_numeric(df['src_bytes'])\n",
    "    df['dest_bytes'] = pd.to_numeric(df['dest_bytes'])\n",
    "    df['src_pkts'] = pd.to_numeric(df['src_pkts'])\n",
    "    df['dest_pkts'] = pd.to_numeric(df['dest_pkts'])\n",
    "    df['duration'] = np.log(0.1 + df['duration'])\n",
    "    df['src_bytes'] = np.log(0.1 + df['src_bytes'])\n",
    "    df['dest_bytes'] = np.log(0.1 + df['dest_bytes'])\n",
    "    df['src_pkts'] = np.log(0.1 + df['src_pkts'])\n",
    "    df['dest_pkts'] = np.log(0.1 + df['dest_pkts'])\n",
    "    \n",
    "    #Word2Vec\n",
    "    sentences = [str(x) for x in df.history.tolist()]\n",
    "    sentences = [list(x) for x in sentences]\n",
    "    model = Word2Vec(sentences, size = 5)\n",
    "    words = list(model.wv.vocab)\n",
    "    \n",
    "    dic = {}\n",
    "\n",
    "    for i in words:\n",
    "        dic[i] = model[i]\n",
    "    \n",
    "    sentences = [sum([dic[i] for y in x]) for x in sentences]\n",
    "    df = pd.concat([df, pd.DataFrame(data=sentences)], axis = 1)\n",
    "    \n",
    "    \n",
    "    return df.drop(['ts','history'], axis = 1)"
   ]
  },
  {
   "cell_type": "code",
   "execution_count": 12,
   "metadata": {},
   "outputs": [
    {
     "name": "stderr",
     "output_type": "stream",
     "text": [
      "/apps/software/standard/core/anaconda/5.2.0-py3.6/lib/python3.6/site-packages/ipykernel_launcher.py:54: DeprecationWarning: Call to deprecated `__getitem__` (Method will be removed in 4.0.0, use self.wv.__getitem__() instead).\n"
     ]
    },
    {
     "name": "stdout",
     "output_type": "stream",
     "text": [
      "--- 394.0628750324249 seconds ---\n"
     ]
    },
    {
     "name": "stderr",
     "output_type": "stream",
     "text": [
      "/apps/software/standard/core/anaconda/5.2.0-py3.6/lib/python3.6/site-packages/IPython/core/interactiveshell.py:2963: DtypeWarning: Columns (0,2,4,10,11,12,14,15,16,17) have mixed types. Specify dtype option on import or set low_memory=False.\n",
      "  exec(code_obj, self.user_global_ns, self.user_ns)\n"
     ]
    },
    {
     "name": "stdout",
     "output_type": "stream",
     "text": [
      "--- 873.6961815357208 seconds ---\n"
     ]
    }
   ],
   "source": [
    "modes = ['test', 'train']\n",
    "\n",
    "for j in range(6, 7):\n",
    "    for i in modes:\n",
    "        start_time = time.time()\n",
    "        df = sample(i)\n",
    "        df.to_csv(i + str(j) + 'original.csv', index = False)\n",
    "        df = transfer(df)\n",
    "        df.to_csv(i + str(j) + '.csv', index = False)\n",
    "        print(\"--- %s seconds ---\" % (time.time() - start_time))"
   ]
  },
  {
   "cell_type": "code",
   "execution_count": null,
   "metadata": {},
   "outputs": [],
   "source": []
  }
 ],
 "metadata": {
  "kernelspec": {
   "display_name": "Python 3",
   "language": "python",
   "name": "python3"
  },
  "language_info": {
   "codemirror_mode": {
    "name": "ipython",
    "version": 3
   },
   "file_extension": ".py",
   "mimetype": "text/x-python",
   "name": "python",
   "nbconvert_exporter": "python",
   "pygments_lexer": "ipython3",
   "version": "3.6.6"
  }
 },
 "nbformat": 4,
 "nbformat_minor": 2
}
