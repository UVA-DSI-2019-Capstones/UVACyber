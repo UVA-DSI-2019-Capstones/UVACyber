{
 "cells": [
  {
   "cell_type": "markdown",
   "metadata": {},
   "source": [
    "# 1. Reading Data "
   ]
  },
  {
   "cell_type": "code",
   "execution_count": 2,
   "metadata": {},
   "outputs": [
    {
     "name": "stderr",
     "output_type": "stream",
     "text": [
      "/apps/software/standard/core/anaconda/5.2.0-py3.6/lib/python3.6/site-packages/h5py/__init__.py:36: FutureWarning: Conversion of the second argument of issubdtype from `float` to `np.floating` is deprecated. In future, it will be treated as `np.float64 == np.dtype(float).type`.\n",
      "  from ._conv import register_converters as _register_converters\n",
      "Using TensorFlow backend.\n"
     ]
    }
   ],
   "source": [
    "import pandas as pd\n",
    "import os\n",
    "import glob\n",
    "import os\n",
    "import random\n",
    "import pandas as pd\n",
    "import numpy as np \n",
    "%matplotlib inline\n",
    "import matplotlib\n",
    "from fastai.imports import *\n",
    "from fastai.structured import *\n",
    "import matplotlib.pyplot as plt\n",
    "from sklearn.linear_model import LogisticRegressionCV\n",
    "from sklearn.metrics import confusion_matrix\n",
    "import itertools\n",
    "from sklearn.ensemble import RandomForestRegressor, RandomForestClassifier\n",
    "from sklearn.decomposition import PCA\n",
    "import matplotlib.pyplot as plt\n",
    "from sklearn.preprocessing import StandardScaler\n",
    "import matplotlib\n",
    "import matplotlib.pyplot as plt\n",
    "from sklearn.linear_model import LogisticRegressionCV\n",
    "from sklearn.metrics import confusion_matrix\n",
    "from keras.utils import to_categorical\n",
    "from keras.layers import Dropout\n",
    "from keras.layers import Dense\n",
    "from keras import models\n",
    "from sklearn.ensemble import IsolationForest\n",
    "from keras import optimizers\n",
    "import itertools\n",
    "from sklearn.ensemble import RandomForestRegressor, RandomForestClassifier\n",
    "from sklearn.ensemble import GradientBoostingClassifier\n",
    "import numpy as np\n",
    "import math\n",
    "from datetime import datetime, timedelta\n",
    "from fastai.imports import *\n",
    "from fastai.structured import *\n",
    "os.chdir(\"/scratch/rk9cx/conn_log_labelled_runtime/labelled_2019-01-10//\")"
   ]
  },
  {
   "cell_type": "code",
   "execution_count": 3,
   "metadata": {},
   "outputs": [],
   "source": [
    "#random sampling\n",
    "filename = \"merged_2019-01-10.csv\"\n",
    "n = sum(1 for line in open(filename)) - 1 #number of records in file (excludes header)\n",
    "s = 1000000 #desired sample size\n",
    "skip = sorted(random.sample(range(1,n+1),n-s)) #the 0-indexed header will not be included in the skip list"
   ]
  },
  {
   "cell_type": "code",
   "execution_count": 4,
   "metadata": {},
   "outputs": [
    {
     "name": "stderr",
     "output_type": "stream",
     "text": [
      "/apps/software/standard/core/anaconda/5.2.0-py3.6/lib/python3.6/site-packages/IPython/core/interactiveshell.py:2785: DtypeWarning: Columns (0,1,3,5,11,12,13,15,16,17,18) have mixed types. Specify dtype option on import or set low_memory=False.\n",
      "  interactivity=interactivity, compiler=compiler, result=result)\n"
     ]
    }
   ],
   "source": [
    "#preprocessing data\n",
    "df = pd.read_csv(filename, skiprows=skip)\n",
    "df = df.drop(df.columns[0], axis=1)\n",
    "df = pd.concat([df, df['history'].str.join('|').str.get_dummies()], axis = 1)\n",
    "df = df.drop([\"honeypot\",\"blacklist\",\"whitelist\"], axis=1)\n",
    "df = pd.concat([df, pd.get_dummies(df.conn_state.apply(pd.Series), prefix=\"\", prefix_sep=\"\")], axis = 1)\n",
    "df = df.drop([\"conn_state\"], axis=1)"
   ]
  },
  {
   "cell_type": "code",
   "execution_count": 5,
   "metadata": {},
   "outputs": [],
   "source": [
    "df[\"duration\"] = df[\"duration\"].replace('-', 0)\n",
    "df[\"src_bytes\"] = df[\"src_bytes\"].replace('-', 0)\n",
    "df[\"dest_bytes\"] = df[\"dest_bytes\"].replace('-', 0)"
   ]
  },
  {
   "cell_type": "code",
   "execution_count": 2,
   "metadata": {},
   "outputs": [
    {
     "ename": "NameError",
     "evalue": "name 'df' is not defined",
     "output_type": "error",
     "traceback": [
      "\u001b[0;31m---------------------------------------------------------------------------\u001b[0m",
      "\u001b[0;31mNameError\u001b[0m                                 Traceback (most recent call last)",
      "\u001b[0;32m<ipython-input-2-eb65e88c89f7>\u001b[0m in \u001b[0;36m<module>\u001b[0;34m()\u001b[0m\n\u001b[0;32m----> 1\u001b[0;31m \u001b[0msample\u001b[0m \u001b[0;34m=\u001b[0m \u001b[0mdf\u001b[0m\u001b[0;34m.\u001b[0m\u001b[0msample\u001b[0m\u001b[0;34m(\u001b[0m\u001b[0;36m100\u001b[0m\u001b[0;34m)\u001b[0m\u001b[0;34m\u001b[0m\u001b[0m\n\u001b[0m\u001b[1;32m      2\u001b[0m \u001b[0mdf\u001b[0m\u001b[0;34m.\u001b[0m\u001b[0mT\u001b[0m\u001b[0;34m.\u001b[0m\u001b[0mhead\u001b[0m\u001b[0;34m(\u001b[0m\u001b[0;36m50\u001b[0m\u001b[0;34m)\u001b[0m\u001b[0;34m\u001b[0m\u001b[0m\n",
      "\u001b[0;31mNameError\u001b[0m: name 'df' is not defined"
     ]
    }
   ],
   "source": [
    "sample = df.sample(100)\n",
    "df.T.head(50)"
   ]
  },
  {
   "cell_type": "markdown",
   "metadata": {},
   "source": [
    "# 2. Word2Vec Implementation"
   ]
  },
  {
   "cell_type": "code",
   "execution_count": 7,
   "metadata": {},
   "outputs": [
    {
     "name": "stdout",
     "output_type": "stream",
     "text": [
      "[nltk_data] Downloading package punkt to /home/rk9cx/nltk_data...\n",
      "[nltk_data]   Package punkt is already up-to-date!\n"
     ]
    }
   ],
   "source": [
    "import os\n",
    "import pandas as pd\n",
    "import nltk\n",
    "import gensim\n",
    "nltk.download('punkt')\n",
    "from gensim import corpora, models, similarities"
   ]
  },
  {
   "cell_type": "code",
   "execution_count": 8,
   "metadata": {},
   "outputs": [],
   "source": [
    "x=df['history'].values.tolist()"
   ]
  },
  {
   "cell_type": "code",
   "execution_count": 9,
   "metadata": {},
   "outputs": [],
   "source": [
    "tok_corp= [nltk.word_tokenize(sent) for sent in x]"
   ]
  },
  {
   "cell_type": "code",
   "execution_count": null,
   "metadata": {},
   "outputs": [],
   "source": [
    "tok_corp = []\n",
    "for sent in x:\n",
    "    print(sent)\n",
    "    tok_corp.append(nltk.word_tokenize(sent))"
   ]
  },
  {
   "cell_type": "code",
   "execution_count": 11,
   "metadata": {},
   "outputs": [],
   "source": [
    "model = gensim.models.Word2Vec(tok_corp, min_count=1, size = 5)"
   ]
  },
  {
   "cell_type": "code",
   "execution_count": 12,
   "metadata": {},
   "outputs": [
    {
     "name": "stderr",
     "output_type": "stream",
     "text": [
      "/apps/software/standard/core/anaconda/5.2.0-py3.6/lib/python3.6/site-packages/ipykernel_launcher.py:1: DeprecationWarning: Call to deprecated `__getitem__` (Method will be removed in 4.0.0, use self.wv.__getitem__() instead).\n",
      "  \"\"\"Entry point for launching an IPython kernel.\n"
     ]
    },
    {
     "data": {
      "text/plain": [
       "array([ 0.06721, -0.01748,  0.04797,  0.07438, -0.06444], dtype=float32)"
      ]
     },
     "execution_count": 12,
     "metadata": {},
     "output_type": "execute_result"
    }
   ],
   "source": [
    "model[df[\"history\"][0]]"
   ]
  },
  {
   "cell_type": "code",
   "execution_count": 13,
   "metadata": {},
   "outputs": [
    {
     "name": "stderr",
     "output_type": "stream",
     "text": [
      "/apps/software/standard/core/anaconda/5.2.0-py3.6/lib/python3.6/site-packages/ipykernel_launcher.py:1: DeprecationWarning: Call to deprecated `__getitem__` (Method will be removed in 4.0.0, use self.wv.__getitem__() instead).\n",
      "  \"\"\"Entry point for launching an IPython kernel.\n"
     ]
    },
    {
     "data": {
      "text/plain": [
       "array([ 0.06721, -0.01748,  0.04797,  0.07438, -0.06444], dtype=float32)"
      ]
     },
     "execution_count": 13,
     "metadata": {},
     "output_type": "execute_result"
    }
   ],
   "source": [
    "model[\"S\"]"
   ]
  },
  {
   "cell_type": "code",
   "execution_count": 14,
   "metadata": {},
   "outputs": [],
   "source": [
    "def word_vector(ele):\n",
    "    return model[ele]"
   ]
  },
  {
   "cell_type": "code",
   "execution_count": 21,
   "metadata": {},
   "outputs": [],
   "source": [
    "datafra = df.head(10000)"
   ]
  },
  {
   "cell_type": "code",
   "execution_count": 22,
   "metadata": {},
   "outputs": [
    {
     "name": "stderr",
     "output_type": "stream",
     "text": [
      "/apps/software/standard/core/anaconda/5.2.0-py3.6/lib/python3.6/site-packages/ipykernel_launcher.py:4: DeprecationWarning: Call to deprecated `__getitem__` (Method will be removed in 4.0.0, use self.wv.__getitem__() instead).\n",
      "  after removing the cwd from sys.path.\n"
     ]
    }
   ],
   "source": [
    "allword_vecs = pd.DataFrame()\n",
    "count = 0\n",
    "for index,row in datafra.iterrows():\n",
    "    A = model[row[\"history\"]]\n",
    "    word_vecs = pd.DataFrame(A).T\n",
    "    word_vecs[\"history\"] = row[\"history\"]\n",
    "    allword_vecs = allword_vecs.append(word_vecs)\n",
    "    count = count +1\n",
    "    if count == 50000:\n",
    "        print(\"50%\")\n",
    "    elif count == 100000:\n",
    "        print(\"100%\")"
   ]
  },
  {
   "cell_type": "code",
   "execution_count": 24,
   "metadata": {},
   "outputs": [],
   "source": [
    "finaldf = pd.merge(datafra,allword_vecs, on = 'history')"
   ]
  },
  {
   "cell_type": "code",
   "execution_count": 25,
   "metadata": {},
   "outputs": [
    {
     "data": {
      "text/html": [
       "<div>\n",
       "<style scoped>\n",
       "    .dataframe tbody tr th:only-of-type {\n",
       "        vertical-align: middle;\n",
       "    }\n",
       "\n",
       "    .dataframe tbody tr th {\n",
       "        vertical-align: top;\n",
       "    }\n",
       "\n",
       "    .dataframe thead th {\n",
       "        text-align: right;\n",
       "    }\n",
       "</style>\n",
       "<table border=\"1\" class=\"dataframe\">\n",
       "  <thead>\n",
       "    <tr style=\"text-align: right;\">\n",
       "      <th></th>\n",
       "      <th>ts</th>\n",
       "      <th>src_ip</th>\n",
       "      <th>src_port</th>\n",
       "      <th>dest_ip</th>\n",
       "      <th>dest_port</th>\n",
       "      <th>duration</th>\n",
       "      <th>src_bytes</th>\n",
       "      <th>dest_bytes</th>\n",
       "      <th>history</th>\n",
       "      <th>src_pkts</th>\n",
       "      <th>...</th>\n",
       "      <th>S2</th>\n",
       "      <th>S3</th>\n",
       "      <th>SF</th>\n",
       "      <th>SH</th>\n",
       "      <th>SHR</th>\n",
       "      <th>0</th>\n",
       "      <th>1</th>\n",
       "      <th>2</th>\n",
       "      <th>3</th>\n",
       "      <th>4</th>\n",
       "    </tr>\n",
       "  </thead>\n",
       "  <tbody>\n",
       "    <tr>\n",
       "      <th>0</th>\n",
       "      <td>1.5471e+09</td>\n",
       "      <td>194.28.115.245</td>\n",
       "      <td>47821</td>\n",
       "      <td>3.110.16.42</td>\n",
       "      <td>9090</td>\n",
       "      <td>0</td>\n",
       "      <td>0</td>\n",
       "      <td>0</td>\n",
       "      <td>S</td>\n",
       "      <td>1</td>\n",
       "      <td>...</td>\n",
       "      <td>0</td>\n",
       "      <td>0</td>\n",
       "      <td>0</td>\n",
       "      <td>0</td>\n",
       "      <td>0</td>\n",
       "      <td>0.067209</td>\n",
       "      <td>-0.017477</td>\n",
       "      <td>0.047971</td>\n",
       "      <td>0.074376</td>\n",
       "      <td>-0.064439</td>\n",
       "    </tr>\n",
       "    <tr>\n",
       "      <th>1</th>\n",
       "      <td>1.5471e+09</td>\n",
       "      <td>194.28.115.245</td>\n",
       "      <td>47821</td>\n",
       "      <td>3.110.16.42</td>\n",
       "      <td>9090</td>\n",
       "      <td>0</td>\n",
       "      <td>0</td>\n",
       "      <td>0</td>\n",
       "      <td>S</td>\n",
       "      <td>1</td>\n",
       "      <td>...</td>\n",
       "      <td>0</td>\n",
       "      <td>0</td>\n",
       "      <td>0</td>\n",
       "      <td>0</td>\n",
       "      <td>0</td>\n",
       "      <td>0.067209</td>\n",
       "      <td>-0.017477</td>\n",
       "      <td>0.047971</td>\n",
       "      <td>0.074376</td>\n",
       "      <td>-0.064439</td>\n",
       "    </tr>\n",
       "    <tr>\n",
       "      <th>2</th>\n",
       "      <td>1.5471e+09</td>\n",
       "      <td>194.28.115.245</td>\n",
       "      <td>47821</td>\n",
       "      <td>3.110.16.42</td>\n",
       "      <td>9090</td>\n",
       "      <td>0</td>\n",
       "      <td>0</td>\n",
       "      <td>0</td>\n",
       "      <td>S</td>\n",
       "      <td>1</td>\n",
       "      <td>...</td>\n",
       "      <td>0</td>\n",
       "      <td>0</td>\n",
       "      <td>0</td>\n",
       "      <td>0</td>\n",
       "      <td>0</td>\n",
       "      <td>0.067209</td>\n",
       "      <td>-0.017477</td>\n",
       "      <td>0.047971</td>\n",
       "      <td>0.074376</td>\n",
       "      <td>-0.064439</td>\n",
       "    </tr>\n",
       "    <tr>\n",
       "      <th>3</th>\n",
       "      <td>1.5471e+09</td>\n",
       "      <td>194.28.115.245</td>\n",
       "      <td>47821</td>\n",
       "      <td>3.110.16.42</td>\n",
       "      <td>9090</td>\n",
       "      <td>0</td>\n",
       "      <td>0</td>\n",
       "      <td>0</td>\n",
       "      <td>S</td>\n",
       "      <td>1</td>\n",
       "      <td>...</td>\n",
       "      <td>0</td>\n",
       "      <td>0</td>\n",
       "      <td>0</td>\n",
       "      <td>0</td>\n",
       "      <td>0</td>\n",
       "      <td>0.067209</td>\n",
       "      <td>-0.017477</td>\n",
       "      <td>0.047971</td>\n",
       "      <td>0.074376</td>\n",
       "      <td>-0.064439</td>\n",
       "    </tr>\n",
       "    <tr>\n",
       "      <th>4</th>\n",
       "      <td>1.5471e+09</td>\n",
       "      <td>194.28.115.245</td>\n",
       "      <td>47821</td>\n",
       "      <td>3.110.16.42</td>\n",
       "      <td>9090</td>\n",
       "      <td>0</td>\n",
       "      <td>0</td>\n",
       "      <td>0</td>\n",
       "      <td>S</td>\n",
       "      <td>1</td>\n",
       "      <td>...</td>\n",
       "      <td>0</td>\n",
       "      <td>0</td>\n",
       "      <td>0</td>\n",
       "      <td>0</td>\n",
       "      <td>0</td>\n",
       "      <td>0.067209</td>\n",
       "      <td>-0.017477</td>\n",
       "      <td>0.047971</td>\n",
       "      <td>0.074376</td>\n",
       "      <td>-0.064439</td>\n",
       "    </tr>\n",
       "  </tbody>\n",
       "</table>\n",
       "<p>5 rows × 52 columns</p>\n",
       "</div>"
      ],
      "text/plain": [
       "           ts          src_ip src_port      dest_ip dest_port duration  \\\n",
       "0  1.5471e+09  194.28.115.245    47821  3.110.16.42      9090        0   \n",
       "1  1.5471e+09  194.28.115.245    47821  3.110.16.42      9090        0   \n",
       "2  1.5471e+09  194.28.115.245    47821  3.110.16.42      9090        0   \n",
       "3  1.5471e+09  194.28.115.245    47821  3.110.16.42      9090        0   \n",
       "4  1.5471e+09  194.28.115.245    47821  3.110.16.42      9090        0   \n",
       "\n",
       "  src_bytes dest_bytes history src_pkts    ...    S2 S3 SF SH  SHR         0  \\\n",
       "0         0          0       S        1    ...     0  0  0  0    0  0.067209   \n",
       "1         0          0       S        1    ...     0  0  0  0    0  0.067209   \n",
       "2         0          0       S        1    ...     0  0  0  0    0  0.067209   \n",
       "3         0          0       S        1    ...     0  0  0  0    0  0.067209   \n",
       "4         0          0       S        1    ...     0  0  0  0    0  0.067209   \n",
       "\n",
       "          1         2         3         4  \n",
       "0 -0.017477  0.047971  0.074376 -0.064439  \n",
       "1 -0.017477  0.047971  0.074376 -0.064439  \n",
       "2 -0.017477  0.047971  0.074376 -0.064439  \n",
       "3 -0.017477  0.047971  0.074376 -0.064439  \n",
       "4 -0.017477  0.047971  0.074376 -0.064439  \n",
       "\n",
       "[5 rows x 52 columns]"
      ]
     },
     "execution_count": 25,
     "metadata": {},
     "output_type": "execute_result"
    }
   ],
   "source": [
    "finaldf.head()"
   ]
  },
  {
   "cell_type": "code",
   "execution_count": null,
   "metadata": {},
   "outputs": [],
   "source": [
    "finaldf.to_csv(\"word2vec.csv\", index = False)"
   ]
  },
  {
   "cell_type": "code",
   "execution_count": 99,
   "metadata": {},
   "outputs": [
    {
     "name": "stderr",
     "output_type": "stream",
     "text": [
      "/apps/software/standard/core/anaconda/5.2.0-py3.6/lib/python3.6/site-packages/ipykernel_launcher.py:1: SettingWithCopyWarning: \n",
      "A value is trying to be set on a copy of a slice from a DataFrame.\n",
      "Try using .loc[row_indexer,col_indexer] = value instead\n",
      "\n",
      "See the caveats in the documentation: http://pandas.pydata.org/pandas-docs/stable/indexing.html#indexing-view-versus-copy\n",
      "  \"\"\"Entry point for launching an IPython kernel.\n"
     ]
    }
   ],
   "source": [
    "datafra[\"history\"] = datafra[\"history\"].astype(str)\n",
    "allword_vecs[\"history\"] = allword_vecs[\"history\"].astype(str)"
   ]
  },
  {
   "cell_type": "code",
   "execution_count": 120,
   "metadata": {},
   "outputs": [
    {
     "data": {
      "text/html": [
       "<div>\n",
       "<style scoped>\n",
       "    .dataframe tbody tr th:only-of-type {\n",
       "        vertical-align: middle;\n",
       "    }\n",
       "\n",
       "    .dataframe tbody tr th {\n",
       "        vertical-align: top;\n",
       "    }\n",
       "\n",
       "    .dataframe thead th {\n",
       "        text-align: right;\n",
       "    }\n",
       "</style>\n",
       "<table border=\"1\" class=\"dataframe\">\n",
       "  <thead>\n",
       "    <tr style=\"text-align: right;\">\n",
       "      <th></th>\n",
       "      <th>0</th>\n",
       "      <th>1</th>\n",
       "      <th>2</th>\n",
       "      <th>3</th>\n",
       "      <th>4</th>\n",
       "      <th>history</th>\n",
       "    </tr>\n",
       "  </thead>\n",
       "  <tbody>\n",
       "    <tr>\n",
       "      <th>0</th>\n",
       "      <td>-0.094483</td>\n",
       "      <td>0.080201</td>\n",
       "      <td>0.083023</td>\n",
       "      <td>-0.024449</td>\n",
       "      <td>-0.023619</td>\n",
       "      <td>S</td>\n",
       "    </tr>\n",
       "    <tr>\n",
       "      <th>0</th>\n",
       "      <td>-0.094483</td>\n",
       "      <td>0.080201</td>\n",
       "      <td>0.083023</td>\n",
       "      <td>-0.024449</td>\n",
       "      <td>-0.023619</td>\n",
       "      <td>S</td>\n",
       "    </tr>\n",
       "    <tr>\n",
       "      <th>0</th>\n",
       "      <td>-0.094483</td>\n",
       "      <td>0.080201</td>\n",
       "      <td>0.083023</td>\n",
       "      <td>-0.024449</td>\n",
       "      <td>-0.023619</td>\n",
       "      <td>S</td>\n",
       "    </tr>\n",
       "    <tr>\n",
       "      <th>0</th>\n",
       "      <td>-0.094483</td>\n",
       "      <td>0.080201</td>\n",
       "      <td>0.083023</td>\n",
       "      <td>-0.024449</td>\n",
       "      <td>-0.023619</td>\n",
       "      <td>S</td>\n",
       "    </tr>\n",
       "    <tr>\n",
       "      <th>0</th>\n",
       "      <td>-0.094483</td>\n",
       "      <td>0.080201</td>\n",
       "      <td>0.083023</td>\n",
       "      <td>-0.024449</td>\n",
       "      <td>-0.023619</td>\n",
       "      <td>S</td>\n",
       "    </tr>\n",
       "  </tbody>\n",
       "</table>\n",
       "</div>"
      ],
      "text/plain": [
       "          0         1         2         3         4 history\n",
       "0 -0.094483  0.080201  0.083023 -0.024449 -0.023619       S\n",
       "0 -0.094483  0.080201  0.083023 -0.024449 -0.023619       S\n",
       "0 -0.094483  0.080201  0.083023 -0.024449 -0.023619       S\n",
       "0 -0.094483  0.080201  0.083023 -0.024449 -0.023619       S\n",
       "0 -0.094483  0.080201  0.083023 -0.024449 -0.023619       S"
      ]
     },
     "execution_count": 120,
     "metadata": {},
     "output_type": "execute_result"
    }
   ],
   "source": [
    "allword_vecs.head()"
   ]
  },
  {
   "cell_type": "code",
   "execution_count": null,
   "metadata": {},
   "outputs": [],
   "source": [
    "mergedf = pd.merge(datafra,allword_vecs, how='left', on = ['history'])\n",
    "mergedf.head()"
   ]
  },
  {
   "cell_type": "code",
   "execution_count": 110,
   "metadata": {},
   "outputs": [
    {
     "data": {
      "text/plain": [
       "(100000, 50)"
      ]
     },
     "execution_count": 110,
     "metadata": {},
     "output_type": "execute_result"
    }
   ],
   "source": [
    "mergedf.shape"
   ]
  },
  {
   "cell_type": "code",
   "execution_count": 69,
   "metadata": {},
   "outputs": [],
   "source": [
    "uni_wordvecs = allword_vecs.drop_duplicates(keep = False)"
   ]
  },
  {
   "cell_type": "code",
   "execution_count": 73,
   "metadata": {},
   "outputs": [
    {
     "data": {
      "text/plain": [
       "Index([        'ts',     'src_ip',   'src_port',    'dest_ip',  'dest_port',\n",
       "         'duration',  'src_bytes', 'dest_bytes',    'history',   'src_pkts',\n",
       "        'dest_pkts',      'local', 'src_ip_ext',      'label',          'A',\n",
       "                'D',          'F',          'H',          'Q',          'R',\n",
       "                'S',          'T',          '^',          'a',          'd',\n",
       "                'f',          'h',          'i',          'q',          'r',\n",
       "                's',          't',        'OTH',        'REJ',       'RSTO',\n",
       "           'RSTOS0',       'RSTR',      'RSTRH',         'S0',         'S1',\n",
       "               'S2',         'S3',         'SF',         'SH',        'SHR',\n",
       "                  0,            1,            2,            3,            4],\n",
       "      dtype='object')"
      ]
     },
     "execution_count": 73,
     "metadata": {},
     "output_type": "execute_result"
    }
   ],
   "source": [
    "finaldf.columns"
   ]
  },
  {
   "cell_type": "code",
   "execution_count": 67,
   "metadata": {},
   "outputs": [
    {
     "data": {
      "text/plain": [
       "{'total': 270373085184,\n",
       " 'available': 183288000512,\n",
       " 'percent': 32.2,\n",
       " 'used': 69869256704,\n",
       " 'free': 107783045120,\n",
       " 'active': 109342785536,\n",
       " 'inactive': 38526697472,\n",
       " 'buffers': 0,\n",
       " 'cached': 92720783360,\n",
       " 'shared': 16310538240,\n",
       " 'slab': 11334295552}"
      ]
     },
     "execution_count": 67,
     "metadata": {},
     "output_type": "execute_result"
    }
   ],
   "source": [
    "#!/usr/bin/env python\n",
    "import psutil\n",
    "# gives a single float value\n",
    "psutil.cpu_percent()\n",
    "# gives an object with many fields\n",
    "psutil.virtual_memory()\n",
    "# you can convert that object to a dictionary \n",
    "dict(psutil.virtual_memory()._asdict())"
   ]
  },
  {
   "cell_type": "markdown",
   "metadata": {},
   "source": [
    "# 3. Preprocessing and Train-Test Splitting"
   ]
  },
  {
   "cell_type": "code",
   "execution_count": null,
   "metadata": {},
   "outputs": [],
   "source": [
    "def class_balancer(df):\n",
    "    if df.label.value_counts()[0] > df.label.value_counts()[1]:\n",
    "        mal = df.loc[df['label'] == 1]\n",
    "        ben = df.loc[df['label'] == 0].sample(df.label.value_counts()[1])\n",
    "        mdf = pd.concat([mal,ben], axis = 0)\n",
    "        return mdf\n",
    "    if df.label.value_counts()[1] > df.label.value_counts()[0]:\n",
    "        mal = df.loc[df['label'] == 1].sample(df.label.value_counts()[0])\n",
    "        ben = df.loc[df['label'] == 0]\n",
    "        mdf = pd.concat([mal,ben], axis = 0)\n",
    "        return mdf"
   ]
  },
  {
   "cell_type": "code",
   "execution_count": null,
   "metadata": {},
   "outputs": [],
   "source": [
    "finaldf.drop([\"src_ip\",\"dest_ip\",\"src_ip_ext\"], axis = 1, inplace=True)"
   ]
  },
  {
   "cell_type": "code",
   "execution_count": 37,
   "metadata": {},
   "outputs": [],
   "source": [
    "finaldf[\"duration\"] = finaldf[\"duration\"].astype('float')\n",
    "finaldf[\"src_bytes\"] = finaldf[\"src_bytes\"].astype('float')\n",
    "finaldf[\"dest_bytes\"] = finaldf[\"dest_bytes\"].astype('float')\n",
    "finaldf[\"src_pkts\"] = finaldf[\"src_pkts\"].astype('int')\n",
    "finaldf[\"dest_pkts\"] = finaldf[\"dest_pkts\"].astype('int')\n",
    "finaldf[\"local\"] = finaldf[\"local\"].astype('int')\n",
    "finaldf[\"label\"] = finaldf[\"label\"].astype('int')"
   ]
  },
  {
   "cell_type": "code",
   "execution_count": 40,
   "metadata": {},
   "outputs": [],
   "source": [
    "    finaldf[\"src_bytes\"] = finaldf[\"src_bytes\"].astype(float)\n",
    "    finaldf[\"src_bytes\"] = np.log((finaldf[\"src_bytes\"].astype('int'))+0.001)\n",
    "    finaldf[\"dest_bytes\"] = finaldf[\"dest_bytes\"].astype(float)\n",
    "    finaldf[\"dest_bytes\"] = np.log((finaldf[\"dest_bytes\"].astype('int'))+0.001)\n",
    "    finaldf[\"src_pkts\"] = np.log((finaldf[\"src_pkts\"].astype('int'))+0.001)\n",
    "    finaldf[\"dest_pkts\"] = np.log((finaldf[\"dest_pkts\"].astype('int'))+0.001)\n",
    "    finaldf['ts'] = pd.to_datetime(finaldf['ts'],unit='s')\n",
    "    finaldf[\"src_port\"] = finaldf[\"src_port\"].astype('category')\n",
    "    finaldf[\"dest_port\"] = finaldf[\"dest_port\"].astype('category')\n",
    "    finaldf[\"src_port\"] = finaldf[\"src_port\"].cat.codes\n",
    "    finaldf[\"dest_port\"] = finaldf[\"dest_port\"].cat.codes"
   ]
  },
  {
   "cell_type": "code",
   "execution_count": null,
   "metadata": {},
   "outputs": [],
   "source": [
    "finaldf[\"duration\"] = finaldf[\"duration\"].astype(float)\n",
    "finaldf[\"duration\"] = np.log((finaldf[\"duration\"].astype('int'))+0.001)\n",
    "add_datepart(finaldf, 'ts')"
   ]
  },
  {
   "cell_type": "code",
   "execution_count": 1,
   "metadata": {},
   "outputs": [
    {
     "ename": "NameError",
     "evalue": "name 'finaldf' is not defined",
     "output_type": "error",
     "traceback": [
      "\u001b[0;31m---------------------------------------------------------------------------\u001b[0m",
      "\u001b[0;31mNameError\u001b[0m                                 Traceback (most recent call last)",
      "\u001b[0;32m<ipython-input-1-64d63b62de9d>\u001b[0m in \u001b[0;36m<module>\u001b[0;34m()\u001b[0m\n\u001b[0;32m----> 1\u001b[0;31m \u001b[0mfinaldf\u001b[0m \u001b[0;34m=\u001b[0m \u001b[0mfinaldf\u001b[0m\u001b[0;34m.\u001b[0m\u001b[0msort_values\u001b[0m\u001b[0;34m(\u001b[0m\u001b[0mby\u001b[0m\u001b[0;34m=\u001b[0m\u001b[0;34m[\u001b[0m\u001b[0;34m'tsElapsed'\u001b[0m\u001b[0;34m]\u001b[0m\u001b[0;34m,\u001b[0m \u001b[0mascending\u001b[0m\u001b[0;34m=\u001b[0m\u001b[0;32mTrue\u001b[0m\u001b[0;34m)\u001b[0m\u001b[0;34m\u001b[0m\u001b[0m\n\u001b[0m",
      "\u001b[0;31mNameError\u001b[0m: name 'finaldf' is not defined"
     ]
    }
   ],
   "source": [
    "finaldf = finaldf.sort_values(by=['tsElapsed'], ascending=True)"
   ]
  },
  {
   "cell_type": "code",
   "execution_count": null,
   "metadata": {},
   "outputs": [],
   "source": []
  },
  {
   "cell_type": "code",
   "execution_count": null,
   "metadata": {},
   "outputs": [],
   "source": [
    "def split_vals(a,n): return a[:n].copy(), a[n:].copy()\n",
    "# split point: length of dataset minus validation set size.\n",
    "split_point = len(X)-validation\n",
    "\n",
    "# split X\n",
    "X_train, X_test = split_vals(X, split_point)\n",
    "\n",
    "# split y\n",
    "y_train, y_test = split_vals(Y, split_point)"
   ]
  },
  {
   "cell_type": "code",
   "execution_count": null,
   "metadata": {},
   "outputs": [],
   "source": []
  },
  {
   "cell_type": "code",
   "execution_count": null,
   "metadata": {},
   "outputs": [],
   "source": [
    "# 4. Modelling"
   ]
  },
  {
   "cell_type": "code",
   "execution_count": null,
   "metadata": {},
   "outputs": [],
   "source": []
  }
 ],
 "metadata": {
  "kernelspec": {
   "display_name": "Python 3",
   "language": "python",
   "name": "python3"
  },
  "language_info": {
   "codemirror_mode": {
    "name": "ipython",
    "version": 3
   },
   "file_extension": ".py",
   "mimetype": "text/x-python",
   "name": "python",
   "nbconvert_exporter": "python",
   "pygments_lexer": "ipython3",
   "version": "3.6.6"
  }
 },
 "nbformat": 4,
 "nbformat_minor": 2
}
