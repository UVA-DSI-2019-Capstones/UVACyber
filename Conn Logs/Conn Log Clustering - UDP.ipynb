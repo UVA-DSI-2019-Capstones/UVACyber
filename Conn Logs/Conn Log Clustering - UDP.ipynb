{
 "cells": [
  {
   "cell_type": "code",
   "execution_count": 3,
   "metadata": {},
   "outputs": [
    {
     "data": {
      "text/plain": [
       "array(['196.52.43.64', '196.52.43.88', '196.52.43.130', '196.52.43.104',\n",
       "       '184.105.247.195', '117.89.131.73', '3.110.208.52',\n",
       "       '216.218.206.69', '122.225.72.190', '14.166.153.237',\n",
       "       '85.112.43.2', '223.81.192.42', '54.250.154.78', '61.80.254.148',\n",
       "       '125.71.200.30', '37.79.124.78'], dtype=object)"
      ]
     },
     "execution_count": 3,
     "metadata": {},
     "output_type": "execute_result"
    }
   ],
   "source": [
    "#TCP Conn Logs\n",
    "import pandas as pd\n",
    "import os\n",
    "os.chdir(\"/home/rk9cx/HP/\")\n",
    "df = pd.read_csv(\"10_08_2018_udp.csv\", index_col=False, header=None)\n",
    "df.columns =[\"ts\",\"uid\",\"src_ip\",\"src_port\",\"resp_ip\",\"resp_port\",\"duration\",\"orig_bytes\",\"resp_bytes\",\"conn_state\",\n",
    "             \"history\",\"orig_pkts\",\"resp_pkts\",\"tunnel_parents\",\"local\"]\n",
    "cols_num = [\"resp_port\",\"duration\",\"orig_bytes\",\"resp_bytes\",\"orig_pkts\",\"resp_pkts\"]\n",
    "df[cols_num] = df[cols_num].apply(pd.to_numeric, errors='coerce')\n",
    "cols_char = [\"src_ip\",\"resp_ip\"]\n",
    "df[cols_char] = df[cols_char].astype(str)\n",
    "df[\"src_ip\"].unique()"
   ]
  },
  {
   "cell_type": "code",
   "execution_count": 4,
   "metadata": {},
   "outputs": [
    {
     "data": {
      "text/plain": [
       "16"
      ]
     },
     "execution_count": 4,
     "metadata": {},
     "output_type": "execute_result"
    }
   ],
   "source": [
    "#TCP Conn Logs\n",
    "import pandas as pd\n",
    "import os\n",
    "os.chdir(\"/home/rk9cx/HP/\")\n",
    "df = pd.read_csv(\"10_08_2018_udp.csv\", index_col=False, header=None)\n",
    "df.columns =[\"ts\",\"uid\",\"src_ip\",\"src_port\",\"resp_ip\",\"resp_port\",\"duration\",\"orig_bytes\",\"resp_bytes\",\"conn_state\",\n",
    "             \"history\",\"orig_pkts\",\"resp_pkts\",\"tunnel_parents\",\"local\"]\n",
    "cols_num = [\"resp_port\",\"duration\",\"orig_bytes\",\"resp_bytes\",\"orig_pkts\",\"resp_pkts\"]\n",
    "df[cols_num] = df[cols_num].apply(pd.to_numeric, errors='coerce')\n",
    "cols_char = [\"src_ip\",\"resp_ip\"]\n",
    "df[cols_char] = df[cols_char].astype(str)\n",
    "len(df[\"src_ip\"].unique())"
   ]
  },
  {
   "cell_type": "code",
   "execution_count": null,
   "metadata": {},
   "outputs": [],
   "source": []
  }
 ],
 "metadata": {
  "kernelspec": {
   "display_name": "Python 3",
   "language": "python",
   "name": "python3"
  },
  "language_info": {
   "codemirror_mode": {
    "name": "ipython",
    "version": 3
   },
   "file_extension": ".py",
   "mimetype": "text/x-python",
   "name": "python",
   "nbconvert_exporter": "python",
   "pygments_lexer": "ipython3",
   "version": "3.6.5"
  }
 },
 "nbformat": 4,
 "nbformat_minor": 2
}
