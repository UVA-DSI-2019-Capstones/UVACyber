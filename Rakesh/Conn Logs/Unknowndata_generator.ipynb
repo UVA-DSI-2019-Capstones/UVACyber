{
 "cells": [
  {
   "cell_type": "code",
   "execution_count": 13,
   "metadata": {},
   "outputs": [],
   "source": [
    "import pandas as pd\n",
    "import os\n",
    "import glob\n",
    "import time\n",
    "file_list = []\n",
    "file_list_lab = []\n",
    "date = \"2019-01-10\"\n",
    "input_dir = \"/scratch/rk9cx/conn_log_labelled_runtime/\"+date+\"/\"\n",
    "output_dir = \"/scratch/rk9cx/conn_log_labelled_runtime/unknown_\"+date+\"/\"\n",
    "for file in glob.glob(os.path.join(input_dir, 'anon.conn_tcp.*.log')):\n",
    "    file_list.append(file.split(date+\"/\")[1])\n",
    "for file in glob.glob(os.path.join(input_dir, 'anon.conn_tcp.*.csv')):\n",
    "    file_list_lab.append(file.split(date+\"/\")[1])"
   ]
  },
  {
   "cell_type": "code",
   "execution_count": 14,
   "metadata": {},
   "outputs": [],
   "source": [
    "def f(row):\n",
    "    if (row['honeypot'] == 1 or row['blacklist'] == 1) and row['whitelist'] != 1 :\n",
    "        val = 1\n",
    "    elif row['whitelist'] == 1 and (row['honeypot'] != 1 and row['blacklist'] != 1):\n",
    "        val = 0\n",
    "    else:\n",
    "        val = -1\n",
    "    return val"
   ]
  },
  {
   "cell_type": "code",
   "execution_count": 15,
   "metadata": {},
   "outputs": [
    {
     "data": {
      "text/plain": [
       "24"
      ]
     },
     "execution_count": 15,
     "metadata": {},
     "output_type": "execute_result"
    }
   ],
   "source": [
    "len(file_list_lab)"
   ]
  },
  {
   "cell_type": "code",
   "execution_count": null,
   "metadata": {},
   "outputs": [
    {
     "name": "stdout",
     "output_type": "stream",
     "text": [
      "partition\n",
      "(11063784, 13) (11063784, 4)\n"
     ]
    }
   ],
   "source": [
    "rows = 0\n",
    "for file in file_list[0:8]:\n",
    "    print(\"partition\")\n",
    "    start = time.time()\n",
    "    labelled_logs = pd.read_csv(input_dir+file.strip(\".log\")+\"_LABELS.csv\",\n",
    "                                usecols=[2,3,4,5])\n",
    "    labelled_logs.columns = [\"src_ip_ext\",\"blacklist\",\"honeypot\",\"whitelist\"]\n",
    "    logs = pd.read_csv(input_dir+file, skiprows=8, \n",
    "                       usecols=[0,2,3,4,5,6,7,8,9,10,11,12,14],\n",
    "                       header = None, delimiter =\"\\t\")\n",
    "    logs = logs.rename({0:'ts', 2:\"src_ip\", 3: \"src_port\", 4:'dest_ip',\n",
    "                   5:'dest_port', 6:'duration', 7:'src_bytes',\n",
    "                   8:'dest_bytes', 9:'conn_state',10:'history',\n",
    "                   11:'src_pkts', 12:'dest_pkts',\n",
    "                   14:'local'}, axis = 'columns')\n",
    "    print(logs.shape, labelled_logs.shape)\n",
    "    merged_logs = pd.concat([logs, labelled_logs],axis=1, sort=False)\n",
    "    del logs\n",
    "    del labelled_logs\n",
    "    merged_logs[\"label\"] = merged_logs.apply(f, axis=1)\n",
    "    merged_logs = merged_logs[merged_logs.label == -1]\n",
    "    rows = merged_logs.shape[0] + rows\n",
    "    merged_logs.to_csv(output_dir + file + \"unknown.csv\", index = False)   \n",
    "    stop = time.time()\n",
    "    print(\"Complete. Time elapsed: \"+ str(stop - start))"
   ]
  },
  {
   "cell_type": "code",
   "execution_count": null,
   "metadata": {},
   "outputs": [],
   "source": []
  }
 ],
 "metadata": {
  "kernelspec": {
   "display_name": "Python 3",
   "language": "python",
   "name": "python3"
  },
  "language_info": {
   "codemirror_mode": {
    "name": "ipython",
    "version": 3
   },
   "file_extension": ".py",
   "mimetype": "text/x-python",
   "name": "python",
   "nbconvert_exporter": "python",
   "pygments_lexer": "ipython3",
   "version": "3.6.6"
  }
 },
 "nbformat": 4,
 "nbformat_minor": 2
}
