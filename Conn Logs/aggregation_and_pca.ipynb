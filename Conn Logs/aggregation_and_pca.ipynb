{
 "cells": [
  {
   "cell_type": "code",
   "execution_count": null,
   "metadata": {},
   "outputs": [],
   "source": [
    "import os \n",
    "import pandas as pd\n",
    "import numpy as np \n",
    "%matplotlib inline\n",
    "import matplotlib\n",
    "import matplotlib.pyplot as plt\n",
    "from sklearn.linear_model import LogisticRegressionCV\n",
    "from sklearn.metrics import confusion_matrix\n",
    "import itertools\n",
    "from sklearn.ensemble import RandomForestRegressor, RandomForestClassifier\n",
    "from sklearn.decomposition import PCA\n",
    "import matplotlib.pyplot as plt\n",
    "from sklearn.preprocessing import StandardScaler\n",
    "\n",
    "os.chdir(\"/scratch/dr2de/sorted_conns\")"
   ]
  },
  {
   "cell_type": "code",
   "execution_count": null,
   "metadata": {},
   "outputs": [],
   "source": [
    "# concat malicous and benign data frames (balanced)\n",
    "df = pd.concat([df2,df3], ignore_index=True)\n",
    "df.shape"
   ]
  },
  {
   "cell_type": "code",
   "execution_count": null,
   "metadata": {},
   "outputs": [],
   "source": [
    "# drop some columns \n",
    "# this takes a little while to run \n",
    "drop_col=[ 1, 13, 10, 9]\n",
    "df = df.drop(drop_col, axis=1)\n",
    "df = df.rename({1:'ts',2:\"src_ip\", 3:\"src_port\", 4:'dest_ip',\\\n",
    "          5:'dest_port', 6:'duration', 7:'src_bytes',\\\n",
    "          8:'dest_bytes', 11:'src_pkts', 12:'dest_pkts',\\\n",
    "          14:'local', 15:'label'}, axis='columns')\n",
    "df = df.replace('-',0)\n",
    "df[[\"src_bytes\", \"dest_bytes\",\"duration\"]] = df[[\"src_bytes\", \"dest_bytes\",\"duration\"]].apply(pd.to_numeric)\n",
    "aggs = df.groupby('src_ip') \\\n",
    "            .agg({'src_port':'nunique', 'dest_ip':'nunique', 'dest_port':'nunique', 'src_pkts':['mean', np.median,np.std],\n",
    "                  'dest_pkts':['mean', np.median,np.std], 'src_bytes':['mean', np.median,np.std], \n",
    "                  'dest_bytes':['mean', np.median,np.std], 'duration':['mean', np.median,np.std,'count'], 'label':'mean'}).reset_index()"
   ]
  },
  {
   "cell_type": "code",
   "execution_count": null,
   "metadata": {},
   "outputs": [],
   "source": [
    "# rename columns\n",
    "columns= ['src_ip','dc_src_port','dc_dest_ip','dc_dest_port','src_pkts_mean',\n",
    "                                               'src_pkts_med', 'src_pkts_std', 'dest_pkts_mean', 'dest_pkts_med', \n",
    "                                               'dest_pkts_std', 'src_pkts_mean', 'src_pkts_med', 'src_pkts_std','src_bytes_mean',\n",
    "                                               'src_bytes_med', 'src_bytes_std', 'duration_mean', 'duration_med',\n",
    "                                                'duration_std', 'duration_count','label']\n",
    "aggs.columns = columns\n",
    "aggs.label.sum()"
   ]
  },
  {
   "cell_type": "code",
   "execution_count": null,
   "metadata": {},
   "outputs": [],
   "source": [
    "# sort by label, rebalance based on aggregation, drop source IP, replace NaNs\n",
    "# will need to change 6000 value here\n",
    "aggs = aggs.sort_values(by=['label'], ascending = False)\n",
    "df_s = aggs.head(6000)\n",
    "df_s.drop(['src_ip'], axis=1, inplace = True)\n",
    "df_s = df_s.replace(np.NaN,0)\n",
    "df_s.shape"
   ]
  },
  {
   "cell_type": "code",
   "execution_count": null,
   "metadata": {},
   "outputs": [],
   "source": [
    "#Standard scaling \n",
    "scaler = StandardScaler()\n",
    "col= ['dc_src_port','dc_dest_ip','dc_dest_port','src_pkts_mean',\n",
    "                                               'src_pkts_med', 'src_pkts_std', 'dest_pkts_mean', 'dest_pkts_med', \n",
    "                                               'dest_pkts_std', 'src_pkts_mean', 'src_pkts_med', 'src_pkts_std','src_bytes_mean',\n",
    "                                               'src_bytes_med', 'src_bytes_std', 'duration_mean', 'duration_med',\n",
    "                                                'duration_std', 'duration_count']\n",
    "df_s[col] = scaler.fit_transform(df_s[col])\n",
    "df_s.shape"
   ]
  },
  {
   "cell_type": "code",
   "execution_count": null,
   "metadata": {},
   "outputs": [],
   "source": [
    "# check\n",
    "df_s.isna().sum()"
   ]
  },
  {
   "cell_type": "code",
   "execution_count": null,
   "metadata": {},
   "outputs": [],
   "source": [
    "pca = PCA(n_components=2)\n",
    "pred_variables = df_s.loc[:, df_s.columns != 'label']\n",
    "resp_variables = df_s.loc[:, df_s.columns == 'label']\n",
    "X = pred_variables\n",
    "X_r = pca.fit_transform(X)\n",
    "# Percentage of variance explained for each components\n",
    "print('explained variance ratio (first two components): %s'\n",
    "      % str(pca.explained_variance_ratio_))"
   ]
  },
  {
   "cell_type": "code",
   "execution_count": null,
   "metadata": {},
   "outputs": [],
   "source": [
    "#combining PCs and response variable\n",
    "X_c = pd.DataFrame(data=X_r)\n",
    "X_c.head()"
   ]
  },
  {
   "cell_type": "code",
   "execution_count": null,
   "metadata": {},
   "outputs": [],
   "source": [
    "X_c['label'] = resp_variables.iloc[:,0].values\n",
    "X_c.columns = ['PC1', 'PC2',\"label\"]\n",
    "X_c.head()"
   ]
  },
  {
   "cell_type": "code",
   "execution_count": null,
   "metadata": {},
   "outputs": [],
   "source": [
    "#Plot\n",
    "fig = plt.figure(figsize = (8,8))\n",
    "ax = fig.add_subplot(1,1,1) \n",
    "ax.set_xlabel('Principal Component 1', fontsize = 15)\n",
    "ax.set_ylabel('Principal Component 2', fontsize = 15)\n",
    "ax.set_title('2 component PCA', fontsize = 20)\n",
    "targets = [0,1]\n",
    "colors = ['r', 'g']\n",
    "for target, color in zip(targets,colors):\n",
    "    indicesToKeep = X_c.label == target\n",
    "    ax.scatter(X_c.loc[indicesToKeep, 'PC1']\n",
    "               , X_c.loc[indicesToKeep, 'PC2']\n",
    "               , c = color\n",
    "               , s = 50)\n",
    "ax.legend(targets)\n",
    "ax.grid()"
   ]
  }
 ],
 "metadata": {
  "kernelspec": {
   "display_name": "Python 3",
   "language": "python",
   "name": "python3"
  },
  "language_info": {
   "codemirror_mode": {
    "name": "ipython",
    "version": 3
   },
   "file_extension": ".py",
   "mimetype": "text/x-python",
   "name": "python",
   "nbconvert_exporter": "python",
   "pygments_lexer": "ipython3",
   "version": "3.6.6"
  }
 },
 "nbformat": 4,
 "nbformat_minor": 2
}
