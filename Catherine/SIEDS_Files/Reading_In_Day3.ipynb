{
 "cells": [
  {
   "cell_type": "code",
   "execution_count": 1,
   "metadata": {},
   "outputs": [],
   "source": [
    "# Reading netflow day 3 into a txt file"
   ]
  },
  {
   "cell_type": "code",
   "execution_count": 2,
   "metadata": {},
   "outputs": [],
   "source": [
    "import time\n",
    "import bz2\n",
    "import pandas as pd"
   ]
  },
  {
   "cell_type": "code",
   "execution_count": null,
   "metadata": {},
   "outputs": [],
   "source": [
    "# Reading in the File\n",
    "start = time.time()\n",
    "data = []\n",
    "with bz2.open(\"netflow_day-03.bz2\", \"rt\") as bz_file:\n",
    "    for line in bz_file:\n",
    "        row = line.split(\",\")\n",
    "        row[10] = row[10].replace('\\n', '')\n",
    "        data.append(row)\n",
    "end = time.time()\n",
    "print(end - start)"
   ]
  },
  {
   "cell_type": "code",
   "execution_count": null,
   "metadata": {},
   "outputs": [],
   "source": [
    "import csv\n",
    "with open(\"netflow_day-03.csv\", \"wb\") as f:\n",
    "    writer = csv.writer(f)\n",
    "    writer.writerows(data)"
   ]
  },
  {
   "cell_type": "code",
   "execution_count": null,
   "metadata": {},
   "outputs": [],
   "source": [
    "############## Don't actually need this use different file to clean and convert to cleaned csv ######################"
   ]
  },
  {
   "cell_type": "code",
   "execution_count": null,
   "metadata": {},
   "outputs": [],
   "source": [
    "# Converting the File to a pandas df\n",
    "start = time.time()\n",
    "header = [\"Time\", \"Duration\", \"SrcDevice\", \"DstDevice\", \"Protocol\", \"SrcPort\", \"DstPort\", \"SrcPackets\",\n",
    "              \"DstPackets\", \"SrcBytes\", \"DstBytes\"]\n",
    "df = pd.DataFrame.from_records(data, columns = header)\n",
    "end = time.time()\n",
    "print(end - start)"
   ]
  },
  {
   "cell_type": "code",
   "execution_count": null,
   "metadata": {},
   "outputs": [],
   "source": []
  }
 ],
 "metadata": {
  "kernelspec": {
   "display_name": "Python 3",
   "language": "python",
   "name": "python3"
  },
  "language_info": {
   "codemirror_mode": {
    "name": "ipython",
    "version": 3
   },
   "file_extension": ".py",
   "mimetype": "text/x-python",
   "name": "python",
   "nbconvert_exporter": "python",
   "pygments_lexer": "ipython3",
   "version": "3.6.6"
  }
 },
 "nbformat": 4,
 "nbformat_minor": 2
}
