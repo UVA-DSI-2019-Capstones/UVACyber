{
 "cells": [
  {
   "cell_type": "code",
   "execution_count": 1,
   "metadata": {},
   "outputs": [],
   "source": [
    "# Plotting packets for Day 3"
   ]
  },
  {
   "cell_type": "code",
   "execution_count": 2,
   "metadata": {},
   "outputs": [],
   "source": [
    "import pandas as pd\n",
    "import numpy as np\n",
    "from copy import deepcopy\n",
    "from sklearn import preprocessing\n",
    "from sklearn.decomposition import PCA\n",
    "import matplotlib.pyplot as plt\n",
    "import time"
   ]
  },
  {
   "cell_type": "code",
   "execution_count": 3,
   "metadata": {},
   "outputs": [
    {
     "name": "stdout",
     "output_type": "stream",
     "text": [
      "549.9116342067719\n"
     ]
    }
   ],
   "source": [
    "# Reading in the entire day 3\n",
    "start = time.time()\n",
    "df = pd.read_csv('Netflow_Day3.csv')\n",
    "end = time.time()\n",
    "print(end - start)"
   ]
  },
  {
   "cell_type": "code",
   "execution_count": null,
   "metadata": {},
   "outputs": [],
   "source": [
    "# Plotting DstPackets vs SrcPackets, raw values, not zoomed in\n",
    "df.plot(x=\"SrcPackets\", y=\"DstPackets\", kind='scatter', title='Destination Packets vs Source Packets ')\n",
    "plt.show()"
   ]
  },
  {
   "cell_type": "code",
   "execution_count": null,
   "metadata": {},
   "outputs": [],
   "source": [
    "# Plotting DstPackets vs SrcPackets, raw values, zoomed in\n",
    "df.plot(x=\"SrcPackets\", y=\"DstPackets\", kind='scatter', title='Destination Packets vs Source Packets (Zoomed In)')\n",
    "plt.xlim([0, 500000])\n",
    "plt.ylim([-3, 100000])\n",
    "plt.show()"
   ]
  },
  {
   "cell_type": "code",
   "execution_count": null,
   "metadata": {},
   "outputs": [],
   "source": [
    "# Taking log of packets\n",
    "start = time.time()\n",
    "df['SrcPackets'] = np.log(df[\"SrcPackets\"] + 0.0001)\n",
    "df['DstPackets'] = np.log(df[\"DstPackets\"] + 0.0001)\n",
    "end = time.time()\n",
    "print(end - start)"
   ]
  }
 ],
 "metadata": {
  "kernelspec": {
   "display_name": "Python 3",
   "language": "python",
   "name": "python3"
  },
  "language_info": {
   "codemirror_mode": {
    "name": "ipython",
    "version": 3
   },
   "file_extension": ".py",
   "mimetype": "text/x-python",
   "name": "python",
   "nbconvert_exporter": "python",
   "pygments_lexer": "ipython3",
   "version": "3.6.6"
  }
 },
 "nbformat": 4,
 "nbformat_minor": 2
}
