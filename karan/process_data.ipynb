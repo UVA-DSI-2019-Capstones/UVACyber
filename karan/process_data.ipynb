{
 "cells": [
  {
   "cell_type": "code",
   "execution_count": 1,
   "metadata": {},
   "outputs": [],
   "source": [
    "# required libraries\n",
    "import numpy as np\n",
    "import pandas as pd\n",
    "import matplotlib.pyplot as plt\n",
    "import seaborn as sns\n",
    "from sklearn.preprocessing import LabelEncoder\n",
    "from sklearn.ensemble import IsolationForest\n",
    "import warnings\n",
    "warnings.filterwarnings('ignore')"
   ]
  },
  {
   "cell_type": "code",
   "execution_count": 7,
   "metadata": {},
   "outputs": [],
   "source": [
    "# data for one day\n",
    "file_name = 'netflow_day-03'\n",
    "column_names = ['Time','Duration','SrcDevice','DstDevice','Protocol','SrcPort','DstPort','SrcPackets','DstPackets','SrcBytes','DstBytes']\n",
    "day = pd.read_csv(file_name, header = None)\n",
    "day.columns = column_names"
   ]
  },
  {
   "cell_type": "code",
   "execution_count": 8,
   "metadata": {},
   "outputs": [],
   "source": [
    "# keeping only the last row of the same transaction since connections are cumulative\n",
    "five_tuple = ['Time', 'SrcDevice', 'DstDevice', 'Protocol', 'SrcPort', 'DstPort']\n",
    "dataset = day.drop_duplicates(subset = five_tuple, keep = 'last')\n",
    "\n",
    "# faster way i think...yet to try (not sure which column to use)\n",
    "# dataset = day3.loc[day3.groupby(five_tuple).Duration.idxmax()]"
   ]
  },
  {
   "cell_type": "code",
   "execution_count": 9,
   "metadata": {},
   "outputs": [],
   "source": [
    "# removing characters from port numbers\n",
    "dataset['SrcPort'].replace(regex = True, inplace = True, to_replace = r'\\D', value = r'')\n",
    "dataset['DstPort'].replace(regex = True, inplace = True, to_replace = r'\\D', value = r'')\n",
    "\n",
    "# convert to numeric for binning later\n",
    "dataset['SrcPort'] = dataset['SrcPort'].astype(int)\n",
    "dataset['DstPort'] = dataset['DstPort'].astype(int)"
   ]
  },
  {
   "cell_type": "code",
   "execution_count": 10,
   "metadata": {},
   "outputs": [],
   "source": [
    "# removing digits from 'SrcDevice' and 'DestDevice'\n",
    "dataset['SrcDevice'].replace(regex = True, inplace = True, to_replace = r'\\d', value = r'')\n",
    "dataset['DstDevice'].replace(regex = True, inplace = True, to_replace = r'\\d', value = r'')"
   ]
  },
  {
   "cell_type": "code",
   "execution_count": 11,
   "metadata": {},
   "outputs": [],
   "source": [
    "# replace 'Time' column with hour intervals\n",
    "start_time = dataset['Time'].min()\n",
    "end_time = dataset['Time'].max()\n",
    "hour_bins = np.arange(start_time - 1, end_time + 2, step = 3600)\n",
    "dataset['Time'] = np.searchsorted(hour_bins, dataset['Time'].values)"
   ]
  },
  {
   "cell_type": "code",
   "execution_count": 12,
   "metadata": {},
   "outputs": [],
   "source": [
    "# categorize source and destination port numbers\n",
    "# 3 categories for now...0-1023, 1024-49151, 49152-65535...\n",
    "port_bins = [1023, 49151]\n",
    "dataset['SrcPort'] = np.searchsorted(port_bins, dataset['SrcPort'].values)\n",
    "dataset['DstPort'] = np.searchsorted(port_bins, dataset['DstPort'].values)"
   ]
  },
  {
   "cell_type": "code",
   "execution_count": null,
   "metadata": {},
   "outputs": [],
   "source": [
    "# converting 'Time', 'Protocol', 'SrcPort' and 'DstPort' to categorical variables for model\n",
    "dataset['Time'] = dataset['Time'].astype('category')\n",
    "dataset['Protocol'] = dataset['Protocol'].astype('category')\n",
    "dataset['SrcPort'] = dataset['SrcPort'].astype('category')\n",
    "dataset['DstPort'] = dataset['DstPort'].astype('category')"
   ]
  },
  {
   "cell_type": "code",
   "execution_count": null,
   "metadata": {},
   "outputs": [],
   "source": [
    "# converting character variables to encodings\n",
    "labelencoder = LabelEncoder()\n",
    "categorical_variables = ['SrcDevice', 'DstDevice']\n",
    "for column in categorical_variables:\n",
    "    dataset[column] = labelencoder.fit_transform(dataset[column])"
   ]
  },
  {
   "cell_type": "code",
   "execution_count": null,
   "metadata": {},
   "outputs": [],
   "source": [
    "dataset.head()"
   ]
  },
  {
   "cell_type": "code",
   "execution_count": null,
   "metadata": {},
   "outputs": [],
   "source": [
    "# isolation forest model\n",
    "clf = IsolationForest(n_estimators = 100, max_samples = 100000)\n",
    "clf.fit(dataset)\n",
    "isolation_scores = clf.predict(dataset)"
   ]
  },
  {
   "cell_type": "code",
   "execution_count": 1,
   "metadata": {},
   "outputs": [],
   "source": [
    "# performance of model"
   ]
  },
  {
   "cell_type": "code",
   "execution_count": null,
   "metadata": {},
   "outputs": [],
   "source": []
  }
 ],
 "metadata": {
  "kernelspec": {
   "display_name": "Python 3",
   "language": "python",
   "name": "python3"
  },
  "language_info": {
   "codemirror_mode": {
    "name": "ipython",
    "version": 3
   },
   "file_extension": ".py",
   "mimetype": "text/x-python",
   "name": "python",
   "nbconvert_exporter": "python",
   "pygments_lexer": "ipython3",
   "version": "3.6.6"
  }
 },
 "nbformat": 4,
 "nbformat_minor": 2
}
